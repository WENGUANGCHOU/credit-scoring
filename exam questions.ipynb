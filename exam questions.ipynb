{
 "cells": [
  {
   "cell_type": "markdown",
   "metadata": {},
   "source": [
    "# SLM Spring 2022/23\n",
    "## Laboratory exam"
   ]
  },
  {
   "cell_type": "markdown",
   "metadata": {},
   "source": [
    "Please fill your name and index number below. Additionally, replace _index_number_ in file name with your index number. Complete the tasks and send the notebook to lkrain@sgh.waw.pl. "
   ]
  },
  {
   "cell_type": "code",
   "execution_count": 1,
   "metadata": {},
   "outputs": [],
   "source": [
    "using CSV\n",
    "using DataFrames\n",
    "using Downloads\n",
    "using FreqTables\n",
    "using GLM\n",
    "using MLJ\n",
    "using Plots\n",
    "using Random\n",
    "using ROCCurves\n",
    "using ShapML"
   ]
  },
  {
   "cell_type": "markdown",
   "metadata": {},
   "source": [
    "## Task 1 (20pts)"
   ]
  },
  {
   "cell_type": "markdown",
   "metadata": {},
   "source": [
    "**(2p)** Download and load data from the URL https://raw.githubusercontent.com/KrainskiL/SLM_S2023/main/datasets/german.csv into a `DataFrame`. Dataset has no header. Make sure the last column's name is `target`, other columns may have any name."
   ]
  },
  {
   "cell_type": "code",
   "execution_count": 2,
   "metadata": {},
   "outputs": [
    {
     "data": {
      "text/plain": [
       "\"german.csv\""
      ]
     },
     "execution_count": 2,
     "metadata": {},
     "output_type": "execute_result"
    }
   ],
   "source": [
    "url = \"https://raw.githubusercontent.com/KrainskiL/SLM_S2023/main/datasets/german.csv\"\n",
    "Downloads.download(url, \"german.csv\")\n"
   ]
  },
  {
   "cell_type": "code",
   "execution_count": 3,
   "metadata": {},
   "outputs": [
    {
     "data": {
      "text/html": [
       "<div><div style = \"float: left;\"><span>1000×25 DataFrame</span></div><div style = \"float: right;\"><span style = \"font-style: italic;\">975 rows omitted</span></div><div style = \"clear: both;\"></div></div><div class = \"data-frame\" style = \"overflow-x: scroll;\"><table class = \"data-frame\" style = \"margin-bottom: 6px;\"><thead><tr class = \"header\"><th class = \"rowNumber\" style = \"font-weight: bold; text-align: right;\">Row</th><th style = \"text-align: left;\">Column1</th><th style = \"text-align: left;\">Column2</th><th style = \"text-align: left;\">Column3</th><th style = \"text-align: left;\">Column4</th><th style = \"text-align: left;\">Column5</th><th style = \"text-align: left;\">Column6</th><th style = \"text-align: left;\">Column7</th><th style = \"text-align: left;\">Column8</th><th style = \"text-align: left;\">Column9</th><th style = \"text-align: left;\">Column10</th><th style = \"text-align: left;\">Column11</th><th style = \"text-align: left;\">Column12</th><th style = \"text-align: left;\">Column13</th><th style = \"text-align: left;\">Column14</th><th style = \"text-align: left;\">Column15</th><th style = \"text-align: left;\">Column16</th><th style = \"text-align: left;\">Column17</th><th style = \"text-align: left;\">Column18</th><th style = \"text-align: left;\">Column19</th><th style = \"text-align: left;\">Column20</th><th style = \"text-align: left;\">Column21</th><th style = \"text-align: left;\">Column22</th><th style = \"text-align: left;\">Column23</th><th style = \"text-align: left;\">Column24</th><th style = \"text-align: left;\">target</th></tr><tr class = \"subheader headerLastRow\"><th class = \"rowNumber\" style = \"font-weight: bold; text-align: right;\"></th><th title = \"Int64\" style = \"text-align: left;\">Int64</th><th title = \"Int64\" style = \"text-align: left;\">Int64</th><th title = \"Int64\" style = \"text-align: left;\">Int64</th><th title = \"Int64\" style = \"text-align: left;\">Int64</th><th title = \"Int64\" style = \"text-align: left;\">Int64</th><th title = \"Int64\" style = \"text-align: left;\">Int64</th><th title = \"Int64\" style = \"text-align: left;\">Int64</th><th title = \"Int64\" style = \"text-align: left;\">Int64</th><th title = \"Int64\" style = \"text-align: left;\">Int64</th><th title = \"Int64\" style = \"text-align: left;\">Int64</th><th title = \"Int64\" style = \"text-align: left;\">Int64</th><th title = \"Int64\" style = \"text-align: left;\">Int64</th><th title = \"Int64\" style = \"text-align: left;\">Int64</th><th title = \"Int64\" style = \"text-align: left;\">Int64</th><th title = \"Int64\" style = \"text-align: left;\">Int64</th><th title = \"Int64\" style = \"text-align: left;\">Int64</th><th title = \"Int64\" style = \"text-align: left;\">Int64</th><th title = \"Int64\" style = \"text-align: left;\">Int64</th><th title = \"Int64\" style = \"text-align: left;\">Int64</th><th title = \"Int64\" style = \"text-align: left;\">Int64</th><th title = \"Int64\" style = \"text-align: left;\">Int64</th><th title = \"Int64\" style = \"text-align: left;\">Int64</th><th title = \"Int64\" style = \"text-align: left;\">Int64</th><th title = \"Int64\" style = \"text-align: left;\">Int64</th><th title = \"Int64\" style = \"text-align: left;\">Int64</th></tr></thead><tbody><tr><td class = \"rowNumber\" style = \"font-weight: bold; text-align: right;\">1</td><td style = \"text-align: right;\">1</td><td style = \"text-align: right;\">6</td><td style = \"text-align: right;\">4</td><td style = \"text-align: right;\">12</td><td style = \"text-align: right;\">5</td><td style = \"text-align: right;\">5</td><td style = \"text-align: right;\">3</td><td style = \"text-align: right;\">4</td><td style = \"text-align: right;\">1</td><td style = \"text-align: right;\">67</td><td style = \"text-align: right;\">3</td><td style = \"text-align: right;\">2</td><td style = \"text-align: right;\">1</td><td style = \"text-align: right;\">2</td><td style = \"text-align: right;\">1</td><td style = \"text-align: right;\">0</td><td style = \"text-align: right;\">0</td><td style = \"text-align: right;\">1</td><td style = \"text-align: right;\">0</td><td style = \"text-align: right;\">0</td><td style = \"text-align: right;\">1</td><td style = \"text-align: right;\">0</td><td style = \"text-align: right;\">0</td><td style = \"text-align: right;\">1</td><td style = \"text-align: right;\">1</td></tr><tr><td class = \"rowNumber\" style = \"font-weight: bold; text-align: right;\">2</td><td style = \"text-align: right;\">2</td><td style = \"text-align: right;\">48</td><td style = \"text-align: right;\">2</td><td style = \"text-align: right;\">60</td><td style = \"text-align: right;\">1</td><td style = \"text-align: right;\">3</td><td style = \"text-align: right;\">2</td><td style = \"text-align: right;\">2</td><td style = \"text-align: right;\">1</td><td style = \"text-align: right;\">22</td><td style = \"text-align: right;\">3</td><td style = \"text-align: right;\">1</td><td style = \"text-align: right;\">1</td><td style = \"text-align: right;\">1</td><td style = \"text-align: right;\">1</td><td style = \"text-align: right;\">0</td><td style = \"text-align: right;\">0</td><td style = \"text-align: right;\">1</td><td style = \"text-align: right;\">0</td><td style = \"text-align: right;\">0</td><td style = \"text-align: right;\">1</td><td style = \"text-align: right;\">0</td><td style = \"text-align: right;\">0</td><td style = \"text-align: right;\">1</td><td style = \"text-align: right;\">2</td></tr><tr><td class = \"rowNumber\" style = \"font-weight: bold; text-align: right;\">3</td><td style = \"text-align: right;\">4</td><td style = \"text-align: right;\">12</td><td style = \"text-align: right;\">4</td><td style = \"text-align: right;\">21</td><td style = \"text-align: right;\">1</td><td style = \"text-align: right;\">4</td><td style = \"text-align: right;\">3</td><td style = \"text-align: right;\">3</td><td style = \"text-align: right;\">1</td><td style = \"text-align: right;\">49</td><td style = \"text-align: right;\">3</td><td style = \"text-align: right;\">1</td><td style = \"text-align: right;\">2</td><td style = \"text-align: right;\">1</td><td style = \"text-align: right;\">1</td><td style = \"text-align: right;\">0</td><td style = \"text-align: right;\">0</td><td style = \"text-align: right;\">1</td><td style = \"text-align: right;\">0</td><td style = \"text-align: right;\">0</td><td style = \"text-align: right;\">1</td><td style = \"text-align: right;\">0</td><td style = \"text-align: right;\">1</td><td style = \"text-align: right;\">0</td><td style = \"text-align: right;\">1</td></tr><tr><td class = \"rowNumber\" style = \"font-weight: bold; text-align: right;\">4</td><td style = \"text-align: right;\">1</td><td style = \"text-align: right;\">42</td><td style = \"text-align: right;\">2</td><td style = \"text-align: right;\">79</td><td style = \"text-align: right;\">1</td><td style = \"text-align: right;\">4</td><td style = \"text-align: right;\">3</td><td style = \"text-align: right;\">4</td><td style = \"text-align: right;\">2</td><td style = \"text-align: right;\">45</td><td style = \"text-align: right;\">3</td><td style = \"text-align: right;\">1</td><td style = \"text-align: right;\">2</td><td style = \"text-align: right;\">1</td><td style = \"text-align: right;\">1</td><td style = \"text-align: right;\">0</td><td style = \"text-align: right;\">0</td><td style = \"text-align: right;\">0</td><td style = \"text-align: right;\">0</td><td style = \"text-align: right;\">0</td><td style = \"text-align: right;\">0</td><td style = \"text-align: right;\">0</td><td style = \"text-align: right;\">0</td><td style = \"text-align: right;\">1</td><td style = \"text-align: right;\">1</td></tr><tr><td class = \"rowNumber\" style = \"font-weight: bold; text-align: right;\">5</td><td style = \"text-align: right;\">1</td><td style = \"text-align: right;\">24</td><td style = \"text-align: right;\">3</td><td style = \"text-align: right;\">49</td><td style = \"text-align: right;\">1</td><td style = \"text-align: right;\">3</td><td style = \"text-align: right;\">3</td><td style = \"text-align: right;\">4</td><td style = \"text-align: right;\">4</td><td style = \"text-align: right;\">53</td><td style = \"text-align: right;\">3</td><td style = \"text-align: right;\">2</td><td style = \"text-align: right;\">2</td><td style = \"text-align: right;\">1</td><td style = \"text-align: right;\">1</td><td style = \"text-align: right;\">1</td><td style = \"text-align: right;\">0</td><td style = \"text-align: right;\">1</td><td style = \"text-align: right;\">0</td><td style = \"text-align: right;\">0</td><td style = \"text-align: right;\">0</td><td style = \"text-align: right;\">0</td><td style = \"text-align: right;\">0</td><td style = \"text-align: right;\">1</td><td style = \"text-align: right;\">2</td></tr><tr><td class = \"rowNumber\" style = \"font-weight: bold; text-align: right;\">6</td><td style = \"text-align: right;\">4</td><td style = \"text-align: right;\">36</td><td style = \"text-align: right;\">2</td><td style = \"text-align: right;\">91</td><td style = \"text-align: right;\">5</td><td style = \"text-align: right;\">3</td><td style = \"text-align: right;\">3</td><td style = \"text-align: right;\">4</td><td style = \"text-align: right;\">4</td><td style = \"text-align: right;\">35</td><td style = \"text-align: right;\">3</td><td style = \"text-align: right;\">1</td><td style = \"text-align: right;\">2</td><td style = \"text-align: right;\">2</td><td style = \"text-align: right;\">1</td><td style = \"text-align: right;\">0</td><td style = \"text-align: right;\">0</td><td style = \"text-align: right;\">1</td><td style = \"text-align: right;\">0</td><td style = \"text-align: right;\">0</td><td style = \"text-align: right;\">0</td><td style = \"text-align: right;\">0</td><td style = \"text-align: right;\">1</td><td style = \"text-align: right;\">0</td><td style = \"text-align: right;\">1</td></tr><tr><td class = \"rowNumber\" style = \"font-weight: bold; text-align: right;\">7</td><td style = \"text-align: right;\">4</td><td style = \"text-align: right;\">24</td><td style = \"text-align: right;\">2</td><td style = \"text-align: right;\">28</td><td style = \"text-align: right;\">3</td><td style = \"text-align: right;\">5</td><td style = \"text-align: right;\">3</td><td style = \"text-align: right;\">4</td><td style = \"text-align: right;\">2</td><td style = \"text-align: right;\">53</td><td style = \"text-align: right;\">3</td><td style = \"text-align: right;\">1</td><td style = \"text-align: right;\">1</td><td style = \"text-align: right;\">1</td><td style = \"text-align: right;\">1</td><td style = \"text-align: right;\">0</td><td style = \"text-align: right;\">0</td><td style = \"text-align: right;\">1</td><td style = \"text-align: right;\">0</td><td style = \"text-align: right;\">0</td><td style = \"text-align: right;\">1</td><td style = \"text-align: right;\">0</td><td style = \"text-align: right;\">0</td><td style = \"text-align: right;\">1</td><td style = \"text-align: right;\">1</td></tr><tr><td class = \"rowNumber\" style = \"font-weight: bold; text-align: right;\">8</td><td style = \"text-align: right;\">2</td><td style = \"text-align: right;\">36</td><td style = \"text-align: right;\">2</td><td style = \"text-align: right;\">69</td><td style = \"text-align: right;\">1</td><td style = \"text-align: right;\">3</td><td style = \"text-align: right;\">3</td><td style = \"text-align: right;\">2</td><td style = \"text-align: right;\">3</td><td style = \"text-align: right;\">35</td><td style = \"text-align: right;\">3</td><td style = \"text-align: right;\">1</td><td style = \"text-align: right;\">1</td><td style = \"text-align: right;\">2</td><td style = \"text-align: right;\">1</td><td style = \"text-align: right;\">0</td><td style = \"text-align: right;\">1</td><td style = \"text-align: right;\">1</td><td style = \"text-align: right;\">0</td><td style = \"text-align: right;\">1</td><td style = \"text-align: right;\">0</td><td style = \"text-align: right;\">0</td><td style = \"text-align: right;\">0</td><td style = \"text-align: right;\">0</td><td style = \"text-align: right;\">1</td></tr><tr><td class = \"rowNumber\" style = \"font-weight: bold; text-align: right;\">9</td><td style = \"text-align: right;\">4</td><td style = \"text-align: right;\">12</td><td style = \"text-align: right;\">2</td><td style = \"text-align: right;\">31</td><td style = \"text-align: right;\">4</td><td style = \"text-align: right;\">4</td><td style = \"text-align: right;\">1</td><td style = \"text-align: right;\">4</td><td style = \"text-align: right;\">1</td><td style = \"text-align: right;\">61</td><td style = \"text-align: right;\">3</td><td style = \"text-align: right;\">1</td><td style = \"text-align: right;\">1</td><td style = \"text-align: right;\">1</td><td style = \"text-align: right;\">1</td><td style = \"text-align: right;\">0</td><td style = \"text-align: right;\">0</td><td style = \"text-align: right;\">1</td><td style = \"text-align: right;\">0</td><td style = \"text-align: right;\">0</td><td style = \"text-align: right;\">1</td><td style = \"text-align: right;\">0</td><td style = \"text-align: right;\">1</td><td style = \"text-align: right;\">0</td><td style = \"text-align: right;\">1</td></tr><tr><td class = \"rowNumber\" style = \"font-weight: bold; text-align: right;\">10</td><td style = \"text-align: right;\">2</td><td style = \"text-align: right;\">30</td><td style = \"text-align: right;\">4</td><td style = \"text-align: right;\">52</td><td style = \"text-align: right;\">1</td><td style = \"text-align: right;\">1</td><td style = \"text-align: right;\">4</td><td style = \"text-align: right;\">2</td><td style = \"text-align: right;\">3</td><td style = \"text-align: right;\">28</td><td style = \"text-align: right;\">3</td><td style = \"text-align: right;\">2</td><td style = \"text-align: right;\">1</td><td style = \"text-align: right;\">1</td><td style = \"text-align: right;\">1</td><td style = \"text-align: right;\">1</td><td style = \"text-align: right;\">0</td><td style = \"text-align: right;\">1</td><td style = \"text-align: right;\">0</td><td style = \"text-align: right;\">0</td><td style = \"text-align: right;\">1</td><td style = \"text-align: right;\">0</td><td style = \"text-align: right;\">0</td><td style = \"text-align: right;\">0</td><td style = \"text-align: right;\">2</td></tr><tr><td class = \"rowNumber\" style = \"font-weight: bold; text-align: right;\">11</td><td style = \"text-align: right;\">2</td><td style = \"text-align: right;\">12</td><td style = \"text-align: right;\">2</td><td style = \"text-align: right;\">13</td><td style = \"text-align: right;\">1</td><td style = \"text-align: right;\">2</td><td style = \"text-align: right;\">2</td><td style = \"text-align: right;\">1</td><td style = \"text-align: right;\">3</td><td style = \"text-align: right;\">25</td><td style = \"text-align: right;\">3</td><td style = \"text-align: right;\">1</td><td style = \"text-align: right;\">1</td><td style = \"text-align: right;\">1</td><td style = \"text-align: right;\">1</td><td style = \"text-align: right;\">1</td><td style = \"text-align: right;\">0</td><td style = \"text-align: right;\">1</td><td style = \"text-align: right;\">0</td><td style = \"text-align: right;\">1</td><td style = \"text-align: right;\">0</td><td style = \"text-align: right;\">0</td><td style = \"text-align: right;\">0</td><td style = \"text-align: right;\">1</td><td style = \"text-align: right;\">2</td></tr><tr><td class = \"rowNumber\" style = \"font-weight: bold; text-align: right;\">12</td><td style = \"text-align: right;\">1</td><td style = \"text-align: right;\">48</td><td style = \"text-align: right;\">2</td><td style = \"text-align: right;\">43</td><td style = \"text-align: right;\">1</td><td style = \"text-align: right;\">2</td><td style = \"text-align: right;\">2</td><td style = \"text-align: right;\">4</td><td style = \"text-align: right;\">2</td><td style = \"text-align: right;\">24</td><td style = \"text-align: right;\">3</td><td style = \"text-align: right;\">1</td><td style = \"text-align: right;\">1</td><td style = \"text-align: right;\">1</td><td style = \"text-align: right;\">1</td><td style = \"text-align: right;\">0</td><td style = \"text-align: right;\">0</td><td style = \"text-align: right;\">1</td><td style = \"text-align: right;\">0</td><td style = \"text-align: right;\">1</td><td style = \"text-align: right;\">0</td><td style = \"text-align: right;\">0</td><td style = \"text-align: right;\">0</td><td style = \"text-align: right;\">1</td><td style = \"text-align: right;\">2</td></tr><tr><td class = \"rowNumber\" style = \"font-weight: bold; text-align: right;\">13</td><td style = \"text-align: right;\">2</td><td style = \"text-align: right;\">12</td><td style = \"text-align: right;\">2</td><td style = \"text-align: right;\">16</td><td style = \"text-align: right;\">1</td><td style = \"text-align: right;\">3</td><td style = \"text-align: right;\">2</td><td style = \"text-align: right;\">1</td><td style = \"text-align: right;\">3</td><td style = \"text-align: right;\">22</td><td style = \"text-align: right;\">3</td><td style = \"text-align: right;\">1</td><td style = \"text-align: right;\">1</td><td style = \"text-align: right;\">2</td><td style = \"text-align: right;\">1</td><td style = \"text-align: right;\">0</td><td style = \"text-align: right;\">0</td><td style = \"text-align: right;\">1</td><td style = \"text-align: right;\">0</td><td style = \"text-align: right;\">0</td><td style = \"text-align: right;\">1</td><td style = \"text-align: right;\">0</td><td style = \"text-align: right;\">0</td><td style = \"text-align: right;\">1</td><td style = \"text-align: right;\">1</td></tr><tr><td style = \"text-align: right;\">&vellip;</td><td style = \"text-align: right;\">&vellip;</td><td style = \"text-align: right;\">&vellip;</td><td style = \"text-align: right;\">&vellip;</td><td style = \"text-align: right;\">&vellip;</td><td style = \"text-align: right;\">&vellip;</td><td style = \"text-align: right;\">&vellip;</td><td style = \"text-align: right;\">&vellip;</td><td style = \"text-align: right;\">&vellip;</td><td style = \"text-align: right;\">&vellip;</td><td style = \"text-align: right;\">&vellip;</td><td style = \"text-align: right;\">&vellip;</td><td style = \"text-align: right;\">&vellip;</td><td style = \"text-align: right;\">&vellip;</td><td style = \"text-align: right;\">&vellip;</td><td style = \"text-align: right;\">&vellip;</td><td style = \"text-align: right;\">&vellip;</td><td style = \"text-align: right;\">&vellip;</td><td style = \"text-align: right;\">&vellip;</td><td style = \"text-align: right;\">&vellip;</td><td style = \"text-align: right;\">&vellip;</td><td style = \"text-align: right;\">&vellip;</td><td style = \"text-align: right;\">&vellip;</td><td style = \"text-align: right;\">&vellip;</td><td style = \"text-align: right;\">&vellip;</td><td style = \"text-align: right;\">&vellip;</td></tr><tr><td class = \"rowNumber\" style = \"font-weight: bold; text-align: right;\">989</td><td style = \"text-align: right;\">1</td><td style = \"text-align: right;\">24</td><td style = \"text-align: right;\">2</td><td style = \"text-align: right;\">66</td><td style = \"text-align: right;\">1</td><td style = \"text-align: right;\">1</td><td style = \"text-align: right;\">3</td><td style = \"text-align: right;\">2</td><td style = \"text-align: right;\">4</td><td style = \"text-align: right;\">29</td><td style = \"text-align: right;\">3</td><td style = \"text-align: right;\">1</td><td style = \"text-align: right;\">1</td><td style = \"text-align: right;\">2</td><td style = \"text-align: right;\">1</td><td style = \"text-align: right;\">0</td><td style = \"text-align: right;\">1</td><td style = \"text-align: right;\">1</td><td style = \"text-align: right;\">0</td><td style = \"text-align: right;\">0</td><td style = \"text-align: right;\">0</td><td style = \"text-align: right;\">0</td><td style = \"text-align: right;\">0</td><td style = \"text-align: right;\">0</td><td style = \"text-align: right;\">1</td></tr><tr><td class = \"rowNumber\" style = \"font-weight: bold; text-align: right;\">990</td><td style = \"text-align: right;\">2</td><td style = \"text-align: right;\">24</td><td style = \"text-align: right;\">4</td><td style = \"text-align: right;\">17</td><td style = \"text-align: right;\">1</td><td style = \"text-align: right;\">5</td><td style = \"text-align: right;\">3</td><td style = \"text-align: right;\">2</td><td style = \"text-align: right;\">2</td><td style = \"text-align: right;\">48</td><td style = \"text-align: right;\">3</td><td style = \"text-align: right;\">2</td><td style = \"text-align: right;\">1</td><td style = \"text-align: right;\">1</td><td style = \"text-align: right;\">1</td><td style = \"text-align: right;\">0</td><td style = \"text-align: right;\">0</td><td style = \"text-align: right;\">1</td><td style = \"text-align: right;\">0</td><td style = \"text-align: right;\">0</td><td style = \"text-align: right;\">1</td><td style = \"text-align: right;\">0</td><td style = \"text-align: right;\">1</td><td style = \"text-align: right;\">0</td><td style = \"text-align: right;\">1</td></tr><tr><td class = \"rowNumber\" style = \"font-weight: bold; text-align: right;\">991</td><td style = \"text-align: right;\">4</td><td style = \"text-align: right;\">12</td><td style = \"text-align: right;\">4</td><td style = \"text-align: right;\">36</td><td style = \"text-align: right;\">5</td><td style = \"text-align: right;\">2</td><td style = \"text-align: right;\">3</td><td style = \"text-align: right;\">1</td><td style = \"text-align: right;\">2</td><td style = \"text-align: right;\">37</td><td style = \"text-align: right;\">3</td><td style = \"text-align: right;\">2</td><td style = \"text-align: right;\">2</td><td style = \"text-align: right;\">1</td><td style = \"text-align: right;\">1</td><td style = \"text-align: right;\">0</td><td style = \"text-align: right;\">0</td><td style = \"text-align: right;\">1</td><td style = \"text-align: right;\">0</td><td style = \"text-align: right;\">0</td><td style = \"text-align: right;\">1</td><td style = \"text-align: right;\">0</td><td style = \"text-align: right;\">1</td><td style = \"text-align: right;\">0</td><td style = \"text-align: right;\">1</td></tr><tr><td class = \"rowNumber\" style = \"font-weight: bold; text-align: right;\">992</td><td style = \"text-align: right;\">4</td><td style = \"text-align: right;\">15</td><td style = \"text-align: right;\">1</td><td style = \"text-align: right;\">16</td><td style = \"text-align: right;\">2</td><td style = \"text-align: right;\">5</td><td style = \"text-align: right;\">3</td><td style = \"text-align: right;\">4</td><td style = \"text-align: right;\">3</td><td style = \"text-align: right;\">34</td><td style = \"text-align: right;\">1</td><td style = \"text-align: right;\">1</td><td style = \"text-align: right;\">2</td><td style = \"text-align: right;\">1</td><td style = \"text-align: right;\">1</td><td style = \"text-align: right;\">0</td><td style = \"text-align: right;\">0</td><td style = \"text-align: right;\">1</td><td style = \"text-align: right;\">0</td><td style = \"text-align: right;\">0</td><td style = \"text-align: right;\">1</td><td style = \"text-align: right;\">0</td><td style = \"text-align: right;\">1</td><td style = \"text-align: right;\">0</td><td style = \"text-align: right;\">1</td></tr><tr><td class = \"rowNumber\" style = \"font-weight: bold; text-align: right;\">993</td><td style = \"text-align: right;\">1</td><td style = \"text-align: right;\">18</td><td style = \"text-align: right;\">2</td><td style = \"text-align: right;\">19</td><td style = \"text-align: right;\">5</td><td style = \"text-align: right;\">4</td><td style = \"text-align: right;\">4</td><td style = \"text-align: right;\">4</td><td style = \"text-align: right;\">3</td><td style = \"text-align: right;\">23</td><td style = \"text-align: right;\">3</td><td style = \"text-align: right;\">2</td><td style = \"text-align: right;\">1</td><td style = \"text-align: right;\">1</td><td style = \"text-align: right;\">1</td><td style = \"text-align: right;\">0</td><td style = \"text-align: right;\">0</td><td style = \"text-align: right;\">1</td><td style = \"text-align: right;\">0</td><td style = \"text-align: right;\">1</td><td style = \"text-align: right;\">0</td><td style = \"text-align: right;\">0</td><td style = \"text-align: right;\">1</td><td style = \"text-align: right;\">0</td><td style = \"text-align: right;\">1</td></tr><tr><td class = \"rowNumber\" style = \"font-weight: bold; text-align: right;\">994</td><td style = \"text-align: right;\">1</td><td style = \"text-align: right;\">36</td><td style = \"text-align: right;\">2</td><td style = \"text-align: right;\">40</td><td style = \"text-align: right;\">1</td><td style = \"text-align: right;\">1</td><td style = \"text-align: right;\">3</td><td style = \"text-align: right;\">3</td><td style = \"text-align: right;\">2</td><td style = \"text-align: right;\">30</td><td style = \"text-align: right;\">3</td><td style = \"text-align: right;\">1</td><td style = \"text-align: right;\">1</td><td style = \"text-align: right;\">2</td><td style = \"text-align: right;\">1</td><td style = \"text-align: right;\">0</td><td style = \"text-align: right;\">0</td><td style = \"text-align: right;\">1</td><td style = \"text-align: right;\">0</td><td style = \"text-align: right;\">0</td><td style = \"text-align: right;\">1</td><td style = \"text-align: right;\">0</td><td style = \"text-align: right;\">0</td><td style = \"text-align: right;\">0</td><td style = \"text-align: right;\">1</td></tr><tr><td class = \"rowNumber\" style = \"font-weight: bold; text-align: right;\">995</td><td style = \"text-align: right;\">4</td><td style = \"text-align: right;\">12</td><td style = \"text-align: right;\">2</td><td style = \"text-align: right;\">24</td><td style = \"text-align: right;\">5</td><td style = \"text-align: right;\">5</td><td style = \"text-align: right;\">3</td><td style = \"text-align: right;\">3</td><td style = \"text-align: right;\">3</td><td style = \"text-align: right;\">50</td><td style = \"text-align: right;\">3</td><td style = \"text-align: right;\">1</td><td style = \"text-align: right;\">1</td><td style = \"text-align: right;\">2</td><td style = \"text-align: right;\">1</td><td style = \"text-align: right;\">1</td><td style = \"text-align: right;\">0</td><td style = \"text-align: right;\">1</td><td style = \"text-align: right;\">0</td><td style = \"text-align: right;\">0</td><td style = \"text-align: right;\">1</td><td style = \"text-align: right;\">0</td><td style = \"text-align: right;\">0</td><td style = \"text-align: right;\">1</td><td style = \"text-align: right;\">1</td></tr><tr><td class = \"rowNumber\" style = \"font-weight: bold; text-align: right;\">996</td><td style = \"text-align: right;\">4</td><td style = \"text-align: right;\">12</td><td style = \"text-align: right;\">2</td><td style = \"text-align: right;\">17</td><td style = \"text-align: right;\">1</td><td style = \"text-align: right;\">4</td><td style = \"text-align: right;\">2</td><td style = \"text-align: right;\">4</td><td style = \"text-align: right;\">1</td><td style = \"text-align: right;\">31</td><td style = \"text-align: right;\">3</td><td style = \"text-align: right;\">1</td><td style = \"text-align: right;\">1</td><td style = \"text-align: right;\">1</td><td style = \"text-align: right;\">1</td><td style = \"text-align: right;\">0</td><td style = \"text-align: right;\">0</td><td style = \"text-align: right;\">1</td><td style = \"text-align: right;\">0</td><td style = \"text-align: right;\">0</td><td style = \"text-align: right;\">1</td><td style = \"text-align: right;\">0</td><td style = \"text-align: right;\">1</td><td style = \"text-align: right;\">0</td><td style = \"text-align: right;\">1</td></tr><tr><td class = \"rowNumber\" style = \"font-weight: bold; text-align: right;\">997</td><td style = \"text-align: right;\">1</td><td style = \"text-align: right;\">30</td><td style = \"text-align: right;\">2</td><td style = \"text-align: right;\">39</td><td style = \"text-align: right;\">1</td><td style = \"text-align: right;\">3</td><td style = \"text-align: right;\">1</td><td style = \"text-align: right;\">4</td><td style = \"text-align: right;\">2</td><td style = \"text-align: right;\">40</td><td style = \"text-align: right;\">3</td><td style = \"text-align: right;\">1</td><td style = \"text-align: right;\">1</td><td style = \"text-align: right;\">2</td><td style = \"text-align: right;\">1</td><td style = \"text-align: right;\">0</td><td style = \"text-align: right;\">1</td><td style = \"text-align: right;\">1</td><td style = \"text-align: right;\">0</td><td style = \"text-align: right;\">0</td><td style = \"text-align: right;\">1</td><td style = \"text-align: right;\">0</td><td style = \"text-align: right;\">0</td><td style = \"text-align: right;\">0</td><td style = \"text-align: right;\">1</td></tr><tr><td class = \"rowNumber\" style = \"font-weight: bold; text-align: right;\">998</td><td style = \"text-align: right;\">4</td><td style = \"text-align: right;\">12</td><td style = \"text-align: right;\">2</td><td style = \"text-align: right;\">8</td><td style = \"text-align: right;\">1</td><td style = \"text-align: right;\">5</td><td style = \"text-align: right;\">3</td><td style = \"text-align: right;\">4</td><td style = \"text-align: right;\">3</td><td style = \"text-align: right;\">38</td><td style = \"text-align: right;\">3</td><td style = \"text-align: right;\">1</td><td style = \"text-align: right;\">1</td><td style = \"text-align: right;\">1</td><td style = \"text-align: right;\">1</td><td style = \"text-align: right;\">0</td><td style = \"text-align: right;\">0</td><td style = \"text-align: right;\">1</td><td style = \"text-align: right;\">0</td><td style = \"text-align: right;\">0</td><td style = \"text-align: right;\">1</td><td style = \"text-align: right;\">0</td><td style = \"text-align: right;\">0</td><td style = \"text-align: right;\">1</td><td style = \"text-align: right;\">1</td></tr><tr><td class = \"rowNumber\" style = \"font-weight: bold; text-align: right;\">999</td><td style = \"text-align: right;\">1</td><td style = \"text-align: right;\">45</td><td style = \"text-align: right;\">2</td><td style = \"text-align: right;\">18</td><td style = \"text-align: right;\">1</td><td style = \"text-align: right;\">3</td><td style = \"text-align: right;\">3</td><td style = \"text-align: right;\">4</td><td style = \"text-align: right;\">4</td><td style = \"text-align: right;\">23</td><td style = \"text-align: right;\">3</td><td style = \"text-align: right;\">1</td><td style = \"text-align: right;\">1</td><td style = \"text-align: right;\">2</td><td style = \"text-align: right;\">1</td><td style = \"text-align: right;\">0</td><td style = \"text-align: right;\">0</td><td style = \"text-align: right;\">1</td><td style = \"text-align: right;\">0</td><td style = \"text-align: right;\">0</td><td style = \"text-align: right;\">0</td><td style = \"text-align: right;\">0</td><td style = \"text-align: right;\">0</td><td style = \"text-align: right;\">1</td><td style = \"text-align: right;\">2</td></tr><tr><td class = \"rowNumber\" style = \"font-weight: bold; text-align: right;\">1000</td><td style = \"text-align: right;\">2</td><td style = \"text-align: right;\">45</td><td style = \"text-align: right;\">4</td><td style = \"text-align: right;\">46</td><td style = \"text-align: right;\">2</td><td style = \"text-align: right;\">1</td><td style = \"text-align: right;\">3</td><td style = \"text-align: right;\">4</td><td style = \"text-align: right;\">3</td><td style = \"text-align: right;\">27</td><td style = \"text-align: right;\">3</td><td style = \"text-align: right;\">1</td><td style = \"text-align: right;\">1</td><td style = \"text-align: right;\">1</td><td style = \"text-align: right;\">1</td><td style = \"text-align: right;\">0</td><td style = \"text-align: right;\">1</td><td style = \"text-align: right;\">1</td><td style = \"text-align: right;\">0</td><td style = \"text-align: right;\">0</td><td style = \"text-align: right;\">1</td><td style = \"text-align: right;\">0</td><td style = \"text-align: right;\">0</td><td style = \"text-align: right;\">1</td><td style = \"text-align: right;\">1</td></tr></tbody></table></div>"
      ],
      "text/latex": [
       "\\begin{tabular}{r|cccccccccc}\n",
       "\t& Column1 & Column2 & Column3 & Column4 & Column5 & Column6 & Column7 & Column8 & Column9 & \\\\\n",
       "\t\\hline\n",
       "\t& Int64 & Int64 & Int64 & Int64 & Int64 & Int64 & Int64 & Int64 & Int64 & \\\\\n",
       "\t\\hline\n",
       "\t1 & 1 & 6 & 4 & 12 & 5 & 5 & 3 & 4 & 1 & $\\dots$ \\\\\n",
       "\t2 & 2 & 48 & 2 & 60 & 1 & 3 & 2 & 2 & 1 & $\\dots$ \\\\\n",
       "\t3 & 4 & 12 & 4 & 21 & 1 & 4 & 3 & 3 & 1 & $\\dots$ \\\\\n",
       "\t4 & 1 & 42 & 2 & 79 & 1 & 4 & 3 & 4 & 2 & $\\dots$ \\\\\n",
       "\t5 & 1 & 24 & 3 & 49 & 1 & 3 & 3 & 4 & 4 & $\\dots$ \\\\\n",
       "\t6 & 4 & 36 & 2 & 91 & 5 & 3 & 3 & 4 & 4 & $\\dots$ \\\\\n",
       "\t7 & 4 & 24 & 2 & 28 & 3 & 5 & 3 & 4 & 2 & $\\dots$ \\\\\n",
       "\t8 & 2 & 36 & 2 & 69 & 1 & 3 & 3 & 2 & 3 & $\\dots$ \\\\\n",
       "\t9 & 4 & 12 & 2 & 31 & 4 & 4 & 1 & 4 & 1 & $\\dots$ \\\\\n",
       "\t10 & 2 & 30 & 4 & 52 & 1 & 1 & 4 & 2 & 3 & $\\dots$ \\\\\n",
       "\t11 & 2 & 12 & 2 & 13 & 1 & 2 & 2 & 1 & 3 & $\\dots$ \\\\\n",
       "\t12 & 1 & 48 & 2 & 43 & 1 & 2 & 2 & 4 & 2 & $\\dots$ \\\\\n",
       "\t13 & 2 & 12 & 2 & 16 & 1 & 3 & 2 & 1 & 3 & $\\dots$ \\\\\n",
       "\t14 & 1 & 24 & 4 & 12 & 1 & 5 & 3 & 4 & 3 & $\\dots$ \\\\\n",
       "\t15 & 1 & 15 & 2 & 14 & 1 & 3 & 2 & 4 & 3 & $\\dots$ \\\\\n",
       "\t16 & 1 & 24 & 2 & 13 & 2 & 3 & 2 & 2 & 3 & $\\dots$ \\\\\n",
       "\t17 & 4 & 24 & 4 & 24 & 5 & 5 & 3 & 4 & 2 & $\\dots$ \\\\\n",
       "\t18 & 1 & 30 & 0 & 81 & 5 & 2 & 3 & 3 & 3 & $\\dots$ \\\\\n",
       "\t19 & 2 & 24 & 2 & 126 & 1 & 5 & 2 & 2 & 4 & $\\dots$ \\\\\n",
       "\t20 & 4 & 24 & 2 & 34 & 3 & 5 & 3 & 2 & 3 & $\\dots$ \\\\\n",
       "\t21 & 4 & 9 & 4 & 21 & 1 & 3 & 3 & 4 & 3 & $\\dots$ \\\\\n",
       "\t22 & 1 & 6 & 2 & 26 & 3 & 3 & 3 & 3 & 1 & $\\dots$ \\\\\n",
       "\t23 & 1 & 10 & 4 & 22 & 1 & 2 & 3 & 3 & 1 & $\\dots$ \\\\\n",
       "\t24 & 2 & 12 & 4 & 18 & 2 & 2 & 3 & 4 & 2 & $\\dots$ \\\\\n",
       "\t25 & 4 & 10 & 4 & 21 & 5 & 3 & 4 & 1 & 3 & $\\dots$ \\\\\n",
       "\t26 & 1 & 6 & 2 & 14 & 1 & 3 & 3 & 2 & 1 & $\\dots$ \\\\\n",
       "\t27 & 4 & 6 & 0 & 4 & 1 & 5 & 4 & 4 & 3 & $\\dots$ \\\\\n",
       "\t28 & 3 & 12 & 1 & 4 & 4 & 3 & 2 & 3 & 1 & $\\dots$ \\\\\n",
       "\t29 & 2 & 7 & 2 & 24 & 1 & 3 & 3 & 2 & 1 & $\\dots$ \\\\\n",
       "\t30 & 1 & 60 & 3 & 68 & 1 & 5 & 3 & 4 & 4 & $\\dots$ \\\\\n",
       "\t$\\dots$ & $\\dots$ & $\\dots$ & $\\dots$ & $\\dots$ & $\\dots$ & $\\dots$ & $\\dots$ & $\\dots$ & $\\dots$ &  \\\\\n",
       "\\end{tabular}\n"
      ],
      "text/plain": [
       "\u001b[1m1000×25 DataFrame\u001b[0m\n",
       "\u001b[1m  Row \u001b[0m│\u001b[1m Column1 \u001b[0m\u001b[1m Column2 \u001b[0m\u001b[1m Column3 \u001b[0m\u001b[1m Column4 \u001b[0m\u001b[1m Column5 \u001b[0m\u001b[1m Column6 \u001b[0m\u001b[1m Column7 \u001b[0m\u001b[1m Column8\u001b[0m ⋯\n",
       "      │\u001b[90m Int64   \u001b[0m\u001b[90m Int64   \u001b[0m\u001b[90m Int64   \u001b[0m\u001b[90m Int64   \u001b[0m\u001b[90m Int64   \u001b[0m\u001b[90m Int64   \u001b[0m\u001b[90m Int64   \u001b[0m\u001b[90m Int64  \u001b[0m ⋯\n",
       "──────┼─────────────────────────────────────────────────────────────────────────\n",
       "    1 │       1        6        4       12        5        5        3        4 ⋯\n",
       "    2 │       2       48        2       60        1        3        2        2\n",
       "    3 │       4       12        4       21        1        4        3        3\n",
       "    4 │       1       42        2       79        1        4        3        4\n",
       "    5 │       1       24        3       49        1        3        3        4 ⋯\n",
       "    6 │       4       36        2       91        5        3        3        4\n",
       "    7 │       4       24        2       28        3        5        3        4\n",
       "    8 │       2       36        2       69        1        3        3        2\n",
       "    9 │       4       12        2       31        4        4        1        4 ⋯\n",
       "   10 │       2       30        4       52        1        1        4        2\n",
       "   11 │       2       12        2       13        1        2        2        1\n",
       "  ⋮   │    ⋮        ⋮        ⋮        ⋮        ⋮        ⋮        ⋮        ⋮    ⋱\n",
       "  991 │       4       12        4       36        5        2        3        1\n",
       "  992 │       4       15        1       16        2        5        3        4 ⋯\n",
       "  993 │       1       18        2       19        5        4        4        4\n",
       "  994 │       1       36        2       40        1        1        3        3\n",
       "  995 │       4       12        2       24        5        5        3        3\n",
       "  996 │       4       12        2       17        1        4        2        4 ⋯\n",
       "  997 │       1       30        2       39        1        3        1        4\n",
       "  998 │       4       12        2        8        1        5        3        4\n",
       "  999 │       1       45        2       18        1        3        3        4\n",
       " 1000 │       2       45        4       46        2        1        3        4 ⋯\n",
       "\u001b[36m                                                 17 columns and 979 rows omitted\u001b[0m"
      ]
     },
     "execution_count": 3,
     "metadata": {},
     "output_type": "execute_result"
    }
   ],
   "source": [
    "german =  CSV.read(\"german.csv\", header=false, DataFrame)\n",
    "rename!(german, ncol(german) => :target)"
   ]
  },
  {
   "cell_type": "markdown",
   "metadata": {},
   "source": [
    "**(2p)** The `target` feature informs about the client's default - 2 => client is not repaying the debt, 1 => client is repaying the debt. Recode `target`, so that clients not repaying the debt are marked as 1 and 0 otherwise."
   ]
  },
  {
   "cell_type": "code",
   "execution_count": 4,
   "metadata": {},
   "outputs": [
    {
     "data": {
      "text/html": [
       "<div><div style = \"float: left;\"><span>1000×25 DataFrame</span></div><div style = \"float: right;\"><span style = \"font-style: italic;\">975 rows omitted</span></div><div style = \"clear: both;\"></div></div><div class = \"data-frame\" style = \"overflow-x: scroll;\"><table class = \"data-frame\" style = \"margin-bottom: 6px;\"><thead><tr class = \"header\"><th class = \"rowNumber\" style = \"font-weight: bold; text-align: right;\">Row</th><th style = \"text-align: left;\">Column1</th><th style = \"text-align: left;\">Column2</th><th style = \"text-align: left;\">Column3</th><th style = \"text-align: left;\">Column4</th><th style = \"text-align: left;\">Column5</th><th style = \"text-align: left;\">Column6</th><th style = \"text-align: left;\">Column7</th><th style = \"text-align: left;\">Column8</th><th style = \"text-align: left;\">Column9</th><th style = \"text-align: left;\">Column10</th><th style = \"text-align: left;\">Column11</th><th style = \"text-align: left;\">Column12</th><th style = \"text-align: left;\">Column13</th><th style = \"text-align: left;\">Column14</th><th style = \"text-align: left;\">Column15</th><th style = \"text-align: left;\">Column16</th><th style = \"text-align: left;\">Column17</th><th style = \"text-align: left;\">Column18</th><th style = \"text-align: left;\">Column19</th><th style = \"text-align: left;\">Column20</th><th style = \"text-align: left;\">Column21</th><th style = \"text-align: left;\">Column22</th><th style = \"text-align: left;\">Column23</th><th style = \"text-align: left;\">Column24</th><th style = \"text-align: left;\">target</th></tr><tr class = \"subheader headerLastRow\"><th class = \"rowNumber\" style = \"font-weight: bold; text-align: right;\"></th><th title = \"Int64\" style = \"text-align: left;\">Int64</th><th title = \"Int64\" style = \"text-align: left;\">Int64</th><th title = \"Int64\" style = \"text-align: left;\">Int64</th><th title = \"Int64\" style = \"text-align: left;\">Int64</th><th title = \"Int64\" style = \"text-align: left;\">Int64</th><th title = \"Int64\" style = \"text-align: left;\">Int64</th><th title = \"Int64\" style = \"text-align: left;\">Int64</th><th title = \"Int64\" style = \"text-align: left;\">Int64</th><th title = \"Int64\" style = \"text-align: left;\">Int64</th><th title = \"Int64\" style = \"text-align: left;\">Int64</th><th title = \"Int64\" style = \"text-align: left;\">Int64</th><th title = \"Int64\" style = \"text-align: left;\">Int64</th><th title = \"Int64\" style = \"text-align: left;\">Int64</th><th title = \"Int64\" style = \"text-align: left;\">Int64</th><th title = \"Int64\" style = \"text-align: left;\">Int64</th><th title = \"Int64\" style = \"text-align: left;\">Int64</th><th title = \"Int64\" style = \"text-align: left;\">Int64</th><th title = \"Int64\" style = \"text-align: left;\">Int64</th><th title = \"Int64\" style = \"text-align: left;\">Int64</th><th title = \"Int64\" style = \"text-align: left;\">Int64</th><th title = \"Int64\" style = \"text-align: left;\">Int64</th><th title = \"Int64\" style = \"text-align: left;\">Int64</th><th title = \"Int64\" style = \"text-align: left;\">Int64</th><th title = \"Int64\" style = \"text-align: left;\">Int64</th><th title = \"Int64\" style = \"text-align: left;\">Int64</th></tr></thead><tbody><tr><td class = \"rowNumber\" style = \"font-weight: bold; text-align: right;\">1</td><td style = \"text-align: right;\">1</td><td style = \"text-align: right;\">6</td><td style = \"text-align: right;\">4</td><td style = \"text-align: right;\">12</td><td style = \"text-align: right;\">5</td><td style = \"text-align: right;\">5</td><td style = \"text-align: right;\">3</td><td style = \"text-align: right;\">4</td><td style = \"text-align: right;\">1</td><td style = \"text-align: right;\">67</td><td style = \"text-align: right;\">3</td><td style = \"text-align: right;\">2</td><td style = \"text-align: right;\">1</td><td style = \"text-align: right;\">2</td><td style = \"text-align: right;\">1</td><td style = \"text-align: right;\">0</td><td style = \"text-align: right;\">0</td><td style = \"text-align: right;\">1</td><td style = \"text-align: right;\">0</td><td style = \"text-align: right;\">0</td><td style = \"text-align: right;\">1</td><td style = \"text-align: right;\">0</td><td style = \"text-align: right;\">0</td><td style = \"text-align: right;\">1</td><td style = \"text-align: right;\">0</td></tr><tr><td class = \"rowNumber\" style = \"font-weight: bold; text-align: right;\">2</td><td style = \"text-align: right;\">2</td><td style = \"text-align: right;\">48</td><td style = \"text-align: right;\">2</td><td style = \"text-align: right;\">60</td><td style = \"text-align: right;\">1</td><td style = \"text-align: right;\">3</td><td style = \"text-align: right;\">2</td><td style = \"text-align: right;\">2</td><td style = \"text-align: right;\">1</td><td style = \"text-align: right;\">22</td><td style = \"text-align: right;\">3</td><td style = \"text-align: right;\">1</td><td style = \"text-align: right;\">1</td><td style = \"text-align: right;\">1</td><td style = \"text-align: right;\">1</td><td style = \"text-align: right;\">0</td><td style = \"text-align: right;\">0</td><td style = \"text-align: right;\">1</td><td style = \"text-align: right;\">0</td><td style = \"text-align: right;\">0</td><td style = \"text-align: right;\">1</td><td style = \"text-align: right;\">0</td><td style = \"text-align: right;\">0</td><td style = \"text-align: right;\">1</td><td style = \"text-align: right;\">1</td></tr><tr><td class = \"rowNumber\" style = \"font-weight: bold; text-align: right;\">3</td><td style = \"text-align: right;\">4</td><td style = \"text-align: right;\">12</td><td style = \"text-align: right;\">4</td><td style = \"text-align: right;\">21</td><td style = \"text-align: right;\">1</td><td style = \"text-align: right;\">4</td><td style = \"text-align: right;\">3</td><td style = \"text-align: right;\">3</td><td style = \"text-align: right;\">1</td><td style = \"text-align: right;\">49</td><td style = \"text-align: right;\">3</td><td style = \"text-align: right;\">1</td><td style = \"text-align: right;\">2</td><td style = \"text-align: right;\">1</td><td style = \"text-align: right;\">1</td><td style = \"text-align: right;\">0</td><td style = \"text-align: right;\">0</td><td style = \"text-align: right;\">1</td><td style = \"text-align: right;\">0</td><td style = \"text-align: right;\">0</td><td style = \"text-align: right;\">1</td><td style = \"text-align: right;\">0</td><td style = \"text-align: right;\">1</td><td style = \"text-align: right;\">0</td><td style = \"text-align: right;\">0</td></tr><tr><td class = \"rowNumber\" style = \"font-weight: bold; text-align: right;\">4</td><td style = \"text-align: right;\">1</td><td style = \"text-align: right;\">42</td><td style = \"text-align: right;\">2</td><td style = \"text-align: right;\">79</td><td style = \"text-align: right;\">1</td><td style = \"text-align: right;\">4</td><td style = \"text-align: right;\">3</td><td style = \"text-align: right;\">4</td><td style = \"text-align: right;\">2</td><td style = \"text-align: right;\">45</td><td style = \"text-align: right;\">3</td><td style = \"text-align: right;\">1</td><td style = \"text-align: right;\">2</td><td style = \"text-align: right;\">1</td><td style = \"text-align: right;\">1</td><td style = \"text-align: right;\">0</td><td style = \"text-align: right;\">0</td><td style = \"text-align: right;\">0</td><td style = \"text-align: right;\">0</td><td style = \"text-align: right;\">0</td><td style = \"text-align: right;\">0</td><td style = \"text-align: right;\">0</td><td style = \"text-align: right;\">0</td><td style = \"text-align: right;\">1</td><td style = \"text-align: right;\">0</td></tr><tr><td class = \"rowNumber\" style = \"font-weight: bold; text-align: right;\">5</td><td style = \"text-align: right;\">1</td><td style = \"text-align: right;\">24</td><td style = \"text-align: right;\">3</td><td style = \"text-align: right;\">49</td><td style = \"text-align: right;\">1</td><td style = \"text-align: right;\">3</td><td style = \"text-align: right;\">3</td><td style = \"text-align: right;\">4</td><td style = \"text-align: right;\">4</td><td style = \"text-align: right;\">53</td><td style = \"text-align: right;\">3</td><td style = \"text-align: right;\">2</td><td style = \"text-align: right;\">2</td><td style = \"text-align: right;\">1</td><td style = \"text-align: right;\">1</td><td style = \"text-align: right;\">1</td><td style = \"text-align: right;\">0</td><td style = \"text-align: right;\">1</td><td style = \"text-align: right;\">0</td><td style = \"text-align: right;\">0</td><td style = \"text-align: right;\">0</td><td style = \"text-align: right;\">0</td><td style = \"text-align: right;\">0</td><td style = \"text-align: right;\">1</td><td style = \"text-align: right;\">1</td></tr><tr><td class = \"rowNumber\" style = \"font-weight: bold; text-align: right;\">6</td><td style = \"text-align: right;\">4</td><td style = \"text-align: right;\">36</td><td style = \"text-align: right;\">2</td><td style = \"text-align: right;\">91</td><td style = \"text-align: right;\">5</td><td style = \"text-align: right;\">3</td><td style = \"text-align: right;\">3</td><td style = \"text-align: right;\">4</td><td style = \"text-align: right;\">4</td><td style = \"text-align: right;\">35</td><td style = \"text-align: right;\">3</td><td style = \"text-align: right;\">1</td><td style = \"text-align: right;\">2</td><td style = \"text-align: right;\">2</td><td style = \"text-align: right;\">1</td><td style = \"text-align: right;\">0</td><td style = \"text-align: right;\">0</td><td style = \"text-align: right;\">1</td><td style = \"text-align: right;\">0</td><td style = \"text-align: right;\">0</td><td style = \"text-align: right;\">0</td><td style = \"text-align: right;\">0</td><td style = \"text-align: right;\">1</td><td style = \"text-align: right;\">0</td><td style = \"text-align: right;\">0</td></tr><tr><td class = \"rowNumber\" style = \"font-weight: bold; text-align: right;\">7</td><td style = \"text-align: right;\">4</td><td style = \"text-align: right;\">24</td><td style = \"text-align: right;\">2</td><td style = \"text-align: right;\">28</td><td style = \"text-align: right;\">3</td><td style = \"text-align: right;\">5</td><td style = \"text-align: right;\">3</td><td style = \"text-align: right;\">4</td><td style = \"text-align: right;\">2</td><td style = \"text-align: right;\">53</td><td style = \"text-align: right;\">3</td><td style = \"text-align: right;\">1</td><td style = \"text-align: right;\">1</td><td style = \"text-align: right;\">1</td><td style = \"text-align: right;\">1</td><td style = \"text-align: right;\">0</td><td style = \"text-align: right;\">0</td><td style = \"text-align: right;\">1</td><td style = \"text-align: right;\">0</td><td style = \"text-align: right;\">0</td><td style = \"text-align: right;\">1</td><td style = \"text-align: right;\">0</td><td style = \"text-align: right;\">0</td><td style = \"text-align: right;\">1</td><td style = \"text-align: right;\">0</td></tr><tr><td class = \"rowNumber\" style = \"font-weight: bold; text-align: right;\">8</td><td style = \"text-align: right;\">2</td><td style = \"text-align: right;\">36</td><td style = \"text-align: right;\">2</td><td style = \"text-align: right;\">69</td><td style = \"text-align: right;\">1</td><td style = \"text-align: right;\">3</td><td style = \"text-align: right;\">3</td><td style = \"text-align: right;\">2</td><td style = \"text-align: right;\">3</td><td style = \"text-align: right;\">35</td><td style = \"text-align: right;\">3</td><td style = \"text-align: right;\">1</td><td style = \"text-align: right;\">1</td><td style = \"text-align: right;\">2</td><td style = \"text-align: right;\">1</td><td style = \"text-align: right;\">0</td><td style = \"text-align: right;\">1</td><td style = \"text-align: right;\">1</td><td style = \"text-align: right;\">0</td><td style = \"text-align: right;\">1</td><td style = \"text-align: right;\">0</td><td style = \"text-align: right;\">0</td><td style = \"text-align: right;\">0</td><td style = \"text-align: right;\">0</td><td style = \"text-align: right;\">0</td></tr><tr><td class = \"rowNumber\" style = \"font-weight: bold; text-align: right;\">9</td><td style = \"text-align: right;\">4</td><td style = \"text-align: right;\">12</td><td style = \"text-align: right;\">2</td><td style = \"text-align: right;\">31</td><td style = \"text-align: right;\">4</td><td style = \"text-align: right;\">4</td><td style = \"text-align: right;\">1</td><td style = \"text-align: right;\">4</td><td style = \"text-align: right;\">1</td><td style = \"text-align: right;\">61</td><td style = \"text-align: right;\">3</td><td style = \"text-align: right;\">1</td><td style = \"text-align: right;\">1</td><td style = \"text-align: right;\">1</td><td style = \"text-align: right;\">1</td><td style = \"text-align: right;\">0</td><td style = \"text-align: right;\">0</td><td style = \"text-align: right;\">1</td><td style = \"text-align: right;\">0</td><td style = \"text-align: right;\">0</td><td style = \"text-align: right;\">1</td><td style = \"text-align: right;\">0</td><td style = \"text-align: right;\">1</td><td style = \"text-align: right;\">0</td><td style = \"text-align: right;\">0</td></tr><tr><td class = \"rowNumber\" style = \"font-weight: bold; text-align: right;\">10</td><td style = \"text-align: right;\">2</td><td style = \"text-align: right;\">30</td><td style = \"text-align: right;\">4</td><td style = \"text-align: right;\">52</td><td style = \"text-align: right;\">1</td><td style = \"text-align: right;\">1</td><td style = \"text-align: right;\">4</td><td style = \"text-align: right;\">2</td><td style = \"text-align: right;\">3</td><td style = \"text-align: right;\">28</td><td style = \"text-align: right;\">3</td><td style = \"text-align: right;\">2</td><td style = \"text-align: right;\">1</td><td style = \"text-align: right;\">1</td><td style = \"text-align: right;\">1</td><td style = \"text-align: right;\">1</td><td style = \"text-align: right;\">0</td><td style = \"text-align: right;\">1</td><td style = \"text-align: right;\">0</td><td style = \"text-align: right;\">0</td><td style = \"text-align: right;\">1</td><td style = \"text-align: right;\">0</td><td style = \"text-align: right;\">0</td><td style = \"text-align: right;\">0</td><td style = \"text-align: right;\">1</td></tr><tr><td class = \"rowNumber\" style = \"font-weight: bold; text-align: right;\">11</td><td style = \"text-align: right;\">2</td><td style = \"text-align: right;\">12</td><td style = \"text-align: right;\">2</td><td style = \"text-align: right;\">13</td><td style = \"text-align: right;\">1</td><td style = \"text-align: right;\">2</td><td style = \"text-align: right;\">2</td><td style = \"text-align: right;\">1</td><td style = \"text-align: right;\">3</td><td style = \"text-align: right;\">25</td><td style = \"text-align: right;\">3</td><td style = \"text-align: right;\">1</td><td style = \"text-align: right;\">1</td><td style = \"text-align: right;\">1</td><td style = \"text-align: right;\">1</td><td style = \"text-align: right;\">1</td><td style = \"text-align: right;\">0</td><td style = \"text-align: right;\">1</td><td style = \"text-align: right;\">0</td><td style = \"text-align: right;\">1</td><td style = \"text-align: right;\">0</td><td style = \"text-align: right;\">0</td><td style = \"text-align: right;\">0</td><td style = \"text-align: right;\">1</td><td style = \"text-align: right;\">1</td></tr><tr><td class = \"rowNumber\" style = \"font-weight: bold; text-align: right;\">12</td><td style = \"text-align: right;\">1</td><td style = \"text-align: right;\">48</td><td style = \"text-align: right;\">2</td><td style = \"text-align: right;\">43</td><td style = \"text-align: right;\">1</td><td style = \"text-align: right;\">2</td><td style = \"text-align: right;\">2</td><td style = \"text-align: right;\">4</td><td style = \"text-align: right;\">2</td><td style = \"text-align: right;\">24</td><td style = \"text-align: right;\">3</td><td style = \"text-align: right;\">1</td><td style = \"text-align: right;\">1</td><td style = \"text-align: right;\">1</td><td style = \"text-align: right;\">1</td><td style = \"text-align: right;\">0</td><td style = \"text-align: right;\">0</td><td style = \"text-align: right;\">1</td><td style = \"text-align: right;\">0</td><td style = \"text-align: right;\">1</td><td style = \"text-align: right;\">0</td><td style = \"text-align: right;\">0</td><td style = \"text-align: right;\">0</td><td style = \"text-align: right;\">1</td><td style = \"text-align: right;\">1</td></tr><tr><td class = \"rowNumber\" style = \"font-weight: bold; text-align: right;\">13</td><td style = \"text-align: right;\">2</td><td style = \"text-align: right;\">12</td><td style = \"text-align: right;\">2</td><td style = \"text-align: right;\">16</td><td style = \"text-align: right;\">1</td><td style = \"text-align: right;\">3</td><td style = \"text-align: right;\">2</td><td style = \"text-align: right;\">1</td><td style = \"text-align: right;\">3</td><td style = \"text-align: right;\">22</td><td style = \"text-align: right;\">3</td><td style = \"text-align: right;\">1</td><td style = \"text-align: right;\">1</td><td style = \"text-align: right;\">2</td><td style = \"text-align: right;\">1</td><td style = \"text-align: right;\">0</td><td style = \"text-align: right;\">0</td><td style = \"text-align: right;\">1</td><td style = \"text-align: right;\">0</td><td style = \"text-align: right;\">0</td><td style = \"text-align: right;\">1</td><td style = \"text-align: right;\">0</td><td style = \"text-align: right;\">0</td><td style = \"text-align: right;\">1</td><td style = \"text-align: right;\">0</td></tr><tr><td style = \"text-align: right;\">&vellip;</td><td style = \"text-align: right;\">&vellip;</td><td style = \"text-align: right;\">&vellip;</td><td style = \"text-align: right;\">&vellip;</td><td style = \"text-align: right;\">&vellip;</td><td style = \"text-align: right;\">&vellip;</td><td style = \"text-align: right;\">&vellip;</td><td style = \"text-align: right;\">&vellip;</td><td style = \"text-align: right;\">&vellip;</td><td style = \"text-align: right;\">&vellip;</td><td style = \"text-align: right;\">&vellip;</td><td style = \"text-align: right;\">&vellip;</td><td style = \"text-align: right;\">&vellip;</td><td style = \"text-align: right;\">&vellip;</td><td style = \"text-align: right;\">&vellip;</td><td style = \"text-align: right;\">&vellip;</td><td style = \"text-align: right;\">&vellip;</td><td style = \"text-align: right;\">&vellip;</td><td style = \"text-align: right;\">&vellip;</td><td style = \"text-align: right;\">&vellip;</td><td style = \"text-align: right;\">&vellip;</td><td style = \"text-align: right;\">&vellip;</td><td style = \"text-align: right;\">&vellip;</td><td style = \"text-align: right;\">&vellip;</td><td style = \"text-align: right;\">&vellip;</td><td style = \"text-align: right;\">&vellip;</td></tr><tr><td class = \"rowNumber\" style = \"font-weight: bold; text-align: right;\">989</td><td style = \"text-align: right;\">1</td><td style = \"text-align: right;\">24</td><td style = \"text-align: right;\">2</td><td style = \"text-align: right;\">66</td><td style = \"text-align: right;\">1</td><td style = \"text-align: right;\">1</td><td style = \"text-align: right;\">3</td><td style = \"text-align: right;\">2</td><td style = \"text-align: right;\">4</td><td style = \"text-align: right;\">29</td><td style = \"text-align: right;\">3</td><td style = \"text-align: right;\">1</td><td style = \"text-align: right;\">1</td><td style = \"text-align: right;\">2</td><td style = \"text-align: right;\">1</td><td style = \"text-align: right;\">0</td><td style = \"text-align: right;\">1</td><td style = \"text-align: right;\">1</td><td style = \"text-align: right;\">0</td><td style = \"text-align: right;\">0</td><td style = \"text-align: right;\">0</td><td style = \"text-align: right;\">0</td><td style = \"text-align: right;\">0</td><td style = \"text-align: right;\">0</td><td style = \"text-align: right;\">0</td></tr><tr><td class = \"rowNumber\" style = \"font-weight: bold; text-align: right;\">990</td><td style = \"text-align: right;\">2</td><td style = \"text-align: right;\">24</td><td style = \"text-align: right;\">4</td><td style = \"text-align: right;\">17</td><td style = \"text-align: right;\">1</td><td style = \"text-align: right;\">5</td><td style = \"text-align: right;\">3</td><td style = \"text-align: right;\">2</td><td style = \"text-align: right;\">2</td><td style = \"text-align: right;\">48</td><td style = \"text-align: right;\">3</td><td style = \"text-align: right;\">2</td><td style = \"text-align: right;\">1</td><td style = \"text-align: right;\">1</td><td style = \"text-align: right;\">1</td><td style = \"text-align: right;\">0</td><td style = \"text-align: right;\">0</td><td style = \"text-align: right;\">1</td><td style = \"text-align: right;\">0</td><td style = \"text-align: right;\">0</td><td style = \"text-align: right;\">1</td><td style = \"text-align: right;\">0</td><td style = \"text-align: right;\">1</td><td style = \"text-align: right;\">0</td><td style = \"text-align: right;\">0</td></tr><tr><td class = \"rowNumber\" style = \"font-weight: bold; text-align: right;\">991</td><td style = \"text-align: right;\">4</td><td style = \"text-align: right;\">12</td><td style = \"text-align: right;\">4</td><td style = \"text-align: right;\">36</td><td style = \"text-align: right;\">5</td><td style = \"text-align: right;\">2</td><td style = \"text-align: right;\">3</td><td style = \"text-align: right;\">1</td><td style = \"text-align: right;\">2</td><td style = \"text-align: right;\">37</td><td style = \"text-align: right;\">3</td><td style = \"text-align: right;\">2</td><td style = \"text-align: right;\">2</td><td style = \"text-align: right;\">1</td><td style = \"text-align: right;\">1</td><td style = \"text-align: right;\">0</td><td style = \"text-align: right;\">0</td><td style = \"text-align: right;\">1</td><td style = \"text-align: right;\">0</td><td style = \"text-align: right;\">0</td><td style = \"text-align: right;\">1</td><td style = \"text-align: right;\">0</td><td style = \"text-align: right;\">1</td><td style = \"text-align: right;\">0</td><td style = \"text-align: right;\">0</td></tr><tr><td class = \"rowNumber\" style = \"font-weight: bold; text-align: right;\">992</td><td style = \"text-align: right;\">4</td><td style = \"text-align: right;\">15</td><td style = \"text-align: right;\">1</td><td style = \"text-align: right;\">16</td><td style = \"text-align: right;\">2</td><td style = \"text-align: right;\">5</td><td style = \"text-align: right;\">3</td><td style = \"text-align: right;\">4</td><td style = \"text-align: right;\">3</td><td style = \"text-align: right;\">34</td><td style = \"text-align: right;\">1</td><td style = \"text-align: right;\">1</td><td style = \"text-align: right;\">2</td><td style = \"text-align: right;\">1</td><td style = \"text-align: right;\">1</td><td style = \"text-align: right;\">0</td><td style = \"text-align: right;\">0</td><td style = \"text-align: right;\">1</td><td style = \"text-align: right;\">0</td><td style = \"text-align: right;\">0</td><td style = \"text-align: right;\">1</td><td style = \"text-align: right;\">0</td><td style = \"text-align: right;\">1</td><td style = \"text-align: right;\">0</td><td style = \"text-align: right;\">0</td></tr><tr><td class = \"rowNumber\" style = \"font-weight: bold; text-align: right;\">993</td><td style = \"text-align: right;\">1</td><td style = \"text-align: right;\">18</td><td style = \"text-align: right;\">2</td><td style = \"text-align: right;\">19</td><td style = \"text-align: right;\">5</td><td style = \"text-align: right;\">4</td><td style = \"text-align: right;\">4</td><td style = \"text-align: right;\">4</td><td style = \"text-align: right;\">3</td><td style = \"text-align: right;\">23</td><td style = \"text-align: right;\">3</td><td style = \"text-align: right;\">2</td><td style = \"text-align: right;\">1</td><td style = \"text-align: right;\">1</td><td style = \"text-align: right;\">1</td><td style = \"text-align: right;\">0</td><td style = \"text-align: right;\">0</td><td style = \"text-align: right;\">1</td><td style = \"text-align: right;\">0</td><td style = \"text-align: right;\">1</td><td style = \"text-align: right;\">0</td><td style = \"text-align: right;\">0</td><td style = \"text-align: right;\">1</td><td style = \"text-align: right;\">0</td><td style = \"text-align: right;\">0</td></tr><tr><td class = \"rowNumber\" style = \"font-weight: bold; text-align: right;\">994</td><td style = \"text-align: right;\">1</td><td style = \"text-align: right;\">36</td><td style = \"text-align: right;\">2</td><td style = \"text-align: right;\">40</td><td style = \"text-align: right;\">1</td><td style = \"text-align: right;\">1</td><td style = \"text-align: right;\">3</td><td style = \"text-align: right;\">3</td><td style = \"text-align: right;\">2</td><td style = \"text-align: right;\">30</td><td style = \"text-align: right;\">3</td><td style = \"text-align: right;\">1</td><td style = \"text-align: right;\">1</td><td style = \"text-align: right;\">2</td><td style = \"text-align: right;\">1</td><td style = \"text-align: right;\">0</td><td style = \"text-align: right;\">0</td><td style = \"text-align: right;\">1</td><td style = \"text-align: right;\">0</td><td style = \"text-align: right;\">0</td><td style = \"text-align: right;\">1</td><td style = \"text-align: right;\">0</td><td style = \"text-align: right;\">0</td><td style = \"text-align: right;\">0</td><td style = \"text-align: right;\">0</td></tr><tr><td class = \"rowNumber\" style = \"font-weight: bold; text-align: right;\">995</td><td style = \"text-align: right;\">4</td><td style = \"text-align: right;\">12</td><td style = \"text-align: right;\">2</td><td style = \"text-align: right;\">24</td><td style = \"text-align: right;\">5</td><td style = \"text-align: right;\">5</td><td style = \"text-align: right;\">3</td><td style = \"text-align: right;\">3</td><td style = \"text-align: right;\">3</td><td style = \"text-align: right;\">50</td><td style = \"text-align: right;\">3</td><td style = \"text-align: right;\">1</td><td style = \"text-align: right;\">1</td><td style = \"text-align: right;\">2</td><td style = \"text-align: right;\">1</td><td style = \"text-align: right;\">1</td><td style = \"text-align: right;\">0</td><td style = \"text-align: right;\">1</td><td style = \"text-align: right;\">0</td><td style = \"text-align: right;\">0</td><td style = \"text-align: right;\">1</td><td style = \"text-align: right;\">0</td><td style = \"text-align: right;\">0</td><td style = \"text-align: right;\">1</td><td style = \"text-align: right;\">0</td></tr><tr><td class = \"rowNumber\" style = \"font-weight: bold; text-align: right;\">996</td><td style = \"text-align: right;\">4</td><td style = \"text-align: right;\">12</td><td style = \"text-align: right;\">2</td><td style = \"text-align: right;\">17</td><td style = \"text-align: right;\">1</td><td style = \"text-align: right;\">4</td><td style = \"text-align: right;\">2</td><td style = \"text-align: right;\">4</td><td style = \"text-align: right;\">1</td><td style = \"text-align: right;\">31</td><td style = \"text-align: right;\">3</td><td style = \"text-align: right;\">1</td><td style = \"text-align: right;\">1</td><td style = \"text-align: right;\">1</td><td style = \"text-align: right;\">1</td><td style = \"text-align: right;\">0</td><td style = \"text-align: right;\">0</td><td style = \"text-align: right;\">1</td><td style = \"text-align: right;\">0</td><td style = \"text-align: right;\">0</td><td style = \"text-align: right;\">1</td><td style = \"text-align: right;\">0</td><td style = \"text-align: right;\">1</td><td style = \"text-align: right;\">0</td><td style = \"text-align: right;\">0</td></tr><tr><td class = \"rowNumber\" style = \"font-weight: bold; text-align: right;\">997</td><td style = \"text-align: right;\">1</td><td style = \"text-align: right;\">30</td><td style = \"text-align: right;\">2</td><td style = \"text-align: right;\">39</td><td style = \"text-align: right;\">1</td><td style = \"text-align: right;\">3</td><td style = \"text-align: right;\">1</td><td style = \"text-align: right;\">4</td><td style = \"text-align: right;\">2</td><td style = \"text-align: right;\">40</td><td style = \"text-align: right;\">3</td><td style = \"text-align: right;\">1</td><td style = \"text-align: right;\">1</td><td style = \"text-align: right;\">2</td><td style = \"text-align: right;\">1</td><td style = \"text-align: right;\">0</td><td style = \"text-align: right;\">1</td><td style = \"text-align: right;\">1</td><td style = \"text-align: right;\">0</td><td style = \"text-align: right;\">0</td><td style = \"text-align: right;\">1</td><td style = \"text-align: right;\">0</td><td style = \"text-align: right;\">0</td><td style = \"text-align: right;\">0</td><td style = \"text-align: right;\">0</td></tr><tr><td class = \"rowNumber\" style = \"font-weight: bold; text-align: right;\">998</td><td style = \"text-align: right;\">4</td><td style = \"text-align: right;\">12</td><td style = \"text-align: right;\">2</td><td style = \"text-align: right;\">8</td><td style = \"text-align: right;\">1</td><td style = \"text-align: right;\">5</td><td style = \"text-align: right;\">3</td><td style = \"text-align: right;\">4</td><td style = \"text-align: right;\">3</td><td style = \"text-align: right;\">38</td><td style = \"text-align: right;\">3</td><td style = \"text-align: right;\">1</td><td style = \"text-align: right;\">1</td><td style = \"text-align: right;\">1</td><td style = \"text-align: right;\">1</td><td style = \"text-align: right;\">0</td><td style = \"text-align: right;\">0</td><td style = \"text-align: right;\">1</td><td style = \"text-align: right;\">0</td><td style = \"text-align: right;\">0</td><td style = \"text-align: right;\">1</td><td style = \"text-align: right;\">0</td><td style = \"text-align: right;\">0</td><td style = \"text-align: right;\">1</td><td style = \"text-align: right;\">0</td></tr><tr><td class = \"rowNumber\" style = \"font-weight: bold; text-align: right;\">999</td><td style = \"text-align: right;\">1</td><td style = \"text-align: right;\">45</td><td style = \"text-align: right;\">2</td><td style = \"text-align: right;\">18</td><td style = \"text-align: right;\">1</td><td style = \"text-align: right;\">3</td><td style = \"text-align: right;\">3</td><td style = \"text-align: right;\">4</td><td style = \"text-align: right;\">4</td><td style = \"text-align: right;\">23</td><td style = \"text-align: right;\">3</td><td style = \"text-align: right;\">1</td><td style = \"text-align: right;\">1</td><td style = \"text-align: right;\">2</td><td style = \"text-align: right;\">1</td><td style = \"text-align: right;\">0</td><td style = \"text-align: right;\">0</td><td style = \"text-align: right;\">1</td><td style = \"text-align: right;\">0</td><td style = \"text-align: right;\">0</td><td style = \"text-align: right;\">0</td><td style = \"text-align: right;\">0</td><td style = \"text-align: right;\">0</td><td style = \"text-align: right;\">1</td><td style = \"text-align: right;\">1</td></tr><tr><td class = \"rowNumber\" style = \"font-weight: bold; text-align: right;\">1000</td><td style = \"text-align: right;\">2</td><td style = \"text-align: right;\">45</td><td style = \"text-align: right;\">4</td><td style = \"text-align: right;\">46</td><td style = \"text-align: right;\">2</td><td style = \"text-align: right;\">1</td><td style = \"text-align: right;\">3</td><td style = \"text-align: right;\">4</td><td style = \"text-align: right;\">3</td><td style = \"text-align: right;\">27</td><td style = \"text-align: right;\">3</td><td style = \"text-align: right;\">1</td><td style = \"text-align: right;\">1</td><td style = \"text-align: right;\">1</td><td style = \"text-align: right;\">1</td><td style = \"text-align: right;\">0</td><td style = \"text-align: right;\">1</td><td style = \"text-align: right;\">1</td><td style = \"text-align: right;\">0</td><td style = \"text-align: right;\">0</td><td style = \"text-align: right;\">1</td><td style = \"text-align: right;\">0</td><td style = \"text-align: right;\">0</td><td style = \"text-align: right;\">1</td><td style = \"text-align: right;\">0</td></tr></tbody></table></div>"
      ],
      "text/latex": [
       "\\begin{tabular}{r|cccccccccc}\n",
       "\t& Column1 & Column2 & Column3 & Column4 & Column5 & Column6 & Column7 & Column8 & Column9 & \\\\\n",
       "\t\\hline\n",
       "\t& Int64 & Int64 & Int64 & Int64 & Int64 & Int64 & Int64 & Int64 & Int64 & \\\\\n",
       "\t\\hline\n",
       "\t1 & 1 & 6 & 4 & 12 & 5 & 5 & 3 & 4 & 1 & $\\dots$ \\\\\n",
       "\t2 & 2 & 48 & 2 & 60 & 1 & 3 & 2 & 2 & 1 & $\\dots$ \\\\\n",
       "\t3 & 4 & 12 & 4 & 21 & 1 & 4 & 3 & 3 & 1 & $\\dots$ \\\\\n",
       "\t4 & 1 & 42 & 2 & 79 & 1 & 4 & 3 & 4 & 2 & $\\dots$ \\\\\n",
       "\t5 & 1 & 24 & 3 & 49 & 1 & 3 & 3 & 4 & 4 & $\\dots$ \\\\\n",
       "\t6 & 4 & 36 & 2 & 91 & 5 & 3 & 3 & 4 & 4 & $\\dots$ \\\\\n",
       "\t7 & 4 & 24 & 2 & 28 & 3 & 5 & 3 & 4 & 2 & $\\dots$ \\\\\n",
       "\t8 & 2 & 36 & 2 & 69 & 1 & 3 & 3 & 2 & 3 & $\\dots$ \\\\\n",
       "\t9 & 4 & 12 & 2 & 31 & 4 & 4 & 1 & 4 & 1 & $\\dots$ \\\\\n",
       "\t10 & 2 & 30 & 4 & 52 & 1 & 1 & 4 & 2 & 3 & $\\dots$ \\\\\n",
       "\t11 & 2 & 12 & 2 & 13 & 1 & 2 & 2 & 1 & 3 & $\\dots$ \\\\\n",
       "\t12 & 1 & 48 & 2 & 43 & 1 & 2 & 2 & 4 & 2 & $\\dots$ \\\\\n",
       "\t13 & 2 & 12 & 2 & 16 & 1 & 3 & 2 & 1 & 3 & $\\dots$ \\\\\n",
       "\t14 & 1 & 24 & 4 & 12 & 1 & 5 & 3 & 4 & 3 & $\\dots$ \\\\\n",
       "\t15 & 1 & 15 & 2 & 14 & 1 & 3 & 2 & 4 & 3 & $\\dots$ \\\\\n",
       "\t16 & 1 & 24 & 2 & 13 & 2 & 3 & 2 & 2 & 3 & $\\dots$ \\\\\n",
       "\t17 & 4 & 24 & 4 & 24 & 5 & 5 & 3 & 4 & 2 & $\\dots$ \\\\\n",
       "\t18 & 1 & 30 & 0 & 81 & 5 & 2 & 3 & 3 & 3 & $\\dots$ \\\\\n",
       "\t19 & 2 & 24 & 2 & 126 & 1 & 5 & 2 & 2 & 4 & $\\dots$ \\\\\n",
       "\t20 & 4 & 24 & 2 & 34 & 3 & 5 & 3 & 2 & 3 & $\\dots$ \\\\\n",
       "\t21 & 4 & 9 & 4 & 21 & 1 & 3 & 3 & 4 & 3 & $\\dots$ \\\\\n",
       "\t22 & 1 & 6 & 2 & 26 & 3 & 3 & 3 & 3 & 1 & $\\dots$ \\\\\n",
       "\t23 & 1 & 10 & 4 & 22 & 1 & 2 & 3 & 3 & 1 & $\\dots$ \\\\\n",
       "\t24 & 2 & 12 & 4 & 18 & 2 & 2 & 3 & 4 & 2 & $\\dots$ \\\\\n",
       "\t25 & 4 & 10 & 4 & 21 & 5 & 3 & 4 & 1 & 3 & $\\dots$ \\\\\n",
       "\t26 & 1 & 6 & 2 & 14 & 1 & 3 & 3 & 2 & 1 & $\\dots$ \\\\\n",
       "\t27 & 4 & 6 & 0 & 4 & 1 & 5 & 4 & 4 & 3 & $\\dots$ \\\\\n",
       "\t28 & 3 & 12 & 1 & 4 & 4 & 3 & 2 & 3 & 1 & $\\dots$ \\\\\n",
       "\t29 & 2 & 7 & 2 & 24 & 1 & 3 & 3 & 2 & 1 & $\\dots$ \\\\\n",
       "\t30 & 1 & 60 & 3 & 68 & 1 & 5 & 3 & 4 & 4 & $\\dots$ \\\\\n",
       "\t$\\dots$ & $\\dots$ & $\\dots$ & $\\dots$ & $\\dots$ & $\\dots$ & $\\dots$ & $\\dots$ & $\\dots$ & $\\dots$ &  \\\\\n",
       "\\end{tabular}\n"
      ],
      "text/plain": [
       "\u001b[1m1000×25 DataFrame\u001b[0m\n",
       "\u001b[1m  Row \u001b[0m│\u001b[1m Column1 \u001b[0m\u001b[1m Column2 \u001b[0m\u001b[1m Column3 \u001b[0m\u001b[1m Column4 \u001b[0m\u001b[1m Column5 \u001b[0m\u001b[1m Column6 \u001b[0m\u001b[1m Column7 \u001b[0m\u001b[1m Column8\u001b[0m ⋯\n",
       "      │\u001b[90m Int64   \u001b[0m\u001b[90m Int64   \u001b[0m\u001b[90m Int64   \u001b[0m\u001b[90m Int64   \u001b[0m\u001b[90m Int64   \u001b[0m\u001b[90m Int64   \u001b[0m\u001b[90m Int64   \u001b[0m\u001b[90m Int64  \u001b[0m ⋯\n",
       "──────┼─────────────────────────────────────────────────────────────────────────\n",
       "    1 │       1        6        4       12        5        5        3        4 ⋯\n",
       "    2 │       2       48        2       60        1        3        2        2\n",
       "    3 │       4       12        4       21        1        4        3        3\n",
       "    4 │       1       42        2       79        1        4        3        4\n",
       "    5 │       1       24        3       49        1        3        3        4 ⋯\n",
       "    6 │       4       36        2       91        5        3        3        4\n",
       "    7 │       4       24        2       28        3        5        3        4\n",
       "    8 │       2       36        2       69        1        3        3        2\n",
       "    9 │       4       12        2       31        4        4        1        4 ⋯\n",
       "   10 │       2       30        4       52        1        1        4        2\n",
       "   11 │       2       12        2       13        1        2        2        1\n",
       "  ⋮   │    ⋮        ⋮        ⋮        ⋮        ⋮        ⋮        ⋮        ⋮    ⋱\n",
       "  991 │       4       12        4       36        5        2        3        1\n",
       "  992 │       4       15        1       16        2        5        3        4 ⋯\n",
       "  993 │       1       18        2       19        5        4        4        4\n",
       "  994 │       1       36        2       40        1        1        3        3\n",
       "  995 │       4       12        2       24        5        5        3        3\n",
       "  996 │       4       12        2       17        1        4        2        4 ⋯\n",
       "  997 │       1       30        2       39        1        3        1        4\n",
       "  998 │       4       12        2        8        1        5        3        4\n",
       "  999 │       1       45        2       18        1        3        3        4\n",
       " 1000 │       2       45        4       46        2        1        3        4 ⋯\n",
       "\u001b[36m                                                 17 columns and 979 rows omitted\u001b[0m"
      ]
     },
     "execution_count": 4,
     "metadata": {},
     "output_type": "execute_result"
    }
   ],
   "source": [
    "german.target = ifelse.(german.target .== 1, 0, 1)\n",
    "german"
   ]
  },
  {
   "cell_type": "markdown",
   "metadata": {},
   "source": [
    "**(2p)** Split the data into train **(85% of observations)** and validation datasets. Set random seed using `Random` module to **2**."
   ]
  },
  {
   "cell_type": "code",
   "execution_count": 5,
   "metadata": {},
   "outputs": [
    {
     "data": {
      "text/plain": [
       "([250, 266, 267, 115, 885, 10, 753, 21, 63, 946  …  280, 507, 654, 53, 929, 212, 837, 87, 329, 894], [281, 815, 310, 696, 765, 487, 700, 492, 898, 248  …  872, 69, 96, 368, 659, 254, 557, 738, 467, 468])"
      ]
     },
     "execution_count": 5,
     "metadata": {},
     "output_type": "execute_result"
    }
   ],
   "source": [
    "training_fraction = 0.85\n",
    "Random.seed!(2)\n",
    "train, test = partition(eachindex(german.target), training_fraction, shuffle=true)"
   ]
  },
  {
   "cell_type": "code",
   "execution_count": 6,
   "metadata": {},
   "outputs": [
    {
     "data": {
      "text/html": [
       "<div><div style = \"float: left;\"><span>150×25 DataFrame</span></div><div style = \"float: right;\"><span style = \"font-style: italic;\">125 rows omitted</span></div><div style = \"clear: both;\"></div></div><div class = \"data-frame\" style = \"overflow-x: scroll;\"><table class = \"data-frame\" style = \"margin-bottom: 6px;\"><thead><tr class = \"header\"><th class = \"rowNumber\" style = \"font-weight: bold; text-align: right;\">Row</th><th style = \"text-align: left;\">Column1</th><th style = \"text-align: left;\">Column2</th><th style = \"text-align: left;\">Column3</th><th style = \"text-align: left;\">Column4</th><th style = \"text-align: left;\">Column5</th><th style = \"text-align: left;\">Column6</th><th style = \"text-align: left;\">Column7</th><th style = \"text-align: left;\">Column8</th><th style = \"text-align: left;\">Column9</th><th style = \"text-align: left;\">Column10</th><th style = \"text-align: left;\">Column11</th><th style = \"text-align: left;\">Column12</th><th style = \"text-align: left;\">Column13</th><th style = \"text-align: left;\">Column14</th><th style = \"text-align: left;\">Column15</th><th style = \"text-align: left;\">Column16</th><th style = \"text-align: left;\">Column17</th><th style = \"text-align: left;\">Column18</th><th style = \"text-align: left;\">Column19</th><th style = \"text-align: left;\">Column20</th><th style = \"text-align: left;\">Column21</th><th style = \"text-align: left;\">Column22</th><th style = \"text-align: left;\">Column23</th><th style = \"text-align: left;\">Column24</th><th style = \"text-align: left;\">target</th></tr><tr class = \"subheader headerLastRow\"><th class = \"rowNumber\" style = \"font-weight: bold; text-align: right;\"></th><th title = \"Int64\" style = \"text-align: left;\">Int64</th><th title = \"Int64\" style = \"text-align: left;\">Int64</th><th title = \"Int64\" style = \"text-align: left;\">Int64</th><th title = \"Int64\" style = \"text-align: left;\">Int64</th><th title = \"Int64\" style = \"text-align: left;\">Int64</th><th title = \"Int64\" style = \"text-align: left;\">Int64</th><th title = \"Int64\" style = \"text-align: left;\">Int64</th><th title = \"Int64\" style = \"text-align: left;\">Int64</th><th title = \"Int64\" style = \"text-align: left;\">Int64</th><th title = \"Int64\" style = \"text-align: left;\">Int64</th><th title = \"Int64\" style = \"text-align: left;\">Int64</th><th title = \"Int64\" style = \"text-align: left;\">Int64</th><th title = \"Int64\" style = \"text-align: left;\">Int64</th><th title = \"Int64\" style = \"text-align: left;\">Int64</th><th title = \"Int64\" style = \"text-align: left;\">Int64</th><th title = \"Int64\" style = \"text-align: left;\">Int64</th><th title = \"Int64\" style = \"text-align: left;\">Int64</th><th title = \"Int64\" style = \"text-align: left;\">Int64</th><th title = \"Int64\" style = \"text-align: left;\">Int64</th><th title = \"Int64\" style = \"text-align: left;\">Int64</th><th title = \"Int64\" style = \"text-align: left;\">Int64</th><th title = \"Int64\" style = \"text-align: left;\">Int64</th><th title = \"Int64\" style = \"text-align: left;\">Int64</th><th title = \"Int64\" style = \"text-align: left;\">Int64</th><th title = \"Int64\" style = \"text-align: left;\">Int64</th></tr></thead><tbody><tr><td class = \"rowNumber\" style = \"font-weight: bold; text-align: right;\">1</td><td style = \"text-align: right;\">4</td><td style = \"text-align: right;\">15</td><td style = \"text-align: right;\">4</td><td style = \"text-align: right;\">34</td><td style = \"text-align: right;\">4</td><td style = \"text-align: right;\">5</td><td style = \"text-align: right;\">3</td><td style = \"text-align: right;\">4</td><td style = \"text-align: right;\">4</td><td style = \"text-align: right;\">23</td><td style = \"text-align: right;\">3</td><td style = \"text-align: right;\">2</td><td style = \"text-align: right;\">1</td><td style = \"text-align: right;\">2</td><td style = \"text-align: right;\">1</td><td style = \"text-align: right;\">0</td><td style = \"text-align: right;\">1</td><td style = \"text-align: right;\">1</td><td style = \"text-align: right;\">0</td><td style = \"text-align: right;\">1</td><td style = \"text-align: right;\">0</td><td style = \"text-align: right;\">0</td><td style = \"text-align: right;\">0</td><td style = \"text-align: right;\">1</td><td style = \"text-align: right;\">0</td></tr><tr><td class = \"rowNumber\" style = \"font-weight: bold; text-align: right;\">2</td><td style = \"text-align: right;\">1</td><td style = \"text-align: right;\">48</td><td style = \"text-align: right;\">2</td><td style = \"text-align: right;\">39</td><td style = \"text-align: right;\">1</td><td style = \"text-align: right;\">4</td><td style = \"text-align: right;\">3</td><td style = \"text-align: right;\">4</td><td style = \"text-align: right;\">4</td><td style = \"text-align: right;\">46</td><td style = \"text-align: right;\">3</td><td style = \"text-align: right;\">1</td><td style = \"text-align: right;\">2</td><td style = \"text-align: right;\">1</td><td style = \"text-align: right;\">1</td><td style = \"text-align: right;\">1</td><td style = \"text-align: right;\">0</td><td style = \"text-align: right;\">1</td><td style = \"text-align: right;\">0</td><td style = \"text-align: right;\">0</td><td style = \"text-align: right;\">0</td><td style = \"text-align: right;\">0</td><td style = \"text-align: right;\">0</td><td style = \"text-align: right;\">1</td><td style = \"text-align: right;\">1</td></tr><tr><td class = \"rowNumber\" style = \"font-weight: bold; text-align: right;\">3</td><td style = \"text-align: right;\">2</td><td style = \"text-align: right;\">9</td><td style = \"text-align: right;\">2</td><td style = \"text-align: right;\">3</td><td style = \"text-align: right;\">1</td><td style = \"text-align: right;\">3</td><td style = \"text-align: right;\">4</td><td style = \"text-align: right;\">4</td><td style = \"text-align: right;\">1</td><td style = \"text-align: right;\">22</td><td style = \"text-align: right;\">3</td><td style = \"text-align: right;\">1</td><td style = \"text-align: right;\">1</td><td style = \"text-align: right;\">1</td><td style = \"text-align: right;\">1</td><td style = \"text-align: right;\">1</td><td style = \"text-align: right;\">0</td><td style = \"text-align: right;\">1</td><td style = \"text-align: right;\">0</td><td style = \"text-align: right;\">1</td><td style = \"text-align: right;\">0</td><td style = \"text-align: right;\">0</td><td style = \"text-align: right;\">1</td><td style = \"text-align: right;\">0</td><td style = \"text-align: right;\">0</td></tr><tr><td class = \"rowNumber\" style = \"font-weight: bold; text-align: right;\">4</td><td style = \"text-align: right;\">4</td><td style = \"text-align: right;\">6</td><td style = \"text-align: right;\">2</td><td style = \"text-align: right;\">12</td><td style = \"text-align: right;\">3</td><td style = \"text-align: right;\">3</td><td style = \"text-align: right;\">3</td><td style = \"text-align: right;\">4</td><td style = \"text-align: right;\">2</td><td style = \"text-align: right;\">50</td><td style = \"text-align: right;\">3</td><td style = \"text-align: right;\">1</td><td style = \"text-align: right;\">1</td><td style = \"text-align: right;\">1</td><td style = \"text-align: right;\">1</td><td style = \"text-align: right;\">0</td><td style = \"text-align: right;\">1</td><td style = \"text-align: right;\">1</td><td style = \"text-align: right;\">0</td><td style = \"text-align: right;\">1</td><td style = \"text-align: right;\">0</td><td style = \"text-align: right;\">0</td><td style = \"text-align: right;\">0</td><td style = \"text-align: right;\">1</td><td style = \"text-align: right;\">0</td></tr><tr><td class = \"rowNumber\" style = \"font-weight: bold; text-align: right;\">5</td><td style = \"text-align: right;\">4</td><td style = \"text-align: right;\">24</td><td style = \"text-align: right;\">4</td><td style = \"text-align: right;\">25</td><td style = \"text-align: right;\">2</td><td style = \"text-align: right;\">4</td><td style = \"text-align: right;\">4</td><td style = \"text-align: right;\">3</td><td style = \"text-align: right;\">2</td><td style = \"text-align: right;\">27</td><td style = \"text-align: right;\">3</td><td style = \"text-align: right;\">2</td><td style = \"text-align: right;\">1</td><td style = \"text-align: right;\">2</td><td style = \"text-align: right;\">1</td><td style = \"text-align: right;\">1</td><td style = \"text-align: right;\">0</td><td style = \"text-align: right;\">1</td><td style = \"text-align: right;\">0</td><td style = \"text-align: right;\">0</td><td style = \"text-align: right;\">1</td><td style = \"text-align: right;\">0</td><td style = \"text-align: right;\">0</td><td style = \"text-align: right;\">1</td><td style = \"text-align: right;\">0</td></tr><tr><td class = \"rowNumber\" style = \"font-weight: bold; text-align: right;\">6</td><td style = \"text-align: right;\">4</td><td style = \"text-align: right;\">12</td><td style = \"text-align: right;\">2</td><td style = \"text-align: right;\">31</td><td style = \"text-align: right;\">1</td><td style = \"text-align: right;\">3</td><td style = \"text-align: right;\">3</td><td style = \"text-align: right;\">4</td><td style = \"text-align: right;\">3</td><td style = \"text-align: right;\">52</td><td style = \"text-align: right;\">3</td><td style = \"text-align: right;\">1</td><td style = \"text-align: right;\">1</td><td style = \"text-align: right;\">2</td><td style = \"text-align: right;\">1</td><td style = \"text-align: right;\">0</td><td style = \"text-align: right;\">0</td><td style = \"text-align: right;\">1</td><td style = \"text-align: right;\">0</td><td style = \"text-align: right;\">0</td><td style = \"text-align: right;\">1</td><td style = \"text-align: right;\">0</td><td style = \"text-align: right;\">0</td><td style = \"text-align: right;\">1</td><td style = \"text-align: right;\">0</td></tr><tr><td class = \"rowNumber\" style = \"font-weight: bold; text-align: right;\">7</td><td style = \"text-align: right;\">3</td><td style = \"text-align: right;\">15</td><td style = \"text-align: right;\">2</td><td style = \"text-align: right;\">19</td><td style = \"text-align: right;\">1</td><td style = \"text-align: right;\">5</td><td style = \"text-align: right;\">3</td><td style = \"text-align: right;\">4</td><td style = \"text-align: right;\">3</td><td style = \"text-align: right;\">40</td><td style = \"text-align: right;\">3</td><td style = \"text-align: right;\">1</td><td style = \"text-align: right;\">1</td><td style = \"text-align: right;\">2</td><td style = \"text-align: right;\">1</td><td style = \"text-align: right;\">0</td><td style = \"text-align: right;\">0</td><td style = \"text-align: right;\">1</td><td style = \"text-align: right;\">0</td><td style = \"text-align: right;\">1</td><td style = \"text-align: right;\">0</td><td style = \"text-align: right;\">0</td><td style = \"text-align: right;\">0</td><td style = \"text-align: right;\">0</td><td style = \"text-align: right;\">0</td></tr><tr><td class = \"rowNumber\" style = \"font-weight: bold; text-align: right;\">8</td><td style = \"text-align: right;\">2</td><td style = \"text-align: right;\">27</td><td style = \"text-align: right;\">0</td><td style = \"text-align: right;\">83</td><td style = \"text-align: right;\">1</td><td style = \"text-align: right;\">5</td><td style = \"text-align: right;\">2</td><td style = \"text-align: right;\">4</td><td style = \"text-align: right;\">4</td><td style = \"text-align: right;\">42</td><td style = \"text-align: right;\">3</td><td style = \"text-align: right;\">2</td><td style = \"text-align: right;\">1</td><td style = \"text-align: right;\">2</td><td style = \"text-align: right;\">1</td><td style = \"text-align: right;\">0</td><td style = \"text-align: right;\">0</td><td style = \"text-align: right;\">1</td><td style = \"text-align: right;\">0</td><td style = \"text-align: right;\">0</td><td style = \"text-align: right;\">0</td><td style = \"text-align: right;\">0</td><td style = \"text-align: right;\">0</td><td style = \"text-align: right;\">0</td><td style = \"text-align: right;\">1</td></tr><tr><td class = \"rowNumber\" style = \"font-weight: bold; text-align: right;\">9</td><td style = \"text-align: right;\">4</td><td style = \"text-align: right;\">12</td><td style = \"text-align: right;\">4</td><td style = \"text-align: right;\">16</td><td style = \"text-align: right;\">4</td><td style = \"text-align: right;\">4</td><td style = \"text-align: right;\">2</td><td style = \"text-align: right;\">2</td><td style = \"text-align: right;\">2</td><td style = \"text-align: right;\">35</td><td style = \"text-align: right;\">3</td><td style = \"text-align: right;\">1</td><td style = \"text-align: right;\">1</td><td style = \"text-align: right;\">1</td><td style = \"text-align: right;\">2</td><td style = \"text-align: right;\">0</td><td style = \"text-align: right;\">0</td><td style = \"text-align: right;\">1</td><td style = \"text-align: right;\">0</td><td style = \"text-align: right;\">0</td><td style = \"text-align: right;\">1</td><td style = \"text-align: right;\">0</td><td style = \"text-align: right;\">0</td><td style = \"text-align: right;\">1</td><td style = \"text-align: right;\">0</td></tr><tr><td class = \"rowNumber\" style = \"font-weight: bold; text-align: right;\">10</td><td style = \"text-align: right;\">4</td><td style = \"text-align: right;\">6</td><td style = \"text-align: right;\">0</td><td style = \"text-align: right;\">12</td><td style = \"text-align: right;\">2</td><td style = \"text-align: right;\">3</td><td style = \"text-align: right;\">3</td><td style = \"text-align: right;\">1</td><td style = \"text-align: right;\">4</td><td style = \"text-align: right;\">35</td><td style = \"text-align: right;\">1</td><td style = \"text-align: right;\">1</td><td style = \"text-align: right;\">1</td><td style = \"text-align: right;\">1</td><td style = \"text-align: right;\">2</td><td style = \"text-align: right;\">1</td><td style = \"text-align: right;\">0</td><td style = \"text-align: right;\">1</td><td style = \"text-align: right;\">0</td><td style = \"text-align: right;\">1</td><td style = \"text-align: right;\">0</td><td style = \"text-align: right;\">0</td><td style = \"text-align: right;\">0</td><td style = \"text-align: right;\">1</td><td style = \"text-align: right;\">0</td></tr><tr><td class = \"rowNumber\" style = \"font-weight: bold; text-align: right;\">11</td><td style = \"text-align: right;\">4</td><td style = \"text-align: right;\">18</td><td style = \"text-align: right;\">4</td><td style = \"text-align: right;\">28</td><td style = \"text-align: right;\">1</td><td style = \"text-align: right;\">4</td><td style = \"text-align: right;\">3</td><td style = \"text-align: right;\">2</td><td style = \"text-align: right;\">2</td><td style = \"text-align: right;\">31</td><td style = \"text-align: right;\">1</td><td style = \"text-align: right;\">2</td><td style = \"text-align: right;\">1</td><td style = \"text-align: right;\">1</td><td style = \"text-align: right;\">1</td><td style = \"text-align: right;\">1</td><td style = \"text-align: right;\">0</td><td style = \"text-align: right;\">1</td><td style = \"text-align: right;\">0</td><td style = \"text-align: right;\">0</td><td style = \"text-align: right;\">1</td><td style = \"text-align: right;\">0</td><td style = \"text-align: right;\">0</td><td style = \"text-align: right;\">1</td><td style = \"text-align: right;\">1</td></tr><tr><td class = \"rowNumber\" style = \"font-weight: bold; text-align: right;\">12</td><td style = \"text-align: right;\">4</td><td style = \"text-align: right;\">24</td><td style = \"text-align: right;\">2</td><td style = \"text-align: right;\">13</td><td style = \"text-align: right;\">2</td><td style = \"text-align: right;\">4</td><td style = \"text-align: right;\">4</td><td style = \"text-align: right;\">3</td><td style = \"text-align: right;\">2</td><td style = \"text-align: right;\">26</td><td style = \"text-align: right;\">3</td><td style = \"text-align: right;\">1</td><td style = \"text-align: right;\">1</td><td style = \"text-align: right;\">2</td><td style = \"text-align: right;\">1</td><td style = \"text-align: right;\">0</td><td style = \"text-align: right;\">0</td><td style = \"text-align: right;\">1</td><td style = \"text-align: right;\">0</td><td style = \"text-align: right;\">0</td><td style = \"text-align: right;\">1</td><td style = \"text-align: right;\">0</td><td style = \"text-align: right;\">0</td><td style = \"text-align: right;\">1</td><td style = \"text-align: right;\">0</td></tr><tr><td class = \"rowNumber\" style = \"font-weight: bold; text-align: right;\">13</td><td style = \"text-align: right;\">4</td><td style = \"text-align: right;\">36</td><td style = \"text-align: right;\">2</td><td style = \"text-align: right;\">23</td><td style = \"text-align: right;\">3</td><td style = \"text-align: right;\">5</td><td style = \"text-align: right;\">3</td><td style = \"text-align: right;\">4</td><td style = \"text-align: right;\">3</td><td style = \"text-align: right;\">39</td><td style = \"text-align: right;\">3</td><td style = \"text-align: right;\">1</td><td style = \"text-align: right;\">1</td><td style = \"text-align: right;\">1</td><td style = \"text-align: right;\">1</td><td style = \"text-align: right;\">0</td><td style = \"text-align: right;\">0</td><td style = \"text-align: right;\">1</td><td style = \"text-align: right;\">0</td><td style = \"text-align: right;\">0</td><td style = \"text-align: right;\">1</td><td style = \"text-align: right;\">0</td><td style = \"text-align: right;\">0</td><td style = \"text-align: right;\">1</td><td style = \"text-align: right;\">0</td></tr><tr><td style = \"text-align: right;\">&vellip;</td><td style = \"text-align: right;\">&vellip;</td><td style = \"text-align: right;\">&vellip;</td><td style = \"text-align: right;\">&vellip;</td><td style = \"text-align: right;\">&vellip;</td><td style = \"text-align: right;\">&vellip;</td><td style = \"text-align: right;\">&vellip;</td><td style = \"text-align: right;\">&vellip;</td><td style = \"text-align: right;\">&vellip;</td><td style = \"text-align: right;\">&vellip;</td><td style = \"text-align: right;\">&vellip;</td><td style = \"text-align: right;\">&vellip;</td><td style = \"text-align: right;\">&vellip;</td><td style = \"text-align: right;\">&vellip;</td><td style = \"text-align: right;\">&vellip;</td><td style = \"text-align: right;\">&vellip;</td><td style = \"text-align: right;\">&vellip;</td><td style = \"text-align: right;\">&vellip;</td><td style = \"text-align: right;\">&vellip;</td><td style = \"text-align: right;\">&vellip;</td><td style = \"text-align: right;\">&vellip;</td><td style = \"text-align: right;\">&vellip;</td><td style = \"text-align: right;\">&vellip;</td><td style = \"text-align: right;\">&vellip;</td><td style = \"text-align: right;\">&vellip;</td><td style = \"text-align: right;\">&vellip;</td></tr><tr><td class = \"rowNumber\" style = \"font-weight: bold; text-align: right;\">139</td><td style = \"text-align: right;\">4</td><td style = \"text-align: right;\">9</td><td style = \"text-align: right;\">2</td><td style = \"text-align: right;\">12</td><td style = \"text-align: right;\">1</td><td style = \"text-align: right;\">2</td><td style = \"text-align: right;\">2</td><td style = \"text-align: right;\">4</td><td style = \"text-align: right;\">1</td><td style = \"text-align: right;\">23</td><td style = \"text-align: right;\">3</td><td style = \"text-align: right;\">1</td><td style = \"text-align: right;\">1</td><td style = \"text-align: right;\">2</td><td style = \"text-align: right;\">1</td><td style = \"text-align: right;\">0</td><td style = \"text-align: right;\">0</td><td style = \"text-align: right;\">1</td><td style = \"text-align: right;\">0</td><td style = \"text-align: right;\">1</td><td style = \"text-align: right;\">0</td><td style = \"text-align: right;\">0</td><td style = \"text-align: right;\">0</td><td style = \"text-align: right;\">1</td><td style = \"text-align: right;\">0</td></tr><tr><td class = \"rowNumber\" style = \"font-weight: bold; text-align: right;\">140</td><td style = \"text-align: right;\">2</td><td style = \"text-align: right;\">8</td><td style = \"text-align: right;\">2</td><td style = \"text-align: right;\">12</td><td style = \"text-align: right;\">1</td><td style = \"text-align: right;\">3</td><td style = \"text-align: right;\">2</td><td style = \"text-align: right;\">4</td><td style = \"text-align: right;\">1</td><td style = \"text-align: right;\">24</td><td style = \"text-align: right;\">3</td><td style = \"text-align: right;\">1</td><td style = \"text-align: right;\">1</td><td style = \"text-align: right;\">1</td><td style = \"text-align: right;\">1</td><td style = \"text-align: right;\">0</td><td style = \"text-align: right;\">0</td><td style = \"text-align: right;\">1</td><td style = \"text-align: right;\">0</td><td style = \"text-align: right;\">0</td><td style = \"text-align: right;\">1</td><td style = \"text-align: right;\">0</td><td style = \"text-align: right;\">0</td><td style = \"text-align: right;\">1</td><td style = \"text-align: right;\">1</td></tr><tr><td class = \"rowNumber\" style = \"font-weight: bold; text-align: right;\">141</td><td style = \"text-align: right;\">3</td><td style = \"text-align: right;\">6</td><td style = \"text-align: right;\">4</td><td style = \"text-align: right;\">13</td><td style = \"text-align: right;\">1</td><td style = \"text-align: right;\">5</td><td style = \"text-align: right;\">3</td><td style = \"text-align: right;\">4</td><td style = \"text-align: right;\">1</td><td style = \"text-align: right;\">46</td><td style = \"text-align: right;\">3</td><td style = \"text-align: right;\">2</td><td style = \"text-align: right;\">2</td><td style = \"text-align: right;\">1</td><td style = \"text-align: right;\">2</td><td style = \"text-align: right;\">1</td><td style = \"text-align: right;\">0</td><td style = \"text-align: right;\">1</td><td style = \"text-align: right;\">0</td><td style = \"text-align: right;\">0</td><td style = \"text-align: right;\">1</td><td style = \"text-align: right;\">0</td><td style = \"text-align: right;\">0</td><td style = \"text-align: right;\">1</td><td style = \"text-align: right;\">0</td></tr><tr><td class = \"rowNumber\" style = \"font-weight: bold; text-align: right;\">142</td><td style = \"text-align: right;\">4</td><td style = \"text-align: right;\">36</td><td style = \"text-align: right;\">2</td><td style = \"text-align: right;\">18</td><td style = \"text-align: right;\">1</td><td style = \"text-align: right;\">3</td><td style = \"text-align: right;\">3</td><td style = \"text-align: right;\">4</td><td style = \"text-align: right;\">4</td><td style = \"text-align: right;\">37</td><td style = \"text-align: right;\">2</td><td style = \"text-align: right;\">1</td><td style = \"text-align: right;\">1</td><td style = \"text-align: right;\">2</td><td style = \"text-align: right;\">1</td><td style = \"text-align: right;\">0</td><td style = \"text-align: right;\">0</td><td style = \"text-align: right;\">1</td><td style = \"text-align: right;\">0</td><td style = \"text-align: right;\">0</td><td style = \"text-align: right;\">0</td><td style = \"text-align: right;\">0</td><td style = \"text-align: right;\">0</td><td style = \"text-align: right;\">1</td><td style = \"text-align: right;\">1</td></tr><tr><td class = \"rowNumber\" style = \"font-weight: bold; text-align: right;\">143</td><td style = \"text-align: right;\">2</td><td style = \"text-align: right;\">54</td><td style = \"text-align: right;\">0</td><td style = \"text-align: right;\">159</td><td style = \"text-align: right;\">1</td><td style = \"text-align: right;\">2</td><td style = \"text-align: right;\">3</td><td style = \"text-align: right;\">4</td><td style = \"text-align: right;\">4</td><td style = \"text-align: right;\">58</td><td style = \"text-align: right;\">3</td><td style = \"text-align: right;\">1</td><td style = \"text-align: right;\">1</td><td style = \"text-align: right;\">2</td><td style = \"text-align: right;\">1</td><td style = \"text-align: right;\">0</td><td style = \"text-align: right;\">0</td><td style = \"text-align: right;\">1</td><td style = \"text-align: right;\">0</td><td style = \"text-align: right;\">1</td><td style = \"text-align: right;\">0</td><td style = \"text-align: right;\">0</td><td style = \"text-align: right;\">0</td><td style = \"text-align: right;\">1</td><td style = \"text-align: right;\">1</td></tr><tr><td class = \"rowNumber\" style = \"font-weight: bold; text-align: right;\">144</td><td style = \"text-align: right;\">1</td><td style = \"text-align: right;\">18</td><td style = \"text-align: right;\">2</td><td style = \"text-align: right;\">36</td><td style = \"text-align: right;\">1</td><td style = \"text-align: right;\">2</td><td style = \"text-align: right;\">2</td><td style = \"text-align: right;\">4</td><td style = \"text-align: right;\">3</td><td style = \"text-align: right;\">22</td><td style = \"text-align: right;\">3</td><td style = \"text-align: right;\">1</td><td style = \"text-align: right;\">1</td><td style = \"text-align: right;\">1</td><td style = \"text-align: right;\">1</td><td style = \"text-align: right;\">0</td><td style = \"text-align: right;\">0</td><td style = \"text-align: right;\">1</td><td style = \"text-align: right;\">0</td><td style = \"text-align: right;\">1</td><td style = \"text-align: right;\">0</td><td style = \"text-align: right;\">0</td><td style = \"text-align: right;\">0</td><td style = \"text-align: right;\">1</td><td style = \"text-align: right;\">0</td></tr><tr><td class = \"rowNumber\" style = \"font-weight: bold; text-align: right;\">145</td><td style = \"text-align: right;\">2</td><td style = \"text-align: right;\">30</td><td style = \"text-align: right;\">0</td><td style = \"text-align: right;\">42</td><td style = \"text-align: right;\">1</td><td style = \"text-align: right;\">3</td><td style = \"text-align: right;\">2</td><td style = \"text-align: right;\">1</td><td style = \"text-align: right;\">3</td><td style = \"text-align: right;\">28</td><td style = \"text-align: right;\">3</td><td style = \"text-align: right;\">2</td><td style = \"text-align: right;\">1</td><td style = \"text-align: right;\">1</td><td style = \"text-align: right;\">1</td><td style = \"text-align: right;\">0</td><td style = \"text-align: right;\">0</td><td style = \"text-align: right;\">1</td><td style = \"text-align: right;\">0</td><td style = \"text-align: right;\">0</td><td style = \"text-align: right;\">1</td><td style = \"text-align: right;\">0</td><td style = \"text-align: right;\">0</td><td style = \"text-align: right;\">1</td><td style = \"text-align: right;\">0</td></tr><tr><td class = \"rowNumber\" style = \"font-weight: bold; text-align: right;\">146</td><td style = \"text-align: right;\">4</td><td style = \"text-align: right;\">24</td><td style = \"text-align: right;\">3</td><td style = \"text-align: right;\">42</td><td style = \"text-align: right;\">2</td><td style = \"text-align: right;\">3</td><td style = \"text-align: right;\">3</td><td style = \"text-align: right;\">3</td><td style = \"text-align: right;\">2</td><td style = \"text-align: right;\">35</td><td style = \"text-align: right;\">3</td><td style = \"text-align: right;\">2</td><td style = \"text-align: right;\">1</td><td style = \"text-align: right;\">1</td><td style = \"text-align: right;\">1</td><td style = \"text-align: right;\">0</td><td style = \"text-align: right;\">0</td><td style = \"text-align: right;\">1</td><td style = \"text-align: right;\">0</td><td style = \"text-align: right;\">0</td><td style = \"text-align: right;\">1</td><td style = \"text-align: right;\">0</td><td style = \"text-align: right;\">0</td><td style = \"text-align: right;\">1</td><td style = \"text-align: right;\">0</td></tr><tr><td class = \"rowNumber\" style = \"font-weight: bold; text-align: right;\">147</td><td style = \"text-align: right;\">2</td><td style = \"text-align: right;\">18</td><td style = \"text-align: right;\">0</td><td style = \"text-align: right;\">23</td><td style = \"text-align: right;\">2</td><td style = \"text-align: right;\">2</td><td style = \"text-align: right;\">2</td><td style = \"text-align: right;\">3</td><td style = \"text-align: right;\">3</td><td style = \"text-align: right;\">28</td><td style = \"text-align: right;\">3</td><td style = \"text-align: right;\">2</td><td style = \"text-align: right;\">1</td><td style = \"text-align: right;\">1</td><td style = \"text-align: right;\">1</td><td style = \"text-align: right;\">1</td><td style = \"text-align: right;\">0</td><td style = \"text-align: right;\">1</td><td style = \"text-align: right;\">0</td><td style = \"text-align: right;\">0</td><td style = \"text-align: right;\">1</td><td style = \"text-align: right;\">0</td><td style = \"text-align: right;\">0</td><td style = \"text-align: right;\">1</td><td style = \"text-align: right;\">1</td></tr><tr><td class = \"rowNumber\" style = \"font-weight: bold; text-align: right;\">148</td><td style = \"text-align: right;\">1</td><td style = \"text-align: right;\">18</td><td style = \"text-align: right;\">2</td><td style = \"text-align: right;\">44</td><td style = \"text-align: right;\">2</td><td style = \"text-align: right;\">3</td><td style = \"text-align: right;\">3</td><td style = \"text-align: right;\">4</td><td style = \"text-align: right;\">3</td><td style = \"text-align: right;\">35</td><td style = \"text-align: right;\">3</td><td style = \"text-align: right;\">1</td><td style = \"text-align: right;\">2</td><td style = \"text-align: right;\">2</td><td style = \"text-align: right;\">1</td><td style = \"text-align: right;\">1</td><td style = \"text-align: right;\">0</td><td style = \"text-align: right;\">1</td><td style = \"text-align: right;\">0</td><td style = \"text-align: right;\">0</td><td style = \"text-align: right;\">1</td><td style = \"text-align: right;\">0</td><td style = \"text-align: right;\">1</td><td style = \"text-align: right;\">0</td><td style = \"text-align: right;\">0</td></tr><tr><td class = \"rowNumber\" style = \"font-weight: bold; text-align: right;\">149</td><td style = \"text-align: right;\">1</td><td style = \"text-align: right;\">24</td><td style = \"text-align: right;\">3</td><td style = \"text-align: right;\">17</td><td style = \"text-align: right;\">1</td><td style = \"text-align: right;\">2</td><td style = \"text-align: right;\">2</td><td style = \"text-align: right;\">2</td><td style = \"text-align: right;\">3</td><td style = \"text-align: right;\">29</td><td style = \"text-align: right;\">3</td><td style = \"text-align: right;\">1</td><td style = \"text-align: right;\">1</td><td style = \"text-align: right;\">2</td><td style = \"text-align: right;\">1</td><td style = \"text-align: right;\">0</td><td style = \"text-align: right;\">0</td><td style = \"text-align: right;\">1</td><td style = \"text-align: right;\">0</td><td style = \"text-align: right;\">1</td><td style = \"text-align: right;\">0</td><td style = \"text-align: right;\">0</td><td style = \"text-align: right;\">1</td><td style = \"text-align: right;\">0</td><td style = \"text-align: right;\">1</td></tr><tr><td class = \"rowNumber\" style = \"font-weight: bold; text-align: right;\">150</td><td style = \"text-align: right;\">4</td><td style = \"text-align: right;\">48</td><td style = \"text-align: right;\">3</td><td style = \"text-align: right;\">72</td><td style = \"text-align: right;\">5</td><td style = \"text-align: right;\">5</td><td style = \"text-align: right;\">3</td><td style = \"text-align: right;\">3</td><td style = \"text-align: right;\">3</td><td style = \"text-align: right;\">32</td><td style = \"text-align: right;\">1</td><td style = \"text-align: right;\">2</td><td style = \"text-align: right;\">2</td><td style = \"text-align: right;\">1</td><td style = \"text-align: right;\">1</td><td style = \"text-align: right;\">0</td><td style = \"text-align: right;\">0</td><td style = \"text-align: right;\">1</td><td style = \"text-align: right;\">0</td><td style = \"text-align: right;\">0</td><td style = \"text-align: right;\">1</td><td style = \"text-align: right;\">0</td><td style = \"text-align: right;\">0</td><td style = \"text-align: right;\">1</td><td style = \"text-align: right;\">0</td></tr></tbody></table></div>"
      ],
      "text/latex": [
       "\\begin{tabular}{r|cccccccccc}\n",
       "\t& Column1 & Column2 & Column3 & Column4 & Column5 & Column6 & Column7 & Column8 & Column9 & \\\\\n",
       "\t\\hline\n",
       "\t& Int64 & Int64 & Int64 & Int64 & Int64 & Int64 & Int64 & Int64 & Int64 & \\\\\n",
       "\t\\hline\n",
       "\t1 & 4 & 15 & 4 & 34 & 4 & 5 & 3 & 4 & 4 & $\\dots$ \\\\\n",
       "\t2 & 1 & 48 & 2 & 39 & 1 & 4 & 3 & 4 & 4 & $\\dots$ \\\\\n",
       "\t3 & 2 & 9 & 2 & 3 & 1 & 3 & 4 & 4 & 1 & $\\dots$ \\\\\n",
       "\t4 & 4 & 6 & 2 & 12 & 3 & 3 & 3 & 4 & 2 & $\\dots$ \\\\\n",
       "\t5 & 4 & 24 & 4 & 25 & 2 & 4 & 4 & 3 & 2 & $\\dots$ \\\\\n",
       "\t6 & 4 & 12 & 2 & 31 & 1 & 3 & 3 & 4 & 3 & $\\dots$ \\\\\n",
       "\t7 & 3 & 15 & 2 & 19 & 1 & 5 & 3 & 4 & 3 & $\\dots$ \\\\\n",
       "\t8 & 2 & 27 & 0 & 83 & 1 & 5 & 2 & 4 & 4 & $\\dots$ \\\\\n",
       "\t9 & 4 & 12 & 4 & 16 & 4 & 4 & 2 & 2 & 2 & $\\dots$ \\\\\n",
       "\t10 & 4 & 6 & 0 & 12 & 2 & 3 & 3 & 1 & 4 & $\\dots$ \\\\\n",
       "\t11 & 4 & 18 & 4 & 28 & 1 & 4 & 3 & 2 & 2 & $\\dots$ \\\\\n",
       "\t12 & 4 & 24 & 2 & 13 & 2 & 4 & 4 & 3 & 2 & $\\dots$ \\\\\n",
       "\t13 & 4 & 36 & 2 & 23 & 3 & 5 & 3 & 4 & 3 & $\\dots$ \\\\\n",
       "\t14 & 4 & 24 & 4 & 26 & 1 & 5 & 4 & 3 & 1 & $\\dots$ \\\\\n",
       "\t15 & 2 & 36 & 2 & 143 & 1 & 5 & 3 & 2 & 4 & $\\dots$ \\\\\n",
       "\t16 & 4 & 15 & 2 & 32 & 4 & 4 & 2 & 3 & 3 & $\\dots$ \\\\\n",
       "\t17 & 4 & 28 & 4 & 27 & 1 & 5 & 3 & 2 & 3 & $\\dots$ \\\\\n",
       "\t18 & 4 & 24 & 2 & 23 & 5 & 2 & 3 & 1 & 2 & $\\dots$ \\\\\n",
       "\t19 & 2 & 18 & 2 & 63 & 1 & 4 & 3 & 3 & 1 & $\\dots$ \\\\\n",
       "\t20 & 2 & 12 & 2 & 11 & 1 & 4 & 3 & 3 & 1 & $\\dots$ \\\\\n",
       "\t21 & 1 & 9 & 4 & 28 & 1 & 3 & 3 & 2 & 1 & $\\dots$ \\\\\n",
       "\t22 & 4 & 24 & 2 & 13 & 1 & 5 & 3 & 1 & 1 & $\\dots$ \\\\\n",
       "\t23 & 4 & 24 & 2 & 26 & 4 & 3 & 2 & 4 & 3 & $\\dots$ \\\\\n",
       "\t24 & 4 & 12 & 4 & 15 & 1 & 5 & 3 & 1 & 1 & $\\dots$ \\\\\n",
       "\t25 & 1 & 12 & 4 & 4 & 1 & 4 & 2 & 3 & 1 & $\\dots$ \\\\\n",
       "\t26 & 4 & 18 & 4 & 18 & 1 & 3 & 2 & 2 & 4 & $\\dots$ \\\\\n",
       "\t27 & 4 & 12 & 4 & 58 & 5 & 5 & 3 & 4 & 2 & $\\dots$ \\\\\n",
       "\t28 & 1 & 24 & 2 & 31 & 1 & 2 & 3 & 1 & 4 & $\\dots$ \\\\\n",
       "\t29 & 4 & 18 & 2 & 16 & 2 & 3 & 2 & 4 & 2 & $\\dots$ \\\\\n",
       "\t30 & 2 & 12 & 2 & 13 & 1 & 2 & 3 & 1 & 3 & $\\dots$ \\\\\n",
       "\t$\\dots$ & $\\dots$ & $\\dots$ & $\\dots$ & $\\dots$ & $\\dots$ & $\\dots$ & $\\dots$ & $\\dots$ & $\\dots$ &  \\\\\n",
       "\\end{tabular}\n"
      ],
      "text/plain": [
       "\u001b[1m150×25 DataFrame\u001b[0m\n",
       "\u001b[1m Row \u001b[0m│\u001b[1m Column1 \u001b[0m\u001b[1m Column2 \u001b[0m\u001b[1m Column3 \u001b[0m\u001b[1m Column4 \u001b[0m\u001b[1m Column5 \u001b[0m\u001b[1m Column6 \u001b[0m\u001b[1m Column7 \u001b[0m\u001b[1m Column8 \u001b[0m\u001b[1m\u001b[0m ⋯\n",
       "     │\u001b[90m Int64   \u001b[0m\u001b[90m Int64   \u001b[0m\u001b[90m Int64   \u001b[0m\u001b[90m Int64   \u001b[0m\u001b[90m Int64   \u001b[0m\u001b[90m Int64   \u001b[0m\u001b[90m Int64   \u001b[0m\u001b[90m Int64   \u001b[0m\u001b[90m\u001b[0m ⋯\n",
       "─────┼──────────────────────────────────────────────────────────────────────────\n",
       "   1 │       4       15        4       34        4        5        3        4  ⋯\n",
       "   2 │       1       48        2       39        1        4        3        4\n",
       "   3 │       2        9        2        3        1        3        4        4\n",
       "   4 │       4        6        2       12        3        3        3        4\n",
       "   5 │       4       24        4       25        2        4        4        3  ⋯\n",
       "   6 │       4       12        2       31        1        3        3        4\n",
       "   7 │       3       15        2       19        1        5        3        4\n",
       "   8 │       2       27        0       83        1        5        2        4\n",
       "   9 │       4       12        4       16        4        4        2        2  ⋯\n",
       "  10 │       4        6        0       12        2        3        3        1\n",
       "  11 │       4       18        4       28        1        4        3        2\n",
       "  ⋮  │    ⋮        ⋮        ⋮        ⋮        ⋮        ⋮        ⋮        ⋮     ⋱\n",
       " 141 │       3        6        4       13        1        5        3        4\n",
       " 142 │       4       36        2       18        1        3        3        4  ⋯\n",
       " 143 │       2       54        0      159        1        2        3        4\n",
       " 144 │       1       18        2       36        1        2        2        4\n",
       " 145 │       2       30        0       42        1        3        2        1\n",
       " 146 │       4       24        3       42        2        3        3        3  ⋯\n",
       " 147 │       2       18        0       23        2        2        2        3\n",
       " 148 │       1       18        2       44        2        3        3        4\n",
       " 149 │       1       24        3       17        1        2        2        2\n",
       " 150 │       4       48        3       72        5        5        3        3  ⋯\n",
       "\u001b[36m                                                 17 columns and 129 rows omitted\u001b[0m"
      ]
     },
     "execution_count": 6,
     "metadata": {},
     "output_type": "execute_result"
    }
   ],
   "source": [
    "train_dataset = german[train,:]\n",
    "test_dataset = german[test,:]"
   ]
  },
  {
   "cell_type": "markdown",
   "metadata": {},
   "source": [
    "**(2p)** Train logistic regression with `glm` function from `GLM` package. The target variable is `target`, all other features in the dataset are predictors. How many coefficients the model has? What is the value of intercept?"
   ]
  },
  {
   "cell_type": "code",
   "execution_count": 7,
   "metadata": {},
   "outputs": [
    {
     "data": {
      "text/plain": [
       "StatsModels.TableRegressionModel{GeneralizedLinearModel{GLM.GlmResp{Vector{Float64}, Binomial{Float64}, LogitLink}, GLM.DensePredChol{Float64, LinearAlgebra.CholeskyPivoted{Float64, Matrix{Float64}, Vector{Int64}}}}, Matrix{Float64}}\n",
       "\n",
       "target ~ 1 + Column1 + Column2 + Column3 + Column4 + Column5 + Column6 + Column7 + Column8 + Column9 + Column10 + Column11 + Column12 + Column13 + Column14 + Column15 + Column16 + Column17 + Column18 + Column19 + Column20 + Column21 + Column22 + Column23 + Column24\n",
       "\n",
       "Coefficients:\n",
       "────────────────────────────────────────────────────────────────────────────────\n",
       "                   Coef.  Std. Error      z  Pr(>|z|)    Lower 95%     Upper 95%\n",
       "────────────────────────────────────────────────────────────────────────────────\n",
       "(Intercept)   2.36296     1.23894      1.91    0.0565  -0.0653236    4.79123\n",
       "Column1      -0.565941    0.077752    -7.28    <1e-12  -0.718332    -0.413549\n",
       "Column2       0.0301256   0.00923385   3.26    0.0011   0.0120276    0.0482236\n",
       "Column3      -0.37957     0.0946006   -4.01    <1e-04  -0.564984    -0.194156\n",
       "Column4       0.00449824  0.00407311   1.10    0.2694  -0.00348492   0.0124814\n",
       "Column5      -0.230275    0.0637735   -3.61    0.0003  -0.355268    -0.105281\n",
       "Column6      -0.161405    0.0820235   -1.97    0.0491  -0.322168    -0.000642028\n",
       "Column7      -0.186731    0.124141    -1.50    0.1325  -0.430043     0.05658\n",
       "Column8      -0.0313843   0.0895557   -0.35    0.7260  -0.20691      0.144142\n",
       "Column9       0.224229    0.108314     2.07    0.0384   0.0119372    0.43652\n",
       "Column10     -0.00587977  0.00910302  -0.65    0.5183  -0.0237214    0.0119618\n",
       "Column11     -0.275053    0.118698    -2.32    0.0205  -0.507697    -0.0424091\n",
       "Column12      0.214958    0.177412     1.21    0.2257  -0.132763     0.562679\n",
       "Column13      0.0846807   0.255855     0.33    0.7407  -0.416786     0.586147\n",
       "Column14     -0.249403    0.209545    -1.19    0.2340  -0.660104     0.161298\n",
       "Column15     -1.1897      0.617974    -1.93    0.0542  -2.40091      0.0215064\n",
       "Column16      0.748824    0.2083       3.59    0.0003   0.340562     1.15708\n",
       "Column17     -1.00981     0.380687    -2.65    0.0080  -1.75594     -0.263674\n",
       "Column18      1.15865     0.457554     2.53    0.0113   0.261858     2.05544\n",
       "Column19      1.29517     0.597511     2.17    0.0302   0.124066     2.46627\n",
       "Column20      0.590001    0.393928     1.50    0.1342  -0.182083     1.36208\n",
       "Column21     -0.0143808   0.34691     -0.04    0.9669  -0.694312     0.66555\n",
       "Column22     -0.517423    0.612315    -0.85    0.3981  -1.71754      0.682692\n",
       "Column23      0.0957998   0.345051     0.28    0.7813  -0.580488     0.772088\n",
       "Column24      0.0335934   0.279561     0.12    0.9044  -0.514337     0.581524\n",
       "────────────────────────────────────────────────────────────────────────────────"
      ]
     },
     "execution_count": 7,
     "metadata": {},
     "output_type": "execute_result"
    }
   ],
   "source": [
    "model_log_reg_fit = glm(Term(:target) ~ sum(Term.(Symbol.(names(german[:, Not(:target)])))),\n",
    "                        train_dataset, Binomial())"
   ]
  },
  {
   "cell_type": "code",
   "execution_count": 8,
   "metadata": {},
   "outputs": [
    {
     "data": {
      "text/plain": [
       "25-element Vector{Float64}:\n",
       "  2.362955080286943\n",
       " -0.5659405872684959\n",
       "  0.030125574045328358\n",
       " -0.379570025726549\n",
       "  0.004498236065763254\n",
       " -0.2302745658708451\n",
       " -0.16140510086080068\n",
       " -0.18673144765948604\n",
       " -0.0313842720229124\n",
       "  0.2242288179434461\n",
       " -0.005879765780930863\n",
       " -0.2750528755941341\n",
       "  0.2149576678384885\n",
       "  0.08468073398603972\n",
       " -0.24940262789083753\n",
       " -1.1897009383739403\n",
       "  0.7488235037527048\n",
       " -1.0098070942406394\n",
       "  1.1586474377317082\n",
       "  1.2951660320535832\n",
       "  0.590000520705178\n",
       " -0.014380806675230624\n",
       " -0.5174228823596695\n",
       "  0.09579979489998833\n",
       "  0.03359340656051505"
      ]
     },
     "execution_count": 8,
     "metadata": {},
     "output_type": "execute_result"
    }
   ],
   "source": [
    "coef(model_log_reg_fit)"
   ]
  },
  {
   "cell_type": "markdown",
   "metadata": {},
   "source": [
    "the value of intercept is:-2.362955080286941"
   ]
  },
  {
   "cell_type": "markdown",
   "metadata": {},
   "source": [
    "**(2p)** Calculate score on the training dataset and validation dataset."
   ]
  },
  {
   "cell_type": "code",
   "execution_count": 9,
   "metadata": {},
   "outputs": [
    {
     "data": {
      "text/plain": [
       "850-element Vector{Float64}:\n",
       " 0.2806249932444231\n",
       " 0.2731315876008826\n",
       " 0.03716350300785614\n",
       " 0.17241111895609743\n",
       " 0.40282360455332294\n",
       " 0.5745824196186617\n",
       " 0.3171447261922137\n",
       " 0.12778515557475903\n",
       " 0.5412555840427845\n",
       " 0.9096840383341909\n",
       " 0.16013066650591687\n",
       " 0.45489314864251074\n",
       " 0.43474711959570783\n",
       " ⋮\n",
       " 0.7517058940999657\n",
       " 0.09236919133306883\n",
       " 0.19074630837886747\n",
       " 0.024692193348197236\n",
       " 0.5836094965361017\n",
       " 0.13723026408642877\n",
       " 0.046559332890443055\n",
       " 0.053342062495574265\n",
       " 0.07127094788053516\n",
       " 0.2836347474230972\n",
       " 0.3178481702607983\n",
       " 0.15443254727733086"
      ]
     },
     "execution_count": 9,
     "metadata": {},
     "output_type": "execute_result"
    }
   ],
   "source": [
    "train_pred = GLM.predict(model_log_reg_fit)\n"
   ]
  },
  {
   "cell_type": "code",
   "execution_count": 10,
   "metadata": {},
   "outputs": [
    {
     "data": {
      "text/plain": [
       "150-element Vector{Union{Missing, Float64}}:\n",
       " 0.024290661541047292\n",
       " 0.8563468942116286\n",
       " 0.4733072562364626\n",
       " 0.0347668393865752\n",
       " 0.09000719470108566\n",
       " 0.09722511510787026\n",
       " 0.212893625047151\n",
       " 0.6662030745286509\n",
       " 0.008815775122470726\n",
       " 0.3579095958474257\n",
       " 0.22158971205424108\n",
       " 0.07133988305859691\n",
       " 0.11931467801759126\n",
       " ⋮\n",
       " 0.15062417602038639\n",
       " 0.24044855685082103\n",
       " 0.03518926232279556\n",
       " 0.27646824530947367\n",
       " 0.9211708043058038\n",
       " 0.7409545391970773\n",
       " 0.7578039029036608\n",
       " 0.11346466672514001\n",
       " 0.787661888616536\n",
       " 0.6163301101223326\n",
       " 0.6459002848790533\n",
       " 0.20835858981853128"
      ]
     },
     "execution_count": 10,
     "metadata": {},
     "output_type": "execute_result"
    }
   ],
   "source": [
    "test_pred = GLM.predict(model_log_reg_fit, test_dataset)"
   ]
  },
  {
   "cell_type": "markdown",
   "metadata": {},
   "source": [
    "**(2p)** Use a cutoff threshold of **0.6** for both scores vectors to create prediction vectors. How many positive predictions are present in each prediction vector?"
   ]
  },
  {
   "cell_type": "code",
   "execution_count": 11,
   "metadata": {},
   "outputs": [
    {
     "data": {
      "text/plain": [
       "2×2 Named Matrix{Int64}\n",
       "Dim1 ╲ Dim2 │   0    1\n",
       "────────────┼─────────\n",
       "false       │ 562  151\n",
       "true        │  34  103"
      ]
     },
     "execution_count": 11,
     "metadata": {},
     "output_type": "execute_result"
    }
   ],
   "source": [
    "conf_mat_train = freqtable(train_pred .> 0.6, train_dataset.target)\n"
   ]
  },
  {
   "cell_type": "code",
   "execution_count": 12,
   "metadata": {},
   "outputs": [
    {
     "data": {
      "text/plain": [
       "2×2 Named Matrix{Int64}\n",
       "Dim1 ╲ Dim2 │  0   1\n",
       "────────────┼───────\n",
       "false       │ 97  34\n",
       "true        │  7  12"
      ]
     },
     "execution_count": 12,
     "metadata": {},
     "output_type": "execute_result"
    }
   ],
   "source": [
    "conf_mat_test = freqtable(test_pred .> 0.6, test_dataset.target)"
   ]
  },
  {
   "cell_type": "markdown",
   "metadata": {},
   "source": [
    "**(4p)** Plot ROC curves for the created logistic regression model. The plot should contain two curves:\n",
    "1) ROC curve based on the training data\n",
    "\n",
    "2) ROC curve based on the validation data\n",
    "\n",
    "Calculate and print Area Under the Curve (AUC) value for both curves. \n",
    "\n",
    "Comment on the predictive power of the model based on ROC chart and AUC values."
   ]
  },
  {
   "cell_type": "code",
   "execution_count": 13,
   "metadata": {},
   "outputs": [
    {
     "data": {
      "text/plain": [
       "quality_report (generic function with 1 method)"
      ]
     },
     "execution_count": 13,
     "metadata": {},
     "output_type": "execute_result"
    }
   ],
   "source": [
    "function quality_report(mat::AbstractMatrix)\n",
    "    acc = (mat[1,1] + mat[2,2]) / sum(mat)\n",
    "    prec = mat[2,2] / sum(mat[2,:])\n",
    "    rec = mat[2,2] / sum(mat[:,2])\n",
    "    f1 = 2 * prec * rec / (prec + rec)\n",
    "    println(\"----Classification quality report----\")\n",
    "    println(\"Accuracy: \", round(acc*100,digits=2), \"%\")\n",
    "    println(\"Precision: \", round(prec*100,digits=2), \"%\")\n",
    "    println(\"Recall: \", round(rec*100,digits=2), \"%\")\n",
    "    println(\"F1-score: \", round(f1*100,digits=2), \"%\")\n",
    "end"
   ]
  },
  {
   "cell_type": "code",
   "execution_count": 14,
   "metadata": {},
   "outputs": [
    {
     "name": "stdout",
     "output_type": "stream",
     "text": [
      "Train set\n",
      "----Classification quality report----\n",
      "Accuracy: 78.24%\n",
      "Precision: 75.18%\n",
      "Recall: 40.55%\n",
      "F1-score: 52.69%\n",
      "\n",
      "Test set\n",
      "----Classification quality report----\n",
      "Accuracy: 72.67%\n",
      "Precision: 63.16%\n",
      "Recall: 26.09%\n",
      "F1-score: 36.92%\n"
     ]
    }
   ],
   "source": [
    "println(\"Train set\")\n",
    "quality_report(conf_mat_train)\n",
    "println(\"\\nTest set\")\n",
    "quality_report(conf_mat_test)\n"
   ]
  },
  {
   "cell_type": "code",
   "execution_count": 15,
   "metadata": {},
   "outputs": [
    {
     "data": {
      "image/svg+xml": [
       "<?xml version=\"1.0\" encoding=\"utf-8\"?>\n",
       "<svg xmlns=\"http://www.w3.org/2000/svg\" xmlns:xlink=\"http://www.w3.org/1999/xlink\" width=\"600\" height=\"400\" viewBox=\"0 0 2400 1600\">\n",
       "<defs>\n",
       "  <clipPath id=\"clip590\">\n",
       "    <rect x=\"0\" y=\"0\" width=\"2400\" height=\"1600\"/>\n",
       "  </clipPath>\n",
       "</defs>\n",
       "<path clip-path=\"url(#clip590)\" d=\"\n",
       "M0 1600 L2400 1600 L2400 0 L0 0  Z\n",
       "  \" fill=\"#ffffff\" fill-rule=\"evenodd\" fill-opacity=\"1\"/>\n",
       "<defs>\n",
       "  <clipPath id=\"clip591\">\n",
       "    <rect x=\"480\" y=\"0\" width=\"1681\" height=\"1600\"/>\n",
       "  </clipPath>\n",
       "</defs>\n",
       "<path clip-path=\"url(#clip590)\" d=\"\n",
       "M249.542 1423.18 L2352.76 1423.18 L2352.76 123.472 L249.542 123.472  Z\n",
       "  \" fill=\"#ffffff\" fill-rule=\"evenodd\" fill-opacity=\"1\"/>\n",
       "<defs>\n",
       "  <clipPath id=\"clip592\">\n",
       "    <rect x=\"249\" y=\"123\" width=\"2104\" height=\"1301\"/>\n",
       "  </clipPath>\n",
       "</defs>\n",
       "<polyline clip-path=\"url(#clip592)\" style=\"stroke:#000000; stroke-linecap:round; stroke-linejoin:round; stroke-width:2; stroke-opacity:0.1; fill:none\" points=\"\n",
       "  309.067,1423.18 309.067,123.472 \n",
       "  \"/>\n",
       "<polyline clip-path=\"url(#clip592)\" style=\"stroke:#000000; stroke-linecap:round; stroke-linejoin:round; stroke-width:2; stroke-opacity:0.1; fill:none\" points=\"\n",
       "  805.108,1423.18 805.108,123.472 \n",
       "  \"/>\n",
       "<polyline clip-path=\"url(#clip592)\" style=\"stroke:#000000; stroke-linecap:round; stroke-linejoin:round; stroke-width:2; stroke-opacity:0.1; fill:none\" points=\"\n",
       "  1301.15,1423.18 1301.15,123.472 \n",
       "  \"/>\n",
       "<polyline clip-path=\"url(#clip592)\" style=\"stroke:#000000; stroke-linecap:round; stroke-linejoin:round; stroke-width:2; stroke-opacity:0.1; fill:none\" points=\"\n",
       "  1797.19,1423.18 1797.19,123.472 \n",
       "  \"/>\n",
       "<polyline clip-path=\"url(#clip592)\" style=\"stroke:#000000; stroke-linecap:round; stroke-linejoin:round; stroke-width:2; stroke-opacity:0.1; fill:none\" points=\"\n",
       "  2293.23,1423.18 2293.23,123.472 \n",
       "  \"/>\n",
       "<polyline clip-path=\"url(#clip590)\" style=\"stroke:#000000; stroke-linecap:round; stroke-linejoin:round; stroke-width:4; stroke-opacity:1; fill:none\" points=\"\n",
       "  249.542,1423.18 2352.76,1423.18 \n",
       "  \"/>\n",
       "<polyline clip-path=\"url(#clip590)\" style=\"stroke:#000000; stroke-linecap:round; stroke-linejoin:round; stroke-width:4; stroke-opacity:1; fill:none\" points=\"\n",
       "  309.067,1423.18 309.067,1404.28 \n",
       "  \"/>\n",
       "<polyline clip-path=\"url(#clip590)\" style=\"stroke:#000000; stroke-linecap:round; stroke-linejoin:round; stroke-width:4; stroke-opacity:1; fill:none\" points=\"\n",
       "  805.108,1423.18 805.108,1404.28 \n",
       "  \"/>\n",
       "<polyline clip-path=\"url(#clip590)\" style=\"stroke:#000000; stroke-linecap:round; stroke-linejoin:round; stroke-width:4; stroke-opacity:1; fill:none\" points=\"\n",
       "  1301.15,1423.18 1301.15,1404.28 \n",
       "  \"/>\n",
       "<polyline clip-path=\"url(#clip590)\" style=\"stroke:#000000; stroke-linecap:round; stroke-linejoin:round; stroke-width:4; stroke-opacity:1; fill:none\" points=\"\n",
       "  1797.19,1423.18 1797.19,1404.28 \n",
       "  \"/>\n",
       "<polyline clip-path=\"url(#clip590)\" style=\"stroke:#000000; stroke-linecap:round; stroke-linejoin:round; stroke-width:4; stroke-opacity:1; fill:none\" points=\"\n",
       "  2293.23,1423.18 2293.23,1404.28 \n",
       "  \"/>\n",
       "<path clip-path=\"url(#clip590)\" d=\"M271.37 1454.1 Q267.759 1454.1 265.931 1457.66 Q264.125 1461.2 264.125 1468.33 Q264.125 1475.44 265.931 1479.01 Q267.759 1482.55 271.37 1482.55 Q275.005 1482.55 276.81 1479.01 Q278.639 1475.44 278.639 1468.33 Q278.639 1461.2 276.81 1457.66 Q275.005 1454.1 271.37 1454.1 M271.37 1450.39 Q277.181 1450.39 280.236 1455 Q283.315 1459.58 283.315 1468.33 Q283.315 1477.06 280.236 1481.67 Q277.181 1486.25 271.37 1486.25 Q265.56 1486.25 262.482 1481.67 Q259.426 1477.06 259.426 1468.33 Q259.426 1459.58 262.482 1455 Q265.56 1450.39 271.37 1450.39 Z\" fill=\"#000000\" fill-rule=\"evenodd\" fill-opacity=\"1\" /><path clip-path=\"url(#clip590)\" d=\"M291.532 1479.7 L296.417 1479.7 L296.417 1485.58 L291.532 1485.58 L291.532 1479.7 Z\" fill=\"#000000\" fill-rule=\"evenodd\" fill-opacity=\"1\" /><path clip-path=\"url(#clip590)\" d=\"M316.602 1454.1 Q312.991 1454.1 311.162 1457.66 Q309.356 1461.2 309.356 1468.33 Q309.356 1475.44 311.162 1479.01 Q312.991 1482.55 316.602 1482.55 Q320.236 1482.55 322.041 1479.01 Q323.87 1475.44 323.87 1468.33 Q323.87 1461.2 322.041 1457.66 Q320.236 1454.1 316.602 1454.1 M316.602 1450.39 Q322.412 1450.39 325.467 1455 Q328.546 1459.58 328.546 1468.33 Q328.546 1477.06 325.467 1481.67 Q322.412 1486.25 316.602 1486.25 Q310.791 1486.25 307.713 1481.67 Q304.657 1477.06 304.657 1468.33 Q304.657 1459.58 307.713 1455 Q310.791 1450.39 316.602 1450.39 Z\" fill=\"#000000\" fill-rule=\"evenodd\" fill-opacity=\"1\" /><path clip-path=\"url(#clip590)\" d=\"M346.764 1454.1 Q343.152 1454.1 341.324 1457.66 Q339.518 1461.2 339.518 1468.33 Q339.518 1475.44 341.324 1479.01 Q343.152 1482.55 346.764 1482.55 Q350.398 1482.55 352.203 1479.01 Q354.032 1475.44 354.032 1468.33 Q354.032 1461.2 352.203 1457.66 Q350.398 1454.1 346.764 1454.1 M346.764 1450.39 Q352.574 1450.39 355.629 1455 Q358.708 1459.58 358.708 1468.33 Q358.708 1477.06 355.629 1481.67 Q352.574 1486.25 346.764 1486.25 Q340.953 1486.25 337.875 1481.67 Q334.819 1477.06 334.819 1468.33 Q334.819 1459.58 337.875 1455 Q340.953 1450.39 346.764 1450.39 Z\" fill=\"#000000\" fill-rule=\"evenodd\" fill-opacity=\"1\" /><path clip-path=\"url(#clip590)\" d=\"M767.909 1454.1 Q764.298 1454.1 762.469 1457.66 Q760.664 1461.2 760.664 1468.33 Q760.664 1475.44 762.469 1479.01 Q764.298 1482.55 767.909 1482.55 Q771.543 1482.55 773.349 1479.01 Q775.178 1475.44 775.178 1468.33 Q775.178 1461.2 773.349 1457.66 Q771.543 1454.1 767.909 1454.1 M767.909 1450.39 Q773.719 1450.39 776.775 1455 Q779.853 1459.58 779.853 1468.33 Q779.853 1477.06 776.775 1481.67 Q773.719 1486.25 767.909 1486.25 Q762.099 1486.25 759.02 1481.67 Q755.965 1477.06 755.965 1468.33 Q755.965 1459.58 759.02 1455 Q762.099 1450.39 767.909 1450.39 Z\" fill=\"#000000\" fill-rule=\"evenodd\" fill-opacity=\"1\" /><path clip-path=\"url(#clip590)\" d=\"M788.071 1479.7 L792.955 1479.7 L792.955 1485.58 L788.071 1485.58 L788.071 1479.7 Z\" fill=\"#000000\" fill-rule=\"evenodd\" fill-opacity=\"1\" /><path clip-path=\"url(#clip590)\" d=\"M807.168 1481.64 L823.487 1481.64 L823.487 1485.58 L801.543 1485.58 L801.543 1481.64 Q804.205 1478.89 808.788 1474.26 Q813.395 1469.61 814.576 1468.27 Q816.821 1465.74 817.7 1464.01 Q818.603 1462.25 818.603 1460.56 Q818.603 1457.8 816.659 1456.07 Q814.738 1454.33 811.636 1454.33 Q809.437 1454.33 806.983 1455.09 Q804.552 1455.86 801.775 1457.41 L801.775 1452.69 Q804.599 1451.55 807.052 1450.97 Q809.506 1450.39 811.543 1450.39 Q816.913 1450.39 820.108 1453.08 Q823.302 1455.77 823.302 1460.26 Q823.302 1462.39 822.492 1464.31 Q821.705 1466.2 819.599 1468.8 Q819.02 1469.47 815.918 1472.69 Q812.816 1475.88 807.168 1481.64 Z\" fill=\"#000000\" fill-rule=\"evenodd\" fill-opacity=\"1\" /><path clip-path=\"url(#clip590)\" d=\"M833.349 1451.02 L851.705 1451.02 L851.705 1454.96 L837.631 1454.96 L837.631 1463.43 Q838.649 1463.08 839.668 1462.92 Q840.686 1462.73 841.705 1462.73 Q847.492 1462.73 850.872 1465.9 Q854.251 1469.08 854.251 1474.49 Q854.251 1480.07 850.779 1483.17 Q847.307 1486.25 840.987 1486.25 Q838.811 1486.25 836.543 1485.88 Q834.298 1485.51 831.89 1484.77 L831.89 1480.07 Q833.974 1481.2 836.196 1481.76 Q838.418 1482.32 840.895 1482.32 Q844.899 1482.32 847.237 1480.21 Q849.575 1478.1 849.575 1474.49 Q849.575 1470.88 847.237 1468.77 Q844.899 1466.67 840.895 1466.67 Q839.02 1466.67 837.145 1467.08 Q835.293 1467.5 833.349 1468.38 L833.349 1451.02 Z\" fill=\"#000000\" fill-rule=\"evenodd\" fill-opacity=\"1\" /><path clip-path=\"url(#clip590)\" d=\"M1263.45 1454.1 Q1259.84 1454.1 1258.01 1457.66 Q1256.21 1461.2 1256.21 1468.33 Q1256.21 1475.44 1258.01 1479.01 Q1259.84 1482.55 1263.45 1482.55 Q1267.09 1482.55 1268.89 1479.01 Q1270.72 1475.44 1270.72 1468.33 Q1270.72 1461.2 1268.89 1457.66 Q1267.09 1454.1 1263.45 1454.1 M1263.45 1450.39 Q1269.26 1450.39 1272.32 1455 Q1275.4 1459.58 1275.4 1468.33 Q1275.4 1477.06 1272.32 1481.67 Q1269.26 1486.25 1263.45 1486.25 Q1257.64 1486.25 1254.56 1481.67 Q1251.51 1477.06 1251.51 1468.33 Q1251.51 1459.58 1254.56 1455 Q1257.64 1450.39 1263.45 1450.39 Z\" fill=\"#000000\" fill-rule=\"evenodd\" fill-opacity=\"1\" /><path clip-path=\"url(#clip590)\" d=\"M1283.61 1479.7 L1288.5 1479.7 L1288.5 1485.58 L1283.61 1485.58 L1283.61 1479.7 Z\" fill=\"#000000\" fill-rule=\"evenodd\" fill-opacity=\"1\" /><path clip-path=\"url(#clip590)\" d=\"M1298.73 1451.02 L1317.09 1451.02 L1317.09 1454.96 L1303.01 1454.96 L1303.01 1463.43 Q1304.03 1463.08 1305.05 1462.92 Q1306.07 1462.73 1307.09 1462.73 Q1312.87 1462.73 1316.25 1465.9 Q1319.63 1469.08 1319.63 1474.49 Q1319.63 1480.07 1316.16 1483.17 Q1312.69 1486.25 1306.37 1486.25 Q1304.19 1486.25 1301.92 1485.88 Q1299.68 1485.51 1297.27 1484.77 L1297.27 1480.07 Q1299.35 1481.2 1301.58 1481.76 Q1303.8 1482.32 1306.28 1482.32 Q1310.28 1482.32 1312.62 1480.21 Q1314.96 1478.1 1314.96 1474.49 Q1314.96 1470.88 1312.62 1468.77 Q1310.28 1466.67 1306.28 1466.67 Q1304.4 1466.67 1302.53 1467.08 Q1300.67 1467.5 1298.73 1468.38 L1298.73 1451.02 Z\" fill=\"#000000\" fill-rule=\"evenodd\" fill-opacity=\"1\" /><path clip-path=\"url(#clip590)\" d=\"M1338.85 1454.1 Q1335.23 1454.1 1333.41 1457.66 Q1331.6 1461.2 1331.6 1468.33 Q1331.6 1475.44 1333.41 1479.01 Q1335.23 1482.55 1338.85 1482.55 Q1342.48 1482.55 1344.29 1479.01 Q1346.11 1475.44 1346.11 1468.33 Q1346.11 1461.2 1344.29 1457.66 Q1342.48 1454.1 1338.85 1454.1 M1338.85 1450.39 Q1344.66 1450.39 1347.71 1455 Q1350.79 1459.58 1350.79 1468.33 Q1350.79 1477.06 1347.71 1481.67 Q1344.66 1486.25 1338.85 1486.25 Q1333.04 1486.25 1329.96 1481.67 Q1326.9 1477.06 1326.9 1468.33 Q1326.9 1459.58 1329.96 1455 Q1333.04 1450.39 1338.85 1450.39 Z\" fill=\"#000000\" fill-rule=\"evenodd\" fill-opacity=\"1\" /><path clip-path=\"url(#clip590)\" d=\"M1759.99 1454.1 Q1756.38 1454.1 1754.55 1457.66 Q1752.75 1461.2 1752.75 1468.33 Q1752.75 1475.44 1754.55 1479.01 Q1756.38 1482.55 1759.99 1482.55 Q1763.63 1482.55 1765.43 1479.01 Q1767.26 1475.44 1767.26 1468.33 Q1767.26 1461.2 1765.43 1457.66 Q1763.63 1454.1 1759.99 1454.1 M1759.99 1450.39 Q1765.8 1450.39 1768.86 1455 Q1771.94 1459.58 1771.94 1468.33 Q1771.94 1477.06 1768.86 1481.67 Q1765.8 1486.25 1759.99 1486.25 Q1754.18 1486.25 1751.1 1481.67 Q1748.05 1477.06 1748.05 1468.33 Q1748.05 1459.58 1751.1 1455 Q1754.18 1450.39 1759.99 1450.39 Z\" fill=\"#000000\" fill-rule=\"evenodd\" fill-opacity=\"1\" /><path clip-path=\"url(#clip590)\" d=\"M1780.15 1479.7 L1785.04 1479.7 L1785.04 1485.58 L1780.15 1485.58 L1780.15 1479.7 Z\" fill=\"#000000\" fill-rule=\"evenodd\" fill-opacity=\"1\" /><path clip-path=\"url(#clip590)\" d=\"M1794.04 1451.02 L1816.26 1451.02 L1816.26 1453.01 L1803.72 1485.58 L1798.83 1485.58 L1810.64 1454.96 L1794.04 1454.96 L1794.04 1451.02 Z\" fill=\"#000000\" fill-rule=\"evenodd\" fill-opacity=\"1\" /><path clip-path=\"url(#clip590)\" d=\"M1825.43 1451.02 L1843.79 1451.02 L1843.79 1454.96 L1829.71 1454.96 L1829.71 1463.43 Q1830.73 1463.08 1831.75 1462.92 Q1832.77 1462.73 1833.79 1462.73 Q1839.57 1462.73 1842.95 1465.9 Q1846.33 1469.08 1846.33 1474.49 Q1846.33 1480.07 1842.86 1483.17 Q1839.39 1486.25 1833.07 1486.25 Q1830.89 1486.25 1828.62 1485.88 Q1826.38 1485.51 1823.97 1484.77 L1823.97 1480.07 Q1826.06 1481.2 1828.28 1481.76 Q1830.5 1482.32 1832.98 1482.32 Q1836.98 1482.32 1839.32 1480.21 Q1841.66 1478.1 1841.66 1474.49 Q1841.66 1470.88 1839.32 1468.77 Q1836.98 1466.67 1832.98 1466.67 Q1831.1 1466.67 1829.23 1467.08 Q1827.38 1467.5 1825.43 1468.38 L1825.43 1451.02 Z\" fill=\"#000000\" fill-rule=\"evenodd\" fill-opacity=\"1\" /><path clip-path=\"url(#clip590)\" d=\"M2245.3 1481.64 L2252.94 1481.64 L2252.94 1455.28 L2244.63 1456.95 L2244.63 1452.69 L2252.9 1451.02 L2257.57 1451.02 L2257.57 1481.64 L2265.21 1481.64 L2265.21 1485.58 L2245.3 1485.58 L2245.3 1481.64 Z\" fill=\"#000000\" fill-rule=\"evenodd\" fill-opacity=\"1\" /><path clip-path=\"url(#clip590)\" d=\"M2274.65 1479.7 L2279.54 1479.7 L2279.54 1485.58 L2274.65 1485.58 L2274.65 1479.7 Z\" fill=\"#000000\" fill-rule=\"evenodd\" fill-opacity=\"1\" /><path clip-path=\"url(#clip590)\" d=\"M2299.72 1454.1 Q2296.11 1454.1 2294.28 1457.66 Q2292.48 1461.2 2292.48 1468.33 Q2292.48 1475.44 2294.28 1479.01 Q2296.11 1482.55 2299.72 1482.55 Q2303.36 1482.55 2305.16 1479.01 Q2306.99 1475.44 2306.99 1468.33 Q2306.99 1461.2 2305.16 1457.66 Q2303.36 1454.1 2299.72 1454.1 M2299.72 1450.39 Q2305.53 1450.39 2308.59 1455 Q2311.67 1459.58 2311.67 1468.33 Q2311.67 1477.06 2308.59 1481.67 Q2305.53 1486.25 2299.72 1486.25 Q2293.91 1486.25 2290.84 1481.67 Q2287.78 1477.06 2287.78 1468.33 Q2287.78 1459.58 2290.84 1455 Q2293.91 1450.39 2299.72 1450.39 Z\" fill=\"#000000\" fill-rule=\"evenodd\" fill-opacity=\"1\" /><path clip-path=\"url(#clip590)\" d=\"M2329.89 1454.1 Q2326.27 1454.1 2324.45 1457.66 Q2322.64 1461.2 2322.64 1468.33 Q2322.64 1475.44 2324.45 1479.01 Q2326.27 1482.55 2329.89 1482.55 Q2333.52 1482.55 2335.33 1479.01 Q2337.15 1475.44 2337.15 1468.33 Q2337.15 1461.2 2335.33 1457.66 Q2333.52 1454.1 2329.89 1454.1 M2329.89 1450.39 Q2335.7 1450.39 2338.75 1455 Q2341.83 1459.58 2341.83 1468.33 Q2341.83 1477.06 2338.75 1481.67 Q2335.7 1486.25 2329.89 1486.25 Q2324.08 1486.25 2321 1481.67 Q2317.94 1477.06 2317.94 1468.33 Q2317.94 1459.58 2321 1455 Q2324.08 1450.39 2329.89 1450.39 Z\" fill=\"#000000\" fill-rule=\"evenodd\" fill-opacity=\"1\" /><path clip-path=\"url(#clip590)\" d=\"M907.398 1520.52 L934.707 1520.52 L934.707 1525.93 L913.828 1525.93 L913.828 1539.94 L932.67 1539.94 L932.67 1545.35 L913.828 1545.35 L913.828 1568.04 L907.398 1568.04 L907.398 1520.52 Z\" fill=\"#000000\" fill-rule=\"evenodd\" fill-opacity=\"1\" /><path clip-path=\"url(#clip590)\" d=\"M954.855 1550.12 Q947.757 1550.12 945.02 1551.75 Q942.282 1553.37 942.282 1557.29 Q942.282 1560.4 944.319 1562.25 Q946.388 1564.07 949.921 1564.07 Q954.791 1564.07 957.719 1560.63 Q960.679 1557.16 960.679 1551.43 L960.679 1550.12 L954.855 1550.12 M966.536 1547.71 L966.536 1568.04 L960.679 1568.04 L960.679 1562.63 Q958.674 1565.88 955.682 1567.44 Q952.69 1568.97 948.362 1568.97 Q942.887 1568.97 939.64 1565.91 Q936.426 1562.82 936.426 1557.67 Q936.426 1551.65 940.436 1548.6 Q944.478 1545.54 952.467 1545.54 L960.679 1545.54 L960.679 1544.97 Q960.679 1540.93 958.006 1538.73 Q955.364 1536.5 950.558 1536.5 Q947.502 1536.5 944.606 1537.23 Q941.709 1537.97 939.036 1539.43 L939.036 1534.02 Q942.25 1532.78 945.274 1532.17 Q948.298 1531.54 951.162 1531.54 Q958.897 1531.54 962.716 1535.55 Q966.536 1539.56 966.536 1547.71 Z\" fill=\"#000000\" fill-rule=\"evenodd\" fill-opacity=\"1\" /><path clip-path=\"url(#clip590)\" d=\"M978.599 1518.52 L984.455 1518.52 L984.455 1568.04 L978.599 1568.04 L978.599 1518.52 Z\" fill=\"#000000\" fill-rule=\"evenodd\" fill-opacity=\"1\" /><path clip-path=\"url(#clip590)\" d=\"M1019.43 1533.45 L1019.43 1538.98 Q1016.95 1537.71 1014.28 1537.07 Q1011.6 1536.44 1008.74 1536.44 Q1004.38 1536.44 1002.18 1537.77 Q1000.02 1539.11 1000.02 1541.79 Q1000.02 1543.82 1001.58 1545 Q1003.14 1546.15 1007.85 1547.2 L1009.85 1547.64 Q1016.09 1548.98 1018.7 1551.43 Q1021.34 1553.85 1021.34 1558.21 Q1021.34 1563.17 1017.4 1566.07 Q1013.48 1568.97 1006.61 1568.97 Q1003.74 1568.97 1000.62 1568.39 Q997.537 1567.85 994.099 1566.74 L994.099 1560.69 Q997.346 1562.38 1000.5 1563.24 Q1003.65 1564.07 1006.74 1564.07 Q1010.87 1564.07 1013.1 1562.66 Q1015.33 1561.23 1015.33 1558.65 Q1015.33 1556.27 1013.71 1554.99 Q1012.11 1553.72 1006.67 1552.54 L1004.63 1552.07 Q999.192 1550.92 996.773 1548.56 Q994.354 1546.18 994.354 1542.04 Q994.354 1537.01 997.919 1534.27 Q1001.48 1531.54 1008.04 1531.54 Q1011.29 1531.54 1014.15 1532.01 Q1017.02 1532.49 1019.43 1533.45 Z\" fill=\"#000000\" fill-rule=\"evenodd\" fill-opacity=\"1\" /><path clip-path=\"url(#clip590)\" d=\"M1061.16 1548.76 L1061.16 1551.62 L1034.23 1551.62 Q1034.62 1557.67 1037.86 1560.85 Q1041.14 1564 1046.97 1564 Q1050.34 1564 1053.49 1563.17 Q1056.67 1562.35 1059.79 1560.69 L1059.79 1566.23 Q1056.64 1567.57 1053.33 1568.27 Q1050.02 1568.97 1046.62 1568.97 Q1038.09 1568.97 1033.09 1564 Q1028.12 1559.04 1028.12 1550.57 Q1028.12 1541.82 1032.83 1536.69 Q1037.58 1531.54 1045.6 1531.54 Q1052.79 1531.54 1056.96 1536.18 Q1061.16 1540.8 1061.16 1548.76 M1055.31 1547.04 Q1055.24 1542.23 1052.6 1539.37 Q1049.99 1536.5 1045.66 1536.5 Q1040.76 1536.5 1037.8 1539.27 Q1034.87 1542.04 1034.43 1547.07 L1055.31 1547.04 Z\" fill=\"#000000\" fill-rule=\"evenodd\" fill-opacity=\"1\" /><path clip-path=\"url(#clip590)\" d=\"M1098.18 1525.81 L1098.18 1543.66 L1106.26 1543.66 Q1110.75 1543.66 1113.2 1541.34 Q1115.65 1539.02 1115.65 1534.72 Q1115.65 1530.45 1113.2 1528.13 Q1110.75 1525.81 1106.26 1525.81 L1098.18 1525.81 M1091.75 1520.52 L1106.26 1520.52 Q1114.25 1520.52 1118.33 1524.15 Q1122.43 1527.75 1122.43 1534.72 Q1122.43 1541.75 1118.33 1545.35 Q1114.25 1548.95 1106.26 1548.95 L1098.18 1548.95 L1098.18 1568.04 L1091.75 1568.04 L1091.75 1520.52 Z\" fill=\"#000000\" fill-rule=\"evenodd\" fill-opacity=\"1\" /><path clip-path=\"url(#clip590)\" d=\"M1142.29 1536.5 Q1137.58 1536.5 1134.84 1540.19 Q1132.11 1543.85 1132.11 1550.25 Q1132.11 1556.65 1134.81 1560.34 Q1137.55 1564 1142.29 1564 Q1146.97 1564 1149.71 1560.31 Q1152.45 1556.62 1152.45 1550.25 Q1152.45 1543.92 1149.71 1540.23 Q1146.97 1536.5 1142.29 1536.5 M1142.29 1531.54 Q1149.93 1531.54 1154.29 1536.5 Q1158.65 1541.47 1158.65 1550.25 Q1158.65 1559 1154.29 1564 Q1149.93 1568.97 1142.29 1568.97 Q1134.62 1568.97 1130.26 1564 Q1125.93 1559 1125.93 1550.25 Q1125.93 1541.47 1130.26 1536.5 Q1134.62 1531.54 1142.29 1531.54 Z\" fill=\"#000000\" fill-rule=\"evenodd\" fill-opacity=\"1\" /><path clip-path=\"url(#clip590)\" d=\"M1191.09 1533.45 L1191.09 1538.98 Q1188.6 1537.71 1185.93 1537.07 Q1183.26 1536.44 1180.39 1536.44 Q1176.03 1536.44 1173.83 1537.77 Q1171.67 1539.11 1171.67 1541.79 Q1171.67 1543.82 1173.23 1545 Q1174.79 1546.15 1179.5 1547.2 L1181.51 1547.64 Q1187.74 1548.98 1190.35 1551.43 Q1193 1553.85 1193 1558.21 Q1193 1563.17 1189.05 1566.07 Q1185.13 1568.97 1178.26 1568.97 Q1175.39 1568.97 1172.28 1568.39 Q1169.19 1567.85 1165.75 1566.74 L1165.75 1560.69 Q1169 1562.38 1172.15 1563.24 Q1175.3 1564.07 1178.39 1564.07 Q1182.52 1564.07 1184.75 1562.66 Q1186.98 1561.23 1186.98 1558.65 Q1186.98 1556.27 1185.36 1554.99 Q1183.77 1553.72 1178.32 1552.54 L1176.29 1552.07 Q1170.84 1550.92 1168.42 1548.56 Q1166.01 1546.18 1166.01 1542.04 Q1166.01 1537.01 1169.57 1534.27 Q1173.13 1531.54 1179.69 1531.54 Q1182.94 1531.54 1185.8 1532.01 Q1188.67 1532.49 1191.09 1533.45 Z\" fill=\"#000000\" fill-rule=\"evenodd\" fill-opacity=\"1\" /><path clip-path=\"url(#clip590)\" d=\"M1202.32 1532.4 L1208.18 1532.4 L1208.18 1568.04 L1202.32 1568.04 L1202.32 1532.4 M1202.32 1518.52 L1208.18 1518.52 L1208.18 1525.93 L1202.32 1525.93 L1202.32 1518.52 Z\" fill=\"#000000\" fill-rule=\"evenodd\" fill-opacity=\"1\" /><path clip-path=\"url(#clip590)\" d=\"M1226.22 1522.27 L1226.22 1532.4 L1238.29 1532.4 L1238.29 1536.95 L1226.22 1536.95 L1226.22 1556.3 Q1226.22 1560.66 1227.4 1561.9 Q1228.61 1563.14 1232.27 1563.14 L1238.29 1563.14 L1238.29 1568.04 L1232.27 1568.04 Q1225.49 1568.04 1222.91 1565.53 Q1220.34 1562.98 1220.34 1556.3 L1220.34 1536.95 L1216.04 1536.95 L1216.04 1532.4 L1220.34 1532.4 L1220.34 1522.27 L1226.22 1522.27 Z\" fill=\"#000000\" fill-rule=\"evenodd\" fill-opacity=\"1\" /><path clip-path=\"url(#clip590)\" d=\"M1245.99 1532.4 L1251.85 1532.4 L1251.85 1568.04 L1245.99 1568.04 L1245.99 1532.4 M1245.99 1518.52 L1251.85 1518.52 L1251.85 1525.93 L1245.99 1525.93 L1245.99 1518.52 Z\" fill=\"#000000\" fill-rule=\"evenodd\" fill-opacity=\"1\" /><path clip-path=\"url(#clip590)\" d=\"M1259.9 1532.4 L1266.11 1532.4 L1277.25 1562.31 L1288.39 1532.4 L1294.59 1532.4 L1281.22 1568.04 L1273.27 1568.04 L1259.9 1532.4 Z\" fill=\"#000000\" fill-rule=\"evenodd\" fill-opacity=\"1\" /><path clip-path=\"url(#clip590)\" d=\"M1333.17 1548.76 L1333.17 1551.62 L1306.24 1551.62 Q1306.62 1557.67 1309.87 1560.85 Q1313.15 1564 1318.97 1564 Q1322.35 1564 1325.5 1563.17 Q1328.68 1562.35 1331.8 1560.69 L1331.8 1566.23 Q1328.65 1567.57 1325.34 1568.27 Q1322.03 1568.97 1318.62 1568.97 Q1310.09 1568.97 1305.1 1564 Q1300.13 1559.04 1300.13 1550.57 Q1300.13 1541.82 1304.84 1536.69 Q1309.58 1531.54 1317.6 1531.54 Q1324.8 1531.54 1328.97 1536.18 Q1333.17 1540.8 1333.17 1548.76 M1327.31 1547.04 Q1327.25 1542.23 1324.61 1539.37 Q1322 1536.5 1317.67 1536.5 Q1312.77 1536.5 1309.81 1539.27 Q1306.88 1542.04 1306.43 1547.07 L1327.31 1547.04 Z\" fill=\"#000000\" fill-rule=\"evenodd\" fill-opacity=\"1\" /><path clip-path=\"url(#clip590)\" d=\"M1386.29 1545.76 Q1388.36 1546.46 1390.3 1548.76 Q1392.27 1551.05 1394.25 1555.06 L1400.77 1568.04 L1393.87 1568.04 L1387.79 1555.85 Q1385.43 1551.08 1383.2 1549.52 Q1381.01 1547.96 1377.19 1547.96 L1370.19 1547.96 L1370.19 1568.04 L1363.76 1568.04 L1363.76 1520.52 L1378.27 1520.52 Q1386.42 1520.52 1390.43 1523.93 Q1394.44 1527.34 1394.44 1534.21 Q1394.44 1538.7 1392.34 1541.66 Q1390.27 1544.62 1386.29 1545.76 M1370.19 1525.81 L1370.19 1542.68 L1378.27 1542.68 Q1382.92 1542.68 1385.27 1540.54 Q1387.66 1538.38 1387.66 1534.21 Q1387.66 1530.04 1385.27 1527.94 Q1382.92 1525.81 1378.27 1525.81 L1370.19 1525.81 Z\" fill=\"#000000\" fill-rule=\"evenodd\" fill-opacity=\"1\" /><path clip-path=\"url(#clip590)\" d=\"M1423.56 1550.12 Q1416.46 1550.12 1413.73 1551.75 Q1410.99 1553.37 1410.99 1557.29 Q1410.99 1560.4 1413.03 1562.25 Q1415.1 1564.07 1418.63 1564.07 Q1423.5 1564.07 1426.43 1560.63 Q1429.39 1557.16 1429.39 1551.43 L1429.39 1550.12 L1423.56 1550.12 M1435.24 1547.71 L1435.24 1568.04 L1429.39 1568.04 L1429.39 1562.63 Q1427.38 1565.88 1424.39 1567.44 Q1421.4 1568.97 1417.07 1568.97 Q1411.59 1568.97 1408.35 1565.91 Q1405.13 1562.82 1405.13 1557.67 Q1405.13 1551.65 1409.14 1548.6 Q1413.19 1545.54 1421.17 1545.54 L1429.39 1545.54 L1429.39 1544.97 Q1429.39 1540.93 1426.71 1538.73 Q1424.07 1536.5 1419.26 1536.5 Q1416.21 1536.5 1413.31 1537.23 Q1410.42 1537.97 1407.74 1539.43 L1407.74 1534.02 Q1410.96 1532.78 1413.98 1532.17 Q1417 1531.54 1419.87 1531.54 Q1427.6 1531.54 1431.42 1535.55 Q1435.24 1539.56 1435.24 1547.71 Z\" fill=\"#000000\" fill-rule=\"evenodd\" fill-opacity=\"1\" /><path clip-path=\"url(#clip590)\" d=\"M1453.1 1522.27 L1453.1 1532.4 L1465.16 1532.4 L1465.16 1536.95 L1453.1 1536.95 L1453.1 1556.3 Q1453.1 1560.66 1454.28 1561.9 Q1455.49 1563.14 1459.15 1563.14 L1465.16 1563.14 L1465.16 1568.04 L1459.15 1568.04 Q1452.37 1568.04 1449.79 1565.53 Q1447.21 1562.98 1447.21 1556.3 L1447.21 1536.95 L1442.91 1536.95 L1442.91 1532.4 L1447.21 1532.4 L1447.21 1522.27 L1453.1 1522.27 Z\" fill=\"#000000\" fill-rule=\"evenodd\" fill-opacity=\"1\" /><path clip-path=\"url(#clip590)\" d=\"M1503.36 1548.76 L1503.36 1551.62 L1476.43 1551.62 Q1476.81 1557.67 1480.06 1560.85 Q1483.34 1564 1489.16 1564 Q1492.53 1564 1495.68 1563.17 Q1498.87 1562.35 1501.99 1560.69 L1501.99 1566.23 Q1498.84 1567.57 1495.53 1568.27 Q1492.22 1568.97 1488.81 1568.97 Q1480.28 1568.97 1475.28 1564 Q1470.32 1559.04 1470.32 1550.57 Q1470.32 1541.82 1475.03 1536.69 Q1479.77 1531.54 1487.79 1531.54 Q1494.98 1531.54 1499.15 1536.18 Q1503.36 1540.8 1503.36 1548.76 M1497.5 1547.04 Q1497.44 1542.23 1494.79 1539.37 Q1492.18 1536.5 1487.86 1536.5 Q1482.95 1536.5 1479.99 1539.27 Q1477.07 1542.04 1476.62 1547.07 L1497.5 1547.04 Z\" fill=\"#000000\" fill-rule=\"evenodd\" fill-opacity=\"1\" /><path clip-path=\"url(#clip590)\" d=\"M1547.76 1518.58 Q1543.49 1525.9 1541.42 1533.06 Q1539.35 1540.23 1539.35 1547.58 Q1539.35 1554.93 1541.42 1562.16 Q1543.52 1569.35 1547.76 1576.64 L1542.66 1576.64 Q1537.89 1569.16 1535.5 1561.93 Q1533.15 1554.71 1533.15 1547.58 Q1533.15 1540.48 1535.5 1533.29 Q1537.86 1526.09 1542.66 1518.58 L1547.76 1518.58 Z\" fill=\"#000000\" fill-rule=\"evenodd\" fill-opacity=\"1\" /><path clip-path=\"url(#clip590)\" d=\"M1559.37 1520.52 L1586.68 1520.52 L1586.68 1525.93 L1565.8 1525.93 L1565.8 1539.94 L1584.65 1539.94 L1584.65 1545.35 L1565.8 1545.35 L1565.8 1568.04 L1559.37 1568.04 L1559.37 1520.52 Z\" fill=\"#000000\" fill-rule=\"evenodd\" fill-opacity=\"1\" /><path clip-path=\"url(#clip590)\" d=\"M1603.3 1525.81 L1603.3 1543.66 L1611.38 1543.66 Q1615.87 1543.66 1618.32 1541.34 Q1620.77 1539.02 1620.77 1534.72 Q1620.77 1530.45 1618.32 1528.13 Q1615.87 1525.81 1611.38 1525.81 L1603.3 1525.81 M1596.87 1520.52 L1611.38 1520.52 Q1619.37 1520.52 1623.44 1524.15 Q1627.55 1527.75 1627.55 1534.72 Q1627.55 1541.75 1623.44 1545.35 Q1619.37 1548.95 1611.38 1548.95 L1603.3 1548.95 L1603.3 1568.04 L1596.87 1568.04 L1596.87 1520.52 Z\" fill=\"#000000\" fill-rule=\"evenodd\" fill-opacity=\"1\" /><path clip-path=\"url(#clip590)\" d=\"M1658.71 1545.76 Q1660.78 1546.46 1662.72 1548.76 Q1664.69 1551.05 1666.67 1555.06 L1673.19 1568.04 L1666.29 1568.04 L1660.21 1555.85 Q1657.85 1551.08 1655.62 1549.52 Q1653.43 1547.96 1649.61 1547.96 L1642.61 1547.96 L1642.61 1568.04 L1636.18 1568.04 L1636.18 1520.52 L1650.69 1520.52 Q1658.84 1520.52 1662.85 1523.93 Q1666.86 1527.34 1666.86 1534.21 Q1666.86 1538.7 1664.76 1541.66 Q1662.69 1544.62 1658.71 1545.76 M1642.61 1525.81 L1642.61 1542.68 L1650.69 1542.68 Q1655.34 1542.68 1657.69 1540.54 Q1660.08 1538.38 1660.08 1534.21 Q1660.08 1530.04 1657.69 1527.94 Q1655.34 1525.81 1650.69 1525.81 L1642.61 1525.81 Z\" fill=\"#000000\" fill-rule=\"evenodd\" fill-opacity=\"1\" /><path clip-path=\"url(#clip590)\" d=\"M1680.29 1518.58 L1685.38 1518.58 Q1690.16 1526.09 1692.51 1533.29 Q1694.9 1540.48 1694.9 1547.58 Q1694.9 1554.71 1692.51 1561.93 Q1690.16 1569.16 1685.38 1576.64 L1680.29 1576.64 Q1684.52 1569.35 1686.59 1562.16 Q1688.69 1554.93 1688.69 1547.58 Q1688.69 1540.23 1686.59 1533.06 Q1684.52 1525.9 1680.29 1518.58 Z\" fill=\"#000000\" fill-rule=\"evenodd\" fill-opacity=\"1\" /><polyline clip-path=\"url(#clip592)\" style=\"stroke:#000000; stroke-linecap:round; stroke-linejoin:round; stroke-width:2; stroke-opacity:0.1; fill:none\" points=\"\n",
       "  249.542,1386.4 2352.76,1386.4 \n",
       "  \"/>\n",
       "<polyline clip-path=\"url(#clip592)\" style=\"stroke:#000000; stroke-linecap:round; stroke-linejoin:round; stroke-width:2; stroke-opacity:0.1; fill:none\" points=\"\n",
       "  249.542,1079.86 2352.76,1079.86 \n",
       "  \"/>\n",
       "<polyline clip-path=\"url(#clip592)\" style=\"stroke:#000000; stroke-linecap:round; stroke-linejoin:round; stroke-width:2; stroke-opacity:0.1; fill:none\" points=\"\n",
       "  249.542,773.326 2352.76,773.326 \n",
       "  \"/>\n",
       "<polyline clip-path=\"url(#clip592)\" style=\"stroke:#000000; stroke-linecap:round; stroke-linejoin:round; stroke-width:2; stroke-opacity:0.1; fill:none\" points=\"\n",
       "  249.542,466.791 2352.76,466.791 \n",
       "  \"/>\n",
       "<polyline clip-path=\"url(#clip592)\" style=\"stroke:#000000; stroke-linecap:round; stroke-linejoin:round; stroke-width:2; stroke-opacity:0.1; fill:none\" points=\"\n",
       "  249.542,160.256 2352.76,160.256 \n",
       "  \"/>\n",
       "<polyline clip-path=\"url(#clip590)\" style=\"stroke:#000000; stroke-linecap:round; stroke-linejoin:round; stroke-width:4; stroke-opacity:1; fill:none\" points=\"\n",
       "  249.542,1423.18 249.542,123.472 \n",
       "  \"/>\n",
       "<polyline clip-path=\"url(#clip590)\" style=\"stroke:#000000; stroke-linecap:round; stroke-linejoin:round; stroke-width:4; stroke-opacity:1; fill:none\" points=\"\n",
       "  249.542,1386.4 268.44,1386.4 \n",
       "  \"/>\n",
       "<polyline clip-path=\"url(#clip590)\" style=\"stroke:#000000; stroke-linecap:round; stroke-linejoin:round; stroke-width:4; stroke-opacity:1; fill:none\" points=\"\n",
       "  249.542,1079.86 268.44,1079.86 \n",
       "  \"/>\n",
       "<polyline clip-path=\"url(#clip590)\" style=\"stroke:#000000; stroke-linecap:round; stroke-linejoin:round; stroke-width:4; stroke-opacity:1; fill:none\" points=\"\n",
       "  249.542,773.326 268.44,773.326 \n",
       "  \"/>\n",
       "<polyline clip-path=\"url(#clip590)\" style=\"stroke:#000000; stroke-linecap:round; stroke-linejoin:round; stroke-width:4; stroke-opacity:1; fill:none\" points=\"\n",
       "  249.542,466.791 268.44,466.791 \n",
       "  \"/>\n",
       "<polyline clip-path=\"url(#clip590)\" style=\"stroke:#000000; stroke-linecap:round; stroke-linejoin:round; stroke-width:4; stroke-opacity:1; fill:none\" points=\"\n",
       "  249.542,160.256 268.44,160.256 \n",
       "  \"/>\n",
       "<path clip-path=\"url(#clip590)\" d=\"M126.205 1372.19 Q122.593 1372.19 120.765 1375.76 Q118.959 1379.3 118.959 1386.43 Q118.959 1393.54 120.765 1397.1 Q122.593 1400.64 126.205 1400.64 Q129.839 1400.64 131.644 1397.1 Q133.473 1393.54 133.473 1386.43 Q133.473 1379.3 131.644 1375.76 Q129.839 1372.19 126.205 1372.19 M126.205 1368.49 Q132.015 1368.49 135.07 1373.1 Q138.149 1377.68 138.149 1386.43 Q138.149 1395.16 135.07 1399.76 Q132.015 1404.35 126.205 1404.35 Q120.394 1404.35 117.316 1399.76 Q114.26 1395.16 114.26 1386.43 Q114.26 1377.68 117.316 1373.1 Q120.394 1368.49 126.205 1368.49 Z\" fill=\"#000000\" fill-rule=\"evenodd\" fill-opacity=\"1\" /><path clip-path=\"url(#clip590)\" d=\"M146.366 1397.8 L151.251 1397.8 L151.251 1403.68 L146.366 1403.68 L146.366 1397.8 Z\" fill=\"#000000\" fill-rule=\"evenodd\" fill-opacity=\"1\" /><path clip-path=\"url(#clip590)\" d=\"M171.436 1372.19 Q167.825 1372.19 165.996 1375.76 Q164.19 1379.3 164.19 1386.43 Q164.19 1393.54 165.996 1397.1 Q167.825 1400.64 171.436 1400.64 Q175.07 1400.64 176.876 1397.1 Q178.704 1393.54 178.704 1386.43 Q178.704 1379.3 176.876 1375.76 Q175.07 1372.19 171.436 1372.19 M171.436 1368.49 Q177.246 1368.49 180.301 1373.1 Q183.38 1377.68 183.38 1386.43 Q183.38 1395.16 180.301 1399.76 Q177.246 1404.35 171.436 1404.35 Q165.626 1404.35 162.547 1399.76 Q159.491 1395.16 159.491 1386.43 Q159.491 1377.68 162.547 1373.1 Q165.626 1368.49 171.436 1368.49 Z\" fill=\"#000000\" fill-rule=\"evenodd\" fill-opacity=\"1\" /><path clip-path=\"url(#clip590)\" d=\"M201.598 1372.19 Q197.987 1372.19 196.158 1375.76 Q194.352 1379.3 194.352 1386.43 Q194.352 1393.54 196.158 1397.1 Q197.987 1400.64 201.598 1400.64 Q205.232 1400.64 207.037 1397.1 Q208.866 1393.54 208.866 1386.43 Q208.866 1379.3 207.037 1375.76 Q205.232 1372.19 201.598 1372.19 M201.598 1368.49 Q207.408 1368.49 210.463 1373.1 Q213.542 1377.68 213.542 1386.43 Q213.542 1395.16 210.463 1399.76 Q207.408 1404.35 201.598 1404.35 Q195.787 1404.35 192.709 1399.76 Q189.653 1395.16 189.653 1386.43 Q189.653 1377.68 192.709 1373.1 Q195.787 1368.49 201.598 1368.49 Z\" fill=\"#000000\" fill-rule=\"evenodd\" fill-opacity=\"1\" /><path clip-path=\"url(#clip590)\" d=\"M127.2 1065.66 Q123.589 1065.66 121.76 1069.22 Q119.955 1072.77 119.955 1079.9 Q119.955 1087 121.76 1090.57 Q123.589 1094.11 127.2 1094.11 Q130.834 1094.11 132.64 1090.57 Q134.468 1087 134.468 1079.9 Q134.468 1072.77 132.64 1069.22 Q130.834 1065.66 127.2 1065.66 M127.2 1061.96 Q133.01 1061.96 136.066 1066.56 Q139.144 1071.15 139.144 1079.9 Q139.144 1088.62 136.066 1093.23 Q133.01 1097.81 127.2 1097.81 Q121.39 1097.81 118.311 1093.23 Q115.256 1088.62 115.256 1079.9 Q115.256 1071.15 118.311 1066.56 Q121.39 1061.96 127.2 1061.96 Z\" fill=\"#000000\" fill-rule=\"evenodd\" fill-opacity=\"1\" /><path clip-path=\"url(#clip590)\" d=\"M147.362 1091.26 L152.246 1091.26 L152.246 1097.14 L147.362 1097.14 L147.362 1091.26 Z\" fill=\"#000000\" fill-rule=\"evenodd\" fill-opacity=\"1\" /><path clip-path=\"url(#clip590)\" d=\"M166.459 1093.21 L182.778 1093.21 L182.778 1097.14 L160.834 1097.14 L160.834 1093.21 Q163.496 1090.45 168.079 1085.82 Q172.686 1081.17 173.866 1079.83 Q176.112 1077.3 176.991 1075.57 Q177.894 1073.81 177.894 1072.12 Q177.894 1069.36 175.95 1067.63 Q174.028 1065.89 170.927 1065.89 Q168.727 1065.89 166.274 1066.65 Q163.843 1067.42 161.065 1068.97 L161.065 1064.25 Q163.89 1063.11 166.343 1062.53 Q168.797 1061.96 170.834 1061.96 Q176.204 1061.96 179.399 1064.64 Q182.593 1067.33 182.593 1071.82 Q182.593 1073.95 181.783 1075.87 Q180.996 1077.77 178.889 1080.36 Q178.311 1081.03 175.209 1084.25 Q172.107 1087.44 166.459 1093.21 Z\" fill=\"#000000\" fill-rule=\"evenodd\" fill-opacity=\"1\" /><path clip-path=\"url(#clip590)\" d=\"M192.639 1062.58 L210.996 1062.58 L210.996 1066.52 L196.922 1066.52 L196.922 1074.99 Q197.94 1074.64 198.959 1074.48 Q199.977 1074.29 200.996 1074.29 Q206.783 1074.29 210.162 1077.47 Q213.542 1080.64 213.542 1086.05 Q213.542 1091.63 210.07 1094.73 Q206.598 1097.81 200.278 1097.81 Q198.102 1097.81 195.834 1097.44 Q193.588 1097.07 191.181 1096.33 L191.181 1091.63 Q193.264 1092.77 195.487 1093.32 Q197.709 1093.88 200.186 1093.88 Q204.19 1093.88 206.528 1091.77 Q208.866 1089.66 208.866 1086.05 Q208.866 1082.44 206.528 1080.34 Q204.19 1078.23 200.186 1078.23 Q198.311 1078.23 196.436 1078.65 Q194.584 1079.06 192.639 1079.94 L192.639 1062.58 Z\" fill=\"#000000\" fill-rule=\"evenodd\" fill-opacity=\"1\" /><path clip-path=\"url(#clip590)\" d=\"M126.205 759.125 Q122.593 759.125 120.765 762.689 Q118.959 766.231 118.959 773.361 Q118.959 780.467 120.765 784.032 Q122.593 787.574 126.205 787.574 Q129.839 787.574 131.644 784.032 Q133.473 780.467 133.473 773.361 Q133.473 766.231 131.644 762.689 Q129.839 759.125 126.205 759.125 M126.205 755.421 Q132.015 755.421 135.07 760.027 Q138.149 764.611 138.149 773.361 Q138.149 782.088 135.07 786.694 Q132.015 791.277 126.205 791.277 Q120.394 791.277 117.316 786.694 Q114.26 782.088 114.26 773.361 Q114.26 764.611 117.316 760.027 Q120.394 755.421 126.205 755.421 Z\" fill=\"#000000\" fill-rule=\"evenodd\" fill-opacity=\"1\" /><path clip-path=\"url(#clip590)\" d=\"M146.366 784.726 L151.251 784.726 L151.251 790.606 L146.366 790.606 L146.366 784.726 Z\" fill=\"#000000\" fill-rule=\"evenodd\" fill-opacity=\"1\" /><path clip-path=\"url(#clip590)\" d=\"M161.482 756.046 L179.839 756.046 L179.839 759.981 L165.765 759.981 L165.765 768.453 Q166.783 768.106 167.802 767.944 Q168.82 767.759 169.839 767.759 Q175.626 767.759 179.005 770.93 Q182.385 774.101 182.385 779.518 Q182.385 785.097 178.913 788.199 Q175.44 791.277 169.121 791.277 Q166.945 791.277 164.677 790.907 Q162.431 790.537 160.024 789.796 L160.024 785.097 Q162.107 786.231 164.329 786.787 Q166.552 787.342 169.028 787.342 Q173.033 787.342 175.371 785.236 Q177.709 783.129 177.709 779.518 Q177.709 775.907 175.371 773.801 Q173.033 771.694 169.028 771.694 Q167.153 771.694 165.278 772.111 Q163.427 772.527 161.482 773.407 L161.482 756.046 Z\" fill=\"#000000\" fill-rule=\"evenodd\" fill-opacity=\"1\" /><path clip-path=\"url(#clip590)\" d=\"M201.598 759.125 Q197.987 759.125 196.158 762.689 Q194.352 766.231 194.352 773.361 Q194.352 780.467 196.158 784.032 Q197.987 787.574 201.598 787.574 Q205.232 787.574 207.037 784.032 Q208.866 780.467 208.866 773.361 Q208.866 766.231 207.037 762.689 Q205.232 759.125 201.598 759.125 M201.598 755.421 Q207.408 755.421 210.463 760.027 Q213.542 764.611 213.542 773.361 Q213.542 782.088 210.463 786.694 Q207.408 791.277 201.598 791.277 Q195.787 791.277 192.709 786.694 Q189.653 782.088 189.653 773.361 Q189.653 764.611 192.709 760.027 Q195.787 755.421 201.598 755.421 Z\" fill=\"#000000\" fill-rule=\"evenodd\" fill-opacity=\"1\" /><path clip-path=\"url(#clip590)\" d=\"M127.2 452.59 Q123.589 452.59 121.76 456.155 Q119.955 459.696 119.955 466.826 Q119.955 473.932 121.76 477.497 Q123.589 481.039 127.2 481.039 Q130.834 481.039 132.64 477.497 Q134.468 473.932 134.468 466.826 Q134.468 459.696 132.64 456.155 Q130.834 452.59 127.2 452.59 M127.2 448.886 Q133.01 448.886 136.066 453.493 Q139.144 458.076 139.144 466.826 Q139.144 475.553 136.066 480.159 Q133.01 484.742 127.2 484.742 Q121.39 484.742 118.311 480.159 Q115.256 475.553 115.256 466.826 Q115.256 458.076 118.311 453.493 Q121.39 448.886 127.2 448.886 Z\" fill=\"#000000\" fill-rule=\"evenodd\" fill-opacity=\"1\" /><path clip-path=\"url(#clip590)\" d=\"M147.362 478.192 L152.246 478.192 L152.246 484.071 L147.362 484.071 L147.362 478.192 Z\" fill=\"#000000\" fill-rule=\"evenodd\" fill-opacity=\"1\" /><path clip-path=\"url(#clip590)\" d=\"M161.251 449.511 L183.473 449.511 L183.473 451.502 L170.927 484.071 L166.042 484.071 L177.848 453.446 L161.251 453.446 L161.251 449.511 Z\" fill=\"#000000\" fill-rule=\"evenodd\" fill-opacity=\"1\" /><path clip-path=\"url(#clip590)\" d=\"M192.639 449.511 L210.996 449.511 L210.996 453.446 L196.922 453.446 L196.922 461.918 Q197.94 461.571 198.959 461.409 Q199.977 461.224 200.996 461.224 Q206.783 461.224 210.162 464.395 Q213.542 467.567 213.542 472.983 Q213.542 478.562 210.07 481.664 Q206.598 484.742 200.278 484.742 Q198.102 484.742 195.834 484.372 Q193.588 484.002 191.181 483.261 L191.181 478.562 Q193.264 479.696 195.487 480.252 Q197.709 480.807 200.186 480.807 Q204.19 480.807 206.528 478.701 Q208.866 476.594 208.866 472.983 Q208.866 469.372 206.528 467.266 Q204.19 465.159 200.186 465.159 Q198.311 465.159 196.436 465.576 Q194.584 465.993 192.639 466.872 L192.639 449.511 Z\" fill=\"#000000\" fill-rule=\"evenodd\" fill-opacity=\"1\" /><path clip-path=\"url(#clip590)\" d=\"M117.015 173.601 L124.654 173.601 L124.654 147.236 L116.343 148.902 L116.343 144.643 L124.607 142.976 L129.283 142.976 L129.283 173.601 L136.922 173.601 L136.922 177.536 L117.015 177.536 L117.015 173.601 Z\" fill=\"#000000\" fill-rule=\"evenodd\" fill-opacity=\"1\" /><path clip-path=\"url(#clip590)\" d=\"M146.366 171.657 L151.251 171.657 L151.251 177.536 L146.366 177.536 L146.366 171.657 Z\" fill=\"#000000\" fill-rule=\"evenodd\" fill-opacity=\"1\" /><path clip-path=\"url(#clip590)\" d=\"M171.436 146.055 Q167.825 146.055 165.996 149.62 Q164.19 153.161 164.19 160.291 Q164.19 167.397 165.996 170.962 Q167.825 174.504 171.436 174.504 Q175.07 174.504 176.876 170.962 Q178.704 167.397 178.704 160.291 Q178.704 153.161 176.876 149.62 Q175.07 146.055 171.436 146.055 M171.436 142.351 Q177.246 142.351 180.301 146.958 Q183.38 151.541 183.38 160.291 Q183.38 169.018 180.301 173.624 Q177.246 178.208 171.436 178.208 Q165.626 178.208 162.547 173.624 Q159.491 169.018 159.491 160.291 Q159.491 151.541 162.547 146.958 Q165.626 142.351 171.436 142.351 Z\" fill=\"#000000\" fill-rule=\"evenodd\" fill-opacity=\"1\" /><path clip-path=\"url(#clip590)\" d=\"M201.598 146.055 Q197.987 146.055 196.158 149.62 Q194.352 153.161 194.352 160.291 Q194.352 167.397 196.158 170.962 Q197.987 174.504 201.598 174.504 Q205.232 174.504 207.037 170.962 Q208.866 167.397 208.866 160.291 Q208.866 153.161 207.037 149.62 Q205.232 146.055 201.598 146.055 M201.598 142.351 Q207.408 142.351 210.463 146.958 Q213.542 151.541 213.542 160.291 Q213.542 169.018 210.463 173.624 Q207.408 178.208 201.598 178.208 Q195.787 178.208 192.709 173.624 Q189.653 169.018 189.653 160.291 Q189.653 151.541 192.709 146.958 Q195.787 142.351 201.598 142.351 Z\" fill=\"#000000\" fill-rule=\"evenodd\" fill-opacity=\"1\" /><path clip-path=\"url(#clip590)\" d=\"M16.4842 1158.94 L16.4842 1118.75 L21.895 1118.75 L21.895 1135.61 L64.0042 1135.61 L64.0042 1142.08 L21.895 1142.08 L21.895 1158.94 L16.4842 1158.94 Z\" fill=\"#000000\" fill-rule=\"evenodd\" fill-opacity=\"1\" /><path clip-path=\"url(#clip590)\" d=\"M33.8307 1101.72 Q33.2578 1102.7 33.0032 1103.88 Q32.7167 1105.03 32.7167 1106.43 Q32.7167 1111.39 35.9632 1114.07 Q39.1779 1116.71 45.2253 1116.71 L64.0042 1116.71 L64.0042 1122.6 L28.3562 1122.6 L28.3562 1116.71 L33.8944 1116.71 Q30.6479 1114.86 29.0883 1111.9 Q27.4968 1108.94 27.4968 1104.71 Q27.4968 1104.1 27.5923 1103.37 Q27.656 1102.64 27.8151 1101.75 L33.8307 1101.72 Z\" fill=\"#000000\" fill-rule=\"evenodd\" fill-opacity=\"1\" /><path clip-path=\"url(#clip590)\" d=\"M49.9359 1096.18 L28.3562 1096.18 L28.3562 1090.32 L49.7131 1090.32 Q54.7739 1090.32 57.3202 1088.35 Q59.8346 1086.38 59.8346 1082.43 Q59.8346 1077.69 56.8109 1074.95 Q53.7872 1072.18 48.5673 1072.18 L28.3562 1072.18 L28.3562 1066.32 L64.0042 1066.32 L64.0042 1072.18 L58.5296 1072.18 Q61.7762 1074.31 63.3676 1077.15 Q64.9272 1079.95 64.9272 1083.67 Q64.9272 1089.81 61.1078 1093 Q57.2883 1096.18 49.9359 1096.18 M27.4968 1081.44 L27.4968 1081.44 Z\" fill=\"#000000\" fill-rule=\"evenodd\" fill-opacity=\"1\" /><path clip-path=\"url(#clip590)\" d=\"M44.7161 1023.77 L47.5806 1023.77 L47.5806 1050.7 Q53.6281 1050.31 56.8109 1047.07 Q59.9619 1043.79 59.9619 1037.96 Q59.9619 1034.59 59.1344 1031.44 Q58.3069 1028.26 56.6518 1025.14 L62.1899 1025.14 Q63.5267 1028.29 64.227 1031.6 Q64.9272 1034.91 64.9272 1038.31 Q64.9272 1046.84 59.9619 1051.84 Q54.9967 1056.81 46.5303 1056.81 Q37.7774 1056.81 32.6531 1052.1 Q27.4968 1047.35 27.4968 1039.33 Q27.4968 1032.14 32.1438 1027.97 Q36.7589 1023.77 44.7161 1023.77 M42.9973 1029.63 Q38.1912 1029.69 35.3266 1032.33 Q32.4621 1034.94 32.4621 1039.27 Q32.4621 1044.17 35.2312 1047.13 Q38.0002 1050.06 43.0292 1050.5 L42.9973 1029.63 Z\" fill=\"#000000\" fill-rule=\"evenodd\" fill-opacity=\"1\" /><path clip-path=\"url(#clip590)\" d=\"M21.7677 986.752 L39.6235 986.752 L39.6235 978.668 Q39.6235 974.18 37.3 971.729 Q34.9765 969.278 30.6797 969.278 Q26.4147 969.278 24.0912 971.729 Q21.7677 974.18 21.7677 978.668 L21.7677 986.752 M16.4842 993.182 L16.4842 978.668 Q16.4842 970.679 20.1126 966.605 Q23.7092 962.499 30.6797 962.499 Q37.7138 962.499 41.3104 966.605 Q44.907 970.679 44.907 978.668 L44.907 986.752 L64.0042 986.752 L64.0042 993.182 L16.4842 993.182 Z\" fill=\"#000000\" fill-rule=\"evenodd\" fill-opacity=\"1\" /><path clip-path=\"url(#clip590)\" d=\"M32.4621 942.638 Q32.4621 947.348 36.1542 950.086 Q39.8145 952.823 46.212 952.823 Q52.6095 952.823 56.3017 950.118 Q59.9619 947.38 59.9619 942.638 Q59.9619 937.959 56.2698 935.222 Q52.5777 932.485 46.212 932.485 Q39.8781 932.485 36.186 935.222 Q32.4621 937.959 32.4621 942.638 M27.4968 942.638 Q27.4968 934.999 32.4621 930.639 Q37.4273 926.278 46.212 926.278 Q54.9649 926.278 59.9619 930.639 Q64.9272 934.999 64.9272 942.638 Q64.9272 950.309 59.9619 954.669 Q54.9649 958.998 46.212 958.998 Q37.4273 958.998 32.4621 954.669 Q27.4968 950.309 27.4968 942.638 Z\" fill=\"#000000\" fill-rule=\"evenodd\" fill-opacity=\"1\" /><path clip-path=\"url(#clip590)\" d=\"M29.4065 893.845 L34.9447 893.845 Q33.6716 896.327 33.035 899.001 Q32.3984 901.675 32.3984 904.539 Q32.3984 908.9 33.7352 911.096 Q35.072 913.26 37.7456 913.26 Q39.7826 913.26 40.9603 911.701 Q42.1061 910.141 43.1565 905.43 L43.6021 903.425 Q44.9389 897.187 47.3897 894.577 Q49.8086 891.935 54.1691 891.935 Q59.1344 891.935 62.0308 895.882 Q64.9272 899.797 64.9272 906.672 Q64.9272 909.536 64.3543 912.655 Q63.8132 915.743 62.6992 919.18 L56.6518 919.18 Q58.3387 915.934 59.198 912.783 Q60.0256 909.632 60.0256 906.544 Q60.0256 902.407 58.6251 900.179 Q57.1929 897.951 54.6147 897.951 Q52.2276 897.951 50.9545 899.574 Q49.6813 901.165 48.5037 906.608 L48.0262 908.645 Q46.8804 914.088 44.5251 916.507 Q42.138 918.926 38.0002 918.926 Q32.9713 918.926 30.2341 915.361 Q27.4968 911.796 27.4968 905.239 Q27.4968 901.993 27.9743 899.128 Q28.4517 896.264 29.4065 893.845 Z\" fill=\"#000000\" fill-rule=\"evenodd\" fill-opacity=\"1\" /><path clip-path=\"url(#clip590)\" d=\"M28.3562 882.609 L28.3562 876.753 L64.0042 876.753 L64.0042 882.609 L28.3562 882.609 M14.479 882.609 L14.479 876.753 L21.895 876.753 L21.895 882.609 L14.479 882.609 Z\" fill=\"#000000\" fill-rule=\"evenodd\" fill-opacity=\"1\" /><path clip-path=\"url(#clip590)\" d=\"M18.2347 858.706 L28.3562 858.706 L28.3562 846.643 L32.9077 846.643 L32.9077 858.706 L52.2594 858.706 Q56.6199 858.706 57.8613 857.528 Q59.1026 856.319 59.1026 852.659 L59.1026 846.643 L64.0042 846.643 L64.0042 852.659 Q64.0042 859.438 61.4897 862.016 Q58.9434 864.594 52.2594 864.594 L32.9077 864.594 L32.9077 868.891 L28.3562 868.891 L28.3562 864.594 L18.2347 864.594 L18.2347 858.706 Z\" fill=\"#000000\" fill-rule=\"evenodd\" fill-opacity=\"1\" /><path clip-path=\"url(#clip590)\" d=\"M28.3562 838.941 L28.3562 833.084 L64.0042 833.084 L64.0042 838.941 L28.3562 838.941 M14.479 838.941 L14.479 833.084 L21.895 833.084 L21.895 838.941 L14.479 838.941 Z\" fill=\"#000000\" fill-rule=\"evenodd\" fill-opacity=\"1\" /><path clip-path=\"url(#clip590)\" d=\"M28.3562 825.031 L28.3562 818.825 L58.275 807.685 L28.3562 796.545 L28.3562 790.338 L64.0042 803.706 L64.0042 811.663 L28.3562 825.031 Z\" fill=\"#000000\" fill-rule=\"evenodd\" fill-opacity=\"1\" /><path clip-path=\"url(#clip590)\" d=\"M44.7161 751.762 L47.5806 751.762 L47.5806 778.689 Q53.6281 778.307 56.8109 775.061 Q59.9619 771.782 59.9619 765.958 Q59.9619 762.584 59.1344 759.433 Q58.3069 756.25 56.6518 753.131 L62.1899 753.131 Q63.5267 756.282 64.227 759.592 Q64.9272 762.902 64.9272 766.308 Q64.9272 774.838 59.9619 779.835 Q54.9967 784.8 46.5303 784.8 Q37.7774 784.8 32.6531 780.09 Q27.4968 775.347 27.4968 767.326 Q27.4968 760.133 32.1438 755.964 Q36.7589 751.762 44.7161 751.762 M42.9973 757.619 Q38.1912 757.682 35.3266 760.324 Q32.4621 762.934 32.4621 767.263 Q32.4621 772.164 35.2312 775.124 Q38.0002 778.053 43.0292 778.498 L42.9973 757.619 Z\" fill=\"#000000\" fill-rule=\"evenodd\" fill-opacity=\"1\" /><path clip-path=\"url(#clip590)\" d=\"M41.7242 698.64 Q42.4244 696.571 44.7161 694.63 Q47.0077 692.657 51.0181 690.683 L64.0042 684.158 L64.0042 691.065 L51.8138 697.144 Q47.0395 699.5 45.48 701.728 Q43.9204 703.924 43.9204 707.743 L43.9204 714.746 L64.0042 714.746 L64.0042 721.175 L16.4842 721.175 L16.4842 706.661 Q16.4842 698.513 19.8898 694.503 Q23.2955 690.492 30.1704 690.492 Q34.6582 690.492 37.6183 692.593 Q40.5784 694.662 41.7242 698.64 M21.7677 714.746 L38.6368 714.746 L38.6368 706.661 Q38.6368 702.014 36.5043 699.659 Q34.34 697.272 30.1704 697.272 Q26.0009 697.272 23.9002 699.659 Q21.7677 702.014 21.7677 706.661 L21.7677 714.746 Z\" fill=\"#000000\" fill-rule=\"evenodd\" fill-opacity=\"1\" /><path clip-path=\"url(#clip590)\" d=\"M46.0847 661.369 Q46.0847 668.467 47.7079 671.204 Q49.3312 673.941 53.2461 673.941 Q56.3653 673.941 58.2114 671.904 Q60.0256 669.836 60.0256 666.303 Q60.0256 661.433 56.5881 658.505 Q53.1188 655.544 47.3897 655.544 L46.0847 655.544 L46.0847 661.369 M43.6657 649.688 L64.0042 649.688 L64.0042 655.544 L58.5933 655.544 Q61.8398 657.55 63.3994 660.542 Q64.9272 663.533 64.9272 667.862 Q64.9272 673.337 61.8716 676.583 Q58.7843 679.798 53.6281 679.798 Q47.6125 679.798 44.5569 675.787 Q41.5014 671.745 41.5014 663.756 L41.5014 655.544 L40.9285 655.544 Q36.8862 655.544 34.6901 658.218 Q32.4621 660.86 32.4621 665.666 Q32.4621 668.722 33.1941 671.618 Q33.9262 674.514 35.3903 677.188 L29.9795 677.188 Q28.7381 673.973 28.1334 670.95 Q27.4968 667.926 27.4968 665.061 Q27.4968 657.327 31.5072 653.507 Q35.5176 649.688 43.6657 649.688 Z\" fill=\"#000000\" fill-rule=\"evenodd\" fill-opacity=\"1\" /><path clip-path=\"url(#clip590)\" d=\"M18.2347 631.832 L28.3562 631.832 L28.3562 619.769 L32.9077 619.769 L32.9077 631.832 L52.2594 631.832 Q56.6199 631.832 57.8613 630.655 Q59.1026 629.445 59.1026 625.785 L59.1026 619.769 L64.0042 619.769 L64.0042 625.785 Q64.0042 632.564 61.4897 635.142 Q58.9434 637.721 52.2594 637.721 L32.9077 637.721 L32.9077 642.017 L28.3562 642.017 L28.3562 637.721 L18.2347 637.721 L18.2347 631.832 Z\" fill=\"#000000\" fill-rule=\"evenodd\" fill-opacity=\"1\" /><path clip-path=\"url(#clip590)\" d=\"M44.7161 581.575 L47.5806 581.575 L47.5806 608.502 Q53.6281 608.12 56.8109 604.873 Q59.9619 601.595 59.9619 595.771 Q59.9619 592.397 59.1344 589.246 Q58.3069 586.063 56.6518 582.944 L62.1899 582.944 Q63.5267 586.095 64.227 589.405 Q64.9272 592.715 64.9272 596.121 Q64.9272 604.651 59.9619 609.648 Q54.9967 614.613 46.5303 614.613 Q37.7774 614.613 32.6531 609.902 Q27.4968 605.16 27.4968 597.139 Q27.4968 589.946 32.1438 585.776 Q36.7589 581.575 44.7161 581.575 M42.9973 587.431 Q38.1912 587.495 35.3266 590.137 Q32.4621 592.747 32.4621 597.075 Q32.4621 601.977 35.2312 604.937 Q38.0002 607.865 43.0292 608.311 L42.9973 587.431 Z\" fill=\"#000000\" fill-rule=\"evenodd\" fill-opacity=\"1\" /><path clip-path=\"url(#clip590)\" d=\"M14.5426 537.174 Q21.8632 541.439 29.0246 543.508 Q36.186 545.577 43.5384 545.577 Q50.8908 545.577 58.1159 543.508 Q65.3091 541.407 72.5979 537.174 L72.5979 542.267 Q65.1182 547.041 57.8931 549.428 Q50.668 551.783 43.5384 551.783 Q36.4406 551.783 29.2474 549.428 Q22.0542 547.073 14.5426 542.267 L14.5426 537.174 Z\" fill=\"#000000\" fill-rule=\"evenodd\" fill-opacity=\"1\" /><path clip-path=\"url(#clip590)\" d=\"M16.4842 532.145 L16.4842 491.946 L21.895 491.946 L21.895 508.815 L64.0042 508.815 L64.0042 515.276 L21.895 515.276 L21.895 532.145 L16.4842 532.145 Z\" fill=\"#000000\" fill-rule=\"evenodd\" fill-opacity=\"1\" /><path clip-path=\"url(#clip590)\" d=\"M21.7677 479.31 L39.6235 479.31 L39.6235 471.225 Q39.6235 466.738 37.3 464.287 Q34.9765 461.836 30.6797 461.836 Q26.4147 461.836 24.0912 464.287 Q21.7677 466.738 21.7677 471.225 L21.7677 479.31 M16.4842 485.739 L16.4842 471.225 Q16.4842 463.236 20.1126 459.162 Q23.7092 455.057 30.6797 455.057 Q37.7138 455.057 41.3104 459.162 Q44.907 463.236 44.907 471.225 L44.907 479.31 L64.0042 479.31 L64.0042 485.739 L16.4842 485.739 Z\" fill=\"#000000\" fill-rule=\"evenodd\" fill-opacity=\"1\" /><path clip-path=\"url(#clip590)\" d=\"M41.7242 423.896 Q42.4244 421.828 44.7161 419.886 Q47.0077 417.913 51.0181 415.939 L64.0042 409.414 L64.0042 416.321 L51.8138 422.4 Q47.0395 424.756 45.48 426.984 Q43.9204 429.18 43.9204 432.999 L43.9204 440.002 L64.0042 440.002 L64.0042 446.431 L16.4842 446.431 L16.4842 431.917 Q16.4842 423.769 19.8898 419.759 Q23.2955 415.748 30.1704 415.748 Q34.6582 415.748 37.6183 417.849 Q40.5784 419.918 41.7242 423.896 M21.7677 440.002 L38.6368 440.002 L38.6368 431.917 Q38.6368 427.27 36.5043 424.915 Q34.34 422.528 30.1704 422.528 Q26.0009 422.528 23.9002 424.915 Q21.7677 427.27 21.7677 431.917 L21.7677 440.002 Z\" fill=\"#000000\" fill-rule=\"evenodd\" fill-opacity=\"1\" /><path clip-path=\"url(#clip590)\" d=\"M14.5426 402.317 L14.5426 397.224 Q22.0542 392.45 29.2474 390.095 Q36.4406 387.707 43.5384 387.707 Q50.668 387.707 57.8931 390.095 Q65.1182 392.45 72.5979 397.224 L72.5979 402.317 Q65.3091 398.083 58.1159 396.015 Q50.8908 393.914 43.5384 393.914 Q36.186 393.914 29.0246 396.015 Q21.8632 398.083 14.5426 402.317 Z\" fill=\"#000000\" fill-rule=\"evenodd\" fill-opacity=\"1\" /><path clip-path=\"url(#clip590)\" d=\"M368.975 44.2197 Q371.608 45.1109 374.079 48.0275 Q376.591 50.9442 379.102 56.0483 L387.407 72.576 L378.616 72.576 L370.879 57.061 Q367.881 50.9847 365.046 48.9997 Q362.251 47.0148 357.39 47.0148 L348.478 47.0148 L348.478 72.576 L340.295 72.576 L340.295 12.096 L358.767 12.096 Q369.137 12.096 374.241 16.4305 Q379.345 20.7649 379.345 29.5149 Q379.345 35.2267 376.672 38.994 Q374.039 42.7613 368.975 44.2197 M348.478 18.8205 L348.478 40.2903 L358.767 40.2903 Q364.681 40.2903 367.679 37.5762 Q370.717 34.8216 370.717 29.5149 Q370.717 24.2082 367.679 21.5346 Q364.681 18.8205 358.767 18.8205 L348.478 18.8205 Z\" fill=\"#000000\" fill-rule=\"evenodd\" fill-opacity=\"1\" /><path clip-path=\"url(#clip590)\" d=\"M432.696 48.0275 L432.696 51.6733 L398.425 51.6733 Q398.911 59.3701 403.043 63.421 Q407.216 67.4314 414.629 67.4314 Q418.923 67.4314 422.933 66.3781 Q426.984 65.3249 430.954 63.2184 L430.954 70.267 Q426.944 71.9684 422.731 72.8596 Q418.518 73.7508 414.183 73.7508 Q403.327 73.7508 396.967 67.4314 Q390.647 61.1119 390.647 50.3365 Q390.647 39.1965 396.643 32.6746 Q402.679 26.1121 412.887 26.1121 Q422.042 26.1121 427.349 32.0264 Q432.696 37.9003 432.696 48.0275 M425.242 45.84 Q425.161 39.7232 421.799 36.0774 Q418.477 32.4315 412.968 32.4315 Q406.73 32.4315 402.962 35.9558 Q399.235 39.4801 398.668 45.8805 L425.242 45.84 Z\" fill=\"#000000\" fill-rule=\"evenodd\" fill-opacity=\"1\" /><path clip-path=\"url(#clip590)\" d=\"M477.58 28.9478 L477.58 35.9153 Q474.42 34.1734 471.22 33.3227 Q468.06 32.4315 464.82 32.4315 Q457.568 32.4315 453.558 37.0496 Q449.548 41.6271 449.548 49.9314 Q449.548 58.2358 453.558 62.8538 Q457.568 67.4314 464.82 67.4314 Q468.06 67.4314 471.22 66.5807 Q474.42 65.6895 477.58 63.9476 L477.58 70.8341 Q474.461 72.2924 471.098 73.0216 Q467.777 73.7508 464.009 73.7508 Q453.761 73.7508 447.725 67.3098 Q441.689 60.8689 441.689 49.9314 Q441.689 38.832 447.765 32.472 Q453.882 26.1121 464.495 26.1121 Q467.939 26.1121 471.22 26.8413 Q474.501 27.5299 477.58 28.9478 Z\" fill=\"#000000\" fill-rule=\"evenodd\" fill-opacity=\"1\" /><path clip-path=\"url(#clip590)\" d=\"M529.35 48.0275 L529.35 51.6733 L495.08 51.6733 Q495.566 59.3701 499.698 63.421 Q503.87 67.4314 511.283 67.4314 Q515.577 67.4314 519.588 66.3781 Q523.639 65.3249 527.609 63.2184 L527.609 70.267 Q523.598 71.9684 519.385 72.8596 Q515.172 73.7508 510.838 73.7508 Q499.981 73.7508 493.621 67.4314 Q487.302 61.1119 487.302 50.3365 Q487.302 39.1965 493.297 32.6746 Q499.333 26.1121 509.542 26.1121 Q518.697 26.1121 524.003 32.0264 Q529.35 37.9003 529.35 48.0275 M521.897 45.84 Q521.816 39.7232 518.454 36.0774 Q515.132 32.4315 509.623 32.4315 Q503.384 32.4315 499.617 35.9558 Q495.89 39.4801 495.323 45.8805 L521.897 45.84 Z\" fill=\"#000000\" fill-rule=\"evenodd\" fill-opacity=\"1\" /><path clip-path=\"url(#clip590)\" d=\"M541.584 27.2059 L549.038 27.2059 L549.038 72.576 L541.584 72.576 L541.584 27.2059 M541.584 9.54393 L549.038 9.54393 L549.038 18.9825 L541.584 18.9825 L541.584 9.54393 Z\" fill=\"#000000\" fill-rule=\"evenodd\" fill-opacity=\"1\" /><path clip-path=\"url(#clip590)\" d=\"M559.287 27.2059 L567.186 27.2059 L581.364 65.2844 L595.542 27.2059 L603.441 27.2059 L586.428 72.576 L576.3 72.576 L559.287 27.2059 Z\" fill=\"#000000\" fill-rule=\"evenodd\" fill-opacity=\"1\" /><path clip-path=\"url(#clip590)\" d=\"M652.538 48.0275 L652.538 51.6733 L618.268 51.6733 Q618.754 59.3701 622.886 63.421 Q627.058 67.4314 634.471 67.4314 Q638.765 67.4314 642.776 66.3781 Q646.827 65.3249 650.797 63.2184 L650.797 70.267 Q646.786 71.9684 642.573 72.8596 Q638.36 73.7508 634.026 73.7508 Q623.169 73.7508 616.809 67.4314 Q610.49 61.1119 610.49 50.3365 Q610.49 39.1965 616.485 32.6746 Q622.521 26.1121 632.73 26.1121 Q641.885 26.1121 647.191 32.0264 Q652.538 37.9003 652.538 48.0275 M645.085 45.84 Q645.004 39.7232 641.642 36.0774 Q638.32 32.4315 632.811 32.4315 Q626.572 32.4315 622.805 35.9558 Q619.078 39.4801 618.511 45.8805 L645.085 45.84 Z\" fill=\"#000000\" fill-rule=\"evenodd\" fill-opacity=\"1\" /><path clip-path=\"url(#clip590)\" d=\"M691.063 34.1734 Q689.807 33.4443 688.308 33.1202 Q686.85 32.7556 685.067 32.7556 Q678.748 32.7556 675.345 36.8875 Q671.983 40.9789 671.983 48.6757 L671.983 72.576 L664.489 72.576 L664.489 27.2059 L671.983 27.2059 L671.983 34.2544 Q674.332 30.1225 678.1 28.1376 Q681.867 26.1121 687.255 26.1121 Q688.024 26.1121 688.956 26.2337 Q689.888 26.3147 691.022 26.5172 L691.063 34.1734 Z\" fill=\"#000000\" fill-rule=\"evenodd\" fill-opacity=\"1\" /><path clip-path=\"url(#clip590)\" d=\"M750.125 17.6457 Q741.213 17.6457 735.947 24.2892 Q730.721 30.9327 730.721 42.3968 Q730.721 53.8203 735.947 60.4638 Q741.213 67.1073 750.125 67.1073 Q759.037 67.1073 764.222 60.4638 Q769.448 53.8203 769.448 42.3968 Q769.448 30.9327 764.222 24.2892 Q759.037 17.6457 750.125 17.6457 M750.125 11.0023 Q762.845 11.0023 770.46 19.5497 Q778.076 28.0566 778.076 42.3968 Q778.076 56.6965 770.46 65.2439 Q762.845 73.7508 750.125 73.7508 Q737.364 73.7508 729.708 65.2439 Q722.092 56.737 722.092 42.3968 Q722.092 28.0566 729.708 19.5497 Q737.364 11.0023 750.125 11.0023 Z\" fill=\"#000000\" fill-rule=\"evenodd\" fill-opacity=\"1\" /><path clip-path=\"url(#clip590)\" d=\"M797.763 65.7705 L797.763 89.8329 L790.269 89.8329 L790.269 27.2059 L797.763 27.2059 L797.763 34.0924 Q800.113 30.0415 803.678 28.0971 Q807.283 26.1121 812.266 26.1121 Q820.529 26.1121 825.674 32.6746 Q830.859 39.2371 830.859 49.9314 Q830.859 60.6258 825.674 67.1883 Q820.529 73.7508 812.266 73.7508 Q807.283 73.7508 803.678 71.8063 Q800.113 69.8214 797.763 65.7705 M823.122 49.9314 Q823.122 41.7081 819.719 37.0496 Q816.357 32.3505 810.443 32.3505 Q804.528 32.3505 801.126 37.0496 Q797.763 41.7081 797.763 49.9314 Q797.763 58.1548 801.126 62.8538 Q804.528 67.5124 810.443 67.5124 Q816.357 67.5124 819.719 62.8538 Q823.122 58.1548 823.122 49.9314 Z\" fill=\"#000000\" fill-rule=\"evenodd\" fill-opacity=\"1\" /><path clip-path=\"url(#clip590)\" d=\"M882.022 48.0275 L882.022 51.6733 L847.752 51.6733 Q848.238 59.3701 852.37 63.421 Q856.542 67.4314 863.955 67.4314 Q868.249 67.4314 872.259 66.3781 Q876.31 65.3249 880.28 63.2184 L880.28 70.267 Q876.27 71.9684 872.057 72.8596 Q867.844 73.7508 863.51 73.7508 Q852.653 73.7508 846.293 67.4314 Q839.974 61.1119 839.974 50.3365 Q839.974 39.1965 845.969 32.6746 Q852.005 26.1121 862.213 26.1121 Q871.368 26.1121 876.675 32.0264 Q882.022 37.9003 882.022 48.0275 M874.569 45.84 Q874.487 39.7232 871.125 36.0774 Q867.803 32.4315 862.294 32.4315 Q856.056 32.4315 852.289 35.9558 Q848.562 39.4801 847.995 45.8805 L874.569 45.84 Z\" fill=\"#000000\" fill-rule=\"evenodd\" fill-opacity=\"1\" /><path clip-path=\"url(#clip590)\" d=\"M920.546 34.1734 Q919.29 33.4443 917.792 33.1202 Q916.333 32.7556 914.551 32.7556 Q908.232 32.7556 904.829 36.8875 Q901.467 40.9789 901.467 48.6757 L901.467 72.576 L893.972 72.576 L893.972 27.2059 L901.467 27.2059 L901.467 34.2544 Q903.816 30.1225 907.583 28.1376 Q911.351 26.1121 916.738 26.1121 Q917.508 26.1121 918.44 26.2337 Q919.372 26.3147 920.506 26.5172 L920.546 34.1734 Z\" fill=\"#000000\" fill-rule=\"evenodd\" fill-opacity=\"1\" /><path clip-path=\"url(#clip590)\" d=\"M948.984 49.7694 Q939.95 49.7694 936.466 51.8354 Q932.983 53.9013 932.983 58.8839 Q932.983 62.8538 935.575 65.2034 Q938.208 67.5124 942.705 67.5124 Q948.903 67.5124 952.629 63.1374 Q956.397 58.7219 956.397 51.4303 L956.397 49.7694 L948.984 49.7694 M963.85 46.6907 L963.85 72.576 L956.397 72.576 L956.397 65.6895 Q953.845 69.8214 950.037 71.8063 Q946.229 73.7508 940.72 73.7508 Q933.752 73.7508 929.62 69.8619 Q925.529 65.9325 925.529 59.3701 Q925.529 51.7138 930.633 47.825 Q935.778 43.9361 945.945 43.9361 L956.397 43.9361 L956.397 43.2069 Q956.397 38.0623 952.994 35.2672 Q949.632 32.4315 943.515 32.4315 Q939.626 32.4315 935.94 33.3632 Q932.253 34.295 928.851 36.1584 L928.851 29.2718 Q932.942 27.692 936.79 26.9223 Q940.639 26.1121 944.285 26.1121 Q954.128 26.1121 958.989 31.2163 Q963.85 36.3204 963.85 46.6907 Z\" fill=\"#000000\" fill-rule=\"evenodd\" fill-opacity=\"1\" /><path clip-path=\"url(#clip590)\" d=\"M986.576 14.324 L986.576 27.2059 L1001.93 27.2059 L1001.93 32.9987 L986.576 32.9987 L986.576 57.6282 Q986.576 63.1779 988.075 64.7578 Q989.614 66.3376 994.273 66.3376 L1001.93 66.3376 L1001.93 72.576 L994.273 72.576 Q985.644 72.576 982.363 69.3758 Q979.082 66.1351 979.082 57.6282 L979.082 32.9987 L973.613 32.9987 L973.613 27.2059 L979.082 27.2059 L979.082 14.324 L986.576 14.324 Z\" fill=\"#000000\" fill-rule=\"evenodd\" fill-opacity=\"1\" /><path clip-path=\"url(#clip590)\" d=\"M1011.73 27.2059 L1019.19 27.2059 L1019.19 72.576 L1011.73 72.576 L1011.73 27.2059 M1011.73 9.54393 L1019.19 9.54393 L1019.19 18.9825 L1011.73 18.9825 L1011.73 9.54393 Z\" fill=\"#000000\" fill-rule=\"evenodd\" fill-opacity=\"1\" /><path clip-path=\"url(#clip590)\" d=\"M1072.5 45.1919 L1072.5 72.576 L1065.04 72.576 L1065.04 45.4349 Q1065.04 38.994 1062.53 35.7938 Q1060.02 32.5936 1055 32.5936 Q1048.96 32.5936 1045.48 36.4419 Q1041.99 40.2903 1041.99 46.9338 L1041.99 72.576 L1034.5 72.576 L1034.5 27.2059 L1041.99 27.2059 L1041.99 34.2544 Q1044.67 30.163 1048.27 28.1376 Q1051.92 26.1121 1056.66 26.1121 Q1064.47 26.1121 1068.49 30.9732 Q1072.5 35.7938 1072.5 45.1919 Z\" fill=\"#000000\" fill-rule=\"evenodd\" fill-opacity=\"1\" /><path clip-path=\"url(#clip590)\" d=\"M1117.22 49.3643 Q1117.22 41.2625 1113.86 36.8065 Q1110.53 32.3505 1104.5 32.3505 Q1098.5 32.3505 1095.14 36.8065 Q1091.82 41.2625 1091.82 49.3643 Q1091.82 57.4256 1095.14 61.8816 Q1098.5 66.3376 1104.5 66.3376 Q1110.53 66.3376 1113.86 61.8816 Q1117.22 57.4256 1117.22 49.3643 M1124.67 66.9452 Q1124.67 78.5308 1119.53 84.1616 Q1114.38 89.8329 1103.77 89.8329 Q1099.84 89.8329 1096.36 89.2252 Q1092.87 88.6581 1089.59 87.4428 L1089.59 80.1917 Q1092.87 81.9741 1096.07 82.8248 Q1099.27 83.6755 1102.59 83.6755 Q1109.93 83.6755 1113.57 79.8271 Q1117.22 76.0193 1117.22 68.282 L1117.22 64.5957 Q1114.91 68.6061 1111.3 70.5911 Q1107.7 72.576 1102.67 72.576 Q1094.33 72.576 1089.23 66.2161 Q1084.12 59.8562 1084.12 49.3643 Q1084.12 38.832 1089.23 32.472 Q1094.33 26.1121 1102.67 26.1121 Q1107.7 26.1121 1111.3 28.0971 Q1114.91 30.082 1117.22 34.0924 L1117.22 27.2059 L1124.67 27.2059 L1124.67 66.9452 Z\" fill=\"#000000\" fill-rule=\"evenodd\" fill-opacity=\"1\" /><path clip-path=\"url(#clip590)\" d=\"M1212.01 16.7545 L1212.01 25.383 Q1207.88 21.5346 1203.18 19.6307 Q1198.52 17.7268 1193.25 17.7268 Q1182.88 17.7268 1177.37 24.0867 Q1171.86 30.4061 1171.86 42.3968 Q1171.86 54.3469 1177.37 60.7069 Q1182.88 67.0263 1193.25 67.0263 Q1198.52 67.0263 1203.18 65.1223 Q1207.88 63.2184 1212.01 59.3701 L1212.01 67.9175 Q1207.71 70.8341 1202.89 72.2924 Q1198.11 73.7508 1192.77 73.7508 Q1179.03 73.7508 1171.14 65.3654 Q1163.24 56.9395 1163.24 42.3968 Q1163.24 27.8135 1171.14 19.4281 Q1179.03 11.0023 1192.77 11.0023 Q1198.2 11.0023 1202.98 12.4606 Q1207.8 13.8784 1212.01 16.7545 Z\" fill=\"#000000\" fill-rule=\"evenodd\" fill-opacity=\"1\" /><path clip-path=\"url(#clip590)\" d=\"M1262.04 45.1919 L1262.04 72.576 L1254.58 72.576 L1254.58 45.4349 Q1254.58 38.994 1252.07 35.7938 Q1249.56 32.5936 1244.54 32.5936 Q1238.5 32.5936 1235.02 36.4419 Q1231.53 40.2903 1231.53 46.9338 L1231.53 72.576 L1224.04 72.576 L1224.04 9.54393 L1231.53 9.54393 L1231.53 34.2544 Q1234.21 30.163 1237.81 28.1376 Q1241.46 26.1121 1246.2 26.1121 Q1254.02 26.1121 1258.03 30.9732 Q1262.04 35.7938 1262.04 45.1919 Z\" fill=\"#000000\" fill-rule=\"evenodd\" fill-opacity=\"1\" /><path clip-path=\"url(#clip590)\" d=\"M1297.52 49.7694 Q1288.49 49.7694 1285.01 51.8354 Q1281.52 53.9013 1281.52 58.8839 Q1281.52 62.8538 1284.11 65.2034 Q1286.75 67.5124 1291.24 67.5124 Q1297.44 67.5124 1301.17 63.1374 Q1304.94 58.7219 1304.94 51.4303 L1304.94 49.7694 L1297.52 49.7694 M1312.39 46.6907 L1312.39 72.576 L1304.94 72.576 L1304.94 65.6895 Q1302.38 69.8214 1298.58 71.8063 Q1294.77 73.7508 1289.26 73.7508 Q1282.29 73.7508 1278.16 69.8619 Q1274.07 65.9325 1274.07 59.3701 Q1274.07 51.7138 1279.17 47.825 Q1284.32 43.9361 1294.49 43.9361 L1304.94 43.9361 L1304.94 43.2069 Q1304.94 38.0623 1301.53 35.2672 Q1298.17 32.4315 1292.05 32.4315 Q1288.17 32.4315 1284.48 33.3632 Q1280.79 34.295 1277.39 36.1584 L1277.39 29.2718 Q1281.48 27.692 1285.33 26.9223 Q1289.18 26.1121 1292.82 26.1121 Q1302.67 26.1121 1307.53 31.2163 Q1312.39 36.3204 1312.39 46.6907 Z\" fill=\"#000000\" fill-rule=\"evenodd\" fill-opacity=\"1\" /><path clip-path=\"url(#clip590)\" d=\"M1354.03 34.1734 Q1352.78 33.4443 1351.28 33.1202 Q1349.82 32.7556 1348.04 32.7556 Q1341.72 32.7556 1338.32 36.8875 Q1334.95 40.9789 1334.95 48.6757 L1334.95 72.576 L1327.46 72.576 L1327.46 27.2059 L1334.95 27.2059 L1334.95 34.2544 Q1337.3 30.1225 1341.07 28.1376 Q1344.84 26.1121 1350.23 26.1121 Q1351 26.1121 1351.93 26.2337 Q1352.86 26.3147 1353.99 26.5172 L1354.03 34.1734 Z\" fill=\"#000000\" fill-rule=\"evenodd\" fill-opacity=\"1\" /><path clip-path=\"url(#clip590)\" d=\"M1382.47 49.7694 Q1373.44 49.7694 1369.95 51.8354 Q1366.47 53.9013 1366.47 58.8839 Q1366.47 62.8538 1369.06 65.2034 Q1371.7 67.5124 1376.19 67.5124 Q1382.39 67.5124 1386.12 63.1374 Q1389.88 58.7219 1389.88 51.4303 L1389.88 49.7694 L1382.47 49.7694 M1397.34 46.6907 L1397.34 72.576 L1389.88 72.576 L1389.88 65.6895 Q1387.33 69.8214 1383.52 71.8063 Q1379.72 73.7508 1374.21 73.7508 Q1367.24 73.7508 1363.11 69.8619 Q1359.02 65.9325 1359.02 59.3701 Q1359.02 51.7138 1364.12 47.825 Q1369.26 43.9361 1379.43 43.9361 L1389.88 43.9361 L1389.88 43.2069 Q1389.88 38.0623 1386.48 35.2672 Q1383.12 32.4315 1377 32.4315 Q1373.11 32.4315 1369.43 33.3632 Q1365.74 34.295 1362.34 36.1584 L1362.34 29.2718 Q1366.43 27.692 1370.28 26.9223 Q1374.13 26.1121 1377.77 26.1121 Q1387.62 26.1121 1392.48 31.2163 Q1397.34 36.3204 1397.34 46.6907 Z\" fill=\"#000000\" fill-rule=\"evenodd\" fill-opacity=\"1\" /><path clip-path=\"url(#clip590)\" d=\"M1445.34 28.9478 L1445.34 35.9153 Q1442.18 34.1734 1438.98 33.3227 Q1435.82 32.4315 1432.58 32.4315 Q1425.33 32.4315 1421.32 37.0496 Q1417.31 41.6271 1417.31 49.9314 Q1417.31 58.2358 1421.32 62.8538 Q1425.33 67.4314 1432.58 67.4314 Q1435.82 67.4314 1438.98 66.5807 Q1442.18 65.6895 1445.34 63.9476 L1445.34 70.8341 Q1442.22 72.2924 1438.86 73.0216 Q1435.54 73.7508 1431.77 73.7508 Q1421.52 73.7508 1415.49 67.3098 Q1409.45 60.8689 1409.45 49.9314 Q1409.45 38.832 1415.53 32.472 Q1421.64 26.1121 1432.26 26.1121 Q1435.7 26.1121 1438.98 26.8413 Q1442.26 27.5299 1445.34 28.9478 Z\" fill=\"#000000\" fill-rule=\"evenodd\" fill-opacity=\"1\" /><path clip-path=\"url(#clip590)\" d=\"M1465.68 14.324 L1465.68 27.2059 L1481.03 27.2059 L1481.03 32.9987 L1465.68 32.9987 L1465.68 57.6282 Q1465.68 63.1779 1467.18 64.7578 Q1468.71 66.3376 1473.37 66.3376 L1481.03 66.3376 L1481.03 72.576 L1473.37 72.576 Q1464.74 72.576 1461.46 69.3758 Q1458.18 66.1351 1458.18 57.6282 L1458.18 32.9987 L1452.71 32.9987 L1452.71 27.2059 L1458.18 27.2059 L1458.18 14.324 L1465.68 14.324 Z\" fill=\"#000000\" fill-rule=\"evenodd\" fill-opacity=\"1\" /><path clip-path=\"url(#clip590)\" d=\"M1529.64 48.0275 L1529.64 51.6733 L1495.37 51.6733 Q1495.86 59.3701 1499.99 63.421 Q1504.16 67.4314 1511.57 67.4314 Q1515.87 67.4314 1519.88 66.3781 Q1523.93 65.3249 1527.9 63.2184 L1527.9 70.267 Q1523.89 71.9684 1519.67 72.8596 Q1515.46 73.7508 1511.13 73.7508 Q1500.27 73.7508 1493.91 67.4314 Q1487.59 61.1119 1487.59 50.3365 Q1487.59 39.1965 1493.59 32.6746 Q1499.62 26.1121 1509.83 26.1121 Q1518.99 26.1121 1524.29 32.0264 Q1529.64 37.9003 1529.64 48.0275 M1522.19 45.84 Q1522.11 39.7232 1518.74 36.0774 Q1515.42 32.4315 1509.91 32.4315 Q1503.67 32.4315 1499.91 35.9558 Q1496.18 39.4801 1495.61 45.8805 L1522.19 45.84 Z\" fill=\"#000000\" fill-rule=\"evenodd\" fill-opacity=\"1\" /><path clip-path=\"url(#clip590)\" d=\"M1568.16 34.1734 Q1566.91 33.4443 1565.41 33.1202 Q1563.95 32.7556 1562.17 32.7556 Q1555.85 32.7556 1552.45 36.8875 Q1549.08 40.9789 1549.08 48.6757 L1549.08 72.576 L1541.59 72.576 L1541.59 27.2059 L1549.08 27.2059 L1549.08 34.2544 Q1551.43 30.1225 1555.2 28.1376 Q1558.97 26.1121 1564.36 26.1121 Q1565.13 26.1121 1566.06 26.2337 Q1566.99 26.3147 1568.12 26.5172 L1568.16 34.1734 Z\" fill=\"#000000\" fill-rule=\"evenodd\" fill-opacity=\"1\" /><path clip-path=\"url(#clip590)\" d=\"M1575.98 27.2059 L1583.44 27.2059 L1583.44 72.576 L1575.98 72.576 L1575.98 27.2059 M1575.98 9.54393 L1583.44 9.54393 L1583.44 18.9825 L1575.98 18.9825 L1575.98 9.54393 Z\" fill=\"#000000\" fill-rule=\"evenodd\" fill-opacity=\"1\" /><path clip-path=\"url(#clip590)\" d=\"M1627.96 28.5427 L1627.96 35.5912 Q1624.8 33.9709 1621.39 33.1607 Q1617.99 32.3505 1614.34 32.3505 Q1608.79 32.3505 1606 34.0519 Q1603.25 35.7533 1603.25 39.156 Q1603.25 41.7486 1605.23 43.2475 Q1607.22 44.7058 1613.21 46.0426 L1615.76 46.6097 Q1623.7 48.3111 1627.02 51.4303 Q1630.39 54.509 1630.39 60.0587 Q1630.39 66.3781 1625.36 70.0644 Q1620.38 73.7508 1611.63 73.7508 Q1607.98 73.7508 1604.01 73.0216 Q1600.09 72.3329 1595.71 70.9151 L1595.71 63.2184 Q1599.84 65.3654 1603.85 66.4591 Q1607.86 67.5124 1611.79 67.5124 Q1617.06 67.5124 1619.89 65.73 Q1622.73 63.9071 1622.73 60.6258 Q1622.73 57.5877 1620.66 55.9673 Q1618.64 54.3469 1611.71 52.8481 L1609.12 52.2405 Q1602.19 50.7821 1599.11 47.7845 Q1596.03 44.7463 1596.03 39.4801 Q1596.03 33.0797 1600.57 29.5959 Q1605.11 26.1121 1613.45 26.1121 Q1617.59 26.1121 1621.23 26.7198 Q1624.88 27.3274 1627.96 28.5427 Z\" fill=\"#000000\" fill-rule=\"evenodd\" fill-opacity=\"1\" /><path clip-path=\"url(#clip590)\" d=\"M1649.63 14.324 L1649.63 27.2059 L1664.98 27.2059 L1664.98 32.9987 L1649.63 32.9987 L1649.63 57.6282 Q1649.63 63.1779 1651.13 64.7578 Q1652.67 66.3376 1657.32 66.3376 L1664.98 66.3376 L1664.98 72.576 L1657.32 72.576 Q1648.7 72.576 1645.42 69.3758 Q1642.13 66.1351 1642.13 57.6282 L1642.13 32.9987 L1636.67 32.9987 L1636.67 27.2059 L1642.13 27.2059 L1642.13 14.324 L1649.63 14.324 Z\" fill=\"#000000\" fill-rule=\"evenodd\" fill-opacity=\"1\" /><path clip-path=\"url(#clip590)\" d=\"M1674.78 27.2059 L1682.24 27.2059 L1682.24 72.576 L1674.78 72.576 L1674.78 27.2059 M1674.78 9.54393 L1682.24 9.54393 L1682.24 18.9825 L1674.78 18.9825 L1674.78 9.54393 Z\" fill=\"#000000\" fill-rule=\"evenodd\" fill-opacity=\"1\" /><path clip-path=\"url(#clip590)\" d=\"M1730.48 28.9478 L1730.48 35.9153 Q1727.32 34.1734 1724.12 33.3227 Q1720.96 32.4315 1717.72 32.4315 Q1710.47 32.4315 1706.46 37.0496 Q1702.45 41.6271 1702.45 49.9314 Q1702.45 58.2358 1706.46 62.8538 Q1710.47 67.4314 1717.72 67.4314 Q1720.96 67.4314 1724.12 66.5807 Q1727.32 65.6895 1730.48 63.9476 L1730.48 70.8341 Q1727.36 72.2924 1724 73.0216 Q1720.68 73.7508 1716.91 73.7508 Q1706.66 73.7508 1700.63 67.3098 Q1694.59 60.8689 1694.59 49.9314 Q1694.59 38.832 1700.67 32.472 Q1706.79 26.1121 1717.4 26.1121 Q1720.84 26.1121 1724.12 26.8413 Q1727.41 27.5299 1730.48 28.9478 Z\" fill=\"#000000\" fill-rule=\"evenodd\" fill-opacity=\"1\" /><path clip-path=\"url(#clip590)\" d=\"M1787.72 9.62495 Q1782.3 18.942 1779.66 28.0566 Q1777.03 37.1711 1777.03 46.5287 Q1777.03 55.8863 1779.66 65.0818 Q1782.34 74.2369 1787.72 83.5134 L1781.24 83.5134 Q1775.17 73.9938 1772.13 64.7983 Q1769.13 55.6027 1769.13 46.5287 Q1769.13 37.4952 1772.13 28.3401 Q1775.13 19.1851 1781.24 9.62495 L1787.72 9.62495 Z\" fill=\"#000000\" fill-rule=\"evenodd\" fill-opacity=\"1\" /><path clip-path=\"url(#clip590)\" d=\"M1831.19 44.2197 Q1833.82 45.1109 1836.29 48.0275 Q1838.81 50.9442 1841.32 56.0483 L1849.62 72.576 L1840.83 72.576 L1833.09 57.061 Q1830.1 50.9847 1827.26 48.9997 Q1824.47 47.0148 1819.6 47.0148 L1810.69 47.0148 L1810.69 72.576 L1802.51 72.576 L1802.51 12.096 L1820.98 12.096 Q1831.35 12.096 1836.46 16.4305 Q1841.56 20.7649 1841.56 29.5149 Q1841.56 35.2267 1838.89 38.994 Q1836.25 42.7613 1831.19 44.2197 M1810.69 18.8205 L1810.69 40.2903 L1820.98 40.2903 Q1826.9 40.2903 1829.89 37.5762 Q1832.93 34.8216 1832.93 29.5149 Q1832.93 24.2082 1829.89 21.5346 Q1826.9 18.8205 1820.98 18.8205 L1810.69 18.8205 Z\" fill=\"#000000\" fill-rule=\"evenodd\" fill-opacity=\"1\" /><path clip-path=\"url(#clip590)\" d=\"M1884.7 17.6457 Q1875.79 17.6457 1870.52 24.2892 Q1865.3 30.9327 1865.3 42.3968 Q1865.3 53.8203 1870.52 60.4638 Q1875.79 67.1073 1884.7 67.1073 Q1893.61 67.1073 1898.8 60.4638 Q1904.02 53.8203 1904.02 42.3968 Q1904.02 30.9327 1898.8 24.2892 Q1893.61 17.6457 1884.7 17.6457 M1884.7 11.0023 Q1897.42 11.0023 1905.04 19.5497 Q1912.65 28.0566 1912.65 42.3968 Q1912.65 56.6965 1905.04 65.2439 Q1897.42 73.7508 1884.7 73.7508 Q1871.94 73.7508 1864.29 65.2439 Q1856.67 56.737 1856.67 42.3968 Q1856.67 28.0566 1864.29 19.5497 Q1871.94 11.0023 1884.7 11.0023 Z\" fill=\"#000000\" fill-rule=\"evenodd\" fill-opacity=\"1\" /><path clip-path=\"url(#clip590)\" d=\"M1970.74 16.7545 L1970.74 25.383 Q1966.61 21.5346 1961.91 19.6307 Q1957.25 17.7268 1951.99 17.7268 Q1941.62 17.7268 1936.11 24.0867 Q1930.6 30.4061 1930.6 42.3968 Q1930.6 54.3469 1936.11 60.7069 Q1941.62 67.0263 1951.99 67.0263 Q1957.25 67.0263 1961.91 65.1223 Q1966.61 63.2184 1970.74 59.3701 L1970.74 67.9175 Q1966.45 70.8341 1961.63 72.2924 Q1956.85 73.7508 1951.5 73.7508 Q1937.77 73.7508 1929.87 65.3654 Q1921.97 56.9395 1921.97 42.3968 Q1921.97 27.8135 1929.87 19.4281 Q1937.77 11.0023 1951.5 11.0023 Q1956.93 11.0023 1961.71 12.4606 Q1966.53 13.8784 1970.74 16.7545 Z\" fill=\"#000000\" fill-rule=\"evenodd\" fill-opacity=\"1\" /><path clip-path=\"url(#clip590)\" d=\"M1981.88 9.62495 L1988.36 9.62495 Q1994.44 19.1851 1997.44 28.3401 Q2000.48 37.4952 2000.48 46.5287 Q2000.48 55.6027 1997.44 64.7983 Q1994.44 73.9938 1988.36 83.5134 L1981.88 83.5134 Q1987.27 74.2369 1989.9 65.0818 Q1992.58 55.8863 1992.58 46.5287 Q1992.58 37.1711 1989.9 28.0566 Q1987.27 18.942 1981.88 9.62495 Z\" fill=\"#000000\" fill-rule=\"evenodd\" fill-opacity=\"1\" /><path clip-path=\"url(#clip590)\" d=\"M2074.45 28.9478 L2074.45 35.9153 Q2071.29 34.1734 2068.09 33.3227 Q2064.93 32.4315 2061.69 32.4315 Q2054.43 32.4315 2050.42 37.0496 Q2046.41 41.6271 2046.41 49.9314 Q2046.41 58.2358 2050.42 62.8538 Q2054.43 67.4314 2061.69 67.4314 Q2064.93 67.4314 2068.09 66.5807 Q2071.29 65.6895 2074.45 63.9476 L2074.45 70.8341 Q2071.33 72.2924 2067.96 73.0216 Q2064.64 73.7508 2060.88 73.7508 Q2050.63 73.7508 2044.59 67.3098 Q2038.56 60.8689 2038.56 49.9314 Q2038.56 38.832 2044.63 32.472 Q2050.75 26.1121 2061.36 26.1121 Q2064.81 26.1121 2068.09 26.8413 Q2071.37 27.5299 2074.45 28.9478 Z\" fill=\"#000000\" fill-rule=\"evenodd\" fill-opacity=\"1\" /><path clip-path=\"url(#clip590)\" d=\"M2086.64 54.671 L2086.64 27.2059 L2094.09 27.2059 L2094.09 54.3874 Q2094.09 60.8284 2096.6 64.0691 Q2099.12 67.2693 2104.14 67.2693 Q2110.18 67.2693 2113.66 63.421 Q2117.18 59.5726 2117.18 52.9291 L2117.18 27.2059 L2124.64 27.2059 L2124.64 72.576 L2117.18 72.576 L2117.18 65.6084 Q2114.47 69.7404 2110.86 71.7658 Q2107.3 73.7508 2102.56 73.7508 Q2094.74 73.7508 2090.69 68.8897 Q2086.64 64.0286 2086.64 54.671 M2105.4 26.1121 L2105.4 26.1121 Z\" fill=\"#000000\" fill-rule=\"evenodd\" fill-opacity=\"1\" /><path clip-path=\"url(#clip590)\" d=\"M2166.28 34.1734 Q2165.02 33.4443 2163.53 33.1202 Q2162.07 32.7556 2160.28 32.7556 Q2153.97 32.7556 2150.56 36.8875 Q2147.2 40.9789 2147.2 48.6757 L2147.2 72.576 L2139.71 72.576 L2139.71 27.2059 L2147.2 27.2059 L2147.2 34.2544 Q2149.55 30.1225 2153.32 28.1376 Q2157.08 26.1121 2162.47 26.1121 Q2163.24 26.1121 2164.17 26.2337 Q2165.11 26.3147 2166.24 26.5172 L2166.28 34.1734 Z\" fill=\"#000000\" fill-rule=\"evenodd\" fill-opacity=\"1\" /><path clip-path=\"url(#clip590)\" d=\"M2168.75 27.2059 L2176.65 27.2059 L2190.83 65.2844 L2205.01 27.2059 L2212.91 27.2059 L2195.89 72.576 L2185.77 72.576 L2168.75 27.2059 Z\" fill=\"#000000\" fill-rule=\"evenodd\" fill-opacity=\"1\" /><path clip-path=\"url(#clip590)\" d=\"M2262 48.0275 L2262 51.6733 L2227.73 51.6733 Q2228.22 59.3701 2232.35 63.421 Q2236.52 67.4314 2243.94 67.4314 Q2248.23 67.4314 2252.24 66.3781 Q2256.29 65.3249 2260.26 63.2184 L2260.26 70.267 Q2256.25 71.9684 2252.04 72.8596 Q2247.83 73.7508 2243.49 73.7508 Q2232.63 73.7508 2226.27 67.4314 Q2219.95 61.1119 2219.95 50.3365 Q2219.95 39.1965 2225.95 32.6746 Q2231.99 26.1121 2242.19 26.1121 Q2251.35 26.1121 2256.66 32.0264 Q2262 37.9003 2262 48.0275 M2254.55 45.84 Q2254.47 39.7232 2251.11 36.0774 Q2247.78 32.4315 2242.28 32.4315 Q2236.04 32.4315 2232.27 35.9558 Q2228.54 39.4801 2227.98 45.8805 L2254.55 45.84 Z\" fill=\"#000000\" fill-rule=\"evenodd\" fill-opacity=\"1\" /><polyline clip-path=\"url(#clip592)\" style=\"stroke:#009af9; stroke-linecap:round; stroke-linejoin:round; stroke-width:8; stroke-opacity:1; fill:none\" points=\"\n",
       "  309.067,1386.4 309.067,1359.74 309.067,1333.09 309.067,1306.43 309.067,1279.77 328.145,1279.77 347.224,1279.77 366.302,1279.77 366.302,1253.12 385.381,1253.12 \n",
       "  385.381,1226.46 385.381,1199.81 385.381,1173.15 385.381,1146.5 385.381,1119.84 385.381,1093.19 385.381,1066.53 404.459,1066.53 423.538,1066.53 442.616,1066.53 \n",
       "  442.616,1039.88 461.695,1039.88 461.695,1013.22 461.695,986.568 480.773,986.568 499.852,986.568 499.852,959.912 499.852,933.257 499.852,906.602 499.852,879.947 \n",
       "  499.852,853.292 518.93,853.292 538.009,853.292 538.009,826.636 538.009,799.981 557.087,799.981 576.166,799.981 576.166,773.326 595.244,773.326 614.323,773.326 \n",
       "  633.401,773.326 652.48,773.326 652.48,746.671 652.48,720.016 652.48,693.36 652.48,666.705 671.558,666.705 690.637,666.705 690.637,640.05 709.715,640.05 \n",
       "  728.794,640.05 747.872,640.05 747.872,613.395 747.872,586.74 766.951,586.74 766.951,560.084 766.951,533.429 766.951,506.774 786.029,506.774 786.029,480.119 \n",
       "  786.029,453.464 786.029,426.808 805.108,426.808 824.186,426.808 843.265,426.808 862.343,426.808 862.343,400.153 862.343,373.498 862.343,346.843 881.422,346.843 \n",
       "  881.422,320.188 900.5,320.188 919.579,320.188 938.657,320.188 938.657,293.532 957.736,293.532 976.814,293.532 995.893,293.532 995.893,266.877 1014.97,266.877 \n",
       "  1034.05,266.877 1053.13,266.877 1072.21,266.877 1091.29,266.877 1110.36,266.877 1129.44,266.877 1148.52,266.877 1167.6,266.877 1186.68,266.877 1205.76,266.877 \n",
       "  1205.76,240.222 1224.83,240.222 1243.91,240.222 1262.99,240.222 1262.99,213.567 1282.07,213.567 1301.15,213.567 1320.23,213.567 1339.31,213.567 1358.38,213.567 \n",
       "  1358.38,186.912 1377.46,186.912 1396.54,186.912 1415.62,186.912 1434.7,186.912 1453.78,186.912 1472.86,186.912 1491.93,186.912 1511.01,186.912 1530.09,186.912 \n",
       "  1549.17,186.912 1568.25,186.912 1587.33,186.912 1606.4,186.912 1625.48,186.912 1644.56,186.912 1663.64,186.912 1682.72,186.912 1701.8,186.912 1720.88,186.912 \n",
       "  1739.95,186.912 1759.03,186.912 1778.11,186.912 1797.19,186.912 1816.27,186.912 1835.35,186.912 1854.43,186.912 1873.5,186.912 1892.58,186.912 1911.66,186.912 \n",
       "  1930.74,186.912 1949.82,186.912 1968.9,186.912 1987.97,186.912 2007.05,186.912 2026.13,186.912 2045.21,186.912 2045.21,160.256 2064.29,160.256 2083.37,160.256 \n",
       "  2102.45,160.256 2121.52,160.256 2140.6,160.256 2159.68,160.256 2178.76,160.256 2197.84,160.256 2216.92,160.256 2236,160.256 2255.07,160.256 2274.15,160.256 \n",
       "  2293.23,160.256 \n",
       "  \"/>\n",
       "<polyline clip-path=\"url(#clip592)\" style=\"stroke:#e26f46; stroke-linecap:round; stroke-linejoin:round; stroke-width:8; stroke-opacity:1; fill:none\" points=\"\n",
       "  309.067,1386.4 309.067,1381.57 309.067,1376.74 309.067,1371.91 312.396,1371.91 312.396,1367.09 312.396,1362.26 312.396,1357.43 312.396,1352.6 312.396,1347.78 \n",
       "  315.725,1347.78 315.725,1342.95 319.054,1342.95 322.383,1342.95 322.383,1338.12 322.383,1333.3 325.713,1333.3 329.042,1333.3 329.042,1328.47 329.042,1323.64 \n",
       "  329.042,1318.81 329.042,1313.99 329.042,1309.16 329.042,1304.33 329.042,1299.5 329.042,1294.68 332.371,1294.68 332.371,1289.85 332.371,1285.02 332.371,1280.19 \n",
       "  332.371,1275.37 335.7,1275.37 335.7,1270.54 339.029,1270.54 339.029,1265.71 339.029,1260.89 339.029,1256.06 339.029,1251.23 342.358,1251.23 342.358,1246.4 \n",
       "  342.358,1241.58 342.358,1236.75 342.358,1231.92 342.358,1227.09 342.358,1222.27 345.687,1222.27 349.017,1222.27 349.017,1217.44 349.017,1212.61 349.017,1207.78 \n",
       "  349.017,1202.96 349.017,1198.13 352.346,1198.13 352.346,1193.3 352.346,1188.48 352.346,1183.65 352.346,1178.82 352.346,1173.99 352.346,1169.17 352.346,1164.34 \n",
       "  352.346,1159.51 355.675,1159.51 355.675,1154.68 359.004,1154.68 359.004,1149.86 362.333,1149.86 362.333,1145.03 362.333,1140.2 362.333,1135.38 362.333,1130.55 \n",
       "  365.662,1130.55 365.662,1125.72 368.991,1125.72 368.991,1120.89 368.991,1116.07 368.991,1111.24 368.991,1106.41 368.991,1101.58 368.991,1096.76 372.321,1096.76 \n",
       "  372.321,1091.93 372.321,1087.1 372.321,1082.27 372.321,1077.45 372.321,1072.62 372.321,1067.79 375.65,1067.79 375.65,1062.97 378.979,1062.97 378.979,1058.14 \n",
       "  378.979,1053.31 378.979,1048.48 378.979,1043.66 378.979,1038.83 382.308,1038.83 382.308,1034 382.308,1029.17 382.308,1024.35 385.637,1024.35 385.637,1019.52 \n",
       "  385.637,1014.69 385.637,1009.86 388.966,1009.86 388.966,1005.04 388.966,1000.21 392.295,1000.21 392.295,995.383 392.295,990.555 395.624,990.555 398.954,990.555 \n",
       "  398.954,985.728 398.954,980.901 398.954,976.073 402.283,976.073 402.283,971.246 402.283,966.419 402.283,961.591 402.283,956.764 402.283,951.937 402.283,947.11 \n",
       "  402.283,942.282 402.283,937.455 402.283,932.628 405.612,932.628 405.612,927.8 408.941,927.8 408.941,922.973 408.941,918.146 412.27,918.146 412.27,913.318 \n",
       "  415.599,913.318 415.599,908.491 415.599,903.664 415.599,898.836 418.928,898.836 418.928,894.009 418.928,889.182 422.258,889.182 422.258,884.354 425.587,884.354 \n",
       "  425.587,879.527 425.587,874.7 428.916,874.7 432.245,874.7 432.245,869.872 432.245,865.045 435.574,865.045 435.574,860.218 435.574,855.39 435.574,850.563 \n",
       "  438.903,850.563 442.232,850.563 442.232,845.736 442.232,840.908 442.232,836.081 445.561,836.081 445.561,831.254 448.891,831.254 452.22,831.254 452.22,826.427 \n",
       "  455.549,826.427 455.549,821.599 455.549,816.772 455.549,811.945 455.549,807.117 458.878,807.117 462.207,807.117 462.207,802.29 462.207,797.463 462.207,792.635 \n",
       "  462.207,787.808 465.536,787.808 468.865,787.808 472.195,787.808 472.195,782.981 472.195,778.153 472.195,773.326 475.524,773.326 475.524,768.499 478.853,768.499 \n",
       "  482.182,768.499 485.511,768.499 488.84,768.499 492.169,768.499 495.498,768.499 495.498,763.671 495.498,758.844 495.498,754.017 498.828,754.017 498.828,749.189 \n",
       "  498.828,744.362 502.157,744.362 505.486,744.362 508.815,744.362 512.144,744.362 512.144,739.535 512.144,734.707 515.473,734.707 518.802,734.707 518.802,729.88 \n",
       "  522.132,729.88 522.132,725.053 525.461,725.053 528.79,725.053 532.119,725.053 532.119,720.225 532.119,715.398 532.119,710.571 532.119,705.744 532.119,700.916 \n",
       "  532.119,696.089 535.448,696.089 538.777,696.089 538.777,691.262 538.777,686.434 542.106,686.434 545.435,686.434 545.435,681.607 548.765,681.607 552.094,681.607 \n",
       "  552.094,676.78 555.423,676.78 558.752,676.78 558.752,671.952 562.081,671.952 565.41,671.952 565.41,667.125 565.41,662.298 565.41,657.47 568.739,657.47 \n",
       "  572.069,657.47 575.398,657.47 575.398,652.643 575.398,647.816 575.398,642.988 575.398,638.161 578.727,638.161 582.056,638.161 582.056,633.334 585.385,633.334 \n",
       "  588.714,633.334 592.043,633.334 592.043,628.506 592.043,623.679 595.373,623.679 598.702,623.679 602.031,623.679 602.031,618.852 605.36,618.852 608.689,618.852 \n",
       "  612.018,618.852 615.347,618.852 615.347,614.024 618.676,614.024 618.676,609.197 618.676,604.37 622.006,604.37 625.335,604.37 625.335,599.542 628.664,599.542 \n",
       "  631.993,599.542 631.993,594.715 635.322,594.715 638.651,594.715 641.98,594.715 641.98,589.888 645.31,589.888 648.639,589.888 651.968,589.888 655.297,589.888 \n",
       "  658.626,589.888 661.955,589.888 665.284,589.888 668.613,589.888 668.613,585.06 671.943,585.06 675.272,585.06 678.601,585.06 681.93,585.06 681.93,580.233 \n",
       "  685.259,580.233 688.588,580.233 688.588,575.406 691.917,575.406 691.917,570.579 695.247,570.579 695.247,565.751 695.247,560.924 698.576,560.924 698.576,556.097 \n",
       "  701.905,556.097 705.234,556.097 708.563,556.097 708.563,551.269 711.892,551.269 715.221,551.269 718.55,551.269 721.88,551.269 721.88,546.442 725.209,546.442 \n",
       "  728.538,546.442 731.867,546.442 735.196,546.442 738.525,546.442 738.525,541.615 738.525,536.787 741.854,536.787 745.184,536.787 748.513,536.787 751.842,536.787 \n",
       "  755.171,536.787 758.5,536.787 758.5,531.96 761.829,531.96 765.158,531.96 765.158,527.133 768.487,527.133 771.817,527.133 775.146,527.133 775.146,522.305 \n",
       "  778.475,522.305 781.804,522.305 785.133,522.305 785.133,517.478 788.462,517.478 788.462,512.651 788.462,507.823 791.791,507.823 795.121,507.823 798.45,507.823 \n",
       "  801.779,507.823 805.108,507.823 805.108,502.996 808.437,502.996 811.766,502.996 811.766,498.169 815.095,498.169 818.424,498.169 821.754,498.169 825.083,498.169 \n",
       "  828.412,498.169 831.741,498.169 835.07,498.169 835.07,493.341 838.399,493.341 838.399,488.514 838.399,483.687 841.728,483.687 845.058,483.687 848.387,483.687 \n",
       "  851.716,483.687 851.716,478.859 855.045,478.859 858.374,478.859 861.703,478.859 865.032,478.859 868.362,478.859 868.362,474.032 868.362,469.205 871.691,469.205 \n",
       "  871.691,464.377 871.691,459.55 875.02,459.55 878.349,459.55 881.678,459.55 885.007,459.55 885.007,454.723 888.336,454.723 891.665,454.723 891.665,449.896 \n",
       "  891.665,445.068 894.995,445.068 894.995,440.241 894.995,435.414 898.324,435.414 901.653,435.414 901.653,430.586 904.982,430.586 904.982,425.759 908.311,425.759 \n",
       "  911.64,425.759 914.969,425.759 918.299,425.759 921.628,425.759 924.957,425.759 928.286,425.759 931.615,425.759 934.944,425.759 934.944,420.932 938.273,420.932 \n",
       "  938.273,416.104 941.602,416.104 944.932,416.104 944.932,411.277 948.261,411.277 951.59,411.277 954.919,411.277 958.248,411.277 961.577,411.277 964.906,411.277 \n",
       "  964.906,406.45 964.906,401.622 968.236,401.622 968.236,396.795 968.236,391.968 968.236,387.14 971.565,387.14 971.565,382.313 974.894,382.313 978.223,382.313 \n",
       "  981.552,382.313 984.881,382.313 988.21,382.313 991.539,382.313 994.869,382.313 998.198,382.313 1001.53,382.313 1001.53,377.486 1001.53,372.658 1004.86,372.658 \n",
       "  1008.19,372.658 1011.51,372.658 1014.84,372.658 1018.17,372.658 1021.5,372.658 1024.83,372.658 1024.83,367.831 1028.16,367.831 1031.49,367.831 1034.82,367.831 \n",
       "  1038.15,367.831 1041.48,367.831 1044.81,367.831 1048.13,367.831 1048.13,363.004 1048.13,358.176 1051.46,358.176 1054.79,358.176 1058.12,358.176 1061.45,358.176 \n",
       "  1064.78,358.176 1068.11,358.176 1071.44,358.176 1074.77,358.176 1078.1,358.176 1081.43,358.176 1084.76,358.176 1084.76,353.349 1088.08,353.349 1091.41,353.349 \n",
       "  1094.74,353.349 1094.74,348.522 1098.07,348.522 1101.4,348.522 1104.73,348.522 1108.06,348.522 1111.39,348.522 1114.72,348.522 1118.05,348.522 1121.38,348.522 \n",
       "  1124.7,348.522 1128.03,348.522 1131.36,348.522 1134.69,348.522 1138.02,348.522 1141.35,348.522 1144.68,348.522 1148.01,348.522 1151.34,348.522 1154.67,348.522 \n",
       "  1158,348.522 1158,343.694 1161.33,343.694 1164.65,343.694 1167.98,343.694 1171.31,343.694 1171.31,338.867 1174.64,338.867 1177.97,338.867 1181.3,338.867 \n",
       "  1184.63,338.867 1187.96,338.867 1191.29,338.867 1194.62,338.867 1197.95,338.867 1201.27,338.867 1201.27,334.04 1204.6,334.04 1207.93,334.04 1211.26,334.04 \n",
       "  1214.59,334.04 1214.59,329.213 1217.92,329.213 1221.25,329.213 1224.58,329.213 1227.91,329.213 1227.91,324.385 1231.24,324.385 1234.57,324.385 1237.9,324.385 \n",
       "  1237.9,319.558 1241.22,319.558 1244.55,319.558 1247.88,319.558 1251.21,319.558 1254.54,319.558 1257.87,319.558 1261.2,319.558 1264.53,319.558 1267.86,319.558 \n",
       "  1271.19,319.558 1274.52,319.558 1274.52,314.731 1277.85,314.731 1281.17,314.731 1284.5,314.731 1284.5,309.903 1284.5,305.076 1287.83,305.076 1287.83,300.249 \n",
       "  1291.16,300.249 1294.49,300.249 1294.49,295.421 1297.82,295.421 1301.15,295.421 1304.48,295.421 1307.81,295.421 1311.14,295.421 1314.47,295.421 1317.79,295.421 \n",
       "  1321.12,295.421 1321.12,290.594 1324.45,290.594 1327.78,290.594 1331.11,290.594 1334.44,290.594 1337.77,290.594 1341.1,290.594 1344.43,290.594 1347.76,290.594 \n",
       "  1347.76,285.767 1351.09,285.767 1354.42,285.767 1357.74,285.767 1361.07,285.767 1364.4,285.767 1367.73,285.767 1371.06,285.767 1374.39,285.767 1377.72,285.767 \n",
       "  1381.05,285.767 1384.38,285.767 1387.71,285.767 1387.71,280.939 1391.04,280.939 1394.36,280.939 1397.69,280.939 1397.69,276.112 1401.02,276.112 1404.35,276.112 \n",
       "  1407.68,276.112 1407.68,271.285 1411.01,271.285 1414.34,271.285 1417.67,271.285 1421,271.285 1424.33,271.285 1424.33,266.457 1427.66,266.457 1427.66,261.63 \n",
       "  1430.99,261.63 1430.99,256.803 1430.99,251.975 1434.31,251.975 1437.64,251.975 1440.97,251.975 1444.3,251.975 1447.63,251.975 1450.96,251.975 1454.29,251.975 \n",
       "  1457.62,251.975 1460.95,251.975 1464.28,251.975 1467.61,251.975 1470.93,251.975 1474.26,251.975 1477.59,251.975 1480.92,251.975 1484.25,251.975 1487.58,251.975 \n",
       "  1490.91,251.975 1494.24,251.975 1497.57,251.975 1500.9,251.975 1504.23,251.975 1507.56,251.975 1510.88,251.975 1510.88,247.148 1514.21,247.148 1517.54,247.148 \n",
       "  1520.87,247.148 1524.2,247.148 1527.53,247.148 1527.53,242.321 1530.86,242.321 1534.19,242.321 1537.52,242.321 1540.85,242.321 1540.85,237.493 1544.18,237.493 \n",
       "  1547.5,237.493 1550.83,237.493 1554.16,237.493 1557.49,237.493 1557.49,232.666 1560.82,232.666 1564.15,232.666 1567.48,232.666 1567.48,227.839 1570.81,227.839 \n",
       "  1574.14,227.839 1577.47,227.839 1580.8,227.839 1584.13,227.839 1587.45,227.839 1590.78,227.839 1594.11,227.839 1597.44,227.839 1600.77,227.839 1604.1,227.839 \n",
       "  1607.43,227.839 1610.76,227.839 1614.09,227.839 1617.42,227.839 1620.75,227.839 1624.07,227.839 1627.4,227.839 1630.73,227.839 1634.06,227.839 1637.39,227.839 \n",
       "  1637.39,223.011 1640.72,223.011 1644.05,223.011 1647.38,223.011 1650.71,223.011 1654.04,223.011 1657.37,223.011 1660.7,223.011 1664.02,223.011 1667.35,223.011 \n",
       "  1670.68,223.011 1674.01,223.011 1677.34,223.011 1680.67,223.011 1684,223.011 1687.33,223.011 1690.66,223.011 1693.99,223.011 1693.99,218.184 1697.32,218.184 \n",
       "  1700.65,218.184 1703.97,218.184 1703.97,213.357 1703.97,208.53 1707.3,208.53 1710.63,208.53 1713.96,208.53 1717.29,208.53 1720.62,208.53 1723.95,208.53 \n",
       "  1723.95,203.702 1727.28,203.702 1730.61,203.702 1730.61,198.875 1730.61,194.048 1733.94,194.048 1733.94,189.22 1737.27,189.22 1740.59,189.22 1743.92,189.22 \n",
       "  1747.25,189.22 1750.58,189.22 1753.91,189.22 1757.24,189.22 1757.24,184.393 1760.57,184.393 1763.9,184.393 1767.23,184.393 1770.56,184.393 1773.89,184.393 \n",
       "  1777.22,184.393 1777.22,179.566 1780.54,179.566 1783.87,179.566 1787.2,179.566 1790.53,179.566 1793.86,179.566 1797.19,179.566 1800.52,179.566 1803.85,179.566 \n",
       "  1807.18,179.566 1810.51,179.566 1813.84,179.566 1817.16,179.566 1820.49,179.566 1823.82,179.566 1827.15,179.566 1830.48,179.566 1833.81,179.566 1837.14,179.566 \n",
       "  1840.47,179.566 1843.8,179.566 1847.13,179.566 1850.46,179.566 1853.79,179.566 1857.11,179.566 1860.44,179.566 1863.77,179.566 1867.1,179.566 1870.43,179.566 \n",
       "  1873.76,179.566 1877.09,179.566 1880.42,179.566 1883.75,179.566 1883.75,174.738 1887.08,174.738 1890.41,174.738 1893.73,174.738 1897.06,174.738 1900.39,174.738 \n",
       "  1903.72,174.738 1907.05,174.738 1907.05,169.911 1910.38,169.911 1913.71,169.911 1917.04,169.911 1920.37,169.911 1923.7,169.911 1927.03,169.911 1930.36,169.911 \n",
       "  1933.68,169.911 1937.01,169.911 1940.34,169.911 1943.67,169.911 1947,169.911 1950.33,169.911 1953.66,169.911 1956.99,169.911 1960.32,169.911 1960.32,165.084 \n",
       "  1963.65,165.084 1966.98,165.084 1970.3,165.084 1973.63,165.084 1976.96,165.084 1980.29,165.084 1983.62,165.084 1986.95,165.084 1990.28,165.084 1993.61,165.084 \n",
       "  1996.94,165.084 2000.27,165.084 2003.6,165.084 2006.93,165.084 2010.25,165.084 2013.58,165.084 2016.91,165.084 2020.24,165.084 2023.57,165.084 2026.9,165.084 \n",
       "  2030.23,165.084 2033.56,165.084 2036.89,165.084 2040.22,165.084 2043.55,165.084 2046.88,165.084 2050.2,165.084 2053.53,165.084 2056.86,165.084 2060.19,165.084 \n",
       "  2063.52,165.084 2066.85,165.084 2070.18,165.084 2073.51,165.084 2076.84,165.084 2080.17,165.084 2083.5,165.084 2086.82,165.084 2090.15,165.084 2093.48,165.084 \n",
       "  2096.81,165.084 2100.14,165.084 2103.47,165.084 2106.8,165.084 2110.13,165.084 2113.46,165.084 2116.79,165.084 2120.12,165.084 2123.45,165.084 2126.77,165.084 \n",
       "  2130.1,165.084 2133.43,165.084 2136.76,165.084 2136.76,160.256 2140.09,160.256 2143.42,160.256 2146.75,160.256 2150.08,160.256 2153.41,160.256 2156.74,160.256 \n",
       "  2160.07,160.256 2163.39,160.256 2166.72,160.256 2170.05,160.256 2173.38,160.256 2176.71,160.256 2180.04,160.256 2183.37,160.256 2186.7,160.256 2190.03,160.256 \n",
       "  2193.36,160.256 2196.69,160.256 2200.02,160.256 2203.34,160.256 2206.67,160.256 2210,160.256 2213.33,160.256 2216.66,160.256 2219.99,160.256 2223.32,160.256 \n",
       "  2226.65,160.256 2229.98,160.256 2233.31,160.256 2236.64,160.256 2239.96,160.256 2243.29,160.256 2246.62,160.256 2249.95,160.256 2253.28,160.256 2256.61,160.256 \n",
       "  2259.94,160.256 2263.27,160.256 2266.6,160.256 2269.93,160.256 2273.26,160.256 2276.59,160.256 2279.91,160.256 2283.24,160.256 2286.57,160.256 2289.9,160.256 \n",
       "  2293.23,160.256 \n",
       "  \"/>\n",
       "<polyline clip-path=\"url(#clip592)\" style=\"stroke:#3da44d; stroke-linecap:round; stroke-linejoin:round; stroke-width:4; stroke-opacity:1; fill:none\" stroke-dasharray=\"16, 10\" points=\"\n",
       "  -1853.67,2722.89 4455.97,-1176.24 \n",
       "  \"/>\n",
       "<path clip-path=\"url(#clip590)\" d=\"\n",
       "M1854.55 1379.86 L2282.65 1379.86 L2282.65 1172.5 L1854.55 1172.5  Z\n",
       "  \" fill=\"#ffffff\" fill-rule=\"evenodd\" fill-opacity=\"1\"/>\n",
       "<polyline clip-path=\"url(#clip590)\" style=\"stroke:#000000; stroke-linecap:round; stroke-linejoin:round; stroke-width:4; stroke-opacity:1; fill:none\" points=\"\n",
       "  1854.55,1379.86 2282.65,1379.86 2282.65,1172.5 1854.55,1172.5 1854.55,1379.86 \n",
       "  \"/>\n",
       "<polyline clip-path=\"url(#clip590)\" style=\"stroke:#009af9; stroke-linecap:round; stroke-linejoin:round; stroke-width:8; stroke-opacity:1; fill:none\" points=\"\n",
       "  1877.92,1224.34 2018.13,1224.34 \n",
       "  \"/>\n",
       "<path clip-path=\"url(#clip590)\" d=\"M2041.5 1207.06 L2070.74 1207.06 L2070.74 1210.99 L2058.47 1210.99 L2058.47 1241.62 L2053.77 1241.62 L2053.77 1210.99 L2041.5 1210.99 L2041.5 1207.06 Z\" fill=\"#000000\" fill-rule=\"evenodd\" fill-opacity=\"1\" /><path clip-path=\"url(#clip590)\" d=\"M2089.19 1227.59 L2089.19 1229.67 L2069.6 1229.67 Q2069.88 1234.07 2072.24 1236.38 Q2074.63 1238.68 2078.86 1238.68 Q2081.32 1238.68 2083.61 1238.07 Q2085.92 1237.47 2088.19 1236.27 L2088.19 1240.3 Q2085.9 1241.27 2083.49 1241.78 Q2081.09 1242.29 2078.61 1242.29 Q2072.41 1242.29 2068.77 1238.68 Q2065.16 1235.07 2065.16 1228.91 Q2065.16 1222.54 2068.59 1218.82 Q2072.04 1215.07 2077.87 1215.07 Q2083.1 1215.07 2086.13 1218.45 Q2089.19 1221.8 2089.19 1227.59 M2084.93 1226.34 Q2084.88 1222.84 2082.96 1220.76 Q2081.06 1218.68 2077.91 1218.68 Q2074.35 1218.68 2072.2 1220.69 Q2070.07 1222.7 2069.74 1226.36 L2084.93 1226.34 Z\" fill=\"#000000\" fill-rule=\"evenodd\" fill-opacity=\"1\" /><path clip-path=\"url(#clip590)\" d=\"M2112.71 1216.45 L2112.71 1220.48 Q2110.9 1219.56 2108.96 1219.09 Q2107.01 1218.63 2104.93 1218.63 Q2101.76 1218.63 2100.16 1219.6 Q2098.59 1220.57 2098.59 1222.52 Q2098.59 1224 2099.72 1224.86 Q2100.85 1225.69 2104.28 1226.45 L2105.74 1226.78 Q2110.28 1227.75 2112.17 1229.53 Q2114.1 1231.29 2114.1 1234.46 Q2114.1 1238.07 2111.22 1240.18 Q2108.38 1242.29 2103.38 1242.29 Q2101.29 1242.29 2099.03 1241.87 Q2096.78 1241.48 2094.28 1240.67 L2094.28 1236.27 Q2096.64 1237.5 2098.93 1238.12 Q2101.23 1238.72 2103.47 1238.72 Q2106.48 1238.72 2108.1 1237.7 Q2109.72 1236.66 2109.72 1234.79 Q2109.72 1233.05 2108.54 1232.13 Q2107.38 1231.2 2103.42 1230.34 L2101.94 1230 Q2097.98 1229.16 2096.23 1227.45 Q2094.47 1225.71 2094.47 1222.7 Q2094.47 1219.05 2097.06 1217.06 Q2099.65 1215.07 2104.42 1215.07 Q2106.78 1215.07 2108.86 1215.41 Q2110.95 1215.76 2112.71 1216.45 Z\" fill=\"#000000\" fill-rule=\"evenodd\" fill-opacity=\"1\" /><path clip-path=\"url(#clip590)\" d=\"M2125.09 1208.33 L2125.09 1215.69 L2133.86 1215.69 L2133.86 1219 L2125.09 1219 L2125.09 1233.07 Q2125.09 1236.25 2125.95 1237.15 Q2126.83 1238.05 2129.49 1238.05 L2133.86 1238.05 L2133.86 1241.62 L2129.49 1241.62 Q2124.56 1241.62 2122.68 1239.79 Q2120.81 1237.94 2120.81 1233.07 L2120.81 1219 L2117.68 1219 L2117.68 1215.69 L2120.81 1215.69 L2120.81 1208.33 L2125.09 1208.33 Z\" fill=\"#000000\" fill-rule=\"evenodd\" fill-opacity=\"1\" /><polyline clip-path=\"url(#clip590)\" style=\"stroke:#e26f46; stroke-linecap:round; stroke-linejoin:round; stroke-width:8; stroke-opacity:1; fill:none\" points=\"\n",
       "  1877.92,1276.18 2018.13,1276.18 \n",
       "  \"/>\n",
       "<path clip-path=\"url(#clip590)\" d=\"M2041.5 1258.9 L2070.74 1258.9 L2070.74 1262.83 L2058.47 1262.83 L2058.47 1293.46 L2053.77 1293.46 L2053.77 1262.83 L2041.5 1262.83 L2041.5 1258.9 Z\" fill=\"#000000\" fill-rule=\"evenodd\" fill-opacity=\"1\" /><path clip-path=\"url(#clip590)\" d=\"M2083.12 1271.51 Q2082.41 1271.1 2081.55 1270.91 Q2080.72 1270.7 2079.7 1270.7 Q2076.09 1270.7 2074.14 1273.06 Q2072.22 1275.4 2072.22 1279.8 L2072.22 1293.46 L2067.94 1293.46 L2067.94 1267.53 L2072.22 1267.53 L2072.22 1271.56 Q2073.56 1269.2 2075.72 1268.06 Q2077.87 1266.91 2080.95 1266.91 Q2081.39 1266.91 2081.92 1266.97 Q2082.45 1267.02 2083.1 1267.14 L2083.12 1271.51 Z\" fill=\"#000000\" fill-rule=\"evenodd\" fill-opacity=\"1\" /><path clip-path=\"url(#clip590)\" d=\"M2099.37 1280.42 Q2094.21 1280.42 2092.22 1281.6 Q2090.23 1282.79 2090.23 1285.63 Q2090.23 1287.9 2091.71 1289.24 Q2093.22 1290.56 2095.79 1290.56 Q2099.33 1290.56 2101.46 1288.06 Q2103.61 1285.54 2103.61 1281.37 L2103.61 1280.42 L2099.37 1280.42 M2107.87 1278.66 L2107.87 1293.46 L2103.61 1293.46 L2103.61 1289.52 Q2102.15 1291.88 2099.98 1293.02 Q2097.8 1294.13 2094.65 1294.13 Q2090.67 1294.13 2088.31 1291.91 Q2085.97 1289.66 2085.97 1285.91 Q2085.97 1281.54 2088.89 1279.31 Q2091.83 1277.09 2097.64 1277.09 L2103.61 1277.09 L2103.61 1276.67 Q2103.61 1273.73 2101.66 1272.14 Q2099.74 1270.52 2096.25 1270.52 Q2094.03 1270.52 2091.92 1271.05 Q2089.81 1271.58 2087.87 1272.65 L2087.87 1268.71 Q2090.21 1267.81 2092.41 1267.37 Q2094.6 1266.91 2096.69 1266.91 Q2102.31 1266.91 2105.09 1269.82 Q2107.87 1272.74 2107.87 1278.66 Z\" fill=\"#000000\" fill-rule=\"evenodd\" fill-opacity=\"1\" /><path clip-path=\"url(#clip590)\" d=\"M2116.64 1267.53 L2120.9 1267.53 L2120.9 1293.46 L2116.64 1293.46 L2116.64 1267.53 M2116.64 1257.44 L2120.9 1257.44 L2120.9 1262.83 L2116.64 1262.83 L2116.64 1257.44 Z\" fill=\"#000000\" fill-rule=\"evenodd\" fill-opacity=\"1\" /><path clip-path=\"url(#clip590)\" d=\"M2151.36 1277.81 L2151.36 1293.46 L2147.1 1293.46 L2147.1 1277.95 Q2147.1 1274.27 2145.67 1272.44 Q2144.23 1270.61 2141.36 1270.61 Q2137.91 1270.61 2135.92 1272.81 Q2133.93 1275.01 2133.93 1278.8 L2133.93 1293.46 L2129.65 1293.46 L2129.65 1267.53 L2133.93 1267.53 L2133.93 1271.56 Q2135.46 1269.22 2137.52 1268.06 Q2139.6 1266.91 2142.31 1266.91 Q2146.78 1266.91 2149.07 1269.68 Q2151.36 1272.44 2151.36 1277.81 Z\" fill=\"#000000\" fill-rule=\"evenodd\" fill-opacity=\"1\" /><polyline clip-path=\"url(#clip590)\" style=\"stroke:#3da44d; stroke-linecap:round; stroke-linejoin:round; stroke-width:4; stroke-opacity:1; fill:none\" stroke-dasharray=\"16, 10\" points=\"\n",
       "  1877.92,1328.02 2018.13,1328.02 \n",
       "  \"/>\n",
       "<path clip-path=\"url(#clip590)\" d=\"M2041.5 1310.74 L2070.74 1310.74 L2070.74 1314.67 L2058.47 1314.67 L2058.47 1345.3 L2053.77 1345.3 L2053.77 1314.67 L2041.5 1314.67 L2041.5 1310.74 Z\" fill=\"#000000\" fill-rule=\"evenodd\" fill-opacity=\"1\" /><path clip-path=\"url(#clip590)\" d=\"M2079.93 1314.58 L2079.93 1327.56 L2085.81 1327.56 Q2089.07 1327.56 2090.85 1325.88 Q2092.64 1324.19 2092.64 1321.06 Q2092.64 1317.96 2090.85 1316.27 Q2089.07 1314.58 2085.81 1314.58 L2079.93 1314.58 M2075.25 1310.74 L2085.81 1310.74 Q2091.62 1310.74 2094.58 1313.38 Q2097.57 1315.99 2097.57 1321.06 Q2097.57 1326.18 2094.58 1328.79 Q2091.62 1331.41 2085.81 1331.41 L2079.93 1331.41 L2079.93 1345.3 L2075.25 1345.3 L2075.25 1310.74 Z\" fill=\"#000000\" fill-rule=\"evenodd\" fill-opacity=\"1\" /><path clip-path=\"url(#clip590)\" d=\"M2120.23 1329.09 Q2121.73 1329.6 2123.15 1331.27 Q2124.58 1332.94 2126.02 1335.85 L2130.76 1345.3 L2125.74 1345.3 L2121.32 1336.43 Q2119.6 1332.96 2117.98 1331.82 Q2116.39 1330.69 2113.61 1330.69 L2108.52 1330.69 L2108.52 1345.3 L2103.84 1345.3 L2103.84 1310.74 L2114.4 1310.74 Q2120.32 1310.74 2123.24 1313.21 Q2126.16 1315.69 2126.16 1320.69 Q2126.16 1323.95 2124.63 1326.11 Q2123.12 1328.26 2120.23 1329.09 M2108.52 1314.58 L2108.52 1326.85 L2114.4 1326.85 Q2117.78 1326.85 2119.49 1325.3 Q2121.22 1323.72 2121.22 1320.69 Q2121.22 1317.66 2119.49 1316.13 Q2117.78 1314.58 2114.4 1314.58 L2108.52 1314.58 Z\" fill=\"#000000\" fill-rule=\"evenodd\" fill-opacity=\"1\" /><path clip-path=\"url(#clip590)\" d=\"M2137.15 1323.77 L2166.83 1323.77 L2166.83 1327.66 L2137.15 1327.66 L2137.15 1323.77 M2137.15 1333.21 L2166.83 1333.21 L2166.83 1337.15 L2137.15 1337.15 L2137.15 1333.21 Z\" fill=\"#000000\" fill-rule=\"evenodd\" fill-opacity=\"1\" /><path clip-path=\"url(#clip590)\" d=\"M2176.5 1310.74 L2196.36 1310.74 L2196.36 1314.67 L2181.18 1314.67 L2181.18 1324.86 L2194.88 1324.86 L2194.88 1328.79 L2181.18 1328.79 L2181.18 1345.3 L2176.5 1345.3 L2176.5 1310.74 Z\" fill=\"#000000\" fill-rule=\"evenodd\" fill-opacity=\"1\" /><path clip-path=\"url(#clip590)\" d=\"M2208.45 1314.58 L2208.45 1327.56 L2214.33 1327.56 Q2217.59 1327.56 2219.37 1325.88 Q2221.15 1324.19 2221.15 1321.06 Q2221.15 1317.96 2219.37 1316.27 Q2217.59 1314.58 2214.33 1314.58 L2208.45 1314.58 M2203.77 1310.74 L2214.33 1310.74 Q2220.14 1310.74 2223.1 1313.38 Q2226.09 1315.99 2226.09 1321.06 Q2226.09 1326.18 2223.1 1328.79 Q2220.14 1331.41 2214.33 1331.41 L2208.45 1331.41 L2208.45 1345.3 L2203.77 1345.3 L2203.77 1310.74 Z\" fill=\"#000000\" fill-rule=\"evenodd\" fill-opacity=\"1\" /><path clip-path=\"url(#clip590)\" d=\"M2248.75 1329.09 Q2250.25 1329.6 2251.66 1331.27 Q2253.1 1332.94 2254.53 1335.85 L2259.28 1345.3 L2254.26 1345.3 L2249.84 1336.43 Q2248.12 1332.96 2246.5 1331.82 Q2244.9 1330.69 2242.13 1330.69 L2237.03 1330.69 L2237.03 1345.3 L2232.36 1345.3 L2232.36 1310.74 L2242.91 1310.74 Q2248.84 1310.74 2251.76 1313.21 Q2254.67 1315.69 2254.67 1320.69 Q2254.67 1323.95 2253.15 1326.11 Q2251.64 1328.26 2248.75 1329.09 M2237.03 1314.58 L2237.03 1326.85 L2242.91 1326.85 Q2246.29 1326.85 2248.01 1325.3 Q2249.74 1323.72 2249.74 1320.69 Q2249.74 1317.66 2248.01 1316.13 Q2246.29 1314.58 2242.91 1314.58 L2237.03 1314.58 Z\" fill=\"#000000\" fill-rule=\"evenodd\" fill-opacity=\"1\" /></svg>\n"
      ]
     },
     "execution_count": 15,
     "metadata": {},
     "output_type": "execute_result"
    }
   ],
   "source": [
    "train_fpr, train_tpr = ROCCurves.roc(train_pred, train_dataset.target)\n",
    "test_fpr, test_tpr = ROCCurves.roc(test_pred, test_dataset.target)\n",
    "plot(test_fpr, test_tpr, label=\"Test\", xlabel=\"False Positive Rate (FPR)\",\n",
    "    ylabel=\"True Positive Rate (TPR)\",\n",
    "    title =\"Receiver Operating Characteristic (ROC) curve\", linewidth=2, legend=:bottomright)\n",
    "plot!(train_fpr, train_tpr, label=\"Train\", linewidth=2)\n",
    "Plots.abline!(1, 0, line=:dash, label = \"TPR=FPR\")\n"
   ]
  },
  {
   "cell_type": "code",
   "execution_count": 16,
   "metadata": {},
   "outputs": [
    {
     "name": "stdout",
     "output_type": "stream",
     "text": [
      "AUC metric on train dataset is equal to: 0.8159911219151299\n",
      "AUC metric on test dataset is equal to: 0.8210702341137124\n"
     ]
    }
   ],
   "source": [
    "println(\"AUC metric on train dataset is equal to: \", auc_roc(train_fpr, train_tpr))\n",
    "println(\"AUC metric on test dataset is equal to: \", auc_roc(test_fpr, test_tpr))"
   ]
  },
  {
   "cell_type": "markdown",
   "metadata": {},
   "source": [
    "from the roc we can see that has a good predictive power and from AUC values it doesn't overfit as the discrepancy is really small."
   ]
  },
  {
   "cell_type": "markdown",
   "metadata": {},
   "source": [
    "**(4p)** A following confusion matrix is given:\n",
    "\n",
    "| A\\P | 1   | 0   |\n",
    "|-----|-----|-----|\n",
    "| 1   | 123 | 321 |\n",
    "| 0   | 324 | 456 |\n",
    "\n",
    "Prediction values are in columns, actual values in rows.\n",
    "\n",
    "Calculate:\n",
    "* Accuracy\n",
    "* Precision\n",
    "* Recall\n",
    "* F1-score"
   ]
  },
  {
   "cell_type": "code",
   "execution_count": 17,
   "metadata": {},
   "outputs": [
    {
     "data": {
      "text/plain": [
       "2×2 Matrix{Int64}:\n",
       " 123  321\n",
       " 324  456"
      ]
     },
     "execution_count": 17,
     "metadata": {},
     "output_type": "execute_result"
    }
   ],
   "source": [
    "A = [123 321; 324 456]\n"
   ]
  },
  {
   "cell_type": "code",
   "execution_count": 18,
   "metadata": {},
   "outputs": [
    {
     "name": "stdout",
     "output_type": "stream",
     "text": [
      "A\n",
      "----Classification quality report----\n",
      "Accuracy: 47.3%\n",
      "Precision: 58.46%\n",
      "Recall: 58.69%\n",
      "F1-score: 58.57%\n"
     ]
    }
   ],
   "source": [
    "println(\"A\")\n",
    "quality_report(A)"
   ]
  },
  {
   "cell_type": "markdown",
   "metadata": {},
   "source": [
    "## Task 2 (20p)"
   ]
  },
  {
   "cell_type": "markdown",
   "metadata": {},
   "source": [
    "**(1p)** Download and load data from the URL https://raw.githubusercontent.com/KrainskiL/SLM_S2023/main/datasets/Boston.csv into a `DataFrame`."
   ]
  },
  {
   "cell_type": "code",
   "execution_count": 19,
   "metadata": {},
   "outputs": [],
   "source": [
    "# url = \"https://raw.githubusercontent.com/KrainskiL/SLM_S2023/main/datasets/Boston.csv\"\n",
    "# Downloads.download(url, \"Boston.csv\")\n"
   ]
  },
  {
   "cell_type": "code",
   "execution_count": 20,
   "metadata": {},
   "outputs": [
    {
     "ename": "LoadError",
     "evalue": "ArgumentError: \"Boston.csv\" is not a valid file or doesn't exist",
     "output_type": "error",
     "traceback": [
      "ArgumentError: \"Boston.csv\" is not a valid file or doesn't exist",
      "",
      "Stacktrace:",
      " [1] CSV.Context(source::CSV.Arg, header::CSV.Arg, normalizenames::CSV.Arg, datarow::CSV.Arg, skipto::CSV.Arg, footerskip::CSV.Arg, transpose::CSV.Arg, comment::CSV.Arg, ignoreemptyrows::CSV.Arg, ignoreemptylines::CSV.Arg, select::CSV.Arg, drop::CSV.Arg, limit::CSV.Arg, buffer_in_memory::CSV.Arg, threaded::CSV.Arg, ntasks::CSV.Arg, tasks::CSV.Arg, rows_to_check::CSV.Arg, lines_to_check::CSV.Arg, missingstrings::CSV.Arg, missingstring::CSV.Arg, delim::CSV.Arg, ignorerepeated::CSV.Arg, quoted::CSV.Arg, quotechar::CSV.Arg, openquotechar::CSV.Arg, closequotechar::CSV.Arg, escapechar::CSV.Arg, dateformat::CSV.Arg, dateformats::CSV.Arg, decimal::CSV.Arg, truestrings::CSV.Arg, falsestrings::CSV.Arg, stripwhitespace::CSV.Arg, type::CSV.Arg, types::CSV.Arg, typemap::CSV.Arg, pool::CSV.Arg, downcast::CSV.Arg, lazystrings::CSV.Arg, stringtype::CSV.Arg, strict::CSV.Arg, silencewarnings::CSV.Arg, maxwarnings::CSV.Arg, debug::CSV.Arg, parsingdebug::CSV.Arg, validate::CSV.Arg, streaming::CSV.Arg)",
      "   @ CSV ~/.julia/packages/CSV/1P1tQ/src/context.jl:306",
      " [2] #File#28",
      "   @ ~/.julia/packages/CSV/1P1tQ/src/file.jl:221 [inlined]",
      " [3] read(source::String, sink::Type; copycols::Bool, kwargs::Base.Pairs{Symbol, String, Tuple{Symbol}, NamedTuple{(:delim,), Tuple{String}}})",
      "   @ CSV ~/.julia/packages/CSV/1P1tQ/src/CSV.jl:117",
      " [4] top-level scope",
      "   @ In[20]:1",
      " [5] eval",
      "   @ ./boot.jl:368 [inlined]",
      " [6] include_string(mapexpr::typeof(REPL.softscope), mod::Module, code::String, filename::String)",
      "   @ Base ./loading.jl:1428"
     ]
    }
   ],
   "source": [
    "houses = CSV.read(\"Boston.csv\", DataFrame,delim=\",\")"
   ]
  },
  {
   "cell_type": "markdown",
   "metadata": {},
   "source": [
    "**(2p)** Add new column `price_bin` to the dataset. `price_bin` should have value 1 if feature `medv` is higher or equal to **22.5** and 0 otherwise. Remove columns `medv` and `Column1` from the dataset."
   ]
  },
  {
   "cell_type": "code",
   "execution_count": null,
   "metadata": {},
   "outputs": [
    {
     "data": {
      "text/plain": [
       "506-element Vector{Int64}:\n",
       " 1\n",
       " 0\n",
       " 1\n",
       " 1\n",
       " 1\n",
       " 1\n",
       " 1\n",
       " 1\n",
       " 0\n",
       " 0\n",
       " 0\n",
       " 0\n",
       " 0\n",
       " ⋮\n",
       " 1\n",
       " 1\n",
       " 0\n",
       " 0\n",
       " 0\n",
       " 0\n",
       " 0\n",
       " 0\n",
       " 0\n",
       " 1\n",
       " 0\n",
       " 0"
      ]
     },
     "execution_count": 8,
     "metadata": {},
     "output_type": "execute_result"
    }
   ],
   "source": [
    "houses.price_bin = ifelse.(houses.medv .>= 22.5, 1, 0)\n",
    "\n"
   ]
  },
  {
   "cell_type": "code",
   "execution_count": null,
   "metadata": {},
   "outputs": [
    {
     "data": {
      "text/html": [
       "<div><div style = \"float: left;\"><span>506×15 DataFrame</span></div><div style = \"float: right;\"><span style = \"font-style: italic;\">481 rows omitted</span></div><div style = \"clear: both;\"></div></div><div class = \"data-frame\" style = \"overflow-x: scroll;\"><table class = \"data-frame\" style = \"margin-bottom: 6px;\"><thead><tr class = \"header\"><th class = \"rowNumber\" style = \"font-weight: bold; text-align: right;\">Row</th><th style = \"text-align: left;\">crim</th><th style = \"text-align: left;\">zn</th><th style = \"text-align: left;\">indus</th><th style = \"text-align: left;\">chas</th><th style = \"text-align: left;\">nox</th><th style = \"text-align: left;\">rm</th><th style = \"text-align: left;\">age</th><th style = \"text-align: left;\">dis</th><th style = \"text-align: left;\">rad</th><th style = \"text-align: left;\">tax</th><th style = \"text-align: left;\">ptratio</th><th style = \"text-align: left;\">black</th><th style = \"text-align: left;\">lstat</th><th style = \"text-align: left;\">medv</th><th style = \"text-align: left;\">price_bin</th></tr><tr class = \"subheader headerLastRow\"><th class = \"rowNumber\" style = \"font-weight: bold; text-align: right;\"></th><th title = \"Float64\" style = \"text-align: left;\">Float64</th><th title = \"Float64\" style = \"text-align: left;\">Float64</th><th title = \"Float64\" style = \"text-align: left;\">Float64</th><th title = \"Int64\" style = \"text-align: left;\">Int64</th><th title = \"Float64\" style = \"text-align: left;\">Float64</th><th title = \"Float64\" style = \"text-align: left;\">Float64</th><th title = \"Float64\" style = \"text-align: left;\">Float64</th><th title = \"Float64\" style = \"text-align: left;\">Float64</th><th title = \"Int64\" style = \"text-align: left;\">Int64</th><th title = \"Int64\" style = \"text-align: left;\">Int64</th><th title = \"Float64\" style = \"text-align: left;\">Float64</th><th title = \"Float64\" style = \"text-align: left;\">Float64</th><th title = \"Float64\" style = \"text-align: left;\">Float64</th><th title = \"Float64\" style = \"text-align: left;\">Float64</th><th title = \"Int64\" style = \"text-align: left;\">Int64</th></tr></thead><tbody><tr><td class = \"rowNumber\" style = \"font-weight: bold; text-align: right;\">1</td><td style = \"text-align: right;\">0.00632</td><td style = \"text-align: right;\">18.0</td><td style = \"text-align: right;\">2.31</td><td style = \"text-align: right;\">0</td><td style = \"text-align: right;\">0.538</td><td style = \"text-align: right;\">6.575</td><td style = \"text-align: right;\">65.2</td><td style = \"text-align: right;\">4.09</td><td style = \"text-align: right;\">1</td><td style = \"text-align: right;\">296</td><td style = \"text-align: right;\">15.3</td><td style = \"text-align: right;\">396.9</td><td style = \"text-align: right;\">4.98</td><td style = \"text-align: right;\">24.0</td><td style = \"text-align: right;\">1</td></tr><tr><td class = \"rowNumber\" style = \"font-weight: bold; text-align: right;\">2</td><td style = \"text-align: right;\">0.02731</td><td style = \"text-align: right;\">0.0</td><td style = \"text-align: right;\">7.07</td><td style = \"text-align: right;\">0</td><td style = \"text-align: right;\">0.469</td><td style = \"text-align: right;\">6.421</td><td style = \"text-align: right;\">78.9</td><td style = \"text-align: right;\">4.9671</td><td style = \"text-align: right;\">2</td><td style = \"text-align: right;\">242</td><td style = \"text-align: right;\">17.8</td><td style = \"text-align: right;\">396.9</td><td style = \"text-align: right;\">9.14</td><td style = \"text-align: right;\">21.6</td><td style = \"text-align: right;\">0</td></tr><tr><td class = \"rowNumber\" style = \"font-weight: bold; text-align: right;\">3</td><td style = \"text-align: right;\">0.02729</td><td style = \"text-align: right;\">0.0</td><td style = \"text-align: right;\">7.07</td><td style = \"text-align: right;\">0</td><td style = \"text-align: right;\">0.469</td><td style = \"text-align: right;\">7.185</td><td style = \"text-align: right;\">61.1</td><td style = \"text-align: right;\">4.9671</td><td style = \"text-align: right;\">2</td><td style = \"text-align: right;\">242</td><td style = \"text-align: right;\">17.8</td><td style = \"text-align: right;\">392.83</td><td style = \"text-align: right;\">4.03</td><td style = \"text-align: right;\">34.7</td><td style = \"text-align: right;\">1</td></tr><tr><td class = \"rowNumber\" style = \"font-weight: bold; text-align: right;\">4</td><td style = \"text-align: right;\">0.03237</td><td style = \"text-align: right;\">0.0</td><td style = \"text-align: right;\">2.18</td><td style = \"text-align: right;\">0</td><td style = \"text-align: right;\">0.458</td><td style = \"text-align: right;\">6.998</td><td style = \"text-align: right;\">45.8</td><td style = \"text-align: right;\">6.0622</td><td style = \"text-align: right;\">3</td><td style = \"text-align: right;\">222</td><td style = \"text-align: right;\">18.7</td><td style = \"text-align: right;\">394.63</td><td style = \"text-align: right;\">2.94</td><td style = \"text-align: right;\">33.4</td><td style = \"text-align: right;\">1</td></tr><tr><td class = \"rowNumber\" style = \"font-weight: bold; text-align: right;\">5</td><td style = \"text-align: right;\">0.06905</td><td style = \"text-align: right;\">0.0</td><td style = \"text-align: right;\">2.18</td><td style = \"text-align: right;\">0</td><td style = \"text-align: right;\">0.458</td><td style = \"text-align: right;\">7.147</td><td style = \"text-align: right;\">54.2</td><td style = \"text-align: right;\">6.0622</td><td style = \"text-align: right;\">3</td><td style = \"text-align: right;\">222</td><td style = \"text-align: right;\">18.7</td><td style = \"text-align: right;\">396.9</td><td style = \"text-align: right;\">5.33</td><td style = \"text-align: right;\">36.2</td><td style = \"text-align: right;\">1</td></tr><tr><td class = \"rowNumber\" style = \"font-weight: bold; text-align: right;\">6</td><td style = \"text-align: right;\">0.02985</td><td style = \"text-align: right;\">0.0</td><td style = \"text-align: right;\">2.18</td><td style = \"text-align: right;\">0</td><td style = \"text-align: right;\">0.458</td><td style = \"text-align: right;\">6.43</td><td style = \"text-align: right;\">58.7</td><td style = \"text-align: right;\">6.0622</td><td style = \"text-align: right;\">3</td><td style = \"text-align: right;\">222</td><td style = \"text-align: right;\">18.7</td><td style = \"text-align: right;\">394.12</td><td style = \"text-align: right;\">5.21</td><td style = \"text-align: right;\">28.7</td><td style = \"text-align: right;\">1</td></tr><tr><td class = \"rowNumber\" style = \"font-weight: bold; text-align: right;\">7</td><td style = \"text-align: right;\">0.08829</td><td style = \"text-align: right;\">12.5</td><td style = \"text-align: right;\">7.87</td><td style = \"text-align: right;\">0</td><td style = \"text-align: right;\">0.524</td><td style = \"text-align: right;\">6.012</td><td style = \"text-align: right;\">66.6</td><td style = \"text-align: right;\">5.5605</td><td style = \"text-align: right;\">5</td><td style = \"text-align: right;\">311</td><td style = \"text-align: right;\">15.2</td><td style = \"text-align: right;\">395.6</td><td style = \"text-align: right;\">12.43</td><td style = \"text-align: right;\">22.9</td><td style = \"text-align: right;\">1</td></tr><tr><td class = \"rowNumber\" style = \"font-weight: bold; text-align: right;\">8</td><td style = \"text-align: right;\">0.14455</td><td style = \"text-align: right;\">12.5</td><td style = \"text-align: right;\">7.87</td><td style = \"text-align: right;\">0</td><td style = \"text-align: right;\">0.524</td><td style = \"text-align: right;\">6.172</td><td style = \"text-align: right;\">96.1</td><td style = \"text-align: right;\">5.9505</td><td style = \"text-align: right;\">5</td><td style = \"text-align: right;\">311</td><td style = \"text-align: right;\">15.2</td><td style = \"text-align: right;\">396.9</td><td style = \"text-align: right;\">19.15</td><td style = \"text-align: right;\">27.1</td><td style = \"text-align: right;\">1</td></tr><tr><td class = \"rowNumber\" style = \"font-weight: bold; text-align: right;\">9</td><td style = \"text-align: right;\">0.21124</td><td style = \"text-align: right;\">12.5</td><td style = \"text-align: right;\">7.87</td><td style = \"text-align: right;\">0</td><td style = \"text-align: right;\">0.524</td><td style = \"text-align: right;\">5.631</td><td style = \"text-align: right;\">100.0</td><td style = \"text-align: right;\">6.0821</td><td style = \"text-align: right;\">5</td><td style = \"text-align: right;\">311</td><td style = \"text-align: right;\">15.2</td><td style = \"text-align: right;\">386.63</td><td style = \"text-align: right;\">29.93</td><td style = \"text-align: right;\">16.5</td><td style = \"text-align: right;\">0</td></tr><tr><td class = \"rowNumber\" style = \"font-weight: bold; text-align: right;\">10</td><td style = \"text-align: right;\">0.17004</td><td style = \"text-align: right;\">12.5</td><td style = \"text-align: right;\">7.87</td><td style = \"text-align: right;\">0</td><td style = \"text-align: right;\">0.524</td><td style = \"text-align: right;\">6.004</td><td style = \"text-align: right;\">85.9</td><td style = \"text-align: right;\">6.5921</td><td style = \"text-align: right;\">5</td><td style = \"text-align: right;\">311</td><td style = \"text-align: right;\">15.2</td><td style = \"text-align: right;\">386.71</td><td style = \"text-align: right;\">17.1</td><td style = \"text-align: right;\">18.9</td><td style = \"text-align: right;\">0</td></tr><tr><td class = \"rowNumber\" style = \"font-weight: bold; text-align: right;\">11</td><td style = \"text-align: right;\">0.22489</td><td style = \"text-align: right;\">12.5</td><td style = \"text-align: right;\">7.87</td><td style = \"text-align: right;\">0</td><td style = \"text-align: right;\">0.524</td><td style = \"text-align: right;\">6.377</td><td style = \"text-align: right;\">94.3</td><td style = \"text-align: right;\">6.3467</td><td style = \"text-align: right;\">5</td><td style = \"text-align: right;\">311</td><td style = \"text-align: right;\">15.2</td><td style = \"text-align: right;\">392.52</td><td style = \"text-align: right;\">20.45</td><td style = \"text-align: right;\">15.0</td><td style = \"text-align: right;\">0</td></tr><tr><td class = \"rowNumber\" style = \"font-weight: bold; text-align: right;\">12</td><td style = \"text-align: right;\">0.11747</td><td style = \"text-align: right;\">12.5</td><td style = \"text-align: right;\">7.87</td><td style = \"text-align: right;\">0</td><td style = \"text-align: right;\">0.524</td><td style = \"text-align: right;\">6.009</td><td style = \"text-align: right;\">82.9</td><td style = \"text-align: right;\">6.2267</td><td style = \"text-align: right;\">5</td><td style = \"text-align: right;\">311</td><td style = \"text-align: right;\">15.2</td><td style = \"text-align: right;\">396.9</td><td style = \"text-align: right;\">13.27</td><td style = \"text-align: right;\">18.9</td><td style = \"text-align: right;\">0</td></tr><tr><td class = \"rowNumber\" style = \"font-weight: bold; text-align: right;\">13</td><td style = \"text-align: right;\">0.09378</td><td style = \"text-align: right;\">12.5</td><td style = \"text-align: right;\">7.87</td><td style = \"text-align: right;\">0</td><td style = \"text-align: right;\">0.524</td><td style = \"text-align: right;\">5.889</td><td style = \"text-align: right;\">39.0</td><td style = \"text-align: right;\">5.4509</td><td style = \"text-align: right;\">5</td><td style = \"text-align: right;\">311</td><td style = \"text-align: right;\">15.2</td><td style = \"text-align: right;\">390.5</td><td style = \"text-align: right;\">15.71</td><td style = \"text-align: right;\">21.7</td><td style = \"text-align: right;\">0</td></tr><tr><td style = \"text-align: right;\">&vellip;</td><td style = \"text-align: right;\">&vellip;</td><td style = \"text-align: right;\">&vellip;</td><td style = \"text-align: right;\">&vellip;</td><td style = \"text-align: right;\">&vellip;</td><td style = \"text-align: right;\">&vellip;</td><td style = \"text-align: right;\">&vellip;</td><td style = \"text-align: right;\">&vellip;</td><td style = \"text-align: right;\">&vellip;</td><td style = \"text-align: right;\">&vellip;</td><td style = \"text-align: right;\">&vellip;</td><td style = \"text-align: right;\">&vellip;</td><td style = \"text-align: right;\">&vellip;</td><td style = \"text-align: right;\">&vellip;</td><td style = \"text-align: right;\">&vellip;</td><td style = \"text-align: right;\">&vellip;</td></tr><tr><td class = \"rowNumber\" style = \"font-weight: bold; text-align: right;\">495</td><td style = \"text-align: right;\">0.27957</td><td style = \"text-align: right;\">0.0</td><td style = \"text-align: right;\">9.69</td><td style = \"text-align: right;\">0</td><td style = \"text-align: right;\">0.585</td><td style = \"text-align: right;\">5.926</td><td style = \"text-align: right;\">42.6</td><td style = \"text-align: right;\">2.3817</td><td style = \"text-align: right;\">6</td><td style = \"text-align: right;\">391</td><td style = \"text-align: right;\">19.2</td><td style = \"text-align: right;\">396.9</td><td style = \"text-align: right;\">13.59</td><td style = \"text-align: right;\">24.5</td><td style = \"text-align: right;\">1</td></tr><tr><td class = \"rowNumber\" style = \"font-weight: bold; text-align: right;\">496</td><td style = \"text-align: right;\">0.17899</td><td style = \"text-align: right;\">0.0</td><td style = \"text-align: right;\">9.69</td><td style = \"text-align: right;\">0</td><td style = \"text-align: right;\">0.585</td><td style = \"text-align: right;\">5.67</td><td style = \"text-align: right;\">28.8</td><td style = \"text-align: right;\">2.7986</td><td style = \"text-align: right;\">6</td><td style = \"text-align: right;\">391</td><td style = \"text-align: right;\">19.2</td><td style = \"text-align: right;\">393.29</td><td style = \"text-align: right;\">17.6</td><td style = \"text-align: right;\">23.1</td><td style = \"text-align: right;\">1</td></tr><tr><td class = \"rowNumber\" style = \"font-weight: bold; text-align: right;\">497</td><td style = \"text-align: right;\">0.2896</td><td style = \"text-align: right;\">0.0</td><td style = \"text-align: right;\">9.69</td><td style = \"text-align: right;\">0</td><td style = \"text-align: right;\">0.585</td><td style = \"text-align: right;\">5.39</td><td style = \"text-align: right;\">72.9</td><td style = \"text-align: right;\">2.7986</td><td style = \"text-align: right;\">6</td><td style = \"text-align: right;\">391</td><td style = \"text-align: right;\">19.2</td><td style = \"text-align: right;\">396.9</td><td style = \"text-align: right;\">21.14</td><td style = \"text-align: right;\">19.7</td><td style = \"text-align: right;\">0</td></tr><tr><td class = \"rowNumber\" style = \"font-weight: bold; text-align: right;\">498</td><td style = \"text-align: right;\">0.26838</td><td style = \"text-align: right;\">0.0</td><td style = \"text-align: right;\">9.69</td><td style = \"text-align: right;\">0</td><td style = \"text-align: right;\">0.585</td><td style = \"text-align: right;\">5.794</td><td style = \"text-align: right;\">70.6</td><td style = \"text-align: right;\">2.8927</td><td style = \"text-align: right;\">6</td><td style = \"text-align: right;\">391</td><td style = \"text-align: right;\">19.2</td><td style = \"text-align: right;\">396.9</td><td style = \"text-align: right;\">14.1</td><td style = \"text-align: right;\">18.3</td><td style = \"text-align: right;\">0</td></tr><tr><td class = \"rowNumber\" style = \"font-weight: bold; text-align: right;\">499</td><td style = \"text-align: right;\">0.23912</td><td style = \"text-align: right;\">0.0</td><td style = \"text-align: right;\">9.69</td><td style = \"text-align: right;\">0</td><td style = \"text-align: right;\">0.585</td><td style = \"text-align: right;\">6.019</td><td style = \"text-align: right;\">65.3</td><td style = \"text-align: right;\">2.4091</td><td style = \"text-align: right;\">6</td><td style = \"text-align: right;\">391</td><td style = \"text-align: right;\">19.2</td><td style = \"text-align: right;\">396.9</td><td style = \"text-align: right;\">12.92</td><td style = \"text-align: right;\">21.2</td><td style = \"text-align: right;\">0</td></tr><tr><td class = \"rowNumber\" style = \"font-weight: bold; text-align: right;\">500</td><td style = \"text-align: right;\">0.17783</td><td style = \"text-align: right;\">0.0</td><td style = \"text-align: right;\">9.69</td><td style = \"text-align: right;\">0</td><td style = \"text-align: right;\">0.585</td><td style = \"text-align: right;\">5.569</td><td style = \"text-align: right;\">73.5</td><td style = \"text-align: right;\">2.3999</td><td style = \"text-align: right;\">6</td><td style = \"text-align: right;\">391</td><td style = \"text-align: right;\">19.2</td><td style = \"text-align: right;\">395.77</td><td style = \"text-align: right;\">15.1</td><td style = \"text-align: right;\">17.5</td><td style = \"text-align: right;\">0</td></tr><tr><td class = \"rowNumber\" style = \"font-weight: bold; text-align: right;\">501</td><td style = \"text-align: right;\">0.22438</td><td style = \"text-align: right;\">0.0</td><td style = \"text-align: right;\">9.69</td><td style = \"text-align: right;\">0</td><td style = \"text-align: right;\">0.585</td><td style = \"text-align: right;\">6.027</td><td style = \"text-align: right;\">79.7</td><td style = \"text-align: right;\">2.4982</td><td style = \"text-align: right;\">6</td><td style = \"text-align: right;\">391</td><td style = \"text-align: right;\">19.2</td><td style = \"text-align: right;\">396.9</td><td style = \"text-align: right;\">14.33</td><td style = \"text-align: right;\">16.8</td><td style = \"text-align: right;\">0</td></tr><tr><td class = \"rowNumber\" style = \"font-weight: bold; text-align: right;\">502</td><td style = \"text-align: right;\">0.06263</td><td style = \"text-align: right;\">0.0</td><td style = \"text-align: right;\">11.93</td><td style = \"text-align: right;\">0</td><td style = \"text-align: right;\">0.573</td><td style = \"text-align: right;\">6.593</td><td style = \"text-align: right;\">69.1</td><td style = \"text-align: right;\">2.4786</td><td style = \"text-align: right;\">1</td><td style = \"text-align: right;\">273</td><td style = \"text-align: right;\">21.0</td><td style = \"text-align: right;\">391.99</td><td style = \"text-align: right;\">9.67</td><td style = \"text-align: right;\">22.4</td><td style = \"text-align: right;\">0</td></tr><tr><td class = \"rowNumber\" style = \"font-weight: bold; text-align: right;\">503</td><td style = \"text-align: right;\">0.04527</td><td style = \"text-align: right;\">0.0</td><td style = \"text-align: right;\">11.93</td><td style = \"text-align: right;\">0</td><td style = \"text-align: right;\">0.573</td><td style = \"text-align: right;\">6.12</td><td style = \"text-align: right;\">76.7</td><td style = \"text-align: right;\">2.2875</td><td style = \"text-align: right;\">1</td><td style = \"text-align: right;\">273</td><td style = \"text-align: right;\">21.0</td><td style = \"text-align: right;\">396.9</td><td style = \"text-align: right;\">9.08</td><td style = \"text-align: right;\">20.6</td><td style = \"text-align: right;\">0</td></tr><tr><td class = \"rowNumber\" style = \"font-weight: bold; text-align: right;\">504</td><td style = \"text-align: right;\">0.06076</td><td style = \"text-align: right;\">0.0</td><td style = \"text-align: right;\">11.93</td><td style = \"text-align: right;\">0</td><td style = \"text-align: right;\">0.573</td><td style = \"text-align: right;\">6.976</td><td style = \"text-align: right;\">91.0</td><td style = \"text-align: right;\">2.1675</td><td style = \"text-align: right;\">1</td><td style = \"text-align: right;\">273</td><td style = \"text-align: right;\">21.0</td><td style = \"text-align: right;\">396.9</td><td style = \"text-align: right;\">5.64</td><td style = \"text-align: right;\">23.9</td><td style = \"text-align: right;\">1</td></tr><tr><td class = \"rowNumber\" style = \"font-weight: bold; text-align: right;\">505</td><td style = \"text-align: right;\">0.10959</td><td style = \"text-align: right;\">0.0</td><td style = \"text-align: right;\">11.93</td><td style = \"text-align: right;\">0</td><td style = \"text-align: right;\">0.573</td><td style = \"text-align: right;\">6.794</td><td style = \"text-align: right;\">89.3</td><td style = \"text-align: right;\">2.3889</td><td style = \"text-align: right;\">1</td><td style = \"text-align: right;\">273</td><td style = \"text-align: right;\">21.0</td><td style = \"text-align: right;\">393.45</td><td style = \"text-align: right;\">6.48</td><td style = \"text-align: right;\">22.0</td><td style = \"text-align: right;\">0</td></tr><tr><td class = \"rowNumber\" style = \"font-weight: bold; text-align: right;\">506</td><td style = \"text-align: right;\">0.04741</td><td style = \"text-align: right;\">0.0</td><td style = \"text-align: right;\">11.93</td><td style = \"text-align: right;\">0</td><td style = \"text-align: right;\">0.573</td><td style = \"text-align: right;\">6.03</td><td style = \"text-align: right;\">80.8</td><td style = \"text-align: right;\">2.505</td><td style = \"text-align: right;\">1</td><td style = \"text-align: right;\">273</td><td style = \"text-align: right;\">21.0</td><td style = \"text-align: right;\">396.9</td><td style = \"text-align: right;\">7.88</td><td style = \"text-align: right;\">11.9</td><td style = \"text-align: right;\">0</td></tr></tbody></table></div>"
      ],
      "text/latex": [
       "\\begin{tabular}{r|ccccccccccc}\n",
       "\t& crim & zn & indus & chas & nox & rm & age & dis & rad & tax & \\\\\n",
       "\t\\hline\n",
       "\t& Float64 & Float64 & Float64 & Int64 & Float64 & Float64 & Float64 & Float64 & Int64 & Int64 & \\\\\n",
       "\t\\hline\n",
       "\t1 & 0.00632 & 18.0 & 2.31 & 0 & 0.538 & 6.575 & 65.2 & 4.09 & 1 & 296 & $\\dots$ \\\\\n",
       "\t2 & 0.02731 & 0.0 & 7.07 & 0 & 0.469 & 6.421 & 78.9 & 4.9671 & 2 & 242 & $\\dots$ \\\\\n",
       "\t3 & 0.02729 & 0.0 & 7.07 & 0 & 0.469 & 7.185 & 61.1 & 4.9671 & 2 & 242 & $\\dots$ \\\\\n",
       "\t4 & 0.03237 & 0.0 & 2.18 & 0 & 0.458 & 6.998 & 45.8 & 6.0622 & 3 & 222 & $\\dots$ \\\\\n",
       "\t5 & 0.06905 & 0.0 & 2.18 & 0 & 0.458 & 7.147 & 54.2 & 6.0622 & 3 & 222 & $\\dots$ \\\\\n",
       "\t6 & 0.02985 & 0.0 & 2.18 & 0 & 0.458 & 6.43 & 58.7 & 6.0622 & 3 & 222 & $\\dots$ \\\\\n",
       "\t7 & 0.08829 & 12.5 & 7.87 & 0 & 0.524 & 6.012 & 66.6 & 5.5605 & 5 & 311 & $\\dots$ \\\\\n",
       "\t8 & 0.14455 & 12.5 & 7.87 & 0 & 0.524 & 6.172 & 96.1 & 5.9505 & 5 & 311 & $\\dots$ \\\\\n",
       "\t9 & 0.21124 & 12.5 & 7.87 & 0 & 0.524 & 5.631 & 100.0 & 6.0821 & 5 & 311 & $\\dots$ \\\\\n",
       "\t10 & 0.17004 & 12.5 & 7.87 & 0 & 0.524 & 6.004 & 85.9 & 6.5921 & 5 & 311 & $\\dots$ \\\\\n",
       "\t11 & 0.22489 & 12.5 & 7.87 & 0 & 0.524 & 6.377 & 94.3 & 6.3467 & 5 & 311 & $\\dots$ \\\\\n",
       "\t12 & 0.11747 & 12.5 & 7.87 & 0 & 0.524 & 6.009 & 82.9 & 6.2267 & 5 & 311 & $\\dots$ \\\\\n",
       "\t13 & 0.09378 & 12.5 & 7.87 & 0 & 0.524 & 5.889 & 39.0 & 5.4509 & 5 & 311 & $\\dots$ \\\\\n",
       "\t14 & 0.62976 & 0.0 & 8.14 & 0 & 0.538 & 5.949 & 61.8 & 4.7075 & 4 & 307 & $\\dots$ \\\\\n",
       "\t15 & 0.63796 & 0.0 & 8.14 & 0 & 0.538 & 6.096 & 84.5 & 4.4619 & 4 & 307 & $\\dots$ \\\\\n",
       "\t16 & 0.62739 & 0.0 & 8.14 & 0 & 0.538 & 5.834 & 56.5 & 4.4986 & 4 & 307 & $\\dots$ \\\\\n",
       "\t17 & 1.05393 & 0.0 & 8.14 & 0 & 0.538 & 5.935 & 29.3 & 4.4986 & 4 & 307 & $\\dots$ \\\\\n",
       "\t18 & 0.7842 & 0.0 & 8.14 & 0 & 0.538 & 5.99 & 81.7 & 4.2579 & 4 & 307 & $\\dots$ \\\\\n",
       "\t19 & 0.80271 & 0.0 & 8.14 & 0 & 0.538 & 5.456 & 36.6 & 3.7965 & 4 & 307 & $\\dots$ \\\\\n",
       "\t20 & 0.7258 & 0.0 & 8.14 & 0 & 0.538 & 5.727 & 69.5 & 3.7965 & 4 & 307 & $\\dots$ \\\\\n",
       "\t21 & 1.25179 & 0.0 & 8.14 & 0 & 0.538 & 5.57 & 98.1 & 3.7979 & 4 & 307 & $\\dots$ \\\\\n",
       "\t22 & 0.85204 & 0.0 & 8.14 & 0 & 0.538 & 5.965 & 89.2 & 4.0123 & 4 & 307 & $\\dots$ \\\\\n",
       "\t23 & 1.23247 & 0.0 & 8.14 & 0 & 0.538 & 6.142 & 91.7 & 3.9769 & 4 & 307 & $\\dots$ \\\\\n",
       "\t24 & 0.98843 & 0.0 & 8.14 & 0 & 0.538 & 5.813 & 100.0 & 4.0952 & 4 & 307 & $\\dots$ \\\\\n",
       "\t25 & 0.75026 & 0.0 & 8.14 & 0 & 0.538 & 5.924 & 94.1 & 4.3996 & 4 & 307 & $\\dots$ \\\\\n",
       "\t26 & 0.84054 & 0.0 & 8.14 & 0 & 0.538 & 5.599 & 85.7 & 4.4546 & 4 & 307 & $\\dots$ \\\\\n",
       "\t27 & 0.67191 & 0.0 & 8.14 & 0 & 0.538 & 5.813 & 90.3 & 4.682 & 4 & 307 & $\\dots$ \\\\\n",
       "\t28 & 0.95577 & 0.0 & 8.14 & 0 & 0.538 & 6.047 & 88.8 & 4.4534 & 4 & 307 & $\\dots$ \\\\\n",
       "\t29 & 0.77299 & 0.0 & 8.14 & 0 & 0.538 & 6.495 & 94.4 & 4.4547 & 4 & 307 & $\\dots$ \\\\\n",
       "\t30 & 1.00245 & 0.0 & 8.14 & 0 & 0.538 & 6.674 & 87.3 & 4.239 & 4 & 307 & $\\dots$ \\\\\n",
       "\t$\\dots$ & $\\dots$ & $\\dots$ & $\\dots$ & $\\dots$ & $\\dots$ & $\\dots$ & $\\dots$ & $\\dots$ & $\\dots$ & $\\dots$ &  \\\\\n",
       "\\end{tabular}\n"
      ],
      "text/plain": [
       "\u001b[1m506×15 DataFrame\u001b[0m\n",
       "\u001b[1m Row \u001b[0m│\u001b[1m crim    \u001b[0m\u001b[1m zn      \u001b[0m\u001b[1m indus   \u001b[0m\u001b[1m chas  \u001b[0m\u001b[1m nox     \u001b[0m\u001b[1m rm      \u001b[0m\u001b[1m age     \u001b[0m\u001b[1m dis     \u001b[0m\u001b[1m r\u001b[0m ⋯\n",
       "     │\u001b[90m Float64 \u001b[0m\u001b[90m Float64 \u001b[0m\u001b[90m Float64 \u001b[0m\u001b[90m Int64 \u001b[0m\u001b[90m Float64 \u001b[0m\u001b[90m Float64 \u001b[0m\u001b[90m Float64 \u001b[0m\u001b[90m Float64 \u001b[0m\u001b[90m I\u001b[0m ⋯\n",
       "─────┼──────────────────────────────────────────────────────────────────────────\n",
       "   1 │ 0.00632     18.0     2.31      0    0.538    6.575     65.2   4.09      ⋯\n",
       "   2 │ 0.02731      0.0     7.07      0    0.469    6.421     78.9   4.9671\n",
       "   3 │ 0.02729      0.0     7.07      0    0.469    7.185     61.1   4.9671\n",
       "   4 │ 0.03237      0.0     2.18      0    0.458    6.998     45.8   6.0622\n",
       "   5 │ 0.06905      0.0     2.18      0    0.458    7.147     54.2   6.0622    ⋯\n",
       "   6 │ 0.02985      0.0     2.18      0    0.458    6.43      58.7   6.0622\n",
       "   7 │ 0.08829     12.5     7.87      0    0.524    6.012     66.6   5.5605\n",
       "   8 │ 0.14455     12.5     7.87      0    0.524    6.172     96.1   5.9505\n",
       "   9 │ 0.21124     12.5     7.87      0    0.524    5.631    100.0   6.0821    ⋯\n",
       "  10 │ 0.17004     12.5     7.87      0    0.524    6.004     85.9   6.5921\n",
       "  11 │ 0.22489     12.5     7.87      0    0.524    6.377     94.3   6.3467\n",
       "  ⋮  │    ⋮        ⋮        ⋮       ⋮       ⋮        ⋮        ⋮        ⋮       ⋱\n",
       " 497 │ 0.2896       0.0     9.69      0    0.585    5.39      72.9   2.7986\n",
       " 498 │ 0.26838      0.0     9.69      0    0.585    5.794     70.6   2.8927    ⋯\n",
       " 499 │ 0.23912      0.0     9.69      0    0.585    6.019     65.3   2.4091\n",
       " 500 │ 0.17783      0.0     9.69      0    0.585    5.569     73.5   2.3999\n",
       " 501 │ 0.22438      0.0     9.69      0    0.585    6.027     79.7   2.4982\n",
       " 502 │ 0.06263      0.0    11.93      0    0.573    6.593     69.1   2.4786    ⋯\n",
       " 503 │ 0.04527      0.0    11.93      0    0.573    6.12      76.7   2.2875\n",
       " 504 │ 0.06076      0.0    11.93      0    0.573    6.976     91.0   2.1675\n",
       " 505 │ 0.10959      0.0    11.93      0    0.573    6.794     89.3   2.3889\n",
       " 506 │ 0.04741      0.0    11.93      0    0.573    6.03      80.8   2.505     ⋯\n",
       "\u001b[36m                                                  7 columns and 485 rows omitted\u001b[0m"
      ]
     },
     "execution_count": 9,
     "metadata": {},
     "output_type": "execute_result"
    }
   ],
   "source": [
    "select!(houses, Not(:Column1))\n",
    "\n"
   ]
  },
  {
   "cell_type": "code",
   "execution_count": null,
   "metadata": {},
   "outputs": [
    {
     "data": {
      "text/html": [
       "<div><div style = \"float: left;\"><span>506×14 DataFrame</span></div><div style = \"float: right;\"><span style = \"font-style: italic;\">481 rows omitted</span></div><div style = \"clear: both;\"></div></div><div class = \"data-frame\" style = \"overflow-x: scroll;\"><table class = \"data-frame\" style = \"margin-bottom: 6px;\"><thead><tr class = \"header\"><th class = \"rowNumber\" style = \"font-weight: bold; text-align: right;\">Row</th><th style = \"text-align: left;\">crim</th><th style = \"text-align: left;\">zn</th><th style = \"text-align: left;\">indus</th><th style = \"text-align: left;\">chas</th><th style = \"text-align: left;\">nox</th><th style = \"text-align: left;\">rm</th><th style = \"text-align: left;\">age</th><th style = \"text-align: left;\">dis</th><th style = \"text-align: left;\">rad</th><th style = \"text-align: left;\">tax</th><th style = \"text-align: left;\">ptratio</th><th style = \"text-align: left;\">black</th><th style = \"text-align: left;\">lstat</th><th style = \"text-align: left;\">price_bin</th></tr><tr class = \"subheader headerLastRow\"><th class = \"rowNumber\" style = \"font-weight: bold; text-align: right;\"></th><th title = \"Float64\" style = \"text-align: left;\">Float64</th><th title = \"Float64\" style = \"text-align: left;\">Float64</th><th title = \"Float64\" style = \"text-align: left;\">Float64</th><th title = \"Int64\" style = \"text-align: left;\">Int64</th><th title = \"Float64\" style = \"text-align: left;\">Float64</th><th title = \"Float64\" style = \"text-align: left;\">Float64</th><th title = \"Float64\" style = \"text-align: left;\">Float64</th><th title = \"Float64\" style = \"text-align: left;\">Float64</th><th title = \"Int64\" style = \"text-align: left;\">Int64</th><th title = \"Int64\" style = \"text-align: left;\">Int64</th><th title = \"Float64\" style = \"text-align: left;\">Float64</th><th title = \"Float64\" style = \"text-align: left;\">Float64</th><th title = \"Float64\" style = \"text-align: left;\">Float64</th><th title = \"Int64\" style = \"text-align: left;\">Int64</th></tr></thead><tbody><tr><td class = \"rowNumber\" style = \"font-weight: bold; text-align: right;\">1</td><td style = \"text-align: right;\">0.00632</td><td style = \"text-align: right;\">18.0</td><td style = \"text-align: right;\">2.31</td><td style = \"text-align: right;\">0</td><td style = \"text-align: right;\">0.538</td><td style = \"text-align: right;\">6.575</td><td style = \"text-align: right;\">65.2</td><td style = \"text-align: right;\">4.09</td><td style = \"text-align: right;\">1</td><td style = \"text-align: right;\">296</td><td style = \"text-align: right;\">15.3</td><td style = \"text-align: right;\">396.9</td><td style = \"text-align: right;\">4.98</td><td style = \"text-align: right;\">1</td></tr><tr><td class = \"rowNumber\" style = \"font-weight: bold; text-align: right;\">2</td><td style = \"text-align: right;\">0.02731</td><td style = \"text-align: right;\">0.0</td><td style = \"text-align: right;\">7.07</td><td style = \"text-align: right;\">0</td><td style = \"text-align: right;\">0.469</td><td style = \"text-align: right;\">6.421</td><td style = \"text-align: right;\">78.9</td><td style = \"text-align: right;\">4.9671</td><td style = \"text-align: right;\">2</td><td style = \"text-align: right;\">242</td><td style = \"text-align: right;\">17.8</td><td style = \"text-align: right;\">396.9</td><td style = \"text-align: right;\">9.14</td><td style = \"text-align: right;\">0</td></tr><tr><td class = \"rowNumber\" style = \"font-weight: bold; text-align: right;\">3</td><td style = \"text-align: right;\">0.02729</td><td style = \"text-align: right;\">0.0</td><td style = \"text-align: right;\">7.07</td><td style = \"text-align: right;\">0</td><td style = \"text-align: right;\">0.469</td><td style = \"text-align: right;\">7.185</td><td style = \"text-align: right;\">61.1</td><td style = \"text-align: right;\">4.9671</td><td style = \"text-align: right;\">2</td><td style = \"text-align: right;\">242</td><td style = \"text-align: right;\">17.8</td><td style = \"text-align: right;\">392.83</td><td style = \"text-align: right;\">4.03</td><td style = \"text-align: right;\">1</td></tr><tr><td class = \"rowNumber\" style = \"font-weight: bold; text-align: right;\">4</td><td style = \"text-align: right;\">0.03237</td><td style = \"text-align: right;\">0.0</td><td style = \"text-align: right;\">2.18</td><td style = \"text-align: right;\">0</td><td style = \"text-align: right;\">0.458</td><td style = \"text-align: right;\">6.998</td><td style = \"text-align: right;\">45.8</td><td style = \"text-align: right;\">6.0622</td><td style = \"text-align: right;\">3</td><td style = \"text-align: right;\">222</td><td style = \"text-align: right;\">18.7</td><td style = \"text-align: right;\">394.63</td><td style = \"text-align: right;\">2.94</td><td style = \"text-align: right;\">1</td></tr><tr><td class = \"rowNumber\" style = \"font-weight: bold; text-align: right;\">5</td><td style = \"text-align: right;\">0.06905</td><td style = \"text-align: right;\">0.0</td><td style = \"text-align: right;\">2.18</td><td style = \"text-align: right;\">0</td><td style = \"text-align: right;\">0.458</td><td style = \"text-align: right;\">7.147</td><td style = \"text-align: right;\">54.2</td><td style = \"text-align: right;\">6.0622</td><td style = \"text-align: right;\">3</td><td style = \"text-align: right;\">222</td><td style = \"text-align: right;\">18.7</td><td style = \"text-align: right;\">396.9</td><td style = \"text-align: right;\">5.33</td><td style = \"text-align: right;\">1</td></tr><tr><td class = \"rowNumber\" style = \"font-weight: bold; text-align: right;\">6</td><td style = \"text-align: right;\">0.02985</td><td style = \"text-align: right;\">0.0</td><td style = \"text-align: right;\">2.18</td><td style = \"text-align: right;\">0</td><td style = \"text-align: right;\">0.458</td><td style = \"text-align: right;\">6.43</td><td style = \"text-align: right;\">58.7</td><td style = \"text-align: right;\">6.0622</td><td style = \"text-align: right;\">3</td><td style = \"text-align: right;\">222</td><td style = \"text-align: right;\">18.7</td><td style = \"text-align: right;\">394.12</td><td style = \"text-align: right;\">5.21</td><td style = \"text-align: right;\">1</td></tr><tr><td class = \"rowNumber\" style = \"font-weight: bold; text-align: right;\">7</td><td style = \"text-align: right;\">0.08829</td><td style = \"text-align: right;\">12.5</td><td style = \"text-align: right;\">7.87</td><td style = \"text-align: right;\">0</td><td style = \"text-align: right;\">0.524</td><td style = \"text-align: right;\">6.012</td><td style = \"text-align: right;\">66.6</td><td style = \"text-align: right;\">5.5605</td><td style = \"text-align: right;\">5</td><td style = \"text-align: right;\">311</td><td style = \"text-align: right;\">15.2</td><td style = \"text-align: right;\">395.6</td><td style = \"text-align: right;\">12.43</td><td style = \"text-align: right;\">1</td></tr><tr><td class = \"rowNumber\" style = \"font-weight: bold; text-align: right;\">8</td><td style = \"text-align: right;\">0.14455</td><td style = \"text-align: right;\">12.5</td><td style = \"text-align: right;\">7.87</td><td style = \"text-align: right;\">0</td><td style = \"text-align: right;\">0.524</td><td style = \"text-align: right;\">6.172</td><td style = \"text-align: right;\">96.1</td><td style = \"text-align: right;\">5.9505</td><td style = \"text-align: right;\">5</td><td style = \"text-align: right;\">311</td><td style = \"text-align: right;\">15.2</td><td style = \"text-align: right;\">396.9</td><td style = \"text-align: right;\">19.15</td><td style = \"text-align: right;\">1</td></tr><tr><td class = \"rowNumber\" style = \"font-weight: bold; text-align: right;\">9</td><td style = \"text-align: right;\">0.21124</td><td style = \"text-align: right;\">12.5</td><td style = \"text-align: right;\">7.87</td><td style = \"text-align: right;\">0</td><td style = \"text-align: right;\">0.524</td><td style = \"text-align: right;\">5.631</td><td style = \"text-align: right;\">100.0</td><td style = \"text-align: right;\">6.0821</td><td style = \"text-align: right;\">5</td><td style = \"text-align: right;\">311</td><td style = \"text-align: right;\">15.2</td><td style = \"text-align: right;\">386.63</td><td style = \"text-align: right;\">29.93</td><td style = \"text-align: right;\">0</td></tr><tr><td class = \"rowNumber\" style = \"font-weight: bold; text-align: right;\">10</td><td style = \"text-align: right;\">0.17004</td><td style = \"text-align: right;\">12.5</td><td style = \"text-align: right;\">7.87</td><td style = \"text-align: right;\">0</td><td style = \"text-align: right;\">0.524</td><td style = \"text-align: right;\">6.004</td><td style = \"text-align: right;\">85.9</td><td style = \"text-align: right;\">6.5921</td><td style = \"text-align: right;\">5</td><td style = \"text-align: right;\">311</td><td style = \"text-align: right;\">15.2</td><td style = \"text-align: right;\">386.71</td><td style = \"text-align: right;\">17.1</td><td style = \"text-align: right;\">0</td></tr><tr><td class = \"rowNumber\" style = \"font-weight: bold; text-align: right;\">11</td><td style = \"text-align: right;\">0.22489</td><td style = \"text-align: right;\">12.5</td><td style = \"text-align: right;\">7.87</td><td style = \"text-align: right;\">0</td><td style = \"text-align: right;\">0.524</td><td style = \"text-align: right;\">6.377</td><td style = \"text-align: right;\">94.3</td><td style = \"text-align: right;\">6.3467</td><td style = \"text-align: right;\">5</td><td style = \"text-align: right;\">311</td><td style = \"text-align: right;\">15.2</td><td style = \"text-align: right;\">392.52</td><td style = \"text-align: right;\">20.45</td><td style = \"text-align: right;\">0</td></tr><tr><td class = \"rowNumber\" style = \"font-weight: bold; text-align: right;\">12</td><td style = \"text-align: right;\">0.11747</td><td style = \"text-align: right;\">12.5</td><td style = \"text-align: right;\">7.87</td><td style = \"text-align: right;\">0</td><td style = \"text-align: right;\">0.524</td><td style = \"text-align: right;\">6.009</td><td style = \"text-align: right;\">82.9</td><td style = \"text-align: right;\">6.2267</td><td style = \"text-align: right;\">5</td><td style = \"text-align: right;\">311</td><td style = \"text-align: right;\">15.2</td><td style = \"text-align: right;\">396.9</td><td style = \"text-align: right;\">13.27</td><td style = \"text-align: right;\">0</td></tr><tr><td class = \"rowNumber\" style = \"font-weight: bold; text-align: right;\">13</td><td style = \"text-align: right;\">0.09378</td><td style = \"text-align: right;\">12.5</td><td style = \"text-align: right;\">7.87</td><td style = \"text-align: right;\">0</td><td style = \"text-align: right;\">0.524</td><td style = \"text-align: right;\">5.889</td><td style = \"text-align: right;\">39.0</td><td style = \"text-align: right;\">5.4509</td><td style = \"text-align: right;\">5</td><td style = \"text-align: right;\">311</td><td style = \"text-align: right;\">15.2</td><td style = \"text-align: right;\">390.5</td><td style = \"text-align: right;\">15.71</td><td style = \"text-align: right;\">0</td></tr><tr><td style = \"text-align: right;\">&vellip;</td><td style = \"text-align: right;\">&vellip;</td><td style = \"text-align: right;\">&vellip;</td><td style = \"text-align: right;\">&vellip;</td><td style = \"text-align: right;\">&vellip;</td><td style = \"text-align: right;\">&vellip;</td><td style = \"text-align: right;\">&vellip;</td><td style = \"text-align: right;\">&vellip;</td><td style = \"text-align: right;\">&vellip;</td><td style = \"text-align: right;\">&vellip;</td><td style = \"text-align: right;\">&vellip;</td><td style = \"text-align: right;\">&vellip;</td><td style = \"text-align: right;\">&vellip;</td><td style = \"text-align: right;\">&vellip;</td><td style = \"text-align: right;\">&vellip;</td></tr><tr><td class = \"rowNumber\" style = \"font-weight: bold; text-align: right;\">495</td><td style = \"text-align: right;\">0.27957</td><td style = \"text-align: right;\">0.0</td><td style = \"text-align: right;\">9.69</td><td style = \"text-align: right;\">0</td><td style = \"text-align: right;\">0.585</td><td style = \"text-align: right;\">5.926</td><td style = \"text-align: right;\">42.6</td><td style = \"text-align: right;\">2.3817</td><td style = \"text-align: right;\">6</td><td style = \"text-align: right;\">391</td><td style = \"text-align: right;\">19.2</td><td style = \"text-align: right;\">396.9</td><td style = \"text-align: right;\">13.59</td><td style = \"text-align: right;\">1</td></tr><tr><td class = \"rowNumber\" style = \"font-weight: bold; text-align: right;\">496</td><td style = \"text-align: right;\">0.17899</td><td style = \"text-align: right;\">0.0</td><td style = \"text-align: right;\">9.69</td><td style = \"text-align: right;\">0</td><td style = \"text-align: right;\">0.585</td><td style = \"text-align: right;\">5.67</td><td style = \"text-align: right;\">28.8</td><td style = \"text-align: right;\">2.7986</td><td style = \"text-align: right;\">6</td><td style = \"text-align: right;\">391</td><td style = \"text-align: right;\">19.2</td><td style = \"text-align: right;\">393.29</td><td style = \"text-align: right;\">17.6</td><td style = \"text-align: right;\">1</td></tr><tr><td class = \"rowNumber\" style = \"font-weight: bold; text-align: right;\">497</td><td style = \"text-align: right;\">0.2896</td><td style = \"text-align: right;\">0.0</td><td style = \"text-align: right;\">9.69</td><td style = \"text-align: right;\">0</td><td style = \"text-align: right;\">0.585</td><td style = \"text-align: right;\">5.39</td><td style = \"text-align: right;\">72.9</td><td style = \"text-align: right;\">2.7986</td><td style = \"text-align: right;\">6</td><td style = \"text-align: right;\">391</td><td style = \"text-align: right;\">19.2</td><td style = \"text-align: right;\">396.9</td><td style = \"text-align: right;\">21.14</td><td style = \"text-align: right;\">0</td></tr><tr><td class = \"rowNumber\" style = \"font-weight: bold; text-align: right;\">498</td><td style = \"text-align: right;\">0.26838</td><td style = \"text-align: right;\">0.0</td><td style = \"text-align: right;\">9.69</td><td style = \"text-align: right;\">0</td><td style = \"text-align: right;\">0.585</td><td style = \"text-align: right;\">5.794</td><td style = \"text-align: right;\">70.6</td><td style = \"text-align: right;\">2.8927</td><td style = \"text-align: right;\">6</td><td style = \"text-align: right;\">391</td><td style = \"text-align: right;\">19.2</td><td style = \"text-align: right;\">396.9</td><td style = \"text-align: right;\">14.1</td><td style = \"text-align: right;\">0</td></tr><tr><td class = \"rowNumber\" style = \"font-weight: bold; text-align: right;\">499</td><td style = \"text-align: right;\">0.23912</td><td style = \"text-align: right;\">0.0</td><td style = \"text-align: right;\">9.69</td><td style = \"text-align: right;\">0</td><td style = \"text-align: right;\">0.585</td><td style = \"text-align: right;\">6.019</td><td style = \"text-align: right;\">65.3</td><td style = \"text-align: right;\">2.4091</td><td style = \"text-align: right;\">6</td><td style = \"text-align: right;\">391</td><td style = \"text-align: right;\">19.2</td><td style = \"text-align: right;\">396.9</td><td style = \"text-align: right;\">12.92</td><td style = \"text-align: right;\">0</td></tr><tr><td class = \"rowNumber\" style = \"font-weight: bold; text-align: right;\">500</td><td style = \"text-align: right;\">0.17783</td><td style = \"text-align: right;\">0.0</td><td style = \"text-align: right;\">9.69</td><td style = \"text-align: right;\">0</td><td style = \"text-align: right;\">0.585</td><td style = \"text-align: right;\">5.569</td><td style = \"text-align: right;\">73.5</td><td style = \"text-align: right;\">2.3999</td><td style = \"text-align: right;\">6</td><td style = \"text-align: right;\">391</td><td style = \"text-align: right;\">19.2</td><td style = \"text-align: right;\">395.77</td><td style = \"text-align: right;\">15.1</td><td style = \"text-align: right;\">0</td></tr><tr><td class = \"rowNumber\" style = \"font-weight: bold; text-align: right;\">501</td><td style = \"text-align: right;\">0.22438</td><td style = \"text-align: right;\">0.0</td><td style = \"text-align: right;\">9.69</td><td style = \"text-align: right;\">0</td><td style = \"text-align: right;\">0.585</td><td style = \"text-align: right;\">6.027</td><td style = \"text-align: right;\">79.7</td><td style = \"text-align: right;\">2.4982</td><td style = \"text-align: right;\">6</td><td style = \"text-align: right;\">391</td><td style = \"text-align: right;\">19.2</td><td style = \"text-align: right;\">396.9</td><td style = \"text-align: right;\">14.33</td><td style = \"text-align: right;\">0</td></tr><tr><td class = \"rowNumber\" style = \"font-weight: bold; text-align: right;\">502</td><td style = \"text-align: right;\">0.06263</td><td style = \"text-align: right;\">0.0</td><td style = \"text-align: right;\">11.93</td><td style = \"text-align: right;\">0</td><td style = \"text-align: right;\">0.573</td><td style = \"text-align: right;\">6.593</td><td style = \"text-align: right;\">69.1</td><td style = \"text-align: right;\">2.4786</td><td style = \"text-align: right;\">1</td><td style = \"text-align: right;\">273</td><td style = \"text-align: right;\">21.0</td><td style = \"text-align: right;\">391.99</td><td style = \"text-align: right;\">9.67</td><td style = \"text-align: right;\">0</td></tr><tr><td class = \"rowNumber\" style = \"font-weight: bold; text-align: right;\">503</td><td style = \"text-align: right;\">0.04527</td><td style = \"text-align: right;\">0.0</td><td style = \"text-align: right;\">11.93</td><td style = \"text-align: right;\">0</td><td style = \"text-align: right;\">0.573</td><td style = \"text-align: right;\">6.12</td><td style = \"text-align: right;\">76.7</td><td style = \"text-align: right;\">2.2875</td><td style = \"text-align: right;\">1</td><td style = \"text-align: right;\">273</td><td style = \"text-align: right;\">21.0</td><td style = \"text-align: right;\">396.9</td><td style = \"text-align: right;\">9.08</td><td style = \"text-align: right;\">0</td></tr><tr><td class = \"rowNumber\" style = \"font-weight: bold; text-align: right;\">504</td><td style = \"text-align: right;\">0.06076</td><td style = \"text-align: right;\">0.0</td><td style = \"text-align: right;\">11.93</td><td style = \"text-align: right;\">0</td><td style = \"text-align: right;\">0.573</td><td style = \"text-align: right;\">6.976</td><td style = \"text-align: right;\">91.0</td><td style = \"text-align: right;\">2.1675</td><td style = \"text-align: right;\">1</td><td style = \"text-align: right;\">273</td><td style = \"text-align: right;\">21.0</td><td style = \"text-align: right;\">396.9</td><td style = \"text-align: right;\">5.64</td><td style = \"text-align: right;\">1</td></tr><tr><td class = \"rowNumber\" style = \"font-weight: bold; text-align: right;\">505</td><td style = \"text-align: right;\">0.10959</td><td style = \"text-align: right;\">0.0</td><td style = \"text-align: right;\">11.93</td><td style = \"text-align: right;\">0</td><td style = \"text-align: right;\">0.573</td><td style = \"text-align: right;\">6.794</td><td style = \"text-align: right;\">89.3</td><td style = \"text-align: right;\">2.3889</td><td style = \"text-align: right;\">1</td><td style = \"text-align: right;\">273</td><td style = \"text-align: right;\">21.0</td><td style = \"text-align: right;\">393.45</td><td style = \"text-align: right;\">6.48</td><td style = \"text-align: right;\">0</td></tr><tr><td class = \"rowNumber\" style = \"font-weight: bold; text-align: right;\">506</td><td style = \"text-align: right;\">0.04741</td><td style = \"text-align: right;\">0.0</td><td style = \"text-align: right;\">11.93</td><td style = \"text-align: right;\">0</td><td style = \"text-align: right;\">0.573</td><td style = \"text-align: right;\">6.03</td><td style = \"text-align: right;\">80.8</td><td style = \"text-align: right;\">2.505</td><td style = \"text-align: right;\">1</td><td style = \"text-align: right;\">273</td><td style = \"text-align: right;\">21.0</td><td style = \"text-align: right;\">396.9</td><td style = \"text-align: right;\">7.88</td><td style = \"text-align: right;\">0</td></tr></tbody></table></div>"
      ],
      "text/latex": [
       "\\begin{tabular}{r|ccccccccccc}\n",
       "\t& crim & zn & indus & chas & nox & rm & age & dis & rad & tax & \\\\\n",
       "\t\\hline\n",
       "\t& Float64 & Float64 & Float64 & Int64 & Float64 & Float64 & Float64 & Float64 & Int64 & Int64 & \\\\\n",
       "\t\\hline\n",
       "\t1 & 0.00632 & 18.0 & 2.31 & 0 & 0.538 & 6.575 & 65.2 & 4.09 & 1 & 296 & $\\dots$ \\\\\n",
       "\t2 & 0.02731 & 0.0 & 7.07 & 0 & 0.469 & 6.421 & 78.9 & 4.9671 & 2 & 242 & $\\dots$ \\\\\n",
       "\t3 & 0.02729 & 0.0 & 7.07 & 0 & 0.469 & 7.185 & 61.1 & 4.9671 & 2 & 242 & $\\dots$ \\\\\n",
       "\t4 & 0.03237 & 0.0 & 2.18 & 0 & 0.458 & 6.998 & 45.8 & 6.0622 & 3 & 222 & $\\dots$ \\\\\n",
       "\t5 & 0.06905 & 0.0 & 2.18 & 0 & 0.458 & 7.147 & 54.2 & 6.0622 & 3 & 222 & $\\dots$ \\\\\n",
       "\t6 & 0.02985 & 0.0 & 2.18 & 0 & 0.458 & 6.43 & 58.7 & 6.0622 & 3 & 222 & $\\dots$ \\\\\n",
       "\t7 & 0.08829 & 12.5 & 7.87 & 0 & 0.524 & 6.012 & 66.6 & 5.5605 & 5 & 311 & $\\dots$ \\\\\n",
       "\t8 & 0.14455 & 12.5 & 7.87 & 0 & 0.524 & 6.172 & 96.1 & 5.9505 & 5 & 311 & $\\dots$ \\\\\n",
       "\t9 & 0.21124 & 12.5 & 7.87 & 0 & 0.524 & 5.631 & 100.0 & 6.0821 & 5 & 311 & $\\dots$ \\\\\n",
       "\t10 & 0.17004 & 12.5 & 7.87 & 0 & 0.524 & 6.004 & 85.9 & 6.5921 & 5 & 311 & $\\dots$ \\\\\n",
       "\t11 & 0.22489 & 12.5 & 7.87 & 0 & 0.524 & 6.377 & 94.3 & 6.3467 & 5 & 311 & $\\dots$ \\\\\n",
       "\t12 & 0.11747 & 12.5 & 7.87 & 0 & 0.524 & 6.009 & 82.9 & 6.2267 & 5 & 311 & $\\dots$ \\\\\n",
       "\t13 & 0.09378 & 12.5 & 7.87 & 0 & 0.524 & 5.889 & 39.0 & 5.4509 & 5 & 311 & $\\dots$ \\\\\n",
       "\t14 & 0.62976 & 0.0 & 8.14 & 0 & 0.538 & 5.949 & 61.8 & 4.7075 & 4 & 307 & $\\dots$ \\\\\n",
       "\t15 & 0.63796 & 0.0 & 8.14 & 0 & 0.538 & 6.096 & 84.5 & 4.4619 & 4 & 307 & $\\dots$ \\\\\n",
       "\t16 & 0.62739 & 0.0 & 8.14 & 0 & 0.538 & 5.834 & 56.5 & 4.4986 & 4 & 307 & $\\dots$ \\\\\n",
       "\t17 & 1.05393 & 0.0 & 8.14 & 0 & 0.538 & 5.935 & 29.3 & 4.4986 & 4 & 307 & $\\dots$ \\\\\n",
       "\t18 & 0.7842 & 0.0 & 8.14 & 0 & 0.538 & 5.99 & 81.7 & 4.2579 & 4 & 307 & $\\dots$ \\\\\n",
       "\t19 & 0.80271 & 0.0 & 8.14 & 0 & 0.538 & 5.456 & 36.6 & 3.7965 & 4 & 307 & $\\dots$ \\\\\n",
       "\t20 & 0.7258 & 0.0 & 8.14 & 0 & 0.538 & 5.727 & 69.5 & 3.7965 & 4 & 307 & $\\dots$ \\\\\n",
       "\t21 & 1.25179 & 0.0 & 8.14 & 0 & 0.538 & 5.57 & 98.1 & 3.7979 & 4 & 307 & $\\dots$ \\\\\n",
       "\t22 & 0.85204 & 0.0 & 8.14 & 0 & 0.538 & 5.965 & 89.2 & 4.0123 & 4 & 307 & $\\dots$ \\\\\n",
       "\t23 & 1.23247 & 0.0 & 8.14 & 0 & 0.538 & 6.142 & 91.7 & 3.9769 & 4 & 307 & $\\dots$ \\\\\n",
       "\t24 & 0.98843 & 0.0 & 8.14 & 0 & 0.538 & 5.813 & 100.0 & 4.0952 & 4 & 307 & $\\dots$ \\\\\n",
       "\t25 & 0.75026 & 0.0 & 8.14 & 0 & 0.538 & 5.924 & 94.1 & 4.3996 & 4 & 307 & $\\dots$ \\\\\n",
       "\t26 & 0.84054 & 0.0 & 8.14 & 0 & 0.538 & 5.599 & 85.7 & 4.4546 & 4 & 307 & $\\dots$ \\\\\n",
       "\t27 & 0.67191 & 0.0 & 8.14 & 0 & 0.538 & 5.813 & 90.3 & 4.682 & 4 & 307 & $\\dots$ \\\\\n",
       "\t28 & 0.95577 & 0.0 & 8.14 & 0 & 0.538 & 6.047 & 88.8 & 4.4534 & 4 & 307 & $\\dots$ \\\\\n",
       "\t29 & 0.77299 & 0.0 & 8.14 & 0 & 0.538 & 6.495 & 94.4 & 4.4547 & 4 & 307 & $\\dots$ \\\\\n",
       "\t30 & 1.00245 & 0.0 & 8.14 & 0 & 0.538 & 6.674 & 87.3 & 4.239 & 4 & 307 & $\\dots$ \\\\\n",
       "\t$\\dots$ & $\\dots$ & $\\dots$ & $\\dots$ & $\\dots$ & $\\dots$ & $\\dots$ & $\\dots$ & $\\dots$ & $\\dots$ & $\\dots$ &  \\\\\n",
       "\\end{tabular}\n"
      ],
      "text/plain": [
       "\u001b[1m506×14 DataFrame\u001b[0m\n",
       "\u001b[1m Row \u001b[0m│\u001b[1m crim    \u001b[0m\u001b[1m zn      \u001b[0m\u001b[1m indus   \u001b[0m\u001b[1m chas  \u001b[0m\u001b[1m nox     \u001b[0m\u001b[1m rm      \u001b[0m\u001b[1m age     \u001b[0m\u001b[1m dis     \u001b[0m\u001b[1m r\u001b[0m ⋯\n",
       "     │\u001b[90m Float64 \u001b[0m\u001b[90m Float64 \u001b[0m\u001b[90m Float64 \u001b[0m\u001b[90m Int64 \u001b[0m\u001b[90m Float64 \u001b[0m\u001b[90m Float64 \u001b[0m\u001b[90m Float64 \u001b[0m\u001b[90m Float64 \u001b[0m\u001b[90m I\u001b[0m ⋯\n",
       "─────┼──────────────────────────────────────────────────────────────────────────\n",
       "   1 │ 0.00632     18.0     2.31      0    0.538    6.575     65.2   4.09      ⋯\n",
       "   2 │ 0.02731      0.0     7.07      0    0.469    6.421     78.9   4.9671\n",
       "   3 │ 0.02729      0.0     7.07      0    0.469    7.185     61.1   4.9671\n",
       "   4 │ 0.03237      0.0     2.18      0    0.458    6.998     45.8   6.0622\n",
       "   5 │ 0.06905      0.0     2.18      0    0.458    7.147     54.2   6.0622    ⋯\n",
       "   6 │ 0.02985      0.0     2.18      0    0.458    6.43      58.7   6.0622\n",
       "   7 │ 0.08829     12.5     7.87      0    0.524    6.012     66.6   5.5605\n",
       "   8 │ 0.14455     12.5     7.87      0    0.524    6.172     96.1   5.9505\n",
       "   9 │ 0.21124     12.5     7.87      0    0.524    5.631    100.0   6.0821    ⋯\n",
       "  10 │ 0.17004     12.5     7.87      0    0.524    6.004     85.9   6.5921\n",
       "  11 │ 0.22489     12.5     7.87      0    0.524    6.377     94.3   6.3467\n",
       "  ⋮  │    ⋮        ⋮        ⋮       ⋮       ⋮        ⋮        ⋮        ⋮       ⋱\n",
       " 497 │ 0.2896       0.0     9.69      0    0.585    5.39      72.9   2.7986\n",
       " 498 │ 0.26838      0.0     9.69      0    0.585    5.794     70.6   2.8927    ⋯\n",
       " 499 │ 0.23912      0.0     9.69      0    0.585    6.019     65.3   2.4091\n",
       " 500 │ 0.17783      0.0     9.69      0    0.585    5.569     73.5   2.3999\n",
       " 501 │ 0.22438      0.0     9.69      0    0.585    6.027     79.7   2.4982\n",
       " 502 │ 0.06263      0.0    11.93      0    0.573    6.593     69.1   2.4786    ⋯\n",
       " 503 │ 0.04527      0.0    11.93      0    0.573    6.12      76.7   2.2875\n",
       " 504 │ 0.06076      0.0    11.93      0    0.573    6.976     91.0   2.1675\n",
       " 505 │ 0.10959      0.0    11.93      0    0.573    6.794     89.3   2.3889\n",
       " 506 │ 0.04741      0.0    11.93      0    0.573    6.03      80.8   2.505     ⋯\n",
       "\u001b[36m                                                  6 columns and 485 rows omitted\u001b[0m"
      ]
     },
     "execution_count": 10,
     "metadata": {},
     "output_type": "execute_result"
    }
   ],
   "source": [
    "select!(houses, Not(:medv))\n",
    "houses"
   ]
  },
  {
   "cell_type": "markdown",
   "metadata": {},
   "source": [
    "**(2p)** Check scientfic and data types of the features. Change scientific type of columns:\n",
    "* `chas` to represent nominal variable,\n",
    "* `rad` to represent ordinal variable,\n",
    "* `price_bin` to ordered binary variable (1 should be a positive category)."
   ]
  },
  {
   "cell_type": "code",
   "execution_count": null,
   "metadata": {},
   "outputs": [
    {
     "data": {
      "text/plain": [
       "┌───────────┬──────────────────┬─────────────────────────────────┐\n",
       "│\u001b[22m names     \u001b[0m│\u001b[22m scitypes         \u001b[0m│\u001b[22m types                           \u001b[0m│\n",
       "├───────────┼──────────────────┼─────────────────────────────────┤\n",
       "│ crim      │ Continuous       │ Float64                         │\n",
       "│ zn        │ Continuous       │ Float64                         │\n",
       "│ indus     │ Continuous       │ Float64                         │\n",
       "│ chas      │ Continuous       │ Float64                         │\n",
       "│ nox       │ Continuous       │ Float64                         │\n",
       "│ rm        │ Continuous       │ Float64                         │\n",
       "│ age       │ Continuous       │ Float64                         │\n",
       "│ dis       │ Continuous       │ Float64                         │\n",
       "│ rad       │ OrderedFactor{9} │ CategoricalValue{Int64, UInt32} │\n",
       "│ tax       │ Count            │ Int64                           │\n",
       "│ ptratio   │ Continuous       │ Float64                         │\n",
       "│ black     │ Continuous       │ Float64                         │\n",
       "│ lstat     │ Continuous       │ Float64                         │\n",
       "│ price_bin │ OrderedFactor{2} │ CategoricalValue{Int64, UInt32} │\n",
       "└───────────┴──────────────────┴─────────────────────────────────┘\n"
      ]
     },
     "execution_count": 14,
     "metadata": {},
     "output_type": "execute_result"
    }
   ],
   "source": [
    "MLJ.schema(houses)"
   ]
  },
  {
   "cell_type": "code",
   "execution_count": null,
   "metadata": {},
   "outputs": [
    {
     "data": {
      "text/plain": [
       "┌───────────┬──────────────────┬─────────────────────────────────┐\n",
       "│\u001b[22m names     \u001b[0m│\u001b[22m scitypes         \u001b[0m│\u001b[22m types                           \u001b[0m│\n",
       "├───────────┼──────────────────┼─────────────────────────────────┤\n",
       "│ crim      │ Continuous       │ Float64                         │\n",
       "│ zn        │ Continuous       │ Float64                         │\n",
       "│ indus     │ Continuous       │ Float64                         │\n",
       "│ chas      │ Continuous       │ Float64                         │\n",
       "│ nox       │ Continuous       │ Float64                         │\n",
       "│ rm        │ Continuous       │ Float64                         │\n",
       "│ age       │ Continuous       │ Float64                         │\n",
       "│ dis       │ Continuous       │ Float64                         │\n",
       "│ rad       │ OrderedFactor{9} │ CategoricalValue{Int64, UInt32} │\n",
       "│ tax       │ Count            │ Int64                           │\n",
       "│ ptratio   │ Continuous       │ Float64                         │\n",
       "│ black     │ Continuous       │ Float64                         │\n",
       "│ lstat     │ Continuous       │ Float64                         │\n",
       "│ price_bin │ OrderedFactor{2} │ CategoricalValue{Int64, UInt32} │\n",
       "└───────────┴──────────────────┴─────────────────────────────────┘\n"
      ]
     },
     "execution_count": 17,
     "metadata": {},
     "output_type": "execute_result"
    }
   ],
   "source": [
    "houses = coerce(houses, :chas => Continuous, Textual => Multiclass);\n",
    "houses = coerce(houses, :rad => OrderedFactor);\n",
    "houses = coerce(houses, :price_bin => OrderedFactor);\n",
    "MLJ.schema(houses)"
   ]
  },
  {
   "cell_type": "markdown",
   "metadata": {},
   "source": [
    "**(1p)** Split the dataset into dependent variable (`price_bin`) and independent variables (all other features)."
   ]
  },
  {
   "cell_type": "code",
   "execution_count": null,
   "metadata": {},
   "outputs": [
    {
     "data": {
      "text/html": [
       "<div><div style = \"float: left;\"><span>506×13 DataFrame</span></div><div style = \"float: right;\"><span style = \"font-style: italic;\">481 rows omitted</span></div><div style = \"clear: both;\"></div></div><div class = \"data-frame\" style = \"overflow-x: scroll;\"><table class = \"data-frame\" style = \"margin-bottom: 6px;\"><thead><tr class = \"header\"><th class = \"rowNumber\" style = \"font-weight: bold; text-align: right;\">Row</th><th style = \"text-align: left;\">crim</th><th style = \"text-align: left;\">zn</th><th style = \"text-align: left;\">indus</th><th style = \"text-align: left;\">chas</th><th style = \"text-align: left;\">nox</th><th style = \"text-align: left;\">rm</th><th style = \"text-align: left;\">age</th><th style = \"text-align: left;\">dis</th><th style = \"text-align: left;\">rad</th><th style = \"text-align: left;\">tax</th><th style = \"text-align: left;\">ptratio</th><th style = \"text-align: left;\">black</th><th style = \"text-align: left;\">lstat</th></tr><tr class = \"subheader headerLastRow\"><th class = \"rowNumber\" style = \"font-weight: bold; text-align: right;\"></th><th title = \"Float64\" style = \"text-align: left;\">Float64</th><th title = \"Float64\" style = \"text-align: left;\">Float64</th><th title = \"Float64\" style = \"text-align: left;\">Float64</th><th title = \"Float64\" style = \"text-align: left;\">Float64</th><th title = \"Float64\" style = \"text-align: left;\">Float64</th><th title = \"Float64\" style = \"text-align: left;\">Float64</th><th title = \"Float64\" style = \"text-align: left;\">Float64</th><th title = \"Float64\" style = \"text-align: left;\">Float64</th><th title = \"CategoricalArrays.CategoricalValue{Int64, UInt32}\" style = \"text-align: left;\">Cat…</th><th title = \"Int64\" style = \"text-align: left;\">Int64</th><th title = \"Float64\" style = \"text-align: left;\">Float64</th><th title = \"Float64\" style = \"text-align: left;\">Float64</th><th title = \"Float64\" style = \"text-align: left;\">Float64</th></tr></thead><tbody><tr><td class = \"rowNumber\" style = \"font-weight: bold; text-align: right;\">1</td><td style = \"text-align: right;\">0.00632</td><td style = \"text-align: right;\">18.0</td><td style = \"text-align: right;\">2.31</td><td style = \"text-align: right;\">0.0</td><td style = \"text-align: right;\">0.538</td><td style = \"text-align: right;\">6.575</td><td style = \"text-align: right;\">65.2</td><td style = \"text-align: right;\">4.09</td><td style = \"text-align: left;\">1</td><td style = \"text-align: right;\">296</td><td style = \"text-align: right;\">15.3</td><td style = \"text-align: right;\">396.9</td><td style = \"text-align: right;\">4.98</td></tr><tr><td class = \"rowNumber\" style = \"font-weight: bold; text-align: right;\">2</td><td style = \"text-align: right;\">0.02731</td><td style = \"text-align: right;\">0.0</td><td style = \"text-align: right;\">7.07</td><td style = \"text-align: right;\">0.0</td><td style = \"text-align: right;\">0.469</td><td style = \"text-align: right;\">6.421</td><td style = \"text-align: right;\">78.9</td><td style = \"text-align: right;\">4.9671</td><td style = \"text-align: left;\">2</td><td style = \"text-align: right;\">242</td><td style = \"text-align: right;\">17.8</td><td style = \"text-align: right;\">396.9</td><td style = \"text-align: right;\">9.14</td></tr><tr><td class = \"rowNumber\" style = \"font-weight: bold; text-align: right;\">3</td><td style = \"text-align: right;\">0.02729</td><td style = \"text-align: right;\">0.0</td><td style = \"text-align: right;\">7.07</td><td style = \"text-align: right;\">0.0</td><td style = \"text-align: right;\">0.469</td><td style = \"text-align: right;\">7.185</td><td style = \"text-align: right;\">61.1</td><td style = \"text-align: right;\">4.9671</td><td style = \"text-align: left;\">2</td><td style = \"text-align: right;\">242</td><td style = \"text-align: right;\">17.8</td><td style = \"text-align: right;\">392.83</td><td style = \"text-align: right;\">4.03</td></tr><tr><td class = \"rowNumber\" style = \"font-weight: bold; text-align: right;\">4</td><td style = \"text-align: right;\">0.03237</td><td style = \"text-align: right;\">0.0</td><td style = \"text-align: right;\">2.18</td><td style = \"text-align: right;\">0.0</td><td style = \"text-align: right;\">0.458</td><td style = \"text-align: right;\">6.998</td><td style = \"text-align: right;\">45.8</td><td style = \"text-align: right;\">6.0622</td><td style = \"text-align: left;\">3</td><td style = \"text-align: right;\">222</td><td style = \"text-align: right;\">18.7</td><td style = \"text-align: right;\">394.63</td><td style = \"text-align: right;\">2.94</td></tr><tr><td class = \"rowNumber\" style = \"font-weight: bold; text-align: right;\">5</td><td style = \"text-align: right;\">0.06905</td><td style = \"text-align: right;\">0.0</td><td style = \"text-align: right;\">2.18</td><td style = \"text-align: right;\">0.0</td><td style = \"text-align: right;\">0.458</td><td style = \"text-align: right;\">7.147</td><td style = \"text-align: right;\">54.2</td><td style = \"text-align: right;\">6.0622</td><td style = \"text-align: left;\">3</td><td style = \"text-align: right;\">222</td><td style = \"text-align: right;\">18.7</td><td style = \"text-align: right;\">396.9</td><td style = \"text-align: right;\">5.33</td></tr><tr><td class = \"rowNumber\" style = \"font-weight: bold; text-align: right;\">6</td><td style = \"text-align: right;\">0.02985</td><td style = \"text-align: right;\">0.0</td><td style = \"text-align: right;\">2.18</td><td style = \"text-align: right;\">0.0</td><td style = \"text-align: right;\">0.458</td><td style = \"text-align: right;\">6.43</td><td style = \"text-align: right;\">58.7</td><td style = \"text-align: right;\">6.0622</td><td style = \"text-align: left;\">3</td><td style = \"text-align: right;\">222</td><td style = \"text-align: right;\">18.7</td><td style = \"text-align: right;\">394.12</td><td style = \"text-align: right;\">5.21</td></tr><tr><td class = \"rowNumber\" style = \"font-weight: bold; text-align: right;\">7</td><td style = \"text-align: right;\">0.08829</td><td style = \"text-align: right;\">12.5</td><td style = \"text-align: right;\">7.87</td><td style = \"text-align: right;\">0.0</td><td style = \"text-align: right;\">0.524</td><td style = \"text-align: right;\">6.012</td><td style = \"text-align: right;\">66.6</td><td style = \"text-align: right;\">5.5605</td><td style = \"text-align: left;\">5</td><td style = \"text-align: right;\">311</td><td style = \"text-align: right;\">15.2</td><td style = \"text-align: right;\">395.6</td><td style = \"text-align: right;\">12.43</td></tr><tr><td class = \"rowNumber\" style = \"font-weight: bold; text-align: right;\">8</td><td style = \"text-align: right;\">0.14455</td><td style = \"text-align: right;\">12.5</td><td style = \"text-align: right;\">7.87</td><td style = \"text-align: right;\">0.0</td><td style = \"text-align: right;\">0.524</td><td style = \"text-align: right;\">6.172</td><td style = \"text-align: right;\">96.1</td><td style = \"text-align: right;\">5.9505</td><td style = \"text-align: left;\">5</td><td style = \"text-align: right;\">311</td><td style = \"text-align: right;\">15.2</td><td style = \"text-align: right;\">396.9</td><td style = \"text-align: right;\">19.15</td></tr><tr><td class = \"rowNumber\" style = \"font-weight: bold; text-align: right;\">9</td><td style = \"text-align: right;\">0.21124</td><td style = \"text-align: right;\">12.5</td><td style = \"text-align: right;\">7.87</td><td style = \"text-align: right;\">0.0</td><td style = \"text-align: right;\">0.524</td><td style = \"text-align: right;\">5.631</td><td style = \"text-align: right;\">100.0</td><td style = \"text-align: right;\">6.0821</td><td style = \"text-align: left;\">5</td><td style = \"text-align: right;\">311</td><td style = \"text-align: right;\">15.2</td><td style = \"text-align: right;\">386.63</td><td style = \"text-align: right;\">29.93</td></tr><tr><td class = \"rowNumber\" style = \"font-weight: bold; text-align: right;\">10</td><td style = \"text-align: right;\">0.17004</td><td style = \"text-align: right;\">12.5</td><td style = \"text-align: right;\">7.87</td><td style = \"text-align: right;\">0.0</td><td style = \"text-align: right;\">0.524</td><td style = \"text-align: right;\">6.004</td><td style = \"text-align: right;\">85.9</td><td style = \"text-align: right;\">6.5921</td><td style = \"text-align: left;\">5</td><td style = \"text-align: right;\">311</td><td style = \"text-align: right;\">15.2</td><td style = \"text-align: right;\">386.71</td><td style = \"text-align: right;\">17.1</td></tr><tr><td class = \"rowNumber\" style = \"font-weight: bold; text-align: right;\">11</td><td style = \"text-align: right;\">0.22489</td><td style = \"text-align: right;\">12.5</td><td style = \"text-align: right;\">7.87</td><td style = \"text-align: right;\">0.0</td><td style = \"text-align: right;\">0.524</td><td style = \"text-align: right;\">6.377</td><td style = \"text-align: right;\">94.3</td><td style = \"text-align: right;\">6.3467</td><td style = \"text-align: left;\">5</td><td style = \"text-align: right;\">311</td><td style = \"text-align: right;\">15.2</td><td style = \"text-align: right;\">392.52</td><td style = \"text-align: right;\">20.45</td></tr><tr><td class = \"rowNumber\" style = \"font-weight: bold; text-align: right;\">12</td><td style = \"text-align: right;\">0.11747</td><td style = \"text-align: right;\">12.5</td><td style = \"text-align: right;\">7.87</td><td style = \"text-align: right;\">0.0</td><td style = \"text-align: right;\">0.524</td><td style = \"text-align: right;\">6.009</td><td style = \"text-align: right;\">82.9</td><td style = \"text-align: right;\">6.2267</td><td style = \"text-align: left;\">5</td><td style = \"text-align: right;\">311</td><td style = \"text-align: right;\">15.2</td><td style = \"text-align: right;\">396.9</td><td style = \"text-align: right;\">13.27</td></tr><tr><td class = \"rowNumber\" style = \"font-weight: bold; text-align: right;\">13</td><td style = \"text-align: right;\">0.09378</td><td style = \"text-align: right;\">12.5</td><td style = \"text-align: right;\">7.87</td><td style = \"text-align: right;\">0.0</td><td style = \"text-align: right;\">0.524</td><td style = \"text-align: right;\">5.889</td><td style = \"text-align: right;\">39.0</td><td style = \"text-align: right;\">5.4509</td><td style = \"text-align: left;\">5</td><td style = \"text-align: right;\">311</td><td style = \"text-align: right;\">15.2</td><td style = \"text-align: right;\">390.5</td><td style = \"text-align: right;\">15.71</td></tr><tr><td style = \"text-align: right;\">&vellip;</td><td style = \"text-align: right;\">&vellip;</td><td style = \"text-align: right;\">&vellip;</td><td style = \"text-align: right;\">&vellip;</td><td style = \"text-align: right;\">&vellip;</td><td style = \"text-align: right;\">&vellip;</td><td style = \"text-align: right;\">&vellip;</td><td style = \"text-align: right;\">&vellip;</td><td style = \"text-align: right;\">&vellip;</td><td style = \"text-align: right;\">&vellip;</td><td style = \"text-align: right;\">&vellip;</td><td style = \"text-align: right;\">&vellip;</td><td style = \"text-align: right;\">&vellip;</td><td style = \"text-align: right;\">&vellip;</td></tr><tr><td class = \"rowNumber\" style = \"font-weight: bold; text-align: right;\">495</td><td style = \"text-align: right;\">0.27957</td><td style = \"text-align: right;\">0.0</td><td style = \"text-align: right;\">9.69</td><td style = \"text-align: right;\">0.0</td><td style = \"text-align: right;\">0.585</td><td style = \"text-align: right;\">5.926</td><td style = \"text-align: right;\">42.6</td><td style = \"text-align: right;\">2.3817</td><td style = \"text-align: left;\">6</td><td style = \"text-align: right;\">391</td><td style = \"text-align: right;\">19.2</td><td style = \"text-align: right;\">396.9</td><td style = \"text-align: right;\">13.59</td></tr><tr><td class = \"rowNumber\" style = \"font-weight: bold; text-align: right;\">496</td><td style = \"text-align: right;\">0.17899</td><td style = \"text-align: right;\">0.0</td><td style = \"text-align: right;\">9.69</td><td style = \"text-align: right;\">0.0</td><td style = \"text-align: right;\">0.585</td><td style = \"text-align: right;\">5.67</td><td style = \"text-align: right;\">28.8</td><td style = \"text-align: right;\">2.7986</td><td style = \"text-align: left;\">6</td><td style = \"text-align: right;\">391</td><td style = \"text-align: right;\">19.2</td><td style = \"text-align: right;\">393.29</td><td style = \"text-align: right;\">17.6</td></tr><tr><td class = \"rowNumber\" style = \"font-weight: bold; text-align: right;\">497</td><td style = \"text-align: right;\">0.2896</td><td style = \"text-align: right;\">0.0</td><td style = \"text-align: right;\">9.69</td><td style = \"text-align: right;\">0.0</td><td style = \"text-align: right;\">0.585</td><td style = \"text-align: right;\">5.39</td><td style = \"text-align: right;\">72.9</td><td style = \"text-align: right;\">2.7986</td><td style = \"text-align: left;\">6</td><td style = \"text-align: right;\">391</td><td style = \"text-align: right;\">19.2</td><td style = \"text-align: right;\">396.9</td><td style = \"text-align: right;\">21.14</td></tr><tr><td class = \"rowNumber\" style = \"font-weight: bold; text-align: right;\">498</td><td style = \"text-align: right;\">0.26838</td><td style = \"text-align: right;\">0.0</td><td style = \"text-align: right;\">9.69</td><td style = \"text-align: right;\">0.0</td><td style = \"text-align: right;\">0.585</td><td style = \"text-align: right;\">5.794</td><td style = \"text-align: right;\">70.6</td><td style = \"text-align: right;\">2.8927</td><td style = \"text-align: left;\">6</td><td style = \"text-align: right;\">391</td><td style = \"text-align: right;\">19.2</td><td style = \"text-align: right;\">396.9</td><td style = \"text-align: right;\">14.1</td></tr><tr><td class = \"rowNumber\" style = \"font-weight: bold; text-align: right;\">499</td><td style = \"text-align: right;\">0.23912</td><td style = \"text-align: right;\">0.0</td><td style = \"text-align: right;\">9.69</td><td style = \"text-align: right;\">0.0</td><td style = \"text-align: right;\">0.585</td><td style = \"text-align: right;\">6.019</td><td style = \"text-align: right;\">65.3</td><td style = \"text-align: right;\">2.4091</td><td style = \"text-align: left;\">6</td><td style = \"text-align: right;\">391</td><td style = \"text-align: right;\">19.2</td><td style = \"text-align: right;\">396.9</td><td style = \"text-align: right;\">12.92</td></tr><tr><td class = \"rowNumber\" style = \"font-weight: bold; text-align: right;\">500</td><td style = \"text-align: right;\">0.17783</td><td style = \"text-align: right;\">0.0</td><td style = \"text-align: right;\">9.69</td><td style = \"text-align: right;\">0.0</td><td style = \"text-align: right;\">0.585</td><td style = \"text-align: right;\">5.569</td><td style = \"text-align: right;\">73.5</td><td style = \"text-align: right;\">2.3999</td><td style = \"text-align: left;\">6</td><td style = \"text-align: right;\">391</td><td style = \"text-align: right;\">19.2</td><td style = \"text-align: right;\">395.77</td><td style = \"text-align: right;\">15.1</td></tr><tr><td class = \"rowNumber\" style = \"font-weight: bold; text-align: right;\">501</td><td style = \"text-align: right;\">0.22438</td><td style = \"text-align: right;\">0.0</td><td style = \"text-align: right;\">9.69</td><td style = \"text-align: right;\">0.0</td><td style = \"text-align: right;\">0.585</td><td style = \"text-align: right;\">6.027</td><td style = \"text-align: right;\">79.7</td><td style = \"text-align: right;\">2.4982</td><td style = \"text-align: left;\">6</td><td style = \"text-align: right;\">391</td><td style = \"text-align: right;\">19.2</td><td style = \"text-align: right;\">396.9</td><td style = \"text-align: right;\">14.33</td></tr><tr><td class = \"rowNumber\" style = \"font-weight: bold; text-align: right;\">502</td><td style = \"text-align: right;\">0.06263</td><td style = \"text-align: right;\">0.0</td><td style = \"text-align: right;\">11.93</td><td style = \"text-align: right;\">0.0</td><td style = \"text-align: right;\">0.573</td><td style = \"text-align: right;\">6.593</td><td style = \"text-align: right;\">69.1</td><td style = \"text-align: right;\">2.4786</td><td style = \"text-align: left;\">1</td><td style = \"text-align: right;\">273</td><td style = \"text-align: right;\">21.0</td><td style = \"text-align: right;\">391.99</td><td style = \"text-align: right;\">9.67</td></tr><tr><td class = \"rowNumber\" style = \"font-weight: bold; text-align: right;\">503</td><td style = \"text-align: right;\">0.04527</td><td style = \"text-align: right;\">0.0</td><td style = \"text-align: right;\">11.93</td><td style = \"text-align: right;\">0.0</td><td style = \"text-align: right;\">0.573</td><td style = \"text-align: right;\">6.12</td><td style = \"text-align: right;\">76.7</td><td style = \"text-align: right;\">2.2875</td><td style = \"text-align: left;\">1</td><td style = \"text-align: right;\">273</td><td style = \"text-align: right;\">21.0</td><td style = \"text-align: right;\">396.9</td><td style = \"text-align: right;\">9.08</td></tr><tr><td class = \"rowNumber\" style = \"font-weight: bold; text-align: right;\">504</td><td style = \"text-align: right;\">0.06076</td><td style = \"text-align: right;\">0.0</td><td style = \"text-align: right;\">11.93</td><td style = \"text-align: right;\">0.0</td><td style = \"text-align: right;\">0.573</td><td style = \"text-align: right;\">6.976</td><td style = \"text-align: right;\">91.0</td><td style = \"text-align: right;\">2.1675</td><td style = \"text-align: left;\">1</td><td style = \"text-align: right;\">273</td><td style = \"text-align: right;\">21.0</td><td style = \"text-align: right;\">396.9</td><td style = \"text-align: right;\">5.64</td></tr><tr><td class = \"rowNumber\" style = \"font-weight: bold; text-align: right;\">505</td><td style = \"text-align: right;\">0.10959</td><td style = \"text-align: right;\">0.0</td><td style = \"text-align: right;\">11.93</td><td style = \"text-align: right;\">0.0</td><td style = \"text-align: right;\">0.573</td><td style = \"text-align: right;\">6.794</td><td style = \"text-align: right;\">89.3</td><td style = \"text-align: right;\">2.3889</td><td style = \"text-align: left;\">1</td><td style = \"text-align: right;\">273</td><td style = \"text-align: right;\">21.0</td><td style = \"text-align: right;\">393.45</td><td style = \"text-align: right;\">6.48</td></tr><tr><td class = \"rowNumber\" style = \"font-weight: bold; text-align: right;\">506</td><td style = \"text-align: right;\">0.04741</td><td style = \"text-align: right;\">0.0</td><td style = \"text-align: right;\">11.93</td><td style = \"text-align: right;\">0.0</td><td style = \"text-align: right;\">0.573</td><td style = \"text-align: right;\">6.03</td><td style = \"text-align: right;\">80.8</td><td style = \"text-align: right;\">2.505</td><td style = \"text-align: left;\">1</td><td style = \"text-align: right;\">273</td><td style = \"text-align: right;\">21.0</td><td style = \"text-align: right;\">396.9</td><td style = \"text-align: right;\">7.88</td></tr></tbody></table></div>"
      ],
      "text/latex": [
       "\\begin{tabular}{r|ccccccccccc}\n",
       "\t& crim & zn & indus & chas & nox & rm & age & dis & rad & tax & \\\\\n",
       "\t\\hline\n",
       "\t& Float64 & Float64 & Float64 & Float64 & Float64 & Float64 & Float64 & Float64 & Cat… & Int64 & \\\\\n",
       "\t\\hline\n",
       "\t1 & 0.00632 & 18.0 & 2.31 & 0.0 & 0.538 & 6.575 & 65.2 & 4.09 & 1 & 296 & $\\dots$ \\\\\n",
       "\t2 & 0.02731 & 0.0 & 7.07 & 0.0 & 0.469 & 6.421 & 78.9 & 4.9671 & 2 & 242 & $\\dots$ \\\\\n",
       "\t3 & 0.02729 & 0.0 & 7.07 & 0.0 & 0.469 & 7.185 & 61.1 & 4.9671 & 2 & 242 & $\\dots$ \\\\\n",
       "\t4 & 0.03237 & 0.0 & 2.18 & 0.0 & 0.458 & 6.998 & 45.8 & 6.0622 & 3 & 222 & $\\dots$ \\\\\n",
       "\t5 & 0.06905 & 0.0 & 2.18 & 0.0 & 0.458 & 7.147 & 54.2 & 6.0622 & 3 & 222 & $\\dots$ \\\\\n",
       "\t6 & 0.02985 & 0.0 & 2.18 & 0.0 & 0.458 & 6.43 & 58.7 & 6.0622 & 3 & 222 & $\\dots$ \\\\\n",
       "\t7 & 0.08829 & 12.5 & 7.87 & 0.0 & 0.524 & 6.012 & 66.6 & 5.5605 & 5 & 311 & $\\dots$ \\\\\n",
       "\t8 & 0.14455 & 12.5 & 7.87 & 0.0 & 0.524 & 6.172 & 96.1 & 5.9505 & 5 & 311 & $\\dots$ \\\\\n",
       "\t9 & 0.21124 & 12.5 & 7.87 & 0.0 & 0.524 & 5.631 & 100.0 & 6.0821 & 5 & 311 & $\\dots$ \\\\\n",
       "\t10 & 0.17004 & 12.5 & 7.87 & 0.0 & 0.524 & 6.004 & 85.9 & 6.5921 & 5 & 311 & $\\dots$ \\\\\n",
       "\t11 & 0.22489 & 12.5 & 7.87 & 0.0 & 0.524 & 6.377 & 94.3 & 6.3467 & 5 & 311 & $\\dots$ \\\\\n",
       "\t12 & 0.11747 & 12.5 & 7.87 & 0.0 & 0.524 & 6.009 & 82.9 & 6.2267 & 5 & 311 & $\\dots$ \\\\\n",
       "\t13 & 0.09378 & 12.5 & 7.87 & 0.0 & 0.524 & 5.889 & 39.0 & 5.4509 & 5 & 311 & $\\dots$ \\\\\n",
       "\t14 & 0.62976 & 0.0 & 8.14 & 0.0 & 0.538 & 5.949 & 61.8 & 4.7075 & 4 & 307 & $\\dots$ \\\\\n",
       "\t15 & 0.63796 & 0.0 & 8.14 & 0.0 & 0.538 & 6.096 & 84.5 & 4.4619 & 4 & 307 & $\\dots$ \\\\\n",
       "\t16 & 0.62739 & 0.0 & 8.14 & 0.0 & 0.538 & 5.834 & 56.5 & 4.4986 & 4 & 307 & $\\dots$ \\\\\n",
       "\t17 & 1.05393 & 0.0 & 8.14 & 0.0 & 0.538 & 5.935 & 29.3 & 4.4986 & 4 & 307 & $\\dots$ \\\\\n",
       "\t18 & 0.7842 & 0.0 & 8.14 & 0.0 & 0.538 & 5.99 & 81.7 & 4.2579 & 4 & 307 & $\\dots$ \\\\\n",
       "\t19 & 0.80271 & 0.0 & 8.14 & 0.0 & 0.538 & 5.456 & 36.6 & 3.7965 & 4 & 307 & $\\dots$ \\\\\n",
       "\t20 & 0.7258 & 0.0 & 8.14 & 0.0 & 0.538 & 5.727 & 69.5 & 3.7965 & 4 & 307 & $\\dots$ \\\\\n",
       "\t21 & 1.25179 & 0.0 & 8.14 & 0.0 & 0.538 & 5.57 & 98.1 & 3.7979 & 4 & 307 & $\\dots$ \\\\\n",
       "\t22 & 0.85204 & 0.0 & 8.14 & 0.0 & 0.538 & 5.965 & 89.2 & 4.0123 & 4 & 307 & $\\dots$ \\\\\n",
       "\t23 & 1.23247 & 0.0 & 8.14 & 0.0 & 0.538 & 6.142 & 91.7 & 3.9769 & 4 & 307 & $\\dots$ \\\\\n",
       "\t24 & 0.98843 & 0.0 & 8.14 & 0.0 & 0.538 & 5.813 & 100.0 & 4.0952 & 4 & 307 & $\\dots$ \\\\\n",
       "\t25 & 0.75026 & 0.0 & 8.14 & 0.0 & 0.538 & 5.924 & 94.1 & 4.3996 & 4 & 307 & $\\dots$ \\\\\n",
       "\t26 & 0.84054 & 0.0 & 8.14 & 0.0 & 0.538 & 5.599 & 85.7 & 4.4546 & 4 & 307 & $\\dots$ \\\\\n",
       "\t27 & 0.67191 & 0.0 & 8.14 & 0.0 & 0.538 & 5.813 & 90.3 & 4.682 & 4 & 307 & $\\dots$ \\\\\n",
       "\t28 & 0.95577 & 0.0 & 8.14 & 0.0 & 0.538 & 6.047 & 88.8 & 4.4534 & 4 & 307 & $\\dots$ \\\\\n",
       "\t29 & 0.77299 & 0.0 & 8.14 & 0.0 & 0.538 & 6.495 & 94.4 & 4.4547 & 4 & 307 & $\\dots$ \\\\\n",
       "\t30 & 1.00245 & 0.0 & 8.14 & 0.0 & 0.538 & 6.674 & 87.3 & 4.239 & 4 & 307 & $\\dots$ \\\\\n",
       "\t$\\dots$ & $\\dots$ & $\\dots$ & $\\dots$ & $\\dots$ & $\\dots$ & $\\dots$ & $\\dots$ & $\\dots$ & $\\dots$ & $\\dots$ &  \\\\\n",
       "\\end{tabular}\n"
      ],
      "text/plain": [
       "\u001b[1m506×13 DataFrame\u001b[0m\n",
       "\u001b[1m Row \u001b[0m│\u001b[1m crim    \u001b[0m\u001b[1m zn      \u001b[0m\u001b[1m indus   \u001b[0m\u001b[1m chas    \u001b[0m\u001b[1m nox     \u001b[0m\u001b[1m rm      \u001b[0m\u001b[1m age     \u001b[0m\u001b[1m dis     \u001b[0m\u001b[1m\u001b[0m ⋯\n",
       "     │\u001b[90m Float64 \u001b[0m\u001b[90m Float64 \u001b[0m\u001b[90m Float64 \u001b[0m\u001b[90m Float64 \u001b[0m\u001b[90m Float64 \u001b[0m\u001b[90m Float64 \u001b[0m\u001b[90m Float64 \u001b[0m\u001b[90m Float64 \u001b[0m\u001b[90m\u001b[0m ⋯\n",
       "─────┼──────────────────────────────────────────────────────────────────────────\n",
       "   1 │ 0.00632     18.0     2.31      0.0    0.538    6.575     65.2   4.09    ⋯\n",
       "   2 │ 0.02731      0.0     7.07      0.0    0.469    6.421     78.9   4.9671\n",
       "   3 │ 0.02729      0.0     7.07      0.0    0.469    7.185     61.1   4.9671\n",
       "   4 │ 0.03237      0.0     2.18      0.0    0.458    6.998     45.8   6.0622\n",
       "   5 │ 0.06905      0.0     2.18      0.0    0.458    7.147     54.2   6.0622  ⋯\n",
       "   6 │ 0.02985      0.0     2.18      0.0    0.458    6.43      58.7   6.0622\n",
       "   7 │ 0.08829     12.5     7.87      0.0    0.524    6.012     66.6   5.5605\n",
       "   8 │ 0.14455     12.5     7.87      0.0    0.524    6.172     96.1   5.9505\n",
       "   9 │ 0.21124     12.5     7.87      0.0    0.524    5.631    100.0   6.0821  ⋯\n",
       "  10 │ 0.17004     12.5     7.87      0.0    0.524    6.004     85.9   6.5921\n",
       "  11 │ 0.22489     12.5     7.87      0.0    0.524    6.377     94.3   6.3467\n",
       "  ⋮  │    ⋮        ⋮        ⋮        ⋮        ⋮        ⋮        ⋮        ⋮     ⋱\n",
       " 497 │ 0.2896       0.0     9.69      0.0    0.585    5.39      72.9   2.7986\n",
       " 498 │ 0.26838      0.0     9.69      0.0    0.585    5.794     70.6   2.8927  ⋯\n",
       " 499 │ 0.23912      0.0     9.69      0.0    0.585    6.019     65.3   2.4091\n",
       " 500 │ 0.17783      0.0     9.69      0.0    0.585    5.569     73.5   2.3999\n",
       " 501 │ 0.22438      0.0     9.69      0.0    0.585    6.027     79.7   2.4982\n",
       " 502 │ 0.06263      0.0    11.93      0.0    0.573    6.593     69.1   2.4786  ⋯\n",
       " 503 │ 0.04527      0.0    11.93      0.0    0.573    6.12      76.7   2.2875\n",
       " 504 │ 0.06076      0.0    11.93      0.0    0.573    6.976     91.0   2.1675\n",
       " 505 │ 0.10959      0.0    11.93      0.0    0.573    6.794     89.3   2.3889\n",
       " 506 │ 0.04741      0.0    11.93      0.0    0.573    6.03      80.8   2.505   ⋯\n",
       "\u001b[36m                                                  5 columns and 485 rows omitted\u001b[0m"
      ]
     },
     "execution_count": 18,
     "metadata": {},
     "output_type": "execute_result"
    }
   ],
   "source": [
    "y = houses.price_bin\n",
    "\n",
    "X = select(houses, Not(:price_bin))\n"
   ]
  },
  {
   "cell_type": "markdown",
   "metadata": {},
   "source": [
    "**(2p)** Standardize and one-hot encode the predictors with proper Transformers from `MLJ` package."
   ]
  },
  {
   "cell_type": "code",
   "execution_count": null,
   "metadata": {},
   "outputs": [
    {
     "name": "stderr",
     "output_type": "stream",
     "text": [
      "┌ Info: Training machine(UnsupervisedPipeline(standardizer = Standardizer(features = Symbol[], …), …), …).\n",
      "└ @ MLJBase C:\\Users\\LENOVO\\.julia\\packages\\MLJBase\\9Nkjh\\src\\machines.jl:492\n",
      "┌ Info: Training machine(:standardizer, …).\n",
      "└ @ MLJBase C:\\Users\\LENOVO\\.julia\\packages\\MLJBase\\9Nkjh\\src\\machines.jl:492\n",
      "┌ Info: Training machine(:one_hot_encoder, …).\n",
      "└ @ MLJBase C:\\Users\\LENOVO\\.julia\\packages\\MLJBase\\9Nkjh\\src\\machines.jl:492\n",
      "┌ Info: Spawning 9 sub-features to one-hot encode feature :rad.\n",
      "└ @ MLJModels C:\\Users\\LENOVO\\.julia\\packages\\MLJModels\\8Nrhi\\src\\builtins\\Transformers.jl:878\n"
     ]
    },
    {
     "data": {
      "text/html": [
       "<div><div style = \"float: left;\"><span>506×21 DataFrame</span></div><div style = \"float: right;\"><span style = \"font-style: italic;\">481 rows omitted</span></div><div style = \"clear: both;\"></div></div><div class = \"data-frame\" style = \"overflow-x: scroll;\"><table class = \"data-frame\" style = \"margin-bottom: 6px;\"><thead><tr class = \"header\"><th class = \"rowNumber\" style = \"font-weight: bold; text-align: right;\">Row</th><th style = \"text-align: left;\">crim</th><th style = \"text-align: left;\">zn</th><th style = \"text-align: left;\">indus</th><th style = \"text-align: left;\">chas</th><th style = \"text-align: left;\">nox</th><th style = \"text-align: left;\">rm</th><th style = \"text-align: left;\">age</th><th style = \"text-align: left;\">dis</th><th style = \"text-align: left;\">rad__1</th><th style = \"text-align: left;\">rad__2</th><th style = \"text-align: left;\">rad__3</th><th style = \"text-align: left;\">rad__4</th><th style = \"text-align: left;\">rad__5</th><th style = \"text-align: left;\">rad__6</th><th style = \"text-align: left;\">rad__7</th><th style = \"text-align: left;\">rad__8</th><th style = \"text-align: left;\">rad__24</th><th style = \"text-align: left;\">tax</th><th style = \"text-align: left;\">ptratio</th><th style = \"text-align: left;\">black</th><th style = \"text-align: left;\">lstat</th></tr><tr class = \"subheader headerLastRow\"><th class = \"rowNumber\" style = \"font-weight: bold; text-align: right;\"></th><th title = \"Float64\" style = \"text-align: left;\">Float64</th><th title = \"Float64\" style = \"text-align: left;\">Float64</th><th title = \"Float64\" style = \"text-align: left;\">Float64</th><th title = \"Float64\" style = \"text-align: left;\">Float64</th><th title = \"Float64\" style = \"text-align: left;\">Float64</th><th title = \"Float64\" style = \"text-align: left;\">Float64</th><th title = \"Float64\" style = \"text-align: left;\">Float64</th><th title = \"Float64\" style = \"text-align: left;\">Float64</th><th title = \"Float64\" style = \"text-align: left;\">Float64</th><th title = \"Float64\" style = \"text-align: left;\">Float64</th><th title = \"Float64\" style = \"text-align: left;\">Float64</th><th title = \"Float64\" style = \"text-align: left;\">Float64</th><th title = \"Float64\" style = \"text-align: left;\">Float64</th><th title = \"Float64\" style = \"text-align: left;\">Float64</th><th title = \"Float64\" style = \"text-align: left;\">Float64</th><th title = \"Float64\" style = \"text-align: left;\">Float64</th><th title = \"Float64\" style = \"text-align: left;\">Float64</th><th title = \"Int64\" style = \"text-align: left;\">Int64</th><th title = \"Float64\" style = \"text-align: left;\">Float64</th><th title = \"Float64\" style = \"text-align: left;\">Float64</th><th title = \"Float64\" style = \"text-align: left;\">Float64</th></tr></thead><tbody><tr><td class = \"rowNumber\" style = \"font-weight: bold; text-align: right;\">1</td><td style = \"text-align: right;\">-0.419367</td><td style = \"text-align: right;\">0.284548</td><td style = \"text-align: right;\">-1.28664</td><td style = \"text-align: right;\">-0.272329</td><td style = \"text-align: right;\">-0.144075</td><td style = \"text-align: right;\">0.413263</td><td style = \"text-align: right;\">-0.119895</td><td style = \"text-align: right;\">0.140075</td><td style = \"text-align: right;\">1.0</td><td style = \"text-align: right;\">0.0</td><td style = \"text-align: right;\">0.0</td><td style = \"text-align: right;\">0.0</td><td style = \"text-align: right;\">0.0</td><td style = \"text-align: right;\">0.0</td><td style = \"text-align: right;\">0.0</td><td style = \"text-align: right;\">0.0</td><td style = \"text-align: right;\">0.0</td><td style = \"text-align: right;\">296</td><td style = \"text-align: right;\">-1.45756</td><td style = \"text-align: right;\">0.440616</td><td style = \"text-align: right;\">-1.0745</td></tr><tr><td class = \"rowNumber\" style = \"font-weight: bold; text-align: right;\">2</td><td style = \"text-align: right;\">-0.416927</td><td style = \"text-align: right;\">-0.48724</td><td style = \"text-align: right;\">-0.592794</td><td style = \"text-align: right;\">-0.272329</td><td style = \"text-align: right;\">-0.73953</td><td style = \"text-align: right;\">0.194082</td><td style = \"text-align: right;\">0.366803</td><td style = \"text-align: right;\">0.556609</td><td style = \"text-align: right;\">0.0</td><td style = \"text-align: right;\">1.0</td><td style = \"text-align: right;\">0.0</td><td style = \"text-align: right;\">0.0</td><td style = \"text-align: right;\">0.0</td><td style = \"text-align: right;\">0.0</td><td style = \"text-align: right;\">0.0</td><td style = \"text-align: right;\">0.0</td><td style = \"text-align: right;\">0.0</td><td style = \"text-align: right;\">242</td><td style = \"text-align: right;\">-0.302794</td><td style = \"text-align: right;\">0.440616</td><td style = \"text-align: right;\">-0.491953</td></tr><tr><td class = \"rowNumber\" style = \"font-weight: bold; text-align: right;\">3</td><td style = \"text-align: right;\">-0.416929</td><td style = \"text-align: right;\">-0.48724</td><td style = \"text-align: right;\">-0.592794</td><td style = \"text-align: right;\">-0.272329</td><td style = \"text-align: right;\">-0.73953</td><td style = \"text-align: right;\">1.28145</td><td style = \"text-align: right;\">-0.265549</td><td style = \"text-align: right;\">0.556609</td><td style = \"text-align: right;\">0.0</td><td style = \"text-align: right;\">1.0</td><td style = \"text-align: right;\">0.0</td><td style = \"text-align: right;\">0.0</td><td style = \"text-align: right;\">0.0</td><td style = \"text-align: right;\">0.0</td><td style = \"text-align: right;\">0.0</td><td style = \"text-align: right;\">0.0</td><td style = \"text-align: right;\">0.0</td><td style = \"text-align: right;\">242</td><td style = \"text-align: right;\">-0.302794</td><td style = \"text-align: right;\">0.396035</td><td style = \"text-align: right;\">-1.20753</td></tr><tr><td class = \"rowNumber\" style = \"font-weight: bold; text-align: right;\">4</td><td style = \"text-align: right;\">-0.416338</td><td style = \"text-align: right;\">-0.48724</td><td style = \"text-align: right;\">-1.30559</td><td style = \"text-align: right;\">-0.272329</td><td style = \"text-align: right;\">-0.834458</td><td style = \"text-align: right;\">1.0153</td><td style = \"text-align: right;\">-0.809088</td><td style = \"text-align: right;\">1.07667</td><td style = \"text-align: right;\">0.0</td><td style = \"text-align: right;\">0.0</td><td style = \"text-align: right;\">1.0</td><td style = \"text-align: right;\">0.0</td><td style = \"text-align: right;\">0.0</td><td style = \"text-align: right;\">0.0</td><td style = \"text-align: right;\">0.0</td><td style = \"text-align: right;\">0.0</td><td style = \"text-align: right;\">0.0</td><td style = \"text-align: right;\">222</td><td style = \"text-align: right;\">0.11292</td><td style = \"text-align: right;\">0.415751</td><td style = \"text-align: right;\">-1.36017</td></tr><tr><td class = \"rowNumber\" style = \"font-weight: bold; text-align: right;\">5</td><td style = \"text-align: right;\">-0.412074</td><td style = \"text-align: right;\">-0.48724</td><td style = \"text-align: right;\">-1.30559</td><td style = \"text-align: right;\">-0.272329</td><td style = \"text-align: right;\">-0.834458</td><td style = \"text-align: right;\">1.22736</td><td style = \"text-align: right;\">-0.510674</td><td style = \"text-align: right;\">1.07667</td><td style = \"text-align: right;\">0.0</td><td style = \"text-align: right;\">0.0</td><td style = \"text-align: right;\">1.0</td><td style = \"text-align: right;\">0.0</td><td style = \"text-align: right;\">0.0</td><td style = \"text-align: right;\">0.0</td><td style = \"text-align: right;\">0.0</td><td style = \"text-align: right;\">0.0</td><td style = \"text-align: right;\">0.0</td><td style = \"text-align: right;\">222</td><td style = \"text-align: right;\">0.11292</td><td style = \"text-align: right;\">0.440616</td><td style = \"text-align: right;\">-1.02549</td></tr><tr><td class = \"rowNumber\" style = \"font-weight: bold; text-align: right;\">6</td><td style = \"text-align: right;\">-0.416631</td><td style = \"text-align: right;\">-0.48724</td><td style = \"text-align: right;\">-1.30559</td><td style = \"text-align: right;\">-0.272329</td><td style = \"text-align: right;\">-0.834458</td><td style = \"text-align: right;\">0.206892</td><td style = \"text-align: right;\">-0.35081</td><td style = \"text-align: right;\">1.07667</td><td style = \"text-align: right;\">0.0</td><td style = \"text-align: right;\">0.0</td><td style = \"text-align: right;\">1.0</td><td style = \"text-align: right;\">0.0</td><td style = \"text-align: right;\">0.0</td><td style = \"text-align: right;\">0.0</td><td style = \"text-align: right;\">0.0</td><td style = \"text-align: right;\">0.0</td><td style = \"text-align: right;\">0.0</td><td style = \"text-align: right;\">222</td><td style = \"text-align: right;\">0.11292</td><td style = \"text-align: right;\">0.410165</td><td style = \"text-align: right;\">-1.04229</td></tr><tr><td class = \"rowNumber\" style = \"font-weight: bold; text-align: right;\">7</td><td style = \"text-align: right;\">-0.409837</td><td style = \"text-align: right;\">0.048724</td><td style = \"text-align: right;\">-0.476182</td><td style = \"text-align: right;\">-0.272329</td><td style = \"text-align: right;\">-0.264892</td><td style = \"text-align: right;\">-0.388027</td><td style = \"text-align: right;\">-0.0701592</td><td style = \"text-align: right;\">0.838414</td><td style = \"text-align: right;\">0.0</td><td style = \"text-align: right;\">0.0</td><td style = \"text-align: right;\">0.0</td><td style = \"text-align: right;\">0.0</td><td style = \"text-align: right;\">1.0</td><td style = \"text-align: right;\">0.0</td><td style = \"text-align: right;\">0.0</td><td style = \"text-align: right;\">0.0</td><td style = \"text-align: right;\">0.0</td><td style = \"text-align: right;\">311</td><td style = \"text-align: right;\">-1.50375</td><td style = \"text-align: right;\">0.426376</td><td style = \"text-align: right;\">-0.0312367</td></tr><tr><td class = \"rowNumber\" style = \"font-weight: bold; text-align: right;\">8</td><td style = \"text-align: right;\">-0.403297</td><td style = \"text-align: right;\">0.048724</td><td style = \"text-align: right;\">-0.476182</td><td style = \"text-align: right;\">-0.272329</td><td style = \"text-align: right;\">-0.264892</td><td style = \"text-align: right;\">-0.160307</td><td style = \"text-align: right;\">0.977841</td><td style = \"text-align: right;\">1.02362</td><td style = \"text-align: right;\">0.0</td><td style = \"text-align: right;\">0.0</td><td style = \"text-align: right;\">0.0</td><td style = \"text-align: right;\">0.0</td><td style = \"text-align: right;\">1.0</td><td style = \"text-align: right;\">0.0</td><td style = \"text-align: right;\">0.0</td><td style = \"text-align: right;\">0.0</td><td style = \"text-align: right;\">0.0</td><td style = \"text-align: right;\">311</td><td style = \"text-align: right;\">-1.50375</td><td style = \"text-align: right;\">0.440616</td><td style = \"text-align: right;\">0.9098</td></tr><tr><td class = \"rowNumber\" style = \"font-weight: bold; text-align: right;\">9</td><td style = \"text-align: right;\">-0.395543</td><td style = \"text-align: right;\">0.048724</td><td style = \"text-align: right;\">-0.476182</td><td style = \"text-align: right;\">-0.272329</td><td style = \"text-align: right;\">-0.264892</td><td style = \"text-align: right;\">-0.930285</td><td style = \"text-align: right;\">1.11639</td><td style = \"text-align: right;\">1.08612</td><td style = \"text-align: right;\">0.0</td><td style = \"text-align: right;\">0.0</td><td style = \"text-align: right;\">0.0</td><td style = \"text-align: right;\">0.0</td><td style = \"text-align: right;\">1.0</td><td style = \"text-align: right;\">0.0</td><td style = \"text-align: right;\">0.0</td><td style = \"text-align: right;\">0.0</td><td style = \"text-align: right;\">0.0</td><td style = \"text-align: right;\">311</td><td style = \"text-align: right;\">-1.50375</td><td style = \"text-align: right;\">0.328123</td><td style = \"text-align: right;\">2.41938</td></tr><tr><td class = \"rowNumber\" style = \"font-weight: bold; text-align: right;\">10</td><td style = \"text-align: right;\">-0.400333</td><td style = \"text-align: right;\">0.048724</td><td style = \"text-align: right;\">-0.476182</td><td style = \"text-align: right;\">-0.272329</td><td style = \"text-align: right;\">-0.264892</td><td style = \"text-align: right;\">-0.399413</td><td style = \"text-align: right;\">0.615481</td><td style = \"text-align: right;\">1.32832</td><td style = \"text-align: right;\">0.0</td><td style = \"text-align: right;\">0.0</td><td style = \"text-align: right;\">0.0</td><td style = \"text-align: right;\">0.0</td><td style = \"text-align: right;\">1.0</td><td style = \"text-align: right;\">0.0</td><td style = \"text-align: right;\">0.0</td><td style = \"text-align: right;\">0.0</td><td style = \"text-align: right;\">0.0</td><td style = \"text-align: right;\">311</td><td style = \"text-align: right;\">-1.50375</td><td style = \"text-align: right;\">0.329</td><td style = \"text-align: right;\">0.622728</td></tr><tr><td class = \"rowNumber\" style = \"font-weight: bold; text-align: right;\">11</td><td style = \"text-align: right;\">-0.393956</td><td style = \"text-align: right;\">0.048724</td><td style = \"text-align: right;\">-0.476182</td><td style = \"text-align: right;\">-0.272329</td><td style = \"text-align: right;\">-0.264892</td><td style = \"text-align: right;\">0.131459</td><td style = \"text-align: right;\">0.913895</td><td style = \"text-align: right;\">1.21178</td><td style = \"text-align: right;\">0.0</td><td style = \"text-align: right;\">0.0</td><td style = \"text-align: right;\">0.0</td><td style = \"text-align: right;\">0.0</td><td style = \"text-align: right;\">1.0</td><td style = \"text-align: right;\">0.0</td><td style = \"text-align: right;\">0.0</td><td style = \"text-align: right;\">0.0</td><td style = \"text-align: right;\">0.0</td><td style = \"text-align: right;\">311</td><td style = \"text-align: right;\">-1.50375</td><td style = \"text-align: right;\">0.392639</td><td style = \"text-align: right;\">1.09185</td></tr><tr><td class = \"rowNumber\" style = \"font-weight: bold; text-align: right;\">12</td><td style = \"text-align: right;\">-0.406445</td><td style = \"text-align: right;\">0.048724</td><td style = \"text-align: right;\">-0.476182</td><td style = \"text-align: right;\">-0.272329</td><td style = \"text-align: right;\">-0.264892</td><td style = \"text-align: right;\">-0.392297</td><td style = \"text-align: right;\">0.508905</td><td style = \"text-align: right;\">1.15479</td><td style = \"text-align: right;\">0.0</td><td style = \"text-align: right;\">0.0</td><td style = \"text-align: right;\">0.0</td><td style = \"text-align: right;\">0.0</td><td style = \"text-align: right;\">1.0</td><td style = \"text-align: right;\">0.0</td><td style = \"text-align: right;\">0.0</td><td style = \"text-align: right;\">0.0</td><td style = \"text-align: right;\">0.0</td><td style = \"text-align: right;\">311</td><td style = \"text-align: right;\">-1.50375</td><td style = \"text-align: right;\">0.440616</td><td style = \"text-align: right;\">0.0863929</td></tr><tr><td class = \"rowNumber\" style = \"font-weight: bold; text-align: right;\">13</td><td style = \"text-align: right;\">-0.409199</td><td style = \"text-align: right;\">0.048724</td><td style = \"text-align: right;\">-0.476182</td><td style = \"text-align: right;\">-0.272329</td><td style = \"text-align: right;\">-0.264892</td><td style = \"text-align: right;\">-0.563087</td><td style = \"text-align: right;\">-1.05066</td><td style = \"text-align: right;\">0.786365</td><td style = \"text-align: right;\">0.0</td><td style = \"text-align: right;\">0.0</td><td style = \"text-align: right;\">0.0</td><td style = \"text-align: right;\">0.0</td><td style = \"text-align: right;\">1.0</td><td style = \"text-align: right;\">0.0</td><td style = \"text-align: right;\">0.0</td><td style = \"text-align: right;\">0.0</td><td style = \"text-align: right;\">0.0</td><td style = \"text-align: right;\">311</td><td style = \"text-align: right;\">-1.50375</td><td style = \"text-align: right;\">0.370513</td><td style = \"text-align: right;\">0.428079</td></tr><tr><td style = \"text-align: right;\">&vellip;</td><td style = \"text-align: right;\">&vellip;</td><td style = \"text-align: right;\">&vellip;</td><td style = \"text-align: right;\">&vellip;</td><td style = \"text-align: right;\">&vellip;</td><td style = \"text-align: right;\">&vellip;</td><td style = \"text-align: right;\">&vellip;</td><td style = \"text-align: right;\">&vellip;</td><td style = \"text-align: right;\">&vellip;</td><td style = \"text-align: right;\">&vellip;</td><td style = \"text-align: right;\">&vellip;</td><td style = \"text-align: right;\">&vellip;</td><td style = \"text-align: right;\">&vellip;</td><td style = \"text-align: right;\">&vellip;</td><td style = \"text-align: right;\">&vellip;</td><td style = \"text-align: right;\">&vellip;</td><td style = \"text-align: right;\">&vellip;</td><td style = \"text-align: right;\">&vellip;</td><td style = \"text-align: right;\">&vellip;</td><td style = \"text-align: right;\">&vellip;</td><td style = \"text-align: right;\">&vellip;</td><td style = \"text-align: right;\">&vellip;</td></tr><tr><td class = \"rowNumber\" style = \"font-weight: bold; text-align: right;\">495</td><td style = \"text-align: right;\">-0.387599</td><td style = \"text-align: right;\">-0.48724</td><td style = \"text-align: right;\">-0.21089</td><td style = \"text-align: right;\">-0.272329</td><td style = \"text-align: right;\">0.261525</td><td style = \"text-align: right;\">-0.510426</td><td style = \"text-align: right;\">-0.922769</td><td style = \"text-align: right;\">-0.671195</td><td style = \"text-align: right;\">0.0</td><td style = \"text-align: right;\">0.0</td><td style = \"text-align: right;\">0.0</td><td style = \"text-align: right;\">0.0</td><td style = \"text-align: right;\">0.0</td><td style = \"text-align: right;\">1.0</td><td style = \"text-align: right;\">0.0</td><td style = \"text-align: right;\">0.0</td><td style = \"text-align: right;\">0.0</td><td style = \"text-align: right;\">391</td><td style = \"text-align: right;\">0.343873</td><td style = \"text-align: right;\">0.440616</td><td style = \"text-align: right;\">0.131204</td></tr><tr><td class = \"rowNumber\" style = \"font-weight: bold; text-align: right;\">496</td><td style = \"text-align: right;\">-0.399293</td><td style = \"text-align: right;\">-0.48724</td><td style = \"text-align: right;\">-0.21089</td><td style = \"text-align: right;\">-0.272329</td><td style = \"text-align: right;\">0.261525</td><td style = \"text-align: right;\">-0.874779</td><td style = \"text-align: right;\">-1.41302</td><td style = \"text-align: right;\">-0.47321</td><td style = \"text-align: right;\">0.0</td><td style = \"text-align: right;\">0.0</td><td style = \"text-align: right;\">0.0</td><td style = \"text-align: right;\">0.0</td><td style = \"text-align: right;\">0.0</td><td style = \"text-align: right;\">1.0</td><td style = \"text-align: right;\">0.0</td><td style = \"text-align: right;\">0.0</td><td style = \"text-align: right;\">0.0</td><td style = \"text-align: right;\">391</td><td style = \"text-align: right;\">0.343873</td><td style = \"text-align: right;\">0.401074</td><td style = \"text-align: right;\">0.692745</td></tr><tr><td class = \"rowNumber\" style = \"font-weight: bold; text-align: right;\">497</td><td style = \"text-align: right;\">-0.386433</td><td style = \"text-align: right;\">-0.48724</td><td style = \"text-align: right;\">-0.21089</td><td style = \"text-align: right;\">-0.272329</td><td style = \"text-align: right;\">0.261525</td><td style = \"text-align: right;\">-1.27329</td><td style = \"text-align: right;\">0.153651</td><td style = \"text-align: right;\">-0.47321</td><td style = \"text-align: right;\">0.0</td><td style = \"text-align: right;\">0.0</td><td style = \"text-align: right;\">0.0</td><td style = \"text-align: right;\">0.0</td><td style = \"text-align: right;\">0.0</td><td style = \"text-align: right;\">1.0</td><td style = \"text-align: right;\">0.0</td><td style = \"text-align: right;\">0.0</td><td style = \"text-align: right;\">0.0</td><td style = \"text-align: right;\">391</td><td style = \"text-align: right;\">0.343873</td><td style = \"text-align: right;\">0.440616</td><td style = \"text-align: right;\">1.18847</td></tr><tr><td class = \"rowNumber\" style = \"font-weight: bold; text-align: right;\">498</td><td style = \"text-align: right;\">-0.3889</td><td style = \"text-align: right;\">-0.48724</td><td style = \"text-align: right;\">-0.21089</td><td style = \"text-align: right;\">-0.272329</td><td style = \"text-align: right;\">0.261525</td><td style = \"text-align: right;\">-0.698295</td><td style = \"text-align: right;\">0.0719425</td><td style = \"text-align: right;\">-0.428522</td><td style = \"text-align: right;\">0.0</td><td style = \"text-align: right;\">0.0</td><td style = \"text-align: right;\">0.0</td><td style = \"text-align: right;\">0.0</td><td style = \"text-align: right;\">0.0</td><td style = \"text-align: right;\">1.0</td><td style = \"text-align: right;\">0.0</td><td style = \"text-align: right;\">0.0</td><td style = \"text-align: right;\">0.0</td><td style = \"text-align: right;\">391</td><td style = \"text-align: right;\">0.343873</td><td style = \"text-align: right;\">0.440616</td><td style = \"text-align: right;\">0.202622</td></tr><tr><td class = \"rowNumber\" style = \"font-weight: bold; text-align: right;\">499</td><td style = \"text-align: right;\">-0.392302</td><td style = \"text-align: right;\">-0.48724</td><td style = \"text-align: right;\">-0.21089</td><td style = \"text-align: right;\">-0.272329</td><td style = \"text-align: right;\">0.261525</td><td style = \"text-align: right;\">-0.378064</td><td style = \"text-align: right;\">-0.116342</td><td style = \"text-align: right;\">-0.658183</td><td style = \"text-align: right;\">0.0</td><td style = \"text-align: right;\">0.0</td><td style = \"text-align: right;\">0.0</td><td style = \"text-align: right;\">0.0</td><td style = \"text-align: right;\">0.0</td><td style = \"text-align: right;\">1.0</td><td style = \"text-align: right;\">0.0</td><td style = \"text-align: right;\">0.0</td><td style = \"text-align: right;\">0.0</td><td style = \"text-align: right;\">391</td><td style = \"text-align: right;\">0.343873</td><td style = \"text-align: right;\">0.440616</td><td style = \"text-align: right;\">0.0373805</td></tr><tr><td class = \"rowNumber\" style = \"font-weight: bold; text-align: right;\">500</td><td style = \"text-align: right;\">-0.399427</td><td style = \"text-align: right;\">-0.48724</td><td style = \"text-align: right;\">-0.21089</td><td style = \"text-align: right;\">-0.272329</td><td style = \"text-align: right;\">0.261525</td><td style = \"text-align: right;\">-1.01853</td><td style = \"text-align: right;\">0.174966</td><td style = \"text-align: right;\">-0.662552</td><td style = \"text-align: right;\">0.0</td><td style = \"text-align: right;\">0.0</td><td style = \"text-align: right;\">0.0</td><td style = \"text-align: right;\">0.0</td><td style = \"text-align: right;\">0.0</td><td style = \"text-align: right;\">1.0</td><td style = \"text-align: right;\">0.0</td><td style = \"text-align: right;\">0.0</td><td style = \"text-align: right;\">0.0</td><td style = \"text-align: right;\">391</td><td style = \"text-align: right;\">0.343873</td><td style = \"text-align: right;\">0.428238</td><td style = \"text-align: right;\">0.342657</td></tr><tr><td class = \"rowNumber\" style = \"font-weight: bold; text-align: right;\">501</td><td style = \"text-align: right;\">-0.394016</td><td style = \"text-align: right;\">-0.48724</td><td style = \"text-align: right;\">-0.21089</td><td style = \"text-align: right;\">-0.272329</td><td style = \"text-align: right;\">0.261525</td><td style = \"text-align: right;\">-0.366678</td><td style = \"text-align: right;\">0.395224</td><td style = \"text-align: right;\">-0.61587</td><td style = \"text-align: right;\">0.0</td><td style = \"text-align: right;\">0.0</td><td style = \"text-align: right;\">0.0</td><td style = \"text-align: right;\">0.0</td><td style = \"text-align: right;\">0.0</td><td style = \"text-align: right;\">1.0</td><td style = \"text-align: right;\">0.0</td><td style = \"text-align: right;\">0.0</td><td style = \"text-align: right;\">0.0</td><td style = \"text-align: right;\">391</td><td style = \"text-align: right;\">0.343873</td><td style = \"text-align: right;\">0.440616</td><td style = \"text-align: right;\">0.23483</td></tr><tr><td class = \"rowNumber\" style = \"font-weight: bold; text-align: right;\">502</td><td style = \"text-align: right;\">-0.41282</td><td style = \"text-align: right;\">-0.48724</td><td style = \"text-align: right;\">0.115624</td><td style = \"text-align: right;\">-0.272329</td><td style = \"text-align: right;\">0.157968</td><td style = \"text-align: right;\">0.438881</td><td style = \"text-align: right;\">0.0186544</td><td style = \"text-align: right;\">-0.625178</td><td style = \"text-align: right;\">1.0</td><td style = \"text-align: right;\">0.0</td><td style = \"text-align: right;\">0.0</td><td style = \"text-align: right;\">0.0</td><td style = \"text-align: right;\">0.0</td><td style = \"text-align: right;\">0.0</td><td style = \"text-align: right;\">0.0</td><td style = \"text-align: right;\">0.0</td><td style = \"text-align: right;\">0.0</td><td style = \"text-align: right;\">273</td><td style = \"text-align: right;\">1.1753</td><td style = \"text-align: right;\">0.386834</td><td style = \"text-align: right;\">-0.417734</td></tr><tr><td class = \"rowNumber\" style = \"font-weight: bold; text-align: right;\">503</td><td style = \"text-align: right;\">-0.414839</td><td style = \"text-align: right;\">-0.48724</td><td style = \"text-align: right;\">0.115624</td><td style = \"text-align: right;\">-0.272329</td><td style = \"text-align: right;\">0.157968</td><td style = \"text-align: right;\">-0.234316</td><td style = \"text-align: right;\">0.288648</td><td style = \"text-align: right;\">-0.715931</td><td style = \"text-align: right;\">1.0</td><td style = \"text-align: right;\">0.0</td><td style = \"text-align: right;\">0.0</td><td style = \"text-align: right;\">0.0</td><td style = \"text-align: right;\">0.0</td><td style = \"text-align: right;\">0.0</td><td style = \"text-align: right;\">0.0</td><td style = \"text-align: right;\">0.0</td><td style = \"text-align: right;\">0.0</td><td style = \"text-align: right;\">273</td><td style = \"text-align: right;\">1.1753</td><td style = \"text-align: right;\">0.440616</td><td style = \"text-align: right;\">-0.500355</td></tr><tr><td class = \"rowNumber\" style = \"font-weight: bold; text-align: right;\">504</td><td style = \"text-align: right;\">-0.413038</td><td style = \"text-align: right;\">-0.48724</td><td style = \"text-align: right;\">0.115624</td><td style = \"text-align: right;\">-0.272329</td><td style = \"text-align: right;\">0.157968</td><td style = \"text-align: right;\">0.983986</td><td style = \"text-align: right;\">0.796661</td><td style = \"text-align: right;\">-0.772919</td><td style = \"text-align: right;\">1.0</td><td style = \"text-align: right;\">0.0</td><td style = \"text-align: right;\">0.0</td><td style = \"text-align: right;\">0.0</td><td style = \"text-align: right;\">0.0</td><td style = \"text-align: right;\">0.0</td><td style = \"text-align: right;\">0.0</td><td style = \"text-align: right;\">0.0</td><td style = \"text-align: right;\">0.0</td><td style = \"text-align: right;\">273</td><td style = \"text-align: right;\">1.1753</td><td style = \"text-align: right;\">0.440616</td><td style = \"text-align: right;\">-0.982076</td></tr><tr><td class = \"rowNumber\" style = \"font-weight: bold; text-align: right;\">505</td><td style = \"text-align: right;\">-0.407361</td><td style = \"text-align: right;\">-0.48724</td><td style = \"text-align: right;\">0.115624</td><td style = \"text-align: right;\">-0.272329</td><td style = \"text-align: right;\">0.157968</td><td style = \"text-align: right;\">0.724955</td><td style = \"text-align: right;\">0.736268</td><td style = \"text-align: right;\">-0.667776</td><td style = \"text-align: right;\">1.0</td><td style = \"text-align: right;\">0.0</td><td style = \"text-align: right;\">0.0</td><td style = \"text-align: right;\">0.0</td><td style = \"text-align: right;\">0.0</td><td style = \"text-align: right;\">0.0</td><td style = \"text-align: right;\">0.0</td><td style = \"text-align: right;\">0.0</td><td style = \"text-align: right;\">0.0</td><td style = \"text-align: right;\">273</td><td style = \"text-align: right;\">1.1753</td><td style = \"text-align: right;\">0.402826</td><td style = \"text-align: right;\">-0.864446</td></tr><tr><td class = \"rowNumber\" style = \"font-weight: bold; text-align: right;\">506</td><td style = \"text-align: right;\">-0.41459</td><td style = \"text-align: right;\">-0.48724</td><td style = \"text-align: right;\">0.115624</td><td style = \"text-align: right;\">-0.272329</td><td style = \"text-align: right;\">0.157968</td><td style = \"text-align: right;\">-0.362408</td><td style = \"text-align: right;\">0.434302</td><td style = \"text-align: right;\">-0.61264</td><td style = \"text-align: right;\">1.0</td><td style = \"text-align: right;\">0.0</td><td style = \"text-align: right;\">0.0</td><td style = \"text-align: right;\">0.0</td><td style = \"text-align: right;\">0.0</td><td style = \"text-align: right;\">0.0</td><td style = \"text-align: right;\">0.0</td><td style = \"text-align: right;\">0.0</td><td style = \"text-align: right;\">0.0</td><td style = \"text-align: right;\">273</td><td style = \"text-align: right;\">1.1753</td><td style = \"text-align: right;\">0.440616</td><td style = \"text-align: right;\">-0.668397</td></tr></tbody></table></div>"
      ],
      "text/latex": [
       "\\begin{tabular}{r|ccccccccc}\n",
       "\t& crim & zn & indus & chas & nox & rm & age & dis & \\\\\n",
       "\t\\hline\n",
       "\t& Float64 & Float64 & Float64 & Float64 & Float64 & Float64 & Float64 & Float64 & \\\\\n",
       "\t\\hline\n",
       "\t1 & -0.419367 & 0.284548 & -1.28664 & -0.272329 & -0.144075 & 0.413263 & -0.119895 & 0.140075 & $\\dots$ \\\\\n",
       "\t2 & -0.416927 & -0.48724 & -0.592794 & -0.272329 & -0.73953 & 0.194082 & 0.366803 & 0.556609 & $\\dots$ \\\\\n",
       "\t3 & -0.416929 & -0.48724 & -0.592794 & -0.272329 & -0.73953 & 1.28145 & -0.265549 & 0.556609 & $\\dots$ \\\\\n",
       "\t4 & -0.416338 & -0.48724 & -1.30559 & -0.272329 & -0.834458 & 1.0153 & -0.809088 & 1.07667 & $\\dots$ \\\\\n",
       "\t5 & -0.412074 & -0.48724 & -1.30559 & -0.272329 & -0.834458 & 1.22736 & -0.510674 & 1.07667 & $\\dots$ \\\\\n",
       "\t6 & -0.416631 & -0.48724 & -1.30559 & -0.272329 & -0.834458 & 0.206892 & -0.35081 & 1.07667 & $\\dots$ \\\\\n",
       "\t7 & -0.409837 & 0.048724 & -0.476182 & -0.272329 & -0.264892 & -0.388027 & -0.0701592 & 0.838414 & $\\dots$ \\\\\n",
       "\t8 & -0.403297 & 0.048724 & -0.476182 & -0.272329 & -0.264892 & -0.160307 & 0.977841 & 1.02362 & $\\dots$ \\\\\n",
       "\t9 & -0.395543 & 0.048724 & -0.476182 & -0.272329 & -0.264892 & -0.930285 & 1.11639 & 1.08612 & $\\dots$ \\\\\n",
       "\t10 & -0.400333 & 0.048724 & -0.476182 & -0.272329 & -0.264892 & -0.399413 & 0.615481 & 1.32832 & $\\dots$ \\\\\n",
       "\t11 & -0.393956 & 0.048724 & -0.476182 & -0.272329 & -0.264892 & 0.131459 & 0.913895 & 1.21178 & $\\dots$ \\\\\n",
       "\t12 & -0.406445 & 0.048724 & -0.476182 & -0.272329 & -0.264892 & -0.392297 & 0.508905 & 1.15479 & $\\dots$ \\\\\n",
       "\t13 & -0.409199 & 0.048724 & -0.476182 & -0.272329 & -0.264892 & -0.563087 & -1.05066 & 0.786365 & $\\dots$ \\\\\n",
       "\t14 & -0.346887 & -0.48724 & -0.436826 & -0.272329 & -0.144075 & -0.477692 & -0.240681 & 0.433325 & $\\dots$ \\\\\n",
       "\t15 & -0.345934 & -0.48724 & -0.436826 & -0.272329 & -0.144075 & -0.268474 & 0.565746 & 0.31669 & $\\dots$ \\\\\n",
       "\t16 & -0.347162 & -0.48724 & -0.436826 & -0.272329 & -0.144075 & -0.641365 & -0.428966 & 0.334119 & $\\dots$ \\\\\n",
       "\t17 & -0.297574 & -0.48724 & -0.436826 & -0.272329 & -0.144075 & -0.497617 & -1.39526 & 0.334119 & $\\dots$ \\\\\n",
       "\t18 & -0.328932 & -0.48724 & -0.436826 & -0.272329 & -0.144075 & -0.419338 & 0.466275 & 0.219811 & $\\dots$ \\\\\n",
       "\t19 & -0.32678 & -0.48724 & -0.436826 & -0.272329 & -0.144075 & -1.17935 & -1.13592 & 0.000692076 & $\\dots$ \\\\\n",
       "\t20 & -0.335721 & -0.48724 & -0.436826 & -0.272329 & -0.144075 & -0.793653 & 0.0328645 & 0.000692076 & $\\dots$ \\\\\n",
       "\t21 & -0.274571 & -0.48724 & -0.436826 & -0.272329 & -0.144075 & -1.0171 & 1.04889 & 0.00135694 & $\\dots$ \\\\\n",
       "\t22 & -0.321045 & -0.48724 & -0.436826 & -0.272329 & -0.144075 & -0.45492 & 0.732715 & 0.103175 & $\\dots$ \\\\\n",
       "\t23 & -0.276817 & -0.48724 & -0.436826 & -0.272329 & -0.144075 & -0.203004 & 0.821529 & 0.0863639 & $\\dots$ \\\\\n",
       "\t24 & -0.305189 & -0.48724 & -0.436826 & -0.272329 & -0.144075 & -0.671254 & 1.11639 & 0.142544 & $\\dots$ \\\\\n",
       "\t25 & -0.332878 & -0.48724 & -0.436826 & -0.272329 & -0.144075 & -0.513273 & 0.90679 & 0.287104 & $\\dots$ \\\\\n",
       "\t26 & -0.322382 & -0.48724 & -0.436826 & -0.272329 & -0.144075 & -0.975829 & 0.608376 & 0.313223 & $\\dots$ \\\\\n",
       "\t27 & -0.341987 & -0.48724 & -0.436826 & -0.272329 & -0.144075 & -0.671254 & 0.771793 & 0.421215 & $\\dots$ \\\\\n",
       "\t28 & -0.308986 & -0.48724 & -0.436826 & -0.272329 & -0.144075 & -0.338213 & 0.718505 & 0.312653 & $\\dots$ \\\\\n",
       "\t29 & -0.330235 & -0.48724 & -0.436826 & -0.272329 & -0.144075 & 0.299403 & 0.917447 & 0.313271 & $\\dots$ \\\\\n",
       "\t30 & -0.303559 & -0.48724 & -0.436826 & -0.272329 & -0.144075 & 0.554165 & 0.665217 & 0.210835 & $\\dots$ \\\\\n",
       "\t$\\dots$ & $\\dots$ & $\\dots$ & $\\dots$ & $\\dots$ & $\\dots$ & $\\dots$ & $\\dots$ & $\\dots$ &  \\\\\n",
       "\\end{tabular}\n"
      ],
      "text/plain": [
       "\u001b[1m506×21 DataFrame\u001b[0m\n",
       "\u001b[1m Row \u001b[0m│\u001b[1m crim      \u001b[0m\u001b[1m zn        \u001b[0m\u001b[1m indus     \u001b[0m\u001b[1m chas      \u001b[0m\u001b[1m nox       \u001b[0m\u001b[1m rm        \u001b[0m\u001b[1m age  \u001b[0m ⋯\n",
       "     │\u001b[90m Float64   \u001b[0m\u001b[90m Float64   \u001b[0m\u001b[90m Float64   \u001b[0m\u001b[90m Float64   \u001b[0m\u001b[90m Float64   \u001b[0m\u001b[90m Float64   \u001b[0m\u001b[90m Float\u001b[0m ⋯\n",
       "─────┼──────────────────────────────────────────────────────────────────────────\n",
       "   1 │ -0.419367   0.284548  -1.28664   -0.272329  -0.144075   0.413263  -0.11 ⋯\n",
       "   2 │ -0.416927  -0.48724   -0.592794  -0.272329  -0.73953    0.194082   0.36\n",
       "   3 │ -0.416929  -0.48724   -0.592794  -0.272329  -0.73953    1.28145   -0.26\n",
       "   4 │ -0.416338  -0.48724   -1.30559   -0.272329  -0.834458   1.0153    -0.80\n",
       "   5 │ -0.412074  -0.48724   -1.30559   -0.272329  -0.834458   1.22736   -0.51 ⋯\n",
       "   6 │ -0.416631  -0.48724   -1.30559   -0.272329  -0.834458   0.206892  -0.35\n",
       "   7 │ -0.409837   0.048724  -0.476182  -0.272329  -0.264892  -0.388027  -0.07\n",
       "   8 │ -0.403297   0.048724  -0.476182  -0.272329  -0.264892  -0.160307   0.97\n",
       "   9 │ -0.395543   0.048724  -0.476182  -0.272329  -0.264892  -0.930285   1.11 ⋯\n",
       "  10 │ -0.400333   0.048724  -0.476182  -0.272329  -0.264892  -0.399413   0.61\n",
       "  11 │ -0.393956   0.048724  -0.476182  -0.272329  -0.264892   0.131459   0.91\n",
       "  ⋮  │     ⋮          ⋮          ⋮          ⋮          ⋮          ⋮          ⋮ ⋱\n",
       " 497 │ -0.386433  -0.48724   -0.21089   -0.272329   0.261525  -1.27329    0.15\n",
       " 498 │ -0.3889    -0.48724   -0.21089   -0.272329   0.261525  -0.698295   0.07 ⋯\n",
       " 499 │ -0.392302  -0.48724   -0.21089   -0.272329   0.261525  -0.378064  -0.11\n",
       " 500 │ -0.399427  -0.48724   -0.21089   -0.272329   0.261525  -1.01853    0.17\n",
       " 501 │ -0.394016  -0.48724   -0.21089   -0.272329   0.261525  -0.366678   0.39\n",
       " 502 │ -0.41282   -0.48724    0.115624  -0.272329   0.157968   0.438881   0.01 ⋯\n",
       " 503 │ -0.414839  -0.48724    0.115624  -0.272329   0.157968  -0.234316   0.28\n",
       " 504 │ -0.413038  -0.48724    0.115624  -0.272329   0.157968   0.983986   0.79\n",
       " 505 │ -0.407361  -0.48724    0.115624  -0.272329   0.157968   0.724955   0.73\n",
       " 506 │ -0.41459   -0.48724    0.115624  -0.272329   0.157968  -0.362408   0.43 ⋯\n",
       "\u001b[36m                                                 15 columns and 485 rows omitted\u001b[0m"
      ]
     },
     "execution_count": 19,
     "metadata": {},
     "output_type": "execute_result"
    }
   ],
   "source": [
    "preproc_pipe = Standardizer() |> OneHotEncoder()\n",
    "preproc_wrapped = machine(preproc_pipe, X)\n",
    "X_prepared = MLJ.transform(fit!(preproc_wrapped), X)"
   ]
  },
  {
   "cell_type": "markdown",
   "metadata": {},
   "source": [
    "**(2p)** Check models available for prepared dependent and independent datasets using `models` and `matching` functions from `MLJ` package. How many models can be used to perform the classification task on the prepared data?"
   ]
  },
  {
   "cell_type": "code",
   "execution_count": null,
   "metadata": {},
   "outputs": [
    {
     "data": {
      "text/plain": [
       "12-element Vector{NamedTuple{(:name, :package_name, :is_supervised, :abstract_type, :deep_properties, :docstring, :fit_data_scitype, :human_name, :hyperparameter_ranges, :hyperparameter_types, :hyperparameters, :implemented_methods, :inverse_transform_scitype, :is_pure_julia, :is_wrapper, :iteration_parameter, :load_path, :package_license, :package_url, :package_uuid, :predict_scitype, :prediction_type, :reporting_operations, :reports_feature_importances, :supports_class_weights, :supports_online, :supports_training_losses, :supports_weights, :transform_scitype, :input_scitype, :target_scitype, :output_scitype)}}:\n",
       " (name = AdaBoostStumpClassifier, package_name = DecisionTree, ... )\n",
       " (name = ConstantClassifier, package_name = MLJModels, ... )\n",
       " (name = DecisionTreeClassifier, package_name = BetaML, ... )\n",
       " (name = DecisionTreeClassifier, package_name = DecisionTree, ... )\n",
       " (name = DeterministicConstantClassifier, package_name = MLJModels, ... )\n",
       " (name = EvoTreeClassifier, package_name = EvoTrees, ... )\n",
       " (name = KernelPerceptron, package_name = BetaML, ... )\n",
       " (name = LinearPerceptron, package_name = BetaML, ... )\n",
       " (name = NeuralNetworkClassifier, package_name = BetaML, ... )\n",
       " (name = Pegasos, package_name = BetaML, ... )\n",
       " (name = RandomForestClassifier, package_name = BetaML, ... )\n",
       " (name = RandomForestClassifier, package_name = DecisionTree, ... )"
      ]
     },
     "execution_count": 20,
     "metadata": {},
     "output_type": "execute_result"
    }
   ],
   "source": [
    "available_models = models(m -> matching(m, X_prepared, y) && m.is_pure_julia)"
   ]
  },
  {
   "cell_type": "markdown",
   "metadata": {},
   "source": [
    "**(1p)** Load `RandomForestClassifier` model from `DecisionTree` package and `EvoTreeClassifier` model. "
   ]
  },
  {
   "cell_type": "code",
   "execution_count": null,
   "metadata": {},
   "outputs": [
    {
     "name": "stdout",
     "output_type": "stream",
     "text": [
      "MLJDecisionTreeInterface.RandomForestClassifier\n",
      "EvoTrees.EvoTreeClassifier\n"
     ]
    }
   ],
   "source": [
    "for (model, pkg) in [(\"RandomForestClassifier\", \"DecisionTree\"),\n",
    "                     (\"EvoTreeClassifier\", \"EvoTrees\")]\n",
    "println(load_path(model, pkg=pkg))\n",
    "end"
   ]
  },
  {
   "cell_type": "markdown",
   "metadata": {},
   "source": [
    "**(2p)** Evaluate both loaded models with their default hyperparameters. Both models should use Random Numbers Generator (RNG) instance equal to `MersenneTwister(12)`. Split the data to have **30%** of observations in test dataset and random seed equal to **12**. Calculate only Area Under the Curve (AUC) metric and print it."
   ]
  },
  {
   "cell_type": "code",
   "execution_count": null,
   "metadata": {},
   "outputs": [
    {
     "name": "stdout",
     "output_type": "stream",
     "text": [
      "import MLJDecisionTreeInterface ✔\n"
     ]
    },
    {
     "name": "stderr",
     "output_type": "stream",
     "text": [
      "┌ Info: For silent loading, specify `verbosity=0`. \n",
      "└ @ Main C:\\Users\\LENOVO\\.julia\\packages\\MLJModels\\8Nrhi\\src\\loading.jl:159\n",
      "┌ Info: For silent loading, specify `verbosity=0`. \n",
      "└ @ Main C:\\Users\\LENOVO\\.julia\\packages\\MLJModels\\8Nrhi\\src\\loading.jl:159\n"
     ]
    },
    {
     "name": "stdout",
     "output_type": "stream",
     "text": [
      "import EvoTrees ✔\n",
      "MLJDecisionTreeInterface.RandomForestClassifier\n",
      "AreaUnderCurve(): 0.923\n",
      "\n"
     ]
    },
    {
     "name": "stderr",
     "output_type": "stream",
     "text": [
      "┌ Info: Following 12 arguments were not provided and will be set to default: nbins, alpha, gamma, nrounds, max_depth, T, lambda, min_weight, colsample, eta, device, rowsample.\n",
      "└ @ EvoTrees C:\\Users\\LENOVO\\.julia\\packages\\EvoTrees\\ayRL8\\src\\models.jl:241\n"
     ]
    },
    {
     "name": "stdout",
     "output_type": "stream",
     "text": [
      "EvoTrees.EvoTreeClassifier\n",
      "AreaUnderCurve(): 0.915\n",
      "\n"
     ]
    }
   ],
   "source": [
    "Forest = @load RandomForestClassifier pkg=\"DecisionTree\"\n",
    "Evo = @load EvoTreeClassifier\n",
    "measures = MLJ.auc\n",
    "split = Holdout(fraction_train=0.3, rng=12)\n",
    "rng_mt = MersenneTwister(12)\n",
    "for m in [Forest, Evo]\n",
    "    eval_report = evaluate(m(rng=rng_mt), X_prepared, y, resampling=split, measure=measures)\n",
    "    println(m)\n",
    "    println.(eval_report.measure, \": \", round.(eval_report.measurement, digits=3))\n",
    "    println()\n",
    "end"
   ]
  },
  {
   "cell_type": "markdown",
   "metadata": {},
   "source": [
    "**(4p)** Instantiate a `RandomForestClassifier` model with RNG equal to `MersenneTwister(12)` and number of trees equal to **100**. Tune hyperparameters of this model with the following specification:\n",
    "* use 6-fold crossvalidation with `MersenneTwister(12)` RNG,\n",
    "* use grid search with 6 values for each hyperparameter tuned (36 combinations in total),\n",
    "* tuning metric is F1-score,\n",
    "* tune values of two hyperparameters:\n",
    "    * `sampling_fraction` with with lower bound 0.1 and upper bound 0.9,\n",
    "    * `n_subfeatures` with lower bound 1 and upper bound 13.\n",
    "    \n",
    "Plot the tuning report using `plot` function. Print hyperparameter values of the best model from the tuning pipeline. What are the values of `sampling_fraction` and `n_subfeatures` in the best model?"
   ]
  },
  {
   "cell_type": "code",
   "execution_count": null,
   "metadata": {},
   "outputs": [
    {
     "name": "stderr",
     "output_type": "stream",
     "text": [
      "┌ Info: Training machine(RandomForestClassifier(max_depth = -1, …), …).\n",
      "└ @ MLJBase C:\\Users\\LENOVO\\.julia\\packages\\MLJBase\\9Nkjh\\src\\machines.jl:492\n"
     ]
    },
    {
     "data": {
      "text/plain": [
       "trained Machine; caches model-specific representations of data\n",
       "  model: RandomForestClassifier(max_depth = -1, …)\n",
       "  args: \n",
       "    1:\tSource @675 ⏎ Table{Union{AbstractVector{Continuous}, AbstractVector{Count}}}\n",
       "    2:\tSource @583 ⏎ AbstractVector{OrderedFactor{2}}\n"
      ]
     },
     "execution_count": 28,
     "metadata": {},
     "output_type": "execute_result"
    }
   ],
   "source": [
    "(X_train, X_test), (y_train, y_test) = partition((X_prepared, y), 0.8, rng=42, multi=true);\n",
    "forest_mach = machine(Forest(n_trees=100, rng=rng_mt), X_train, y_train)\n",
    "fit!(forest_mach)"
   ]
  },
  {
   "cell_type": "markdown",
   "metadata": {},
   "source": [
    "**(3p)** Explain shortly how crossvalidation works. Why is it used in Machine Learning workflows?"
   ]
  },
  {
   "cell_type": "code",
   "execution_count": null,
   "metadata": {},
   "outputs": [],
   "source": [
    "Cross-validation works by iteratively partitioning the available data into training and validation sets, allowing for more robust model evaluation and performance estimation."
   ]
  },
  {
   "cell_type": "code",
   "execution_count": null,
   "metadata": {},
   "outputs": [],
   "source": [
    "Cross-validation is used in machine learning workflows to obtain reliable estimates of a model's performance and generalization ability. It helps in assessing how well a model is likely to perform on unseen data and aids in selecting the best model or tuning hyperparameters."
   ]
  },
  {
   "cell_type": "markdown",
   "metadata": {},
   "source": []
  },
  {
   "cell_type": "markdown",
   "metadata": {},
   "source": [
    "## Task 3 (10p)"
   ]
  },
  {
   "cell_type": "markdown",
   "metadata": {},
   "source": [
    "**(1p)** Download and load data from the URL https://raw.githubusercontent.com/KrainskiL/SLM_S2023/main/datasets/auto.csv into `DataFrame`. You can read the description of the dataset on the following webpage: https://archive.ics.uci.edu/ml/datasets/auto+mpg"
   ]
  },
  {
   "cell_type": "code",
   "execution_count": null,
   "metadata": {},
   "outputs": [
    {
     "data": {
      "text/plain": [
       "\"auto.csv\""
      ]
     },
     "execution_count": 29,
     "metadata": {},
     "output_type": "execute_result"
    }
   ],
   "source": [
    "url = \"https://raw.githubusercontent.com/KrainskiL/SLM_S2023/main/datasets/auto.csv\"\n",
    "Downloads.download(url, \"auto.csv\")"
   ]
  },
  {
   "cell_type": "markdown",
   "metadata": {},
   "source": [
    "**(1p)** Build linear regression with `mpg` as the target variable and all other features as predictors. Use whole dataset for the training process."
   ]
  },
  {
   "cell_type": "code",
   "execution_count": null,
   "metadata": {},
   "outputs": [
    {
     "data": {
      "text/html": [
       "<div><div style = \"float: left;\"><span>392×7 DataFrame</span></div><div style = \"float: right;\"><span style = \"font-style: italic;\">367 rows omitted</span></div><div style = \"clear: both;\"></div></div><div class = \"data-frame\" style = \"overflow-x: scroll;\"><table class = \"data-frame\" style = \"margin-bottom: 6px;\"><thead><tr class = \"header\"><th class = \"rowNumber\" style = \"font-weight: bold; text-align: right;\">Row</th><th style = \"text-align: left;\">mpg</th><th style = \"text-align: left;\">cylinders</th><th style = \"text-align: left;\">displacement</th><th style = \"text-align: left;\">horsepower</th><th style = \"text-align: left;\">weight</th><th style = \"text-align: left;\">acceleration</th><th style = \"text-align: left;\">model_year</th></tr><tr class = \"subheader headerLastRow\"><th class = \"rowNumber\" style = \"font-weight: bold; text-align: right;\"></th><th title = \"Float64\" style = \"text-align: left;\">Float64</th><th title = \"Int64\" style = \"text-align: left;\">Int64</th><th title = \"Float64\" style = \"text-align: left;\">Float64</th><th title = \"Float64\" style = \"text-align: left;\">Float64</th><th title = \"Float64\" style = \"text-align: left;\">Float64</th><th title = \"Float64\" style = \"text-align: left;\">Float64</th><th title = \"Int64\" style = \"text-align: left;\">Int64</th></tr></thead><tbody><tr><td class = \"rowNumber\" style = \"font-weight: bold; text-align: right;\">1</td><td style = \"text-align: right;\">18.0</td><td style = \"text-align: right;\">8</td><td style = \"text-align: right;\">307.0</td><td style = \"text-align: right;\">130.0</td><td style = \"text-align: right;\">3504.0</td><td style = \"text-align: right;\">12.0</td><td style = \"text-align: right;\">70</td></tr><tr><td class = \"rowNumber\" style = \"font-weight: bold; text-align: right;\">2</td><td style = \"text-align: right;\">15.0</td><td style = \"text-align: right;\">8</td><td style = \"text-align: right;\">350.0</td><td style = \"text-align: right;\">165.0</td><td style = \"text-align: right;\">3693.0</td><td style = \"text-align: right;\">11.5</td><td style = \"text-align: right;\">70</td></tr><tr><td class = \"rowNumber\" style = \"font-weight: bold; text-align: right;\">3</td><td style = \"text-align: right;\">18.0</td><td style = \"text-align: right;\">8</td><td style = \"text-align: right;\">318.0</td><td style = \"text-align: right;\">150.0</td><td style = \"text-align: right;\">3436.0</td><td style = \"text-align: right;\">11.0</td><td style = \"text-align: right;\">70</td></tr><tr><td class = \"rowNumber\" style = \"font-weight: bold; text-align: right;\">4</td><td style = \"text-align: right;\">16.0</td><td style = \"text-align: right;\">8</td><td style = \"text-align: right;\">304.0</td><td style = \"text-align: right;\">150.0</td><td style = \"text-align: right;\">3433.0</td><td style = \"text-align: right;\">12.0</td><td style = \"text-align: right;\">70</td></tr><tr><td class = \"rowNumber\" style = \"font-weight: bold; text-align: right;\">5</td><td style = \"text-align: right;\">17.0</td><td style = \"text-align: right;\">8</td><td style = \"text-align: right;\">302.0</td><td style = \"text-align: right;\">140.0</td><td style = \"text-align: right;\">3449.0</td><td style = \"text-align: right;\">10.5</td><td style = \"text-align: right;\">70</td></tr><tr><td class = \"rowNumber\" style = \"font-weight: bold; text-align: right;\">6</td><td style = \"text-align: right;\">15.0</td><td style = \"text-align: right;\">8</td><td style = \"text-align: right;\">429.0</td><td style = \"text-align: right;\">198.0</td><td style = \"text-align: right;\">4341.0</td><td style = \"text-align: right;\">10.0</td><td style = \"text-align: right;\">70</td></tr><tr><td class = \"rowNumber\" style = \"font-weight: bold; text-align: right;\">7</td><td style = \"text-align: right;\">14.0</td><td style = \"text-align: right;\">8</td><td style = \"text-align: right;\">454.0</td><td style = \"text-align: right;\">220.0</td><td style = \"text-align: right;\">4354.0</td><td style = \"text-align: right;\">9.0</td><td style = \"text-align: right;\">70</td></tr><tr><td class = \"rowNumber\" style = \"font-weight: bold; text-align: right;\">8</td><td style = \"text-align: right;\">14.0</td><td style = \"text-align: right;\">8</td><td style = \"text-align: right;\">440.0</td><td style = \"text-align: right;\">215.0</td><td style = \"text-align: right;\">4312.0</td><td style = \"text-align: right;\">8.5</td><td style = \"text-align: right;\">70</td></tr><tr><td class = \"rowNumber\" style = \"font-weight: bold; text-align: right;\">9</td><td style = \"text-align: right;\">14.0</td><td style = \"text-align: right;\">8</td><td style = \"text-align: right;\">455.0</td><td style = \"text-align: right;\">225.0</td><td style = \"text-align: right;\">4425.0</td><td style = \"text-align: right;\">10.0</td><td style = \"text-align: right;\">70</td></tr><tr><td class = \"rowNumber\" style = \"font-weight: bold; text-align: right;\">10</td><td style = \"text-align: right;\">15.0</td><td style = \"text-align: right;\">8</td><td style = \"text-align: right;\">390.0</td><td style = \"text-align: right;\">190.0</td><td style = \"text-align: right;\">3850.0</td><td style = \"text-align: right;\">8.5</td><td style = \"text-align: right;\">70</td></tr><tr><td class = \"rowNumber\" style = \"font-weight: bold; text-align: right;\">11</td><td style = \"text-align: right;\">15.0</td><td style = \"text-align: right;\">8</td><td style = \"text-align: right;\">383.0</td><td style = \"text-align: right;\">170.0</td><td style = \"text-align: right;\">3563.0</td><td style = \"text-align: right;\">10.0</td><td style = \"text-align: right;\">70</td></tr><tr><td class = \"rowNumber\" style = \"font-weight: bold; text-align: right;\">12</td><td style = \"text-align: right;\">14.0</td><td style = \"text-align: right;\">8</td><td style = \"text-align: right;\">340.0</td><td style = \"text-align: right;\">160.0</td><td style = \"text-align: right;\">3609.0</td><td style = \"text-align: right;\">8.0</td><td style = \"text-align: right;\">70</td></tr><tr><td class = \"rowNumber\" style = \"font-weight: bold; text-align: right;\">13</td><td style = \"text-align: right;\">15.0</td><td style = \"text-align: right;\">8</td><td style = \"text-align: right;\">400.0</td><td style = \"text-align: right;\">150.0</td><td style = \"text-align: right;\">3761.0</td><td style = \"text-align: right;\">9.5</td><td style = \"text-align: right;\">70</td></tr><tr><td style = \"text-align: right;\">&vellip;</td><td style = \"text-align: right;\">&vellip;</td><td style = \"text-align: right;\">&vellip;</td><td style = \"text-align: right;\">&vellip;</td><td style = \"text-align: right;\">&vellip;</td><td style = \"text-align: right;\">&vellip;</td><td style = \"text-align: right;\">&vellip;</td><td style = \"text-align: right;\">&vellip;</td></tr><tr><td class = \"rowNumber\" style = \"font-weight: bold; text-align: right;\">381</td><td style = \"text-align: right;\">25.0</td><td style = \"text-align: right;\">6</td><td style = \"text-align: right;\">181.0</td><td style = \"text-align: right;\">110.0</td><td style = \"text-align: right;\">2945.0</td><td style = \"text-align: right;\">16.4</td><td style = \"text-align: right;\">82</td></tr><tr><td class = \"rowNumber\" style = \"font-weight: bold; text-align: right;\">382</td><td style = \"text-align: right;\">38.0</td><td style = \"text-align: right;\">6</td><td style = \"text-align: right;\">262.0</td><td style = \"text-align: right;\">85.0</td><td style = \"text-align: right;\">3015.0</td><td style = \"text-align: right;\">17.0</td><td style = \"text-align: right;\">82</td></tr><tr><td class = \"rowNumber\" style = \"font-weight: bold; text-align: right;\">383</td><td style = \"text-align: right;\">26.0</td><td style = \"text-align: right;\">4</td><td style = \"text-align: right;\">156.0</td><td style = \"text-align: right;\">92.0</td><td style = \"text-align: right;\">2585.0</td><td style = \"text-align: right;\">14.5</td><td style = \"text-align: right;\">82</td></tr><tr><td class = \"rowNumber\" style = \"font-weight: bold; text-align: right;\">384</td><td style = \"text-align: right;\">22.0</td><td style = \"text-align: right;\">6</td><td style = \"text-align: right;\">232.0</td><td style = \"text-align: right;\">112.0</td><td style = \"text-align: right;\">2835.0</td><td style = \"text-align: right;\">14.7</td><td style = \"text-align: right;\">82</td></tr><tr><td class = \"rowNumber\" style = \"font-weight: bold; text-align: right;\">385</td><td style = \"text-align: right;\">32.0</td><td style = \"text-align: right;\">4</td><td style = \"text-align: right;\">144.0</td><td style = \"text-align: right;\">96.0</td><td style = \"text-align: right;\">2665.0</td><td style = \"text-align: right;\">13.9</td><td style = \"text-align: right;\">82</td></tr><tr><td class = \"rowNumber\" style = \"font-weight: bold; text-align: right;\">386</td><td style = \"text-align: right;\">36.0</td><td style = \"text-align: right;\">4</td><td style = \"text-align: right;\">135.0</td><td style = \"text-align: right;\">84.0</td><td style = \"text-align: right;\">2370.0</td><td style = \"text-align: right;\">13.0</td><td style = \"text-align: right;\">82</td></tr><tr><td class = \"rowNumber\" style = \"font-weight: bold; text-align: right;\">387</td><td style = \"text-align: right;\">27.0</td><td style = \"text-align: right;\">4</td><td style = \"text-align: right;\">151.0</td><td style = \"text-align: right;\">90.0</td><td style = \"text-align: right;\">2950.0</td><td style = \"text-align: right;\">17.3</td><td style = \"text-align: right;\">82</td></tr><tr><td class = \"rowNumber\" style = \"font-weight: bold; text-align: right;\">388</td><td style = \"text-align: right;\">27.0</td><td style = \"text-align: right;\">4</td><td style = \"text-align: right;\">140.0</td><td style = \"text-align: right;\">86.0</td><td style = \"text-align: right;\">2790.0</td><td style = \"text-align: right;\">15.6</td><td style = \"text-align: right;\">82</td></tr><tr><td class = \"rowNumber\" style = \"font-weight: bold; text-align: right;\">389</td><td style = \"text-align: right;\">44.0</td><td style = \"text-align: right;\">4</td><td style = \"text-align: right;\">97.0</td><td style = \"text-align: right;\">52.0</td><td style = \"text-align: right;\">2130.0</td><td style = \"text-align: right;\">24.6</td><td style = \"text-align: right;\">82</td></tr><tr><td class = \"rowNumber\" style = \"font-weight: bold; text-align: right;\">390</td><td style = \"text-align: right;\">32.0</td><td style = \"text-align: right;\">4</td><td style = \"text-align: right;\">135.0</td><td style = \"text-align: right;\">84.0</td><td style = \"text-align: right;\">2295.0</td><td style = \"text-align: right;\">11.6</td><td style = \"text-align: right;\">82</td></tr><tr><td class = \"rowNumber\" style = \"font-weight: bold; text-align: right;\">391</td><td style = \"text-align: right;\">28.0</td><td style = \"text-align: right;\">4</td><td style = \"text-align: right;\">120.0</td><td style = \"text-align: right;\">79.0</td><td style = \"text-align: right;\">2625.0</td><td style = \"text-align: right;\">18.6</td><td style = \"text-align: right;\">82</td></tr><tr><td class = \"rowNumber\" style = \"font-weight: bold; text-align: right;\">392</td><td style = \"text-align: right;\">31.0</td><td style = \"text-align: right;\">4</td><td style = \"text-align: right;\">119.0</td><td style = \"text-align: right;\">82.0</td><td style = \"text-align: right;\">2720.0</td><td style = \"text-align: right;\">19.4</td><td style = \"text-align: right;\">82</td></tr></tbody></table></div>"
      ],
      "text/latex": [
       "\\begin{tabular}{r|ccccccc}\n",
       "\t& mpg & cylinders & displacement & horsepower & weight & acceleration & model\\_year\\\\\n",
       "\t\\hline\n",
       "\t& Float64 & Int64 & Float64 & Float64 & Float64 & Float64 & Int64\\\\\n",
       "\t\\hline\n",
       "\t1 & 18.0 & 8 & 307.0 & 130.0 & 3504.0 & 12.0 & 70 \\\\\n",
       "\t2 & 15.0 & 8 & 350.0 & 165.0 & 3693.0 & 11.5 & 70 \\\\\n",
       "\t3 & 18.0 & 8 & 318.0 & 150.0 & 3436.0 & 11.0 & 70 \\\\\n",
       "\t4 & 16.0 & 8 & 304.0 & 150.0 & 3433.0 & 12.0 & 70 \\\\\n",
       "\t5 & 17.0 & 8 & 302.0 & 140.0 & 3449.0 & 10.5 & 70 \\\\\n",
       "\t6 & 15.0 & 8 & 429.0 & 198.0 & 4341.0 & 10.0 & 70 \\\\\n",
       "\t7 & 14.0 & 8 & 454.0 & 220.0 & 4354.0 & 9.0 & 70 \\\\\n",
       "\t8 & 14.0 & 8 & 440.0 & 215.0 & 4312.0 & 8.5 & 70 \\\\\n",
       "\t9 & 14.0 & 8 & 455.0 & 225.0 & 4425.0 & 10.0 & 70 \\\\\n",
       "\t10 & 15.0 & 8 & 390.0 & 190.0 & 3850.0 & 8.5 & 70 \\\\\n",
       "\t11 & 15.0 & 8 & 383.0 & 170.0 & 3563.0 & 10.0 & 70 \\\\\n",
       "\t12 & 14.0 & 8 & 340.0 & 160.0 & 3609.0 & 8.0 & 70 \\\\\n",
       "\t13 & 15.0 & 8 & 400.0 & 150.0 & 3761.0 & 9.5 & 70 \\\\\n",
       "\t14 & 14.0 & 8 & 455.0 & 225.0 & 3086.0 & 10.0 & 70 \\\\\n",
       "\t15 & 24.0 & 4 & 113.0 & 95.0 & 2372.0 & 15.0 & 70 \\\\\n",
       "\t16 & 22.0 & 6 & 198.0 & 95.0 & 2833.0 & 15.5 & 70 \\\\\n",
       "\t17 & 18.0 & 6 & 199.0 & 97.0 & 2774.0 & 15.5 & 70 \\\\\n",
       "\t18 & 21.0 & 6 & 200.0 & 85.0 & 2587.0 & 16.0 & 70 \\\\\n",
       "\t19 & 27.0 & 4 & 97.0 & 88.0 & 2130.0 & 14.5 & 70 \\\\\n",
       "\t20 & 26.0 & 4 & 97.0 & 46.0 & 1835.0 & 20.5 & 70 \\\\\n",
       "\t21 & 25.0 & 4 & 110.0 & 87.0 & 2672.0 & 17.5 & 70 \\\\\n",
       "\t22 & 24.0 & 4 & 107.0 & 90.0 & 2430.0 & 14.5 & 70 \\\\\n",
       "\t23 & 25.0 & 4 & 104.0 & 95.0 & 2375.0 & 17.5 & 70 \\\\\n",
       "\t24 & 26.0 & 4 & 121.0 & 113.0 & 2234.0 & 12.5 & 70 \\\\\n",
       "\t25 & 21.0 & 6 & 199.0 & 90.0 & 2648.0 & 15.0 & 70 \\\\\n",
       "\t26 & 10.0 & 8 & 360.0 & 215.0 & 4615.0 & 14.0 & 70 \\\\\n",
       "\t27 & 10.0 & 8 & 307.0 & 200.0 & 4376.0 & 15.0 & 70 \\\\\n",
       "\t28 & 11.0 & 8 & 318.0 & 210.0 & 4382.0 & 13.5 & 70 \\\\\n",
       "\t29 & 9.0 & 8 & 304.0 & 193.0 & 4732.0 & 18.5 & 70 \\\\\n",
       "\t30 & 27.0 & 4 & 97.0 & 88.0 & 2130.0 & 14.5 & 71 \\\\\n",
       "\t$\\dots$ & $\\dots$ & $\\dots$ & $\\dots$ & $\\dots$ & $\\dots$ & $\\dots$ & $\\dots$ \\\\\n",
       "\\end{tabular}\n"
      ],
      "text/plain": [
       "\u001b[1m392×7 DataFrame\u001b[0m\n",
       "\u001b[1m Row \u001b[0m│\u001b[1m mpg     \u001b[0m\u001b[1m cylinders \u001b[0m\u001b[1m displacement \u001b[0m\u001b[1m horsepower \u001b[0m\u001b[1m weight  \u001b[0m\u001b[1m acceleration \u001b[0m\u001b[1m mo\u001b[0m ⋯\n",
       "     │\u001b[90m Float64 \u001b[0m\u001b[90m Int64     \u001b[0m\u001b[90m Float64      \u001b[0m\u001b[90m Float64    \u001b[0m\u001b[90m Float64 \u001b[0m\u001b[90m Float64      \u001b[0m\u001b[90m In\u001b[0m ⋯\n",
       "─────┼──────────────────────────────────────────────────────────────────────────\n",
       "   1 │    18.0          8         307.0       130.0   3504.0          12.0     ⋯\n",
       "   2 │    15.0          8         350.0       165.0   3693.0          11.5\n",
       "   3 │    18.0          8         318.0       150.0   3436.0          11.0\n",
       "   4 │    16.0          8         304.0       150.0   3433.0          12.0\n",
       "   5 │    17.0          8         302.0       140.0   3449.0          10.5     ⋯\n",
       "   6 │    15.0          8         429.0       198.0   4341.0          10.0\n",
       "   7 │    14.0          8         454.0       220.0   4354.0           9.0\n",
       "   8 │    14.0          8         440.0       215.0   4312.0           8.5\n",
       "   9 │    14.0          8         455.0       225.0   4425.0          10.0     ⋯\n",
       "  10 │    15.0          8         390.0       190.0   3850.0           8.5\n",
       "  11 │    15.0          8         383.0       170.0   3563.0          10.0\n",
       "  ⋮  │    ⋮         ⋮           ⋮            ⋮          ⋮          ⋮           ⋱\n",
       " 383 │    26.0          4         156.0        92.0   2585.0          14.5\n",
       " 384 │    22.0          6         232.0       112.0   2835.0          14.7     ⋯\n",
       " 385 │    32.0          4         144.0        96.0   2665.0          13.9\n",
       " 386 │    36.0          4         135.0        84.0   2370.0          13.0\n",
       " 387 │    27.0          4         151.0        90.0   2950.0          17.3\n",
       " 388 │    27.0          4         140.0        86.0   2790.0          15.6     ⋯\n",
       " 389 │    44.0          4          97.0        52.0   2130.0          24.6\n",
       " 390 │    32.0          4         135.0        84.0   2295.0          11.6\n",
       " 391 │    28.0          4         120.0        79.0   2625.0          18.6\n",
       " 392 │    31.0          4         119.0        82.0   2720.0          19.4     ⋯\n",
       "\u001b[36m                                                   1 column and 371 rows omitted\u001b[0m"
      ]
     },
     "execution_count": 30,
     "metadata": {},
     "output_type": "execute_result"
    }
   ],
   "source": [
    "df = CSV.read(\"auto.csv\", DataFrame)"
   ]
  },
  {
   "cell_type": "code",
   "execution_count": null,
   "metadata": {},
   "outputs": [
    {
     "data": {
      "text/plain": [
       "392-element Vector{Float64}:\n",
       " 18.0\n",
       " 15.0\n",
       " 18.0\n",
       " 16.0\n",
       " 17.0\n",
       " 15.0\n",
       " 14.0\n",
       " 14.0\n",
       " 14.0\n",
       " 15.0\n",
       " 15.0\n",
       " 14.0\n",
       " 15.0\n",
       "  ⋮\n",
       " 25.0\n",
       " 38.0\n",
       " 26.0\n",
       " 22.0\n",
       " 32.0\n",
       " 36.0\n",
       " 27.0\n",
       " 27.0\n",
       " 44.0\n",
       " 32.0\n",
       " 28.0\n",
       " 31.0"
      ]
     },
     "execution_count": 31,
     "metadata": {},
     "output_type": "execute_result"
    }
   ],
   "source": [
    "X = select(df, Not(:mpg))\n",
    "y = df.mpg"
   ]
  },
  {
   "cell_type": "code",
   "execution_count": null,
   "metadata": {},
   "outputs": [],
   "source": [
    "feature_names = names(df, Not(:mpg));"
   ]
  },
  {
   "cell_type": "code",
   "execution_count": null,
   "metadata": {},
   "outputs": [
    {
     "ename": "LoadError",
     "evalue": "syntax: invalid identifier name \".\"",
     "output_type": "error",
     "traceback": [
      "syntax: invalid identifier name \".\"",
      "",
      "Stacktrace:",
      " [1] top-level scope",
      "   @ In[32]:1",
      " [2] eval",
      "   @ .\\boot.jl:368 [inlined]",
      " [3] include_string(mapexpr::typeof(REPL.softscope), mod::Module, code::String, filename::String)",
      "   @ Base .\\loading.jl:1428"
     ]
    }
   ],
   "source": [
    "linear_regression = lm(@formula(mpg ~ feature_names), df)"
   ]
  },
  {
   "cell_type": "markdown",
   "metadata": {},
   "source": [
    "**(1p)** Calculate R-squared metric of the model. Comment on the predictive power of the model based on calculated value."
   ]
  },
  {
   "cell_type": "code",
   "execution_count": null,
   "metadata": {},
   "outputs": [],
   "source": []
  },
  {
   "cell_type": "markdown",
   "metadata": {},
   "source": [
    "**(2p)** What are the differences between inherent and model independent interpretability algorithms? Give an example of at least two inherently interpretable models. Give an example of at least two model agnostic techniques."
   ]
  },
  {
   "cell_type": "markdown",
   "metadata": {},
   "source": []
  },
  {
   "cell_type": "markdown",
   "metadata": {},
   "source": [
    "**(2p)** Interpret coefficients of the linear regression model for the `model_year` and `cylinders` variables. In particular interpret the sign (positive/negative), value of the coefficient and comment on certainty of the inference."
   ]
  },
  {
   "cell_type": "code",
   "execution_count": null,
   "metadata": {},
   "outputs": [],
   "source": []
  },
  {
   "cell_type": "markdown",
   "metadata": {},
   "source": [
    "**(3p)** Calculate SHAP values for **3rd** observation in the dataset. Use **2000** samples and random seed equal to **21**. Plot the Shap values on the barplot in the ascending order. Comment on the Shap values for `model_year` and `weight` features, in particular:\n",
    "* how the values of those two features in the observation relate to mean value of the features in the whole dataset, \n",
    "* based on Shap values, how the features influence the prediction for given observation."
   ]
  },
  {
   "cell_type": "code",
   "execution_count": null,
   "metadata": {},
   "outputs": [],
   "source": []
  }
 ],
 "metadata": {
  "kernelspec": {
   "display_name": "Julia 1.8.5",
   "language": "julia",
   "name": "julia-1.8"
  },
  "language_info": {
   "file_extension": ".jl",
   "mimetype": "application/julia",
   "name": "julia",
   "version": "1.8.5"
  },
  "toc": {
   "base_numbering": 1,
   "nav_menu": {},
   "number_sections": false,
   "sideBar": true,
   "skip_h1_title": false,
   "title_cell": "Table of Contents",
   "title_sidebar": "Contents",
   "toc_cell": false,
   "toc_position": {
    "height": "calc(100% - 180px)",
    "left": "10px",
    "top": "150px",
    "width": "384px"
   },
   "toc_section_display": true,
   "toc_window_display": false
  }
 },
 "nbformat": 4,
 "nbformat_minor": 4
}
